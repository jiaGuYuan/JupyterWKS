{
 "cells": [
  {
   "cell_type": "code",
   "execution_count": null,
   "metadata": {},
   "outputs": [],
   "source": [
    "#使每个Cell可以同时输出多个语句.仅对当前文件有效\n",
    "from IPython.core.interactiveshell import InteractiveShell\n",
    "InteractiveShell.ast_node_interactivity = \"all\"\n",
    "\n",
    "#注:如果其他Cell只输出了一个结果,可先执行该Cell,再执行其他Cell"
   ]
  },
  {
   "cell_type": "markdown",
   "metadata": {},
   "source": [
    "# python基础"
   ]
  },
  {
   "cell_type": "markdown",
   "metadata": {},
   "source": [
    "## 基本类型和操作"
   ]
  },
  {
   "cell_type": "markdown",
   "metadata": {},
   "source": [
    "### 查看帮助"
   ]
  },
  {
   "cell_type": "code",
   "execution_count": null,
   "metadata": {
    "code_folding": []
   },
   "outputs": [],
   "source": [
    "#查看帮助\n",
    "help(\"keywords\") \n",
    "help(\"modules\")\n",
    "#help(class)\n",
    "#help(functionName)\n",
    "help(abs)"
   ]
  },
  {
   "cell_type": "markdown",
   "metadata": {},
   "source": [
    "### 查看类型"
   ]
  },
  {
   "cell_type": "code",
   "execution_count": null,
   "metadata": {},
   "outputs": [],
   "source": [
    "#查看类型\n",
    "type(1)\n",
    "type(1.0)\n",
    "type('str')\n",
    "type(())\n",
    "type([])\n",
    "type({})\n",
    "\n",
    "#函数类\n",
    "import types\n",
    "dir(types) #列举所有的函数类型\n"
   ]
  },
  {
   "cell_type": "markdown",
   "metadata": {},
   "source": [
    "### 局部变量&全局变量"
   ]
  },
  {
   "cell_type": "code",
   "execution_count": null,
   "metadata": {},
   "outputs": [],
   "source": [
    "# 在函数外使用的变量为全局变量; \n",
    "# 在函数内使用的变量为局部变量, 若要在函数内使用全局变量,需要使用gloabl先声明(gloabl varName声明时不能赋值)\n",
    "# 变量的有效期为其每一次被使用至不被使用\n",
    "\n",
    "g_var = \"helloWorld!\" #这个是全局变量\n",
    "g_var2 = \"helloWorld!\" #这个是全局变量\n",
    "\n",
    "def func(variableObj, temp_var):\n",
    "    global g_var\n",
    "    g_var = \"hello python\"\n",
    "    g_var2 = \"hello python\"  #没有使用gloabl声明,所以这个g_var是func中的一个局部变量\n",
    "    temp_var = \"hello python\"\n",
    "    t_var = \"hello python\"\n",
    "    variableObj.append(\"hello python\")\n",
    "    #注意: 这里参数variableObj和temp_var都是临时变量\n",
    "    #但是在例中variableObj对应一个可变对象, temp_var对应一个不可变对象\n",
    "    #且variableObj只是对可变对象进行操作，并没有改变它所引用的对象\n",
    "    \n",
    "    variableObj = \"xxx\"\n",
    "    \n",
    "\n",
    "if __name__ == \"__main__\":\n",
    "    print(g_var)\n",
    "    varObj = []     #是一个全局变量,在该语句被执行后可在其它地方访问\n",
    "    onlyReadObj = \"onlyReadObj\"\n",
    "    func(varObj, onlyReadObj)\n",
    "    print(g_var)\n",
    "    print(g_var2)\n",
    "    print(varObj)\n",
    "    print(onlyReadObj)\n",
    "    #print(temp_var) #--temp_var只在func函数中有效\n",
    "    #print(t_var) #--t_var只在func函数中有效\n",
    "    \n"
   ]
  },
  {
   "cell_type": "markdown",
   "metadata": {},
   "source": [
    "### 单引号('),双引号(\"),三引号(''', \"\"\")"
   ]
  },
  {
   "cell_type": "code",
   "execution_count": null,
   "metadata": {},
   "outputs": [],
   "source": [
    "#单引号与双引号是等价的,但单引号与双引号不配套\n",
    "#单引号中的双引号不需要转义, 双引号中的单引号也不需要转义\n",
    "#单引号与双引号嵌套使用可以避免对相互之间使用转义符\n",
    "str1 = 'The teacher said:\\r\\n\\t\"Practice makes perfect\" is a very famous proverb.'\n",
    "str2 = \"I'm a big fan of Python.\"\n",
    "print(str1)\n",
    "print(str2)\n",
    "\n",
    "\n",
    "#使用三引号保持书写格式输出(转义符仍然是生效的).'\\'将当前行与下一行连接成一行\n",
    "str3 = '''\\\n",
    "List of name:\n",
    "Hua Li\n",
    "Chao Deng'''\n",
    "print(str3)"
   ]
  },
  {
   "cell_type": "markdown",
   "metadata": {},
   "source": [
    "### 使用书面字符串(不进行转义)"
   ]
  },
  {
   "cell_type": "code",
   "execution_count": null,
   "metadata": {},
   "outputs": [],
   "source": [
    "# 在字符串前加一个r,那么python解释器将不对后面的字符串进行转义\n",
    "strNoEscape = r\"\\r\\n\"\n",
    "print(strNoEscape)"
   ]
  },
  {
   "cell_type": "markdown",
   "metadata": {},
   "source": [
    "### 变量类型取决于值的类型"
   ]
  },
  {
   "cell_type": "code",
   "execution_count": null,
   "metadata": {},
   "outputs": [],
   "source": [
    "#变量无类型,值有类型(变量类型取决于值的类型)\n",
    "a = 12\n",
    "type(a)\n",
    "a = \"str\"\n",
    "type(a)"
   ]
  },
  {
   "cell_type": "markdown",
   "metadata": {},
   "source": [
    "### 检查对象所属类型\n",
    "（对象为类型的子类时也返回true）"
   ]
  },
  {
   "cell_type": "code",
   "execution_count": null,
   "metadata": {},
   "outputs": [],
   "source": [
    "#验证变量类型: isinstance(varName, Type) --Type为type()查出的结果\n",
    "isinstance(1, int)\n",
    "isinstance(1.0, float)\n",
    "isinstance('str', str)\n",
    "isinstance((), tuple)\n",
    "isinstance([], list)\n",
    "isinstance({}, dict)\n",
    "\n",
    "isinstance(1, (int, float))\n"
   ]
  },
  {
   "cell_type": "markdown",
   "metadata": {},
   "source": [
    "### 检查变量是否可迭代"
   ]
  },
  {
   "cell_type": "code",
   "execution_count": null,
   "metadata": {},
   "outputs": [],
   "source": [
    "#验证变量是否可迭\n",
    "from collections import Iterable\n",
    "#isinstance(varName, Iterable)\n",
    "isinstance([], Iterable)"
   ]
  },
  {
   "cell_type": "markdown",
   "metadata": {},
   "source": [
    "### 除法'/' & '//'"
   ]
  },
  {
   "cell_type": "code",
   "execution_count": null,
   "metadata": {},
   "outputs": [],
   "source": [
    "# '/'保存小数(结果为float类型)\n",
    "10/3\n",
    "type(10/3)"
   ]
  },
  {
   "cell_type": "code",
   "execution_count": null,
   "metadata": {},
   "outputs": [],
   "source": [
    "#地板除法'//'(求模--结果为int类型; 类似C的求模'/')\n",
    "10//3\n",
    "type(10//3)"
   ]
  },
  {
   "cell_type": "markdown",
   "metadata": {},
   "source": [
    "### if"
   ]
  },
  {
   "cell_type": "code",
   "execution_count": null,
   "metadata": {
    "code_folding": []
   },
   "outputs": [],
   "source": [
    "a = 90\n",
    "if a > 80:\n",
    "    print('优')\n",
    "elif a > 60:\n",
    "    print('良')\n",
    "else:\n",
    "    print('继续努力')\n"
   ]
  },
  {
   "cell_type": "markdown",
   "metadata": {},
   "source": [
    "### for"
   ]
  },
  {
   "cell_type": "code",
   "execution_count": null,
   "metadata": {},
   "outputs": [],
   "source": [
    "for i in range(5, 10):  # range生成[start, end)序列, 通过list()函数可以转换为list\n",
    "    print(i)\n",
    "\n",
    "list(range(5, 10))"
   ]
  },
  {
   "cell_type": "markdown",
   "metadata": {},
   "source": [
    "### while"
   ]
  },
  {
   "cell_type": "code",
   "execution_count": null,
   "metadata": {},
   "outputs": [],
   "source": [
    "sum = 0\n",
    "n = 0\n",
    "while n < 10:\n",
    "    sum = sum + n\n",
    "    n = n + 1\n",
    "print(sum)\n",
    "\n",
    "#break 与 continue; 用法与C++一样"
   ]
  },
  {
   "cell_type": "markdown",
   "metadata": {},
   "source": [
    "### str与数字类型的互转"
   ]
  },
  {
   "cell_type": "code",
   "execution_count": null,
   "metadata": {},
   "outputs": [],
   "source": [
    "# str --> number\n",
    "moneyStr = '50'\n",
    "moneyInt = int(moneyStr)\n",
    "type(moneyInt)\n",
    "print(moneyInt)\n",
    "\n",
    "moneyStr = '50.5'\n",
    "moneyFloat = float(moneyStr)\n",
    "type(moneyFloat)\n",
    "print(moneyFloat)\n",
    "\n",
    "# number --> str\n",
    "moneyStr = str(moneyInt)\n",
    "type(moneyStr)\n",
    "print(moneyStr)"
   ]
  },
  {
   "cell_type": "markdown",
   "metadata": {},
   "source": [
    "### 字符串拼接\n",
    "\"格式化字符串\" % (对应格式化字符串的一个元组) "
   ]
  },
  {
   "cell_type": "code",
   "execution_count": null,
   "metadata": {},
   "outputs": [],
   "source": [
    "addr = \"%s/%s\" % (\"hunan\", \"huaihua\")\n",
    "print(addr)"
   ]
  },
  {
   "cell_type": "markdown",
   "metadata": {},
   "source": [
    "### input 输入"
   ]
  },
  {
   "cell_type": "code",
   "execution_count": null,
   "metadata": {},
   "outputs": [],
   "source": [
    "# input()返回的数据类型是str\n",
    "name = input('请输入名字:')\n",
    "print('输入的名字是:\\'', name)\n",
    "age = input('请输入年龄:')\n",
    "if int(age) < 18 :\n",
    "    print('未成年')\n",
    "else:\n",
    "    print('成年人')\n",
    "\n"
   ]
  },
  {
   "cell_type": "markdown",
   "metadata": {},
   "source": [
    "### 对a = 'ABC'的理解"
   ]
  },
  {
   "cell_type": "code",
   "execution_count": null,
   "metadata": {},
   "outputs": [],
   "source": [
    "#Python解释器干了两件事情：\n",
    "#1.在内存中创建了一个'ABC'的字符串；\n",
    "#2.在内存中创建了一个名为a的变量，并把它指向'abc'。\n",
    "a = 'ABC'\n",
    "b = a\n",
    "a = 'XYZ'\n",
    "print(b) #输出的是'ABC'还是'XYZ'?\n"
   ]
  },
  {
   "cell_type": "markdown",
   "metadata": {},
   "source": [
    "### 字符编码"
   ]
  },
  {
   "cell_type": "code",
   "execution_count": null,
   "metadata": {},
   "outputs": [],
   "source": [
    "#由于Python的字符串类型是str，在内存中以Unicode表示，一个字符对应若干个字节。\n",
    "#如果要在网络上传输，或者保存到磁盘上，就需要把str变为以字节为单位的bytes。\n",
    "#Python对bytes类型的数据用带b前缀的单引号或双引号表示：\n",
    "x = b'ABC'\n",
    "\n",
    "#以Unicode表示的str通过encode()方法可以编码为指定的bytes\n",
    "'ABC'.encode('ascii')\n",
    "'中文'.encode('utf-8')\n",
    "\n",
    "#要把bytes变为str，就需要用decode()方法：\n",
    "b'ABC'.decode('ascii')\n",
    "\n",
    "#要计算str包含多少个字符，可以用len()函数：(注意是计算字符数)\n",
    "len('ABC')  #3\n",
    "len('中文') #2\n"
   ]
  },
  {
   "cell_type": "markdown",
   "metadata": {},
   "source": [
    "### tuple"
   ]
  },
  {
   "cell_type": "code",
   "execution_count": null,
   "metadata": {},
   "outputs": [],
   "source": [
    "#元组tuple一旦初始化就不能修改， 可通过编号索引访问，可嵌套\n",
    "classmates = ('Michael', 'Bob', 'Tracy')\n",
    "type(classmates)\n",
    "print(classmates)\n",
    "print(classmates[1])\n",
    "\n",
    "# classmates[0] = 'mod' #error \n",
    "\n",
    "#单元素tuple的写法\n",
    "singleElm = (1, )"
   ]
  },
  {
   "cell_type": "markdown",
   "metadata": {},
   "source": [
    "### List"
   ]
  },
  {
   "cell_type": "code",
   "execution_count": null,
   "metadata": {},
   "outputs": [],
   "source": [
    "#列表，可修改。可通过编号索引访问，可嵌套\n",
    "classmates = ['Michael', 'Bob', 'Tracy']\n",
    "type(classmates)\n",
    "\n",
    "classmates.append('Adam')\n",
    "print(classmates)\n",
    "\n",
    "classmates.insert(1, 'Jack')\n",
    "print(classmates)\n",
    "\n",
    "classmates.pop()\n",
    "print(classmates)\n",
    "\n",
    "classmates[1] = 'Sarah'\n",
    "print(classmates)\n",
    "\n",
    "p = ['Bob', 'asp', 'php']\n",
    "\n",
    "classmates.extend(p) #合并不去重  <==> classmates += p\n",
    "print(classmates)\n",
    "\n",
    "classmates.append(p) #追加，将列表p当作一个元素加入(说明：正常使用时建议列表中的各元素类型一致)\n",
    "print(classmates)\n"
   ]
  },
  {
   "cell_type": "markdown",
   "metadata": {},
   "source": [
    "### dict"
   ]
  },
  {
   "cell_type": "code",
   "execution_count": null,
   "metadata": {},
   "outputs": [],
   "source": [
    "#字典,使用键-值（key-value）存储，具有极快的查找速度。\n",
    "#需要牢记的第一条就是dict的key必须是不可变对象。\n",
    "dictX = {'Michael': 95, 'Bob': 75, 'Tracy': 85}\n",
    "print(dictX['Michael'])\n",
    "\n",
    "#要避免key不存在的错误，有两种办法，\n",
    "#一是通过in判断key是否存在\n",
    "if 'Tracy' in dictX:\n",
    "    dictX['Tracy'] = 100\n",
    "print(dictX)\n",
    "    \n",
    "# 二是通过dict提供的get方法，如果key不存在，返回None，或者自己指定的value：\n",
    "if dictX.get('Michael') != None:\n",
    "    michaelGrade = dictX['Michael']\n",
    "    print(michaelGrade)\n",
    "if dictX.get('Michael', -1) != -1:\n",
    "    michaelGrade = dictX['Michael']\n",
    "    print(michaelGrade)\n",
    "\n",
    "#删除一个key，用pop(key)方法，对应的value也会从dict中删除：\n",
    "dictX.pop('Bob')\n",
    "print(dictX)\n",
    "\n",
    "#通过对一个不存在的key进行赋值来插入一个key-value对\n",
    "dictX['add'] = 99 \n",
    "print(dictX)\n",
    "\n",
    "#但访问不存在的对象会出错\n",
    "# print(dictX['none'])"
   ]
  },
  {
   "cell_type": "markdown",
   "metadata": {},
   "source": [
    "### set"
   ]
  },
  {
   "cell_type": "raw",
   "metadata": {},
   "source": [
    "set和dict类似，也是一组key的集合，但不存储value。\n",
    "由于key不能重复，所以，在set中，没有重复的key。\n",
    "可以通过[]list来创建set---- s = set([1, 2, 3, 2]) 重复元素在set中自动被过滤：\n",
    "通过add(key)方法可以添加元素到set中，可以重复添加，但不会有效果\n",
    "通过remove(key)方法可以删除元素.\n",
    "set可以看成数学意义上的无序和无重复元素的集合，因此，两个set可以做数学意义上的交集、并集等操作："
   ]
  },
  {
   "cell_type": "code",
   "execution_count": null,
   "metadata": {},
   "outputs": [],
   "source": [
    "s1 = set([1, 2, 3])\n",
    "s2 = set([2, 3, 4])\n",
    "print(s1 & s2) #交集\n",
    "print(s1 | s2) #合集\n",
    "print(s1 - s2) #差集\n",
    "print(set(s1).difference(set(s2)))  #<==>s1 - s2"
   ]
  },
  {
   "cell_type": "markdown",
   "metadata": {},
   "source": [
    "### 不变对象"
   ]
  },
  {
   "cell_type": "raw",
   "metadata": {},
   "source": [
    "在Python中，字符串、整数等都是不可变的，因此，可以放心地作为key。而list是可变的，就不能作为key：\n",
    "对于不变对象来说，调用对象自身的任意方法，也不会改变该对象自身的内容。\n",
    "相反，这些方法会创建新的对象并返回，这样，就保证了不可变对象本身永远是不可变的。\n"
   ]
  },
  {
   "cell_type": "code",
   "execution_count": null,
   "metadata": {},
   "outputs": [],
   "source": [
    "t = ('a', 'b', ['A', 'B'])\n",
    "t[2][0] = 'X'   #正确，说明：tuple不可变类型，这里t的第三个元素是list类型，我们改变的是\n",
    "                #t[2][0]所指向的元素， t[2]并没有改变（即tuple的list元素并没有改变）\n",
    "#对tuple元素不能修改的理解是--指向不变。\n",
    "#对python元素的理解是----C/C++中的高级指针，变量赋值是改变指针的指向\n",
    "print(t)"
   ]
  },
  {
   "cell_type": "markdown",
   "metadata": {},
   "source": [
    "## 函数"
   ]
  },
  {
   "cell_type": "code",
   "execution_count": null,
   "metadata": {},
   "outputs": [],
   "source": [
    "help(abs)"
   ]
  },
  {
   "cell_type": "code",
   "execution_count": null,
   "metadata": {},
   "outputs": [],
   "source": [
    "#函数也可以是一个变量\n",
    "abs_var = abs\n",
    "abs_var(-1)"
   ]
  },
  {
   "cell_type": "code",
   "execution_count": null,
   "metadata": {},
   "outputs": [],
   "source": [
    "#工具函数\n",
    "print(int(\"100\"))\n",
    "print(float(\"100.5\"))\n",
    "print(str(100.6))\n",
    "print(hex(255))\n"
   ]
  },
  {
   "cell_type": "markdown",
   "metadata": {},
   "source": [
    "### 函数定义"
   ]
  },
  {
   "cell_type": "code",
   "execution_count": null,
   "metadata": {},
   "outputs": [],
   "source": [
    "def my_abs(number):\n",
    "    if not isinstance(number, (int, float)):\n",
    "        raise TypeError(\"bad operand type\")\n",
    "    if number >= 0:\n",
    "        return number\n",
    "    else:\n",
    "        return -number\n",
    "    \n",
    "my_abs(-1)\n",
    "\n",
    "#无return <==> return <==> reutrn None\n",
    "#pass占位"
   ]
  },
  {
   "cell_type": "markdown",
   "metadata": {},
   "source": [
    "### 以元组的方式封装多值返回"
   ]
  },
  {
   "cell_type": "code",
   "execution_count": null,
   "metadata": {},
   "outputs": [],
   "source": [
    "import math\n",
    "\n",
    "def move(x, y, step, angle=0):\n",
    "    nx = x + step*math.cos(angle)\n",
    "    ny = y - step*math.sin(angle)\n",
    "    return nx,ny\n",
    "\n",
    "x,y = move(1, 1, 2, 0)\n",
    "type(move(1, 1, 2, 0))\n"
   ]
  },
  {
   "cell_type": "markdown",
   "metadata": {},
   "source": [
    "### 函数的参数类型\n",
    "必选参数: 位置参数.\n",
    "可选参数: 默认参数，可变参数，关键字参数"
   ]
  },
  {
   "cell_type": "code",
   "execution_count": null,
   "metadata": {},
   "outputs": [],
   "source": [
    "#位置参数是必须传递的参数, 如下number, pow均为位置参数（位置参数的顺序必须和形参顺序一致, 或者按照形参名来指定实参）\n",
    "def power(number, pow):\n",
    "    return number ** pow\n",
    "\n",
    "power(2, 3)\n",
    "power(pow=4, number=3)"
   ]
  },
  {
   "cell_type": "markdown",
   "metadata": {},
   "source": [
    "#### 默认参数（parameter=val）\n",
    "函数定义时形参以parameter=val提供，调用时可以不提供。\n",
    "必选参数在前，默认参数在后.\n",
    "python有多个默认参数时可以不提供最后的一个或多个默认参数，\n",
    "也可以不提供中间部分的默认参数，这时需要把后面提供的默认参数的名称写上（这与C++不同）.\n",
    "如： 有函数 def func(x, y='A', z=0):\n",
    "func(1, 'B') ---不提供默认参数z\n",
    "和 func(1, z=1) --不提供参数y(这时参数y之后的参数必须提供参数名)\n"
   ]
  },
  {
   "cell_type": "code",
   "execution_count": null,
   "metadata": {},
   "outputs": [],
   "source": [
    "#parameter=val 必选参数在前，默认参数在后\n",
    "def power(number, pow=2):\n",
    "    return number ** pow\n",
    "\n",
    "print(power(2))\n",
    "\n",
    "#默认参数必须指向不变对象！！！----否则容易掉坑里（不是语法错误）：如下\n",
    "def add_end(L=[]):\n",
    "    L.append('END')\n",
    "    return L\n",
    "print(add_end())\n",
    "print(add_end())\n",
    "#默认参数是[]，但是函数似乎每次都“记住了”上次添加了'END'后的list。\n",
    "#Python函数在定义的时候，默认参数L的值就被计算出来了，即[]，因为默认参数L也是一个变量，\n",
    "#它指向对象[]，每次调用该函数，如果改变了L的内容，则下次调用时，默认参数的内容就变了，不再是函数定义时的[]了。\n"
   ]
  },
  {
   "cell_type": "markdown",
   "metadata": {},
   "source": [
    "#### 可变参数（*parameter）\n",
    "函数定义时形参以*parameter形式提供，调用时var1,var2,var3的方式传参（或*tupleVar, *listVar）  --内部组装为一个tuple.\n",
    "可变参数允许你传入0个或任意个参数，这些可变参数在函数调用时自动组装为一个tuple.一个一个传递可变参数时,在函数内部组装成tuple; 直接传递list或tuple到函数时(外部组装),需要加一个'*'号"
   ]
  },
  {
   "cell_type": "code",
   "execution_count": null,
   "metadata": {},
   "outputs": [],
   "source": [
    "def calc_sum(*numbers):\n",
    "    print(type(numbers))\n",
    "    sum = 0\n",
    "    for n in numbers:\n",
    "        sum = sum + n * n\n",
    "    return sum\n",
    "\n",
    "nums = [1, 2, 3]\n",
    "ret = calc_sum(nums[0], nums[1], nums[2]) #在函数内部，参数numbers接收到的是一个tuple\n",
    "print(ret)\n",
    "\n",
    "#Python允许你在list或tuple前面加一个*号，把list或tuple的元素变成可变参数传进去：\n",
    "ret = calc_sum(*nums) #在函数内部，参数numbers接收到的是一个tuple\n",
    "print(ret)\n",
    "\n"
   ]
  },
  {
   "cell_type": "markdown",
   "metadata": {},
   "source": [
    "#### 关键字参数（**parameter）\n",
    "函数定义时形参以**parameter的方式提供，调用时以key1=val1,key2=val2的方式传递参数(或**dictVar)   --内部组装为一个dict. 关键字参数允许你传入0个或任意个key:value对，这些key:value对在函数内部自动组装为一个dict,这些key:value对在函数调用时自动组装为一个dict.传递key:value对时,在函数内部组装成tuple; 直接传递dict到函数时(外部组装),需要加'**'号"
   ]
  },
  {
   "cell_type": "code",
   "execution_count": null,
   "metadata": {},
   "outputs": [],
   "source": [
    "def person(name, age, **kw):\n",
    "    print('name:', name, 'age:', age, 'other:', kw)\n",
    "    return\n",
    "\n",
    "person('Bob', 35, city='Beijing')\n",
    "\n",
    "extra = {'city': 'Beijing', 'job': 'Engineer'}\n",
    "person('Jack', 24, city=extra['city'], job=extra['job'])\n",
    "person('Jack', 24, **extra) #直接传递dict到函数时(外部组装),需要加'**'号\n",
    "\n",
    "#注意： 注意kw获得的dict是extra的一份拷贝，对kw的改动不会影响到函数外的extra\n",
    "#对于关键字参数，函数的调用者可以传入任意不受限制的关键字参数。至于到底传入了哪些，就需要在函数内部通过kw检查。\n"
   ]
  },
  {
   "cell_type": "markdown",
   "metadata": {},
   "source": [
    "#### 命名关键字参数\n",
    "调用时需要key=xxx的形式提供参数(其中key必须与参数名命名关键字参数相同)。\n",
    "def person(name, age, *, job，city，country='中国') --*号后的位置参数即是命名关键字参数。可变参数后的位置参数也是命名参数"
   ]
  },
  {
   "cell_type": "code",
   "execution_count": null,
   "metadata": {},
   "outputs": [],
   "source": [
    "#如果要限制关键字参数的名字，就可以用命名关键字参数，例如，只接收city和job作为关键字参数。这种方式定义的函数如下：\n",
    "def person(name, age, *, job, city, country=\"中国\"):  #调用时需要city=xxx, job=xxx的形式提供命名参数\n",
    "    print(name, age, job, city, country)\n",
    "\n",
    "#和关键字参数**kw不同，命名关键字参数需要一个特殊分隔符*，*后面的参数被视为命名关键字参数。调用方式如下：\n",
    "person('Jack', 24, job='Engineer', city='Beijing')\n",
    "\n",
    "#如果函数定义中已经有了一个可变参数，后面跟着的命名关键字参数就不再需要一个特殊分隔符*了：\n",
    "def person(name, age, *args, job, city, country=\"中国\"):\n",
    "    print(name, age, args, job, city, country)\n",
    "    "
   ]
  },
  {
   "cell_type": "raw",
   "metadata": {},
   "source": [
    "说明：位置参数放最前， 默认参数放最后， 命名关键字参数放默认参数之前（尽量不要有命名参数字参数），可变参数和关键字参数放命名关键字参数之前。"
   ]
  },
  {
   "cell_type": "markdown",
   "metadata": {},
   "source": [
    "#### 尾递归\n",
    "解决递归调用栈溢出的方法是通过尾递归优化，事实上尾递归和循环的效果是一样的，所以，把循环看成是一种特殊的尾递归函数也是可以的。\n",
    "尾递归是指，在函数返回的时候，调用自身本身，并且，return语句不能包含表达式。这样，编译器或者解释器就可以把尾递归做优化，\n",
    "使递归本身无论调用多少次，都只占用一个栈帧，不会出现栈溢出的情况。\n"
   ]
  },
  {
   "cell_type": "code",
   "execution_count": null,
   "metadata": {},
   "outputs": [],
   "source": [
    "#算阶乘\n",
    "def fact(n):\n",
    "    return fact_iter(n, 1)\n",
    "\n",
    "def fact_iter(num, product):\n",
    "    if num==1:\n",
    "        return product\n",
    "    else:\n",
    "        return fact_iter(num-1, num*product)\n",
    "\n",
    "\n",
    "print(fact(10))\n"
   ]
  },
  {
   "cell_type": "markdown",
   "metadata": {},
   "source": [
    "## 高阶特性"
   ]
  },
  {
   "cell_type": "markdown",
   "metadata": {},
   "source": [
    "### 切片"
   ]
  },
  {
   "cell_type": "code",
   "execution_count": null,
   "metadata": {},
   "outputs": [],
   "source": [
    "from IPython.core.interactiveshell import InteractiveShell\n",
    "InteractiveShell.ast_node_interactivity = \"all\"\n",
    "\n",
    "#range(n)---产生[0, n)的序列\n",
    "L = [0, 1, 2, 3, 4]\n",
    "\n",
    "#切片: L[开始索引 ：结束索引-不包括它 ：步长]  \n",
    "L[0:3]  #切片，取L的第[0,3)个元素（第0，第1，第2 个元素）\n",
    "L[1:3]  #切片，取L的第[1,3)个元素 （第1，第2 个元素）\n",
    "L[:3]  #切片，取L的前3个元素\n",
    "\n",
    "L[-1]  #切片，取L的最后一个元素\n",
    "L[-3:] #切片，取L的后3个元素 <==>L[-3:0]\n",
    "L[::] #取L的第[0,len() )个元素 <==> L[0:len(L)]\n",
    "L[::-1] #取L的第[-1,-len()]个元素 <==>相当于将L逆置\n",
    "\n",
    "\n",
    "L = list(range(100)) #0，1，2，3......99\n",
    "L[2:20:2] #在第[2,20)个元素中每两个取一个 ： 2, 4, 6, 8, 10, 12, 14, 16, 18\n",
    "\n",
    "\n",
    "#tuple也是一种list，唯一区别是tuple不可变。因此，tuple也可以用切片操作，只是操作的结果仍是tuple：\n",
    "t = (0, 1, 2, 3, 4, 5)\n",
    "t[0:3]\n",
    "\n",
    "#字符串'xxx'也可以看成是一种list，每个元素就是一个字符。因此，字符串也可以用切片操作，只是操作结果仍是字符串：\n",
    "c = 'ABCDEFG'\n",
    "c[0:3]\n"
   ]
  },
  {
   "cell_type": "markdown",
   "metadata": {},
   "source": [
    "### 迭代"
   ]
  },
  {
   "cell_type": "code",
   "execution_count": null,
   "metadata": {},
   "outputs": [],
   "source": [
    "#只要是可迭代对象，无论是否可通过下标访问，都可以迭代，比如dict就可以迭代：\n",
    "\n",
    "d = {'a': 1, 'b': 2, 'c': 3}\n",
    "#按key迭代\n",
    "for key in d:\n",
    "    print(key)\n",
    "\n",
    "#按value迭代\n",
    "for value in d.values():\n",
    "    print(value)\n",
    "    \n",
    "#同时迭代key和value\n",
    "for k, v in d.items():\n",
    "    print(k, \":\", v)"
   ]
  },
  {
   "cell_type": "markdown",
   "metadata": {},
   "source": [
    "### 如何判断一个对象是可迭代对象呢？\n",
    "方法是通过collections模块的Iterable类型判断\n"
   ]
  },
  {
   "cell_type": "code",
   "execution_count": null,
   "metadata": {},
   "outputs": [],
   "source": [
    "from collections import Iterable\n",
    "\n",
    "isinstance('abc', Iterable) # str是否可迭代\n",
    "\n",
    "isinstance([1,2,3], Iterable) # list是否可迭代\n",
    "\n",
    "isinstance(123, Iterable) # 整数是否可迭代\n",
    "\n"
   ]
  },
  {
   "cell_type": "markdown",
   "metadata": {},
   "source": [
    "### 判断一个对象能否被调用（callable(obj)）"
   ]
  },
  {
   "cell_type": "code",
   "execution_count": null,
   "metadata": {},
   "outputs": [],
   "source": [
    "#重载__call__的对象是一个可调用对象。 --类比C++的函数对象(重载函数操作符())\n",
    "class Student(object):\n",
    "    def __init__(self, name):\n",
    "        self.name = name\n",
    "\n",
    "    def __call__(self): \n",
    "        print('My name is %s.' % self.name)\n",
    "\n",
    "s = Student(\"gjy\")\n",
    "if callable(s):\n",
    "    s()\n",
    "\n",
    "print(callable(abs))\n",
    "print(callable([1,2,3]))\n",
    "print(callable(None))\n",
    "    "
   ]
  },
  {
   "cell_type": "markdown",
   "metadata": {},
   "source": [
    "### 将list转换成基于下标的key和value"
   ]
  },
  {
   "cell_type": "code",
   "execution_count": null,
   "metadata": {},
   "outputs": [],
   "source": [
    "#Python内置的enumerate函数可以把一个list变成索引-元素对，这样就可以在for循环中同时迭代索引和元素本身：\n",
    "for i, value in enumerate(['A', 'B', 'C']):\n",
    "    print(i, \":\", value)\n"
   ]
  },
  {
   "cell_type": "markdown",
   "metadata": {},
   "source": [
    "### 列表生成式"
   ]
  },
  {
   "cell_type": "code",
   "execution_count": null,
   "metadata": {},
   "outputs": [],
   "source": [
    "#列出当前目录下的所有文件和目录名，可以通过一行代码实现：\n",
    "import os #导入os模块\n",
    "x = [d for d in os.listdir('.')] #os.listdir 可以列出文件和目录\n",
    "print(x)\n",
    "\n",
    "\n",
    "#筛选出偶数的平方：\n",
    "[x*x for x in range(1, 11) if x%2 == 0]\n",
    "\n",
    "#列表生成式是一次性创建出整个列表, 生成器是一次生成一个元素\n"
   ]
  },
  {
   "cell_type": "markdown",
   "metadata": {},
   "source": [
    "### 生成器"
   ]
  },
  {
   "cell_type": "code",
   "execution_count": null,
   "metadata": {},
   "outputs": [],
   "source": [
    "# 生成器是一次生成一个元素\n",
    "g = (x*x for x in range(10))\n",
    "type(g)\n",
    "\n",
    "#通过next()函数获得generator的下一个返回值：当生成器没有元素时，next()将抛出StopIteration的错误\n",
    "for n in g:\n",
    "    print(n)\n"
   ]
  },
  {
   "cell_type": "markdown",
   "metadata": {},
   "source": [
    "### b, a = a, b"
   ]
  },
  {
   "cell_type": "code",
   "execution_count": null,
   "metadata": {},
   "outputs": [],
   "source": [
    "# b, a = a, b 完成a,b的交换\n",
    "#相当于：\n",
    "#t = (a, b) # t是一个tuple\n",
    "#b = t[0]\n",
    "#a = t[1]\n",
    "\n",
    "a = 1\n",
    "b = 2\n",
    "b, a = a, b\n",
    "print(a, b)"
   ]
  },
  {
   "cell_type": "markdown",
   "metadata": {},
   "source": [
    "### 定义generator来实现斐波拉契数列\n",
    "generator和函数的执行流程不一样。函数是顺序执行，遇到return语句或者最后一行函数语句就返回。而变成generator的函数，在每次调用next()的时候执行，遇到yield语句返回，再次执行时从上次返回的yield语句处继续执行。\n",
    "注意：用for循环调用generator时，发现拿不到generator的return语句的返回值。\n",
    "如果想要拿到返回值，必须捕获StopIteration错误，返回值包含在StopIteration的value中"
   ]
  },
  {
   "cell_type": "code",
   "execution_count": null,
   "metadata": {},
   "outputs": [],
   "source": [
    "#使用了yield关键字的函数，是一个generator\n",
    "def fib(max):\n",
    "    n, a, b = 0, 0, 1\n",
    "    while n < max:\n",
    "        yield b\n",
    "        a, b = b, a + b\n",
    "        n = n + 1\n",
    "    return 'done'\n",
    "\n",
    "g = fib(10)\n",
    "for n in g:\n",
    "    print(n)\n"
   ]
  },
  {
   "cell_type": "markdown",
   "metadata": {},
   "source": [
    "### 迭代器\n",
    "可以直接作用于for循环的数据类型有以下几种：\n",
    "一类是集合数据类型，如list、tuple、dict、set、str等；\n",
    "一类是generator，包括生成器和带yield的generator function。\n",
    "这些可以直接作用于for循环的对象统称为可迭代对象：Iterable。\n",
    "可以使用isinstance()判断一个对象是否是Iterable对象.\n",
    "可以被next()函数调用并不断返回下一个值的对象称为迭代器：Iterator.\n",
    "集合数据类型如list、dict、str等是Iterable但不是Iterator，不过可以通过iter()函数获得一个Iterator对象.\n"
   ]
  },
  {
   "cell_type": "markdown",
   "metadata": {},
   "source": [
    "## 高阶函数"
   ]
  },
  {
   "cell_type": "markdown",
   "metadata": {},
   "source": [
    "### 函数式编程\n",
    "函数式编程的一个特点就是，允许把函数本身作为参数传入另一个函数，还允许返回一个函数！"
   ]
  },
  {
   "cell_type": "markdown",
   "metadata": {},
   "source": [
    "### map/reduce"
   ]
  },
  {
   "cell_type": "code",
   "execution_count": null,
   "metadata": {},
   "outputs": [],
   "source": [
    "#map()函数接收两个参数，一个是函数，一个是Iterable，\n",
    "#map将传入的函数依次作用到序列的每个元素，并把结果作为新的Iterator返回。\n",
    "def f(x):\n",
    "    return x * x\n",
    "\n",
    "r = map(f, [1, 2, 3, 4, 5, 6, 7, 8, 9])\n",
    "list(r)  #Iterator是惰性序列，因此通过list()函数让它把整个序列都计算出来并返回一个list。\n"
   ]
  },
  {
   "cell_type": "code",
   "execution_count": null,
   "metadata": {},
   "outputs": [],
   "source": [
    "#reduce把一个函数作用在一个序列[x1, x2, x3, ...]上，reduce必须接收两个参数，\n",
    "#reduce把结果继续和序列的下一个元素做累积计算，其效果就是：\n",
    "#reduce(f, [x1, x2, x3, x4]) <==> f(f(f(x1, x2), x3), x4)\n",
    "\n",
    "#把序列[1, 3, 5, 7, 9]变换成整数13579，reduce就可以派上用场：\n",
    "from functools import reduce\n",
    "def fn(x, y):\n",
    "    return x * 10 + y\n",
    "\n",
    "reduce(fn, [1, 3, 5, 7, 9])\n"
   ]
  },
  {
   "cell_type": "markdown",
   "metadata": {},
   "source": [
    "### python函数嵌套定义"
   ]
  },
  {
   "cell_type": "code",
   "execution_count": null,
   "metadata": {},
   "outputs": [],
   "source": [
    "from functools import reduce\n",
    "#str2int: 实现str-->int\n",
    "def str2int(numstr):\n",
    "    def fn(x, y):\n",
    "        return x * 10 + y\n",
    "    def char2num(chr):\n",
    "        return {'0': 0, '1': 1, '2': 2, '3': 3, '4': 4, '5': 5, '6': 6, '7': 7, '8': 8, '9': 9}[chr]\n",
    "    return reduce(fn, map(char2num, numstr))\n",
    "\n",
    "print(str2int(\"123\"))"
   ]
  },
  {
   "cell_type": "markdown",
   "metadata": {},
   "source": [
    "### filter\n",
    "Python内建的filter()函数用于过滤序列。\n",
    "和map()类似，filter()也接收一个函数和一个序列; 和map()不同的是，\n",
    "filter()把传入的函数依次作用于每个元素，然后根据返回值是True\n",
    "还是False决定保留还是丢弃该元素。---有点像C++标准算法中的谓词\n"
   ]
  },
  {
   "cell_type": "code",
   "execution_count": null,
   "metadata": {},
   "outputs": [],
   "source": [
    "#在一个list中，删掉偶数，只保留奇数，可以这么写：\n",
    "def is_odd(n):\n",
    "    return n % 2 == 1\n",
    "\n",
    "list(filter(is_odd, [1, 2, 4, 5, 6, 9, 10, 15]))\n"
   ]
  },
  {
   "cell_type": "markdown",
   "metadata": {},
   "source": [
    "### sorted\n",
    "排序算法; sorted()是一个高阶函数，可以接收一个key函数来实现自定义的排序\n"
   ]
  },
  {
   "cell_type": "code",
   "execution_count": null,
   "metadata": {},
   "outputs": [],
   "source": [
    "#按绝对值大小排序：\n",
    "sorted([36, 5, -12, 9, -21], key=abs)\n",
    "\n",
    "#key指定的函数将作用于list的每一个元素上，并根据key函数返回的结果进行排序\n",
    "#要进行反向排序，不必改动key函数，可以传入第三个参数reverse=True：\n",
    "sorted([36, 5, -12, 9, -21], key=abs, reverse=True)\n"
   ]
  },
  {
   "cell_type": "markdown",
   "metadata": {},
   "source": [
    "### 闭包（Closure）"
   ]
  },
  {
   "cell_type": "raw",
   "metadata": {},
   "source": [
    "如下:在函数lazy_sum中又定义了函数sum，并且，内部函数sum可以引用外部函数lazy_sum的参数和局部变量，\n",
    "     当lazy_sum返回函数sum时，相关参数和变量都保存在返回的函数中 -- 这种程序结构称为\"闭包（Closure）\""
   ]
  },
  {
   "cell_type": "code",
   "execution_count": null,
   "metadata": {},
   "outputs": [],
   "source": [
    "def lazy_sum(*args):\n",
    "    def sum():\n",
    "        ax = 0\n",
    "        for n in args:\n",
    "            ax = ax + n\n",
    "        return ax\n",
    "    return sum\n",
    "\n",
    "\n",
    "#注意:当我们调用lazy_sum()时，每次调用都会返回一个新的函数，即使传入相同的参数：\n",
    "f1 = lazy_sum(1, 3, 5, 7, 9)\n",
    "f2 = lazy_sum(1, 3, 5, 7, 9)\n",
    "f1 ==f2\n"
   ]
  },
  {
   "cell_type": "markdown",
   "metadata": {},
   "source": [
    "#### 闭包要注意的坑\n",
    "返回闭包时牢记的一点就是：返回的函数引用的外层变量，在函数返回之后不要做修改。\n",
    "具体为:返回函数不要引用任何外层函数的循环变量，或者后续会发生变化的变量."
   ]
  },
  {
   "cell_type": "code",
   "execution_count": null,
   "metadata": {},
   "outputs": [],
   "source": [
    "#我们来看一个例子：\n",
    "def count():\n",
    "    fs = []\n",
    "    for i in range(1, 4):\n",
    "        def f():\n",
    "             return i*i   #嵌套函数可以使用外层函数中的变量 --- i的值取决就被调用时,外层函数中i的值\n",
    "        fs.append(f)       #将函数f加入到列表中---注意:加入的是函数,而不是函数的执行结果\n",
    "    return fs\n",
    "\n",
    "f1, f2, f3 = count()\n",
    "f1()\n",
    "f2()\n",
    "f3()\n",
    "\n",
    "#在上面的例子中，count()调用创建了三个新的函数，加将函数加入了fs列表中。\n",
    "#你可能认为调用f1()，f2()和f3()结果应该是1，4，9，但实际结果是9，9，9\n",
    "#原因就在于返回的函数引用了的变量，在函数返回之前被修改了\n",
    "\n",
    "\n",
    "#如果一定要引用循环变量怎么办？\n",
    "#方法是再创建一个函数（再包一层），用该函数的参数绑定循环变量当前的值，无论该循环变量后续如何更改，已绑定到函数参数的值不变：\n",
    "def count():\n",
    "    def f(j):\n",
    "        def g():\n",
    "            return j*j\n",
    "        return g\n",
    "    fs = []\n",
    "    for i in range(1, 4):\n",
    "        fs.append(f(i)) # f(i)立刻被执行，因此i的当前值被传入f()\n",
    "    return fs\n",
    "#可利用lambda函数缩短代码\n"
   ]
  },
  {
   "cell_type": "markdown",
   "metadata": {},
   "source": [
    "### 查看python内置函数\n",
    "\"https://docs.python.org/3/library/functions.html\""
   ]
  },
  {
   "cell_type": "code",
   "execution_count": null,
   "metadata": {},
   "outputs": [],
   "source": [
    "#locals()--作用域内的局部变量集合。\n"
   ]
  },
  {
   "cell_type": "markdown",
   "metadata": {},
   "source": [
    "### 模块"
   ]
  },
  {
   "cell_type": "raw",
   "metadata": {},
   "source": [
    "一个目录即一个命名空间\n",
    "包--即包含__init__.py的目录,\n",
    "模块--py文件名（__init__.py的模块名为所在的目录）.\n",
    "A                  //包(包名/模块名为A)\n",
    "|--__init__.py     //模块(模块名为A)\n",
    "|--x.py            //模块(模块名为A.x)\n",
    "|--B               //包(包名/模块名为A.B)\n",
    "|  |--__init__.py  //模块(模块名为A.B)\n",
    "|  |--y.py         //模块(模块名为A.B.y)\n",
    "|--C               //目录(命名空间)\n",
    "|  |--z.py         //不在包下\n",
    "\n",
    "\n",
    "import hello：相当于加载了一个包吧，可以调用对象hello里的任何函数，形式为hello.xxx,比如hello.test()。\n",
    "from hello import test：个人感觉就相当于包hello中的test()函数，之后可以直接用test()函数了，\n",
    "如果只是导入了import hello,使用test()时必须加上hello.test()。\n"
   ]
  },
  {
   "cell_type": "markdown",
   "metadata": {},
   "source": [
    "## 面向对象编程"
   ]
  },
  {
   "cell_type": "raw",
   "metadata": {},
   "source": [
    "特殊变量 & 私有说明变量\n",
    "形如\"__varName__\"的变量是特殊变量。\n",
    "我们使用\"__varName\"的形式来定义一个私有变量。"
   ]
  },
  {
   "cell_type": "code",
   "execution_count": null,
   "metadata": {
    "code_folding": []
   },
   "outputs": [],
   "source": [
    "#私有说明:\n",
    "#    如果希望将变量定义为私有请使用'__'作为变量名前缀(如: __name, __address).\n",
    "#    Python解释器会自动在其变量名前加'_类名'。'__name'实际上变为'_CalssName__name'( CalssName为该变量所属类的类名).\n",
    "#    这里有个坑:\n",
    "class Student(object):\n",
    "    def __init__(self, name, score):\n",
    "        self.__name = name\n",
    "        self.__score = score\n",
    "    def get_name(self):\n",
    "        return self.__name\n",
    "        \n",
    "bart = Student('Bart Simpson', 98)\n",
    "bart.get_name()\n",
    "bart.__name = 'New Name' # 设置__name变量！\n",
    "bart.__name\n",
    "print(dir(bart)) #可以看到对象有'_Student__name'和'__name'属性\n",
    "\n",
    "#表面上看，外部代码“成功”地设置了__name变量，\n",
    "#但实际上这个__name变量和class内部的__name变量不是一个变量！\n",
    "#内部的__name变量已经被Python解释器自动改成了_Student__name，而外部代码给bart对象新增了一个__name变量。\n"
   ]
  },
  {
   "cell_type": "markdown",
   "metadata": {},
   "source": [
    "### 继承&多态"
   ]
  },
  {
   "cell_type": "code",
   "execution_count": null,
   "metadata": {},
   "outputs": [],
   "source": [
    "class Animal(object):\n",
    "    def run(self):\n",
    "        print('Animal is running...')\n",
    "\n",
    "class Dog(Animal):\n",
    "    def run(self):\n",
    "        print('Dog is running...')\n",
    "\n",
    "class Cat(Animal):\n",
    "    def run(self):\n",
    "        print('Cat is running...')\n",
    "\n",
    "class NoneAnimalSubclass:\n",
    "    def run(self):\n",
    "        print('NoneAnimalSubclass is running...')\n",
    "        \n",
    "def run_test(animal):\n",
    "    animal.run()\n",
    "\n",
    "if __name__ == \"__main__\":\n",
    "    run_test(Animal())\n",
    "    run_test(Dog())\n",
    "    run_test(Cat())\n",
    "    run_test(NoneAnimalSubclass())"
   ]
  },
  {
   "cell_type": "markdown",
   "metadata": {},
   "source": [
    "### 动态语言与静态语言多态的不同"
   ]
  },
  {
   "cell_type": "raw",
   "metadata": {},
   "source": [
    "python是动态语言，不同于C++静态语言。\n",
    "c++在实现多态时传入的对象必须是指定的类型或者它的子类型。\n",
    "对于Python这样的动态语言来说，我们只需要保证传入的对象有同名的被调方法即可(如上例中的NoneAnimalSubclass.run）方法就可以了。\n",
    "再次看上面的run_test函数。\n",
    "def run_test(animal):\n",
    "    animal.run()\n",
    "我们说run_test接受一个名为animal的参数，而不是说接受一个Animal类型的参数。因为python是动态类型，其变量的类型是在运行时确定的，也就是说在执行时我们给它传递什么类型的对象，它就是什么类型。所以只要我们传递的对象（类型）具有run方法，那么这个函数调用就是正确的。---这是不同与C++的。\n"
   ]
  },
  {
   "cell_type": "code",
   "execution_count": null,
   "metadata": {},
   "outputs": [],
   "source": [
    "getattr()、setattr()以及hasattr()\n"
   ]
  },
  {
   "cell_type": "code",
   "execution_count": null,
   "metadata": {},
   "outputs": [],
   "source": [
    "class MyObject(object):\n",
    "    def __init__(self):\n",
    "        self.x = 9\n",
    "    def power(self):\n",
    "        return self.x * self.x\n",
    "\n",
    "obj = MyObject()\n",
    "if hasattr(obj, 'x'):\n",
    "    print(getattr(obj, 'x'))\n",
    "    print(obj.x)\n",
    "if not hasattr(obj, 'y'):\n",
    "    setattr(obj, 'y', 19)\n",
    "    print(getattr(obj, 'y'))\n",
    "    print(obj.y)\n",
    "    \n",
    "\n",
    "#getattr(obj, 'z') #如果试图获取不存在的属性，会抛出AttributeError的错误：\n",
    "\n",
    "#可以传入一个default参数，如果属性不存在，就返回默认值：\n",
    "getattr(obj, 'z', 404) # 获取属性'z'，如果不存在，返回默认值404\n",
    "\n",
    "fn = getattr(obj, 'power') # 获取属性'power'并赋值到变量fn\n",
    "fn() # 调用fn()与调用obj.power()是一样的"
   ]
  },
  {
   "cell_type": "markdown",
   "metadata": {},
   "source": [
    "### 实例属性和类属性"
   ]
  },
  {
   "cell_type": "code",
   "execution_count": null,
   "metadata": {},
   "outputs": [],
   "source": [
    "#给实例绑定属性的方法是通过实例变量，或者通过self变量\n",
    "class Student(object):\n",
    "    name = \"gjy\"      #这个属性属于类，可通过类名和对象来访问\n",
    "    def __init__(self, addr):\n",
    "        self.addr = addr  #类实例属性\n",
    "\n",
    "s = Student(\"huaihua\");  #实例化一个类对象\n",
    "print(dir(Student)) #查看一个类的所有属性和方法 --实例比类多一个\"addr\"属性\n",
    "print(dir(s))       #查看一个对象的所有属性和方法\n",
    "\n",
    "print(s.name)  # 打印name属性，因为实例并没有name属性，所以会继续查找class的name属性\n",
    "s.name = 'gsf'  # 给实例动态绑定name属性---注意：这里是给实例绑定属性，而不是给类绑定属性\n",
    "print(s.name) # 由于实例属性优先级比类属性高，因此，它会屏蔽掉类的name属性\n",
    "print(Student.name) # 但是类属性并未消失，用Student.name仍然可以访问\n",
    "del s.name # 如果删除实例的name属性\n",
    "print(s.name) # 再次调用s.name，由于实例的name属性没有找到，类的name属性就显示出来了\n",
    "print(dir(s))\n",
    "\n",
    "#在编写程序的时候，千万不要把实例属性和类属性使用相同的名字，因为相同名称的实例属性将屏蔽掉类属性，\n",
    "#但是当你删除实例属性后，再使用相同的名称，访问到的将是类属性。  -- 这样容易有坑"
   ]
  },
  {
   "cell_type": "markdown",
   "metadata": {},
   "source": [
    "## 面向对象高级编程"
   ]
  },
  {
   "cell_type": "markdown",
   "metadata": {},
   "source": [
    "### 给实例绑定一个方法"
   ]
  },
  {
   "cell_type": "code",
   "execution_count": null,
   "metadata": {},
   "outputs": [],
   "source": [
    "from types import MethodType\n",
    "\n",
    "class Student(object):  #定义一个类\n",
    "    pass\n",
    "\n",
    "s = Student(); #实例化一个类对象\n",
    "s.name = 'Michael' #为实例化的类对象绑定name属性\n",
    "print(s.name)\n",
    "\n",
    "def set_age(self, age): \n",
    "    self.age = age\n",
    "\n",
    "\n",
    "orgAttrs = set(dir(Student))\n",
    "\n",
    "s.set_age = MethodType(set_age, s) # 给实例绑定一个方法\n",
    "s.set_age(25)\n",
    "print(s.age)\n",
    "\n",
    "print(set(dir(s)) - set(dir(Student)))  #实例比类多出的属性\n",
    "\n",
    "#给类对象s绑定的属性和方法只对该对象起作用，对类的其他对象不起作用。\n",
    "#要想绑定的属性或方法对类的所有对象起作用则需要绑定到类上（而不是类对象上）\n",
    "def set_score(self, score):\n",
    "    self.score = score\n",
    "\n",
    "Student.set_score = set_score #动态为类绑定方法\n",
    "print(set(dir(Student)) - orgAttrs)  #类新增的属性"
   ]
  },
  {
   "cell_type": "code",
   "execution_count": null,
   "metadata": {},
   "outputs": [],
   "source": [
    "a=[\"a\",\"b\",\"c\"]\n",
    "b=[\"b\",\"d\"]\n",
    "set(a)\n",
    "set(b)\n",
    "print(set(a)-set(b))\n",
    "print(set(b)-set(a))"
   ]
  },
  {
   "cell_type": "markdown",
   "metadata": {},
   "source": [
    "### 使用\"__slots__\""
   ]
  },
  {
   "cell_type": "code",
   "execution_count": null,
   "metadata": {},
   "outputs": [],
   "source": [
    "#__slots__用来限制实例的属性。比如，只允许对Student实例添加name和age属性\n",
    "\n",
    "class Student(object):\n",
    "    __slots__ = ('name', 'age') # 用tuple定义允许绑定的属性名称\n",
    "    def __init__(self, addr):\n",
    "        #self.addr = addr  #试图绑定addr实例属性  --会报错 -- 只允许实例动态绑定'name','age'属性。\n",
    "        pass\n",
    "    \n",
    "s = Student(\"huaihua\") # 创建新的实例\n",
    "s.name = 'Michael' # 绑定属性'name'\n",
    "s.age = 25         # 绑定属性'age'\n",
    "#s.score  = 99       #试图绑定score实例属性  --会报错 -- 只允许实例动态绑定'name','age'属性。\n"
   ]
  },
  {
   "cell_type": "markdown",
   "metadata": {},
   "source": [
    "### 使用@property与@xxx.setter来隐藏属性"
   ]
  },
  {
   "cell_type": "markdown",
   "metadata": {},
   "source": [
    "### 常用特殊函数"
   ]
  },
  {
   "cell_type": "code",
   "execution_count": null,
   "metadata": {},
   "outputs": [],
   "source": [
    "__init__, __len__, __slots__, \n",
    "__str__, __repr__, \n",
    "__iter__, __next__, \n",
    "__getitem__, __setitem__, __delitem__,\n",
    "__getattr__,  __setattr__, __call__, \n",
    "__members__, "
   ]
  },
  {
   "cell_type": "markdown",
   "metadata": {},
   "source": [
    "### 枚举类"
   ]
  },
  {
   "cell_type": "code",
   "execution_count": null,
   "metadata": {},
   "outputs": [],
   "source": [
    "from enum import Enum, unique\n",
    "\n",
    "Month = Enum('Month', ('Jan', 'Feb', 'Mar', 'Apr', 'May', 'Jun', 'Jul', 'Aug', 'Sep', 'Oct', 'Nov', 'Dec'))\n",
    "for name, member in Month.__members__.items():\n",
    "    print(name, '=>', member, ',', member.value)\n",
    "print(Month.Jan, Month.Jan.value)\n",
    "\n",
    "#如果需要更精确地控制枚举类型，可以从Enum派生出自定义类：\n",
    "@unique   #@unique装饰器可以帮助我们检查保证没有重复值。\n",
    "class Weekday(Enum):\n",
    "    Sun = 0 # Sun的value被设定为0\n",
    "    Mon = 1\n",
    "    Tue = 2\n",
    "    Wed = 3\n",
    "    Thu = 4\n",
    "    Fri = 5\n",
    "    Sat = 6\n",
    "\n",
    "day1 = Weekday.Mon\n",
    "print(day1)\n",
    "print(Weekday.Tue)\n",
    "print(Weekday['Tue'])"
   ]
  },
  {
   "cell_type": "markdown",
   "metadata": {},
   "source": [
    "### type()\n",
    "type()函数既可以返回一个对象的类型，又可以创建出新的类型"
   ]
  },
  {
   "cell_type": "code",
   "execution_count": null,
   "metadata": {},
   "outputs": [],
   "source": [
    "#要创建一个class对象，type()函数依次传入3个参数：\n",
    "#1. class的名称；\n",
    "#2. 继承的父类集合，注意Python支持多重继承，如果只有一个父类，别忘了tuple的单元素写法；\n",
    "#3. class的方法名称与函数绑定，这里我们把函数fn绑定到方法名hello上\n",
    "\n",
    "def fn(self, name='world'): # 先定义函数\n",
    "    print('Hello, %s.' % name)\n",
    "\n",
    "Hello = type('Hello', (object,), dict(hello=fn)) # 创建Hello class\n",
    "h = Hello()\n",
    "h.hello()\n",
    "print(type(Hello))\n"
   ]
  },
  {
   "cell_type": "markdown",
   "metadata": {},
   "source": [
    "### 元类metaclass"
   ]
  },
  {
   "cell_type": "code",
   "execution_count": null,
   "metadata": {},
   "outputs": [],
   "source": [
    "#使用元类metaclass控制类的创建行为\n",
    "#先定义metaclass，根据metaclass创建出类，最后创建实例\n",
    "\n",
    "#定义元类: metaclass是类的模板，必须是'type'类型派生\n",
    "class ListMetaclass(type):\n",
    "    def __new__(cls, name, bases, attrs):\n",
    "        print(cls, \"\\n\", name, \"\\n\", bases, \"\\n\", attrs, \"\\n\")\n",
    "        attrs['add'] = lambda self, value: self.append(value)\n",
    "        return type.__new__(cls, name, bases, attrs)\n",
    "    \n",
    "#根据元类来创建类. 通过关键字参数metaclass指定创建MyList类时使用的元类\n",
    "class MyList(list, metaclass=ListMetaclass):\n",
    "    pass\n",
    "\n",
    "L = MyList()\n",
    "L.add(1)\n",
    "print(L)\n",
    "\n",
    "\n",
    "#说明:\n",
    "#通过传入关键字参数metaclass=ListMetaclass，指示Python解释器在创建MyList时，要通过ListMetaclass.__new__()来创建，\n",
    "#在__new__()函数中我们可以修改类的定义，比如，加上新的方法，然后返回修改后的定义。\n",
    "#元类的__new__()方法接收到的参数依次是：\n",
    "#1. 元类(cls: ListMetaclass)\n",
    "#2. 要创建的类名(name: MyList)；\n",
    "#3. 要创建的类继承的父类集合(bases: (list, ))；\n",
    "#4. 要创建类的属性集合。\n",
    "\n"
   ]
  },
  {
   "cell_type": "code",
   "execution_count": null,
   "metadata": {},
   "outputs": [],
   "source": [
    "class User:\n",
    "    def __new__(cls): #__new__的第一个参数为类\n",
    "        print(\"new\", cls)\n",
    "        cls.nationality = \"中国\"  #__new__中通过cls.xxx创建的属性为类属性\n",
    "        return object.__new__(cls)\n",
    "\n",
    "    def __init__(self):  #__init__的第一个参数为实例对象\n",
    "        print(\"init\", self)\n",
    "        gender = \"男\"\n",
    "        self.age = 25 #__init__中通过self.xxx创建的属性为实例属性\n",
    "        \n",
    "if __name__ == \"__main__\":\n",
    "    me = User()\n",
    "    print(\"\\n类User的属性\\n\", dir(User))\n",
    "    print(\"\\n对象me的属性\\n\", dir(me))"
   ]
  },
  {
   "cell_type": "raw",
   "metadata": {},
   "source": [
    "小结：\n",
    "__new__方法用于创建对象，__init__方法用于对对象进行初始化。\n",
    "python中一切皆为对象，类也是对象类可由元类创建(通过__new__)"
   ]
  },
  {
   "cell_type": "markdown",
   "metadata": {},
   "source": [
    "### python中类方法、类实例方法、静态方法"
   ]
  },
  {
   "cell_type": "code",
   "execution_count": null,
   "metadata": {},
   "outputs": [],
   "source": [
    "class User:\n",
    "    @classmethod\n",
    "    def class_foo(cls, x):\n",
    "        print(\"executing class_foo(%s, %s)\" % (cls, x))\n",
    "        \n",
    "    @staticmethod\n",
    "    def static_foo(x):\n",
    "        print(\"executing static_foo(%s)\" % (x, ))\n",
    "        \n",
    "    def foo(self, x):\n",
    "        print(\"executing foo(%s, %s)\" % (self, x))\n",
    "        \n",
    "        \n",
    "if __name__ == \"__main__\":\n",
    "    u1 = User()\n",
    "    u2 = User()\n",
    "    print(\"类实例的方法\")\n",
    "    print(User.foo, \"\\n\", u1.foo, \"\\n\", u2.foo, \"\\n\")\n",
    "    \n",
    "    print(\"类的方法\")\n",
    "    print(User.class_foo, \"\\n\", u1.class_foo, \"\\n\", u2.class_foo, \"\\n\")\n",
    "    \n",
    "    print(\"静态方法\")\n",
    "    print(User.static_foo, \"\\n\", u1.static_foo, \"\\n\", u2.static_foo, \"\\n\")\n",
    "    \n",
    "#区别： \n",
    "#•类方法和静态方法由所有类的实例所共享。类实例方法由每个实例所独享，每个实例都有它的一个副本。\n",
    "#•类方法的隐含调用参数是类，而类实例方法的隐含调用参数是类的实例，静态方法没有隐含调用参数。（隐含参数即方法的第一个函数，所以使用时不需要显式传入）。\n"
   ]
  },
  {
   "cell_type": "markdown",
   "metadata": {},
   "source": [
    "## 错误、调试和测试"
   ]
  },
  {
   "cell_type": "markdown",
   "metadata": {},
   "source": [
    "### 错误处理\n",
    "try...except...finally..."
   ]
  },
  {
   "cell_type": "raw",
   "metadata": {},
   "source": [
    "内置了一套try...except...finally...的错误处理机制.\n",
    "由于没有错误发生，except语句块不会被执行，\n",
    "但是如果有finally，则finally一定会被执行（可以没有finally语句）。\n",
    "\n",
    "Python所有的错误都是从BaseException类派生的，常见的错误类型和继承关系看这里：\n",
    "https://docs.python.org/3/library/exceptions.html#exception-hierarchy"
   ]
  },
  {
   "cell_type": "code",
   "execution_count": null,
   "metadata": {},
   "outputs": [],
   "source": [
    "import logging\n",
    "\n",
    "def excptionTest(numberStr):\n",
    "    try:\n",
    "        print('try...')\n",
    "        r = 10 / int(numberStr)\n",
    "        print('result:', r)\n",
    "        return r\n",
    "    except ValueError as e:\n",
    "        print('ValueError:', e)\n",
    "        logging.exception(e) #使用logging记录信息\n",
    "    except ZeroDivisionError as e:\n",
    "        print('ZeroDivisionError:', e)\n",
    "        logging.exception(e)\n",
    "    finally:\n",
    "        print('finally...')\n",
    "    print('END')\n",
    "    \n",
    "\n",
    "def test(numberStr):\n",
    "    return excptionTest(numberStr) * 2\n",
    "\n",
    "if __name__ == \"__main__\":\n",
    "    #ret = test(\"1\")\n",
    "    #ret = test(\"a\")\n",
    "    ret = test(\"0\")\n",
    "    print(ret)"
   ]
  },
  {
   "cell_type": "markdown",
   "metadata": {},
   "source": [
    "### 抛出错误\n",
    "使用raise语句抛出异常"
   ]
  },
  {
   "cell_type": "code",
   "execution_count": null,
   "metadata": {},
   "outputs": [],
   "source": [
    "#自定义异常\n",
    "class FooError(ValueError):\n",
    "    pass\n",
    "\n",
    "def foo(s):\n",
    "    n = int(s)\n",
    "    if n==0:\n",
    "        raise FooError('invalid value: %s' % s) #抛出异常\n",
    "    return 10 / n\n",
    "\n",
    "foo('0')\n"
   ]
  },
  {
   "cell_type": "markdown",
   "metadata": {},
   "source": [
    "## 单元测试\n",
    "需要引入Python自带的unittest模块."
   ]
  },
  {
   "cell_type": "raw",
   "metadata": {},
   "source": [
    "unittest模块参考:\n",
    "https://blog.csdn.net/u012291393/article/details/78636502\n",
    "https://www.liaoxuefeng.com/discuss/969955749132672/1203224296196800\n",
    "https://stackoverflow.com/questions/25004917/attributeerror-when-running-unittest-sample-in-ipy-notebook"
   ]
  },
  {
   "cell_type": "code",
   "execution_count": null,
   "metadata": {},
   "outputs": [],
   "source": [
    "import unittest\n",
    "\n",
    "#自定义的Dict类\n",
    "class Dict(dict):\n",
    "    def __init__(self, **kw):\n",
    "        super().__init__(**kw)\n",
    "        \n",
    "    def __getattr__(self, key):\n",
    "        try:\n",
    "            return self[key]\n",
    "        except KeyError:\n",
    "            raise AttributeError(r\"'Dict' object has no attribute '%s'\" % key)\n",
    "            \n",
    "    def __setattr__(self, key, value):\n",
    "        self[key] = value\n",
    "\n",
    "\n",
    "\n",
    "#使用单元测试来测试自定义的Dict类\n",
    "class TestDict(unittest.TestCase):  #从unittest.TestCase继承\n",
    "    #以test开头的方法就是测试方法，不以test开头的方法不被认为是测试方法，测试的时候不会被执行。\n",
    "    def test_init(self):\n",
    "        d = Dict(a=1, b='test')\n",
    "        self.assertEqual(d.a, 1)  #断言d.a与1相等\n",
    "        self.assertEqual(d.b, 'test')\n",
    "        self.assertTrue(isinstance(d, dict))\n",
    "        print(\"test_init ok\")\n",
    "        \n",
    "    def test_key(self):\n",
    "        d = Dict()\n",
    "        d['key'] = 'value'\n",
    "        self.assertEqual(d.key, 'value')\n",
    "        print(\"test_key ok\")\n",
    "        \n",
    "    def test_attr(self):\n",
    "        d = Dict()\n",
    "        d.key = 'value'\n",
    "        self.assertTrue('key' in d)\n",
    "        self.assertEqual(d['key'], 'value')\n",
    "        print(\"test_attr ok\")\n",
    "        \n",
    "    def test_keyerror(self):\n",
    "        d = Dict()\n",
    "        with self.assertRaises(KeyError):  #断言期待抛出KeyError类型的Error\n",
    "            value = d['empty']\n",
    "        print(\"test_keyerror ok\")\n",
    "            \n",
    "    def test_attrerror(self):\n",
    "        d = Dict()\n",
    "        with self.assertRaises(AttributeError): #断言期待抛出AttributeError类型的Error\n",
    "            value = d.empty\n",
    "        print(\"test_attrerror ok\")\n",
    "\n",
    "#运行单元测试\n",
    "if __name__ == '__main__':\n",
    "    import sys\n",
    "    print(sys.argv)\n",
    "    \n",
    "    #unittest.main() #直接执行这个会失败; 参考\"https://blog.csdn.net/u012291393/article/details/78636502\"\n",
    "    #unittest.main(argv=[\"TestDict\"], exit=False)\n",
    "    unittest.main(argv=['first-arg-is-ignored'], exit=False)\n",
    "    \n",
    "    #suite = unittest.TestLoader().loadTestsFromTestCase(TestDict)\n",
    "    #unittest.TextTestRunner().run(suite)\n",
    "\n",
    "\n",
    "    \n",
    "#补充：setUp与tearDown\n",
    "#在单元测试中有两个特殊的setUp()和tearDown()方法; 这两个方法会分别在调用每一个测试方法的前后分别被执行.\n",
    "#可以使用这两个方法来清理单元测试时的环境，使每一次测试都是独立的"
   ]
  },
  {
   "cell_type": "markdown",
   "metadata": {},
   "source": [
    "## 文件操作"
   ]
  },
  {
   "cell_type": "markdown",
   "metadata": {},
   "source": [
    "### 读文件"
   ]
  },
  {
   "cell_type": "code",
   "execution_count": null,
   "metadata": {
    "code_folding": [],
    "scrolled": true
   },
   "outputs": [],
   "source": [
    "import logging\n",
    "\n",
    "f = None\n",
    "try:\n",
    "    #f = open('D:/DailyCleaning/notfound.txt', 'r')\n",
    "    f = open('D:/DailyCleaning/test.txt', 'r')\n",
    "    print(f.read())\n",
    "except FileNotFoundError as e:\n",
    "    print('FileNotFoundError:', e)\n",
    "    logging.exception(e) #使用logging记录信息\n",
    "finally:\n",
    "    if f:\n",
    "        f.close()\n",
    "        print(\"f.close()\")\n",
    "\n",
    "#read()会一次性读取文件的全部内容\n",
    "#如果文件文件非常大，一次性读取会把内存撑爆，此时可以反复调用read(size)方法，每次最多读取size个字节的内容。\n",
    "#readline()可以每次读取一行内容\n",
    "#readlines()一次读取所有内容并按行返回list\n",
    "    "
   ]
  },
  {
   "cell_type": "markdown",
   "metadata": {},
   "source": [
    "### with...as..."
   ]
  },
  {
   "cell_type": "code",
   "execution_count": null,
   "metadata": {},
   "outputs": [],
   "source": [
    "with open('D:/DailyCleaning/test.txt', 'r') as f:\n",
    "    for line in f.readlines():\n",
    "        print(line.strip()) # 把末尾的'\\n'删掉\n",
    "#和前面的try ... finally是一样的，但是代码更佳简洁，并且不必调用f.close()方法\n"
   ]
  },
  {
   "cell_type": "markdown",
   "metadata": {},
   "source": [
    "### file-like Object"
   ]
  },
  {
   "cell_type": "markdown",
   "metadata": {},
   "source": [
    "### StringIO和BytesIO"
   ]
  },
  {
   "cell_type": "code",
   "execution_count": null,
   "metadata": {},
   "outputs": [],
   "source": [
    "#StringIO--在内存中对字符串数据进行操作\n",
    "from io import StringIO\n",
    "fw = StringIO()\n",
    "fw.write('Hello!\\n')\n",
    "fw.write('Hi!\\n')\n",
    "fw.write('world!')\n",
    "print(fw.getvalue())\n",
    "\n",
    "print(\"\\n\\n\")\n",
    "\n",
    "fr = StringIO('Hello!\\nHi!\\nGoodbye!')\n",
    "for line in fr.readlines():\n",
    "    print(line.strip())\n",
    "\n"
   ]
  },
  {
   "cell_type": "code",
   "execution_count": null,
   "metadata": {},
   "outputs": [],
   "source": [
    "#BytesIO--在内存中对二进制数据进行操作\n",
    "from io import BytesIO\n",
    "fw = BytesIO()\n",
    "fw.write('中文'.encode('utf-8')) #将字符串按uft8编码成二进制数据\n",
    "print(fw.getvalue())\n",
    "\n",
    "fr = BytesIO(b'\\xe4\\xb8\\xad\\xe6\\x96\\x87')\n",
    "print(fr.read())\n"
   ]
  },
  {
   "cell_type": "markdown",
   "metadata": {},
   "source": [
    "### 操作文件和目录 \n"
   ]
  },
  {
   "cell_type": "code",
   "execution_count": null,
   "metadata": {},
   "outputs": [],
   "source": [
    "import os\n",
    "\n",
    "#os.name 查看操作系统类型; posix--Linux、Unix或MacOSX，nt--Windows\n",
    "os.name\n",
    "\n",
    "#os.uname()查看详细系统信息, windows无此函数\n",
    "#os.uname()\n",
    "\n",
    "#查看全部环境信息\n",
    "os.environ\n",
    "\n",
    "os.environ.get('PATH')\n",
    "\n",
    "#按key获取环境变量\n",
    "os.environ.get('key', 'default')"
   ]
  },
  {
   "cell_type": "markdown",
   "metadata": {},
   "source": [
    "### 操作文件和目录\n",
    "操作文件和目录的函数一部分放在os模块中，一部分放在os.path模块中"
   ]
  },
  {
   "cell_type": "code",
   "execution_count": null,
   "metadata": {},
   "outputs": [],
   "source": [
    "# 查看当前目录的绝对路径\n",
    "os.path.abspath('.')\n",
    "\n",
    "# 创建一个目录\n",
    "os.mkdir('./testdir') \n",
    "\n",
    "# 删掉一个目录\n",
    "os.rmdir('./testdir') \n",
    "\n",
    "# 对文件重命名\n",
    "#os.rename('test.txt', 'test.py')\n",
    "\n",
    "# 使用os.path.join()函数拼接路径,可以正确处理不同操作系统的路径分隔符\n",
    "os.path.join('/Users/michael/', 'testdir/file.txt')\n",
    "\n",
    "# 使用os.path.split()拆分路径中的目录名和文件名\n",
    "os.path.split('/Users/michael/testdir/file.txt')\n",
    "\n",
    "# 使用os.path.splitext()拆分路径中全文件名和扩展名\n",
    "os.path.splitext('/Users/michael/testdir/file.txt')\n",
    "\n",
    "# 注:合并、拆分路径的函数并不要求目录和文件要真实存在，它们只对字符串进行操作\n",
    "\n",
    "\n",
    "# 复制文件\n",
    "import shutil\n",
    "shutil.copyfile(\"./src.txt\", \"./target.txt\")\n",
    "\n"
   ]
  },
  {
   "cell_type": "code",
   "execution_count": null,
   "metadata": {},
   "outputs": [],
   "source": [
    "#列出当前目录下的所有目录\n",
    "[x for x in os.listdir('.') if os.path.isdir(x)]\n",
    "\n",
    "#列出当前目录下所有的.py文件\n",
    "[x for x in os.listdir('.') if os.path.isfile(x) and os.path.splitext(x)[1]=='.py']"
   ]
  },
  {
   "cell_type": "markdown",
   "metadata": {},
   "source": [
    "## 序列化"
   ]
  },
  {
   "cell_type": "code",
   "execution_count": null,
   "metadata": {},
   "outputs": [],
   "source": [
    "把变量从内存中变成可存储或传输的过程称之为序列化，在Python中叫pickling.\n",
    "反序列化--unpicking"
   ]
  },
  {
   "cell_type": "code",
   "execution_count": null,
   "metadata": {},
   "outputs": [],
   "source": [
    "import pickle\n",
    "stu = dict(name='Bob', age=20, score=88)\n",
    "\n",
    "#pickle.dumps()方法把任意对象序列化成一个bytes\n",
    "stuBts = pickle.dumps(stu)\n",
    "print(stuBts)\n",
    "\n",
    "#将stu对象序列化到文件 \n",
    "fw = open('D:/DailyCleaning/dump.dat', 'wb')\n",
    "#使用pickle.dump()直接把对象序列化后写入一个file-like Object\n",
    "pickle.dump(stu, fw)\n",
    "fw.close()\n",
    "\n",
    "#从文件中反序列化stuDict对象\n",
    "fr = open('D:/DailyCleaning/dump.dat', 'rb')\n",
    "stuDict = pickle.load(fr)\n",
    "fr.close()\n",
    "print(stuDict)"
   ]
  },
  {
   "cell_type": "markdown",
   "metadata": {},
   "source": [
    "## JSON"
   ]
  },
  {
   "cell_type": "raw",
   "metadata": {},
   "source": [
    "Json,Xml等标准格式方便我们在不同编程语言之间传递对象"
   ]
  },
  {
   "cell_type": "markdown",
   "metadata": {},
   "source": [
    "|Json类型|Python类型|\n",
    "|--------|---------|\n",
    "|{}|dict|\n",
    "|[]|list|\n",
    "|\"stirng\"|str|\n",
    "|123.45|int/float|\n",
    "|true/false|True/False|\n",
    "|null|None|"
   ]
  },
  {
   "cell_type": "raw",
   "metadata": {},
   "source": [
    "Python内置的json模块提供了非常完善的Python对象到JSON格式的转换.\n",
    "JSON标准规定JSON编码是UTF-8"
   ]
  },
  {
   "cell_type": "code",
   "execution_count": null,
   "metadata": {},
   "outputs": [],
   "source": [
    "import json\n",
    "stuDict = dict(name='Bob', age=20, score=88)\n",
    "stuDictJsonStr = json.dumps(stuDict)\n",
    "print(type(stuDictJsonStr), stuDictJsonStr)\n",
    "\n",
    "#将stu对象序列化到文件 \n",
    "fw = open('D:/DailyCleaning/testJson.txt', 'w')\n",
    "#使用json.dump()直接把python对象后写入一个file-like Object\n",
    "json.dump(stuDict, fw)\n",
    "fw.close()\n",
    "\n",
    "json_str = '{\"age\": 20, \"score\": 88, \"name\": \"Bob\"}'\n",
    "json.loads(json_str)\n"
   ]
  },
  {
   "cell_type": "markdown",
   "metadata": {},
   "source": [
    "### JSON进阶"
   ]
  },
  {
   "cell_type": "code",
   "execution_count": null,
   "metadata": {},
   "outputs": [],
   "source": [
    "#json.dump()中提供了一个关键字参数default，允许我们定制将对象转换为支持Json格式对象的方法.\n",
    "\n",
    "class Student(object):\n",
    "    def __init__(self, name, age, score):\n",
    "        self.name = name\n",
    "        self.age = age\n",
    "        self.score = score\n",
    "\n",
    "stu = Student('Bob', 20, 88)\n",
    "#print(json.dumps(stu)) #TypeError --json无法将stu对象转换为Json格式\n",
    "\n",
    "\n",
    "def student2dict(stu):\n",
    "    if isinstance(stu, Student):\n",
    "        return {\n",
    "            'name': stu.name,\n",
    "            'age': stu.age,\n",
    "            'score': stu.score\n",
    "        }\n",
    "    return None\n",
    "\n",
    "#使用default参数指定对象到Json对象的转换\n",
    "print(json.dumps(stu, default=student2dict))"
   ]
  },
  {
   "cell_type": "markdown",
   "metadata": {},
   "source": [
    "## 进程和线程"
   ]
  },
  {
   "cell_type": "markdown",
   "metadata": {},
   "source": [
    "### 进程"
   ]
  },
  {
   "cell_type": "raw",
   "metadata": {},
   "source": [
    "fork()函数 -- 产生一个子进程。\n",
    "一次调用返回两次 --在父进程中返回子进程的id,在子进程中返回0(在子进程中可通过getppid()获取父进程的ID)。\n",
    "os模块封装了常见系统调用, frok()也可其中"
   ]
  },
  {
   "cell_type": "code",
   "execution_count": null,
   "metadata": {},
   "outputs": [],
   "source": [
    "import os\n",
    "print(\"进程 (%s) start\" % os.getpid())\n",
    "\n",
    "pid = os.frok()\n",
    "if pid == 0: #子进程\n",
    "    print(\"当前为子进程 (%s), 父进程 (%s)\" (os.getpid(), os.getpp()))\n",
    "else :  #父进程\n",
    "    print(\"当前为父进程 (%s), 子进程 (%s)\" (os.getpid(), pid))\n",
    "\n",
    "#注： 以上代码无法在windows下执行\n"
   ]
  },
  {
   "cell_type": "code",
   "execution_count": null,
   "metadata": {},
   "outputs": [],
   "source": [
    "#跨平台的多进程模块 multiprocessing\n",
    "\n",
    "import os\n",
    "import time\n",
    "from multiprocessing import Process\n",
    "\n",
    "# 子进程要执行的代码\n",
    "def run_proc(name):\n",
    "    print('Run child process %s (%s)...' % (name, os.getpid()))\n",
    "    time.sleep(5)\n",
    "    print(\"end\")\n",
    "\n",
    "if __name__=='__main__':\n",
    "    print('Parent process %s.' % os.getpid())\n",
    "    p = Process(target=run_proc, args=('test',))\n",
    "    print('Child process will start.')\n",
    "    p.start() #开始执行子进程\n",
    "    p.join() #等待子进程结束后再继续\n",
    "    print('Child process end.')\n"
   ]
  },
  {
   "cell_type": "code",
   "execution_count": null,
   "metadata": {},
   "outputs": [],
   "source": [
    "#进程池Pool\n",
    "\n",
    "from multiprocessing import Pool\n",
    "import os, time, random\n",
    "\n",
    "def long_time_task(name):\n",
    "    print('Run task %s (%s)...' % (name, os.getpid()))\n",
    "    start = time.time()\n",
    "    time.sleep(random.random() * 3)\n",
    "    end = time.time()\n",
    "    print('Task %s runs %0.2f seconds.' % (name, (end - start)))\n",
    "\n",
    "if __name__=='__main__':\n",
    "    print('Parent process %s.' % os.getpid())\n",
    "    p = Pool(4) #Pool的默认大小是CPU的核数\n",
    "    for i in range(5):\n",
    "        p.apply_async(long_time_task, args=(i,))\n",
    "    print('Waiting for all subprocesses done...')\n",
    "    p.close()\n",
    "    p.join()\n",
    "    print('All subprocesses done.')\n",
    "#注： 对Pool对象调用join()方法会等待所有子进程执行完毕，\n",
    "# 调用join()之前必须先调用close()，调用close()之后就不能继续添加新的Process了"
   ]
  },
  {
   "cell_type": "markdown",
   "metadata": {},
   "source": [
    "#### 子进程"
   ]
  },
  {
   "cell_type": "raw",
   "metadata": {},
   "source": [
    "subprocess模块可以让我们非常方便地启动一个子进程，然后控制其输入和输出"
   ]
  },
  {
   "cell_type": "markdown",
   "metadata": {},
   "source": [
    "#### 进程间通信"
   ]
  },
  {
   "cell_type": "raw",
   "metadata": {},
   "source": [
    "multiprocessing模块包装了底层的机制，提供了Queue、Pipes等多种方式来交换数据"
   ]
  },
  {
   "cell_type": "markdown",
   "metadata": {},
   "source": [
    "### 多线程"
   ]
  },
  {
   "cell_type": "raw",
   "metadata": {},
   "source": [
    "python的标准库提供了两个线程模块：_thread和threading。\n",
    "threading对_thread进行了封装"
   ]
  },
  {
   "cell_type": "code",
   "execution_count": null,
   "metadata": {},
   "outputs": [],
   "source": [
    "#启动一个线程就是把一个函数传入并创建Thread实例，然后调用start()开始执行\n",
    "\n",
    "import time, threading\n",
    "\n",
    "# 新线程执行的代码:\n",
    "def loop():\n",
    "    print('thread %s is running...' % threading.current_thread().name)\n",
    "    n = 0\n",
    "    while n < 5:\n",
    "        n = n + 1\n",
    "        print('thread %s >>> %s' % (threading.current_thread().name, n))\n",
    "        time.sleep(1)\n",
    "    print('thread %s ended.' % threading.current_thread().name)\n",
    "\n",
    "print('thread %s is running...' % threading.current_thread().name)\n",
    "t = threading.Thread(target=loop, name='LoopThread')\n",
    "t.start()\n",
    "t.join()\n",
    "print('thread %s ended.' % threading.current_thread().name)\n"
   ]
  },
  {
   "cell_type": "markdown",
   "metadata": {},
   "source": [
    "#### Lock"
   ]
  },
  {
   "cell_type": "code",
   "execution_count": null,
   "metadata": {},
   "outputs": [],
   "source": [
    "import time, threading\n",
    "\n",
    "# 假定这是你的银行存款:\n",
    "balance = 0\n",
    "#lock = threading.Lock()\n",
    "\n",
    "def change_it(n):\n",
    "    # 先存后取，结果应该为0:\n",
    "    global balance\n",
    "    balance = balance + n\n",
    "    balance = balance - n\n",
    "\n",
    "\n",
    "def run_thread(n):\n",
    "    for i in range(100000):\n",
    "        # 先要获取锁:\n",
    "        #lock.acquire()\n",
    "        try:\n",
    "            # 放心地改吧:\n",
    "            change_it(n)\n",
    "        finally:\n",
    "            # 改完了一定要释放锁:\n",
    "            #lock.release()\n",
    "            pass\n",
    "            \n",
    "t1 = threading.Thread(target=run_thread, args=(500,))\n",
    "t2 = threading.Thread(target=run_thread, args=(800,))\n",
    "t1.start()\n",
    "t2.start()\n",
    "t1.join()\n",
    "t2.join()\n",
    "print(balance)\n"
   ]
  },
  {
   "cell_type": "markdown",
   "metadata": {},
   "source": [
    "#### ThreadLocal"
   ]
  },
  {
   "cell_type": "raw",
   "metadata": {},
   "source": [
    "在多线程环境下，每个线程都建立自己的数据。\n",
    "一个线程使用自己的局部变量比使用全局变量好，\n",
    "因为局部变量只有线程自己能看见，不会影响其他线程，而全局变量的修改必须加锁"
   ]
  },
  {
   "cell_type": "code",
   "execution_count": null,
   "metadata": {},
   "outputs": [],
   "source": [
    "import threading\n",
    "\n",
    "# 创建全局ThreadLocal对象:\n",
    "g_stuInfo = threading.local()\n",
    "\n",
    "def process_student():\n",
    "    # 获取当前线程关联的student:\n",
    "    stuName = g_stuInfo.stuName\n",
    "    stuAge = g_stuInfo.sutAge\n",
    "    print('Hello, %s %s (in %s)' % (stuName, stuAge, threading.current_thread().name))\n",
    "\n",
    "def process_thread(stuName, stuAge):\n",
    "    # 绑定ThreadLocal的student:\n",
    "    g_stuInfo.stuName = stuName\n",
    "    g_stuInfo.sutAge = stuAge\n",
    "    process_student()\n",
    "\n",
    "t1 = threading.Thread(target= process_thread, args=('Alice', 25), name='Thread-A')\n",
    "t2 = threading.Thread(target= process_thread, args=('Bob', 18), name='Thread-B')\n",
    "t1.start()\n",
    "t2.start()\n",
    "t1.join()\n",
    "t2.join()\n",
    "\n",
    "\n",
    "#注： 一个ThreadLocal变量虽然是全局变量，\n",
    "#但每个线程都只能读写自己线程的独立副本，互不干扰。\n",
    "#ThreadLocal解决了参数在一个线程中各个函数之间互相传递的问"
   ]
  },
  {
   "cell_type": "markdown",
   "metadata": {},
   "source": [
    "### 协程(Python单进程的异步编程模型)"
   ]
  },
  {
   "cell_type": "raw",
   "metadata": {},
   "source": [
    "协程(coroutine)－－函数级的CPU调度。\n",
    "\n",
    "\n",
    "与多线程比，协程有何优势？\n",
    "最大的优势就是协程极高的执行效率。因为子程序切换不是线程切换，而是由程序自身控制，因此，没有线程切换的开销，和多线程比，线程数量越多，协程的性能优势就越明显。\n",
    "第二大优势就是不需要多线程的锁机制，因为只有一个线程，也不存在同时写变量冲突，在协程中控制共享资源不加锁，只需要判断状态就好了，所以执行效率比多线程高很多。\n",
    "因为协程是一个线程执行，那怎么利用多核CPU呢？最简单的方法是多进程+协程，既充分利用多核，又充分发挥协程的高效率，可获得极高的性能\n"
   ]
  },
  {
   "cell_type": "raw",
   "metadata": {},
   "source": [
    "Python对协程的支持是通过generator实现的。\n",
    "在generator中，我们不但可以通过for循环来迭代，还可以不断调用next()函数获取由yield语句返回的下一个值。\n",
    "但是Python的yield不但可以返回一个值，它还可以接收调用者发出的参数\n"
   ]
  },
  {
   "cell_type": "code",
   "execution_count": 33,
   "metadata": {},
   "outputs": [
    {
     "name": "stdout",
     "output_type": "stream",
     "text": [
      "[PRODUCER] Producing 1...\n",
      "[CONSUMER] Consuming 1...\n",
      "[PRODUCER] Consumer return: 200 OK\n",
      "[PRODUCER] Producing 2...\n",
      "[CONSUMER] Consuming 2...\n",
      "[PRODUCER] Consumer return: 200 OK\n",
      "[PRODUCER] Producing 3...\n",
      "[CONSUMER] Consuming 3...\n",
      "[PRODUCER] Consumer return: 200 OK\n",
      "[PRODUCER] Producing 4...\n",
      "[CONSUMER] Consuming 4...\n",
      "[PRODUCER] Consumer return: 200 OK\n",
      "[PRODUCER] Producing 5...\n",
      "[CONSUMER] Consuming 5...\n",
      "[PRODUCER] Consumer return: 200 OK\n"
     ]
    }
   ],
   "source": [
    "#基于协程的生产者－消费者模式\n",
    "def consumer(): #消费者\n",
    "    r = ''\n",
    "    while True:\n",
    "        n = yield r\n",
    "        if not n:\n",
    "            return\n",
    "        print('[CONSUMER] Consuming %s...' % n)\n",
    "        r = '200 OK'\n",
    "\n",
    "def produce(c):  #生产者\n",
    "    c.send(None)\n",
    "    n = 0\n",
    "    while n < 5:\n",
    "        n = n + 1\n",
    "        print('[PRODUCER] Producing %s...' % n)\n",
    "        r = c.send(n)\n",
    "        print('[PRODUCER] Consumer return: %s' % r)\n",
    "    c.close()\n",
    "\n",
    "c = consumer()\n",
    "produce(c)\n",
    "\n",
    "\n",
    "#注意到consumer函数是一个generator，把一个consumer传入produce后：\n",
    "#1. 首先调用c.send(None)启动生成器；\n",
    "#2. 然后，一旦生产了东西，通过c.send(n)切换到consumer执行；\n",
    "#3. consumer通过yield拿到消息，处理，又通过yield把结果传回；\n",
    "#4. produce拿到consumer处理的结果，继续生产下一条消息；\n",
    "#5. produce决定不生产了，通过c.close()关闭consumer，整个过程结束。\n",
    "#整个流程无锁，由一个线程执行，produce和consumer协作完成任务，所以称为“协程”，而非线程的抢占式多任务。\n",
    "#最后套用Donald Knuth的一句话总结协程的特点：\n",
    "#“子程序就是协程的一种特例。”\n"
   ]
  },
  {
   "cell_type": "markdown",
   "metadata": {},
   "source": [
    "### 异步IO"
   ]
  },
  {
   "cell_type": "raw",
   "metadata": {},
   "source": [
    "asyncio是Python 3.4版本引入的标准库，直接内置了对异步IO的支持。\n",
    "asyncio的编程模型就是一个消息循环。我们从asyncio模块中直接获取一个EventLoop的引用，然后把需要执行的协程扔到EventLoop中执行，就实现了异步IO。\n"
   ]
  },
  {
   "cell_type": "code",
   "execution_count": null,
   "metadata": {},
   "outputs": [],
   "source": [
    "@asyncio.coroutine + yield from"
   ]
  },
  {
   "cell_type": "code",
   "execution_count": null,
   "metadata": {},
   "outputs": [],
   "source": [
    "async/await"
   ]
  },
  {
   "cell_type": "markdown",
   "metadata": {},
   "source": [
    "### 分布式进程"
   ]
  },
  {
   "cell_type": "markdown",
   "metadata": {},
   "source": [
    "## re模块"
   ]
  },
  {
   "cell_type": "raw",
   "metadata": {},
   "source": [
    "建议使用'r'前缀,可以不用考虑转义。\n",
    "\n",
    "reStr = 'ABC\\\\-001' # Python的字符串 #对应的字符串'ABC\\-001'\n",
    "reStr = r'ABC\\-001'\n"
   ]
  },
  {
   "cell_type": "code",
   "execution_count": null,
   "metadata": {},
   "outputs": [],
   "source": [
    "import re\n",
    "if re.match(r'^\\d{3}\\-\\d{3,8}$', '010-12345'):\n",
    "    print(\"match\")\n",
    "else:\n",
    "    print(\"not match\")\n"
   ]
  },
  {
   "cell_type": "markdown",
   "metadata": {},
   "source": [
    "#### 切分字符串"
   ]
  },
  {
   "cell_type": "code",
   "execution_count": null,
   "metadata": {},
   "outputs": [],
   "source": [
    "print('a b   c'.split(' ')) #无法识别连续的空格\n",
    "\n",
    "print(re.split(r'\\s+', 'a b   c'))"
   ]
  },
  {
   "cell_type": "markdown",
   "metadata": {},
   "source": [
    "#### 分组"
   ]
  },
  {
   "cell_type": "code",
   "execution_count": null,
   "metadata": {},
   "outputs": [],
   "source": [
    "m = re.match(r'^(\\d{3})-(\\d{3,8})$', '010-12345')\n",
    "print(m.groups())\n",
    "print(m.group(0))\n",
    "print(m.group(1))\n",
    "print(m.group(2))"
   ]
  },
  {
   "cell_type": "markdown",
   "metadata": {},
   "source": [
    "#### 预编译正则"
   ]
  },
  {
   "cell_type": "code",
   "execution_count": null,
   "metadata": {},
   "outputs": [],
   "source": [
    "import re\n",
    "# 编译:\n",
    "re_telephone = re.compile(r'^(\\d{3})-(\\d{3,8})$')\n",
    "# 使用：\n",
    "re_telephone.match('010-12345').groups()\n"
   ]
  },
  {
   "cell_type": "markdown",
   "metadata": {},
   "source": [
    "## 常用内建模块"
   ]
  },
  {
   "cell_type": "markdown",
   "metadata": {},
   "source": [
    "### datetime"
   ]
  },
  {
   "cell_type": "raw",
   "metadata": {},
   "source": [
    "datetime是Python处理日期和时间的标准库。\n",
    "1970年1月1日 00:00:00 UTC+00:00时区的时刻称为epoch time，记为0（1970年以前的时间timestamp为负数），当前时间就是相对于epoch time的秒数，称为timestamp。\n",
    "你可以认为：\n",
    "timestamp = =0 == 1970-1-1 00:00:00 UTC+0:00\n",
    "对应的北京时间是：\n",
    "timestamp = 0 = 1970-1-1 08:00:00 UTC+8:00\n"
   ]
  },
  {
   "cell_type": "markdown",
   "metadata": {},
   "source": [
    "#### 获取日期时间"
   ]
  },
  {
   "cell_type": "code",
   "execution_count": null,
   "metadata": {},
   "outputs": [],
   "source": [
    "from datetime import datetime #datetime模块包含一个datetime类\n",
    "\n",
    "#获取当前日期和时间\n",
    "now = datetime.now()\n",
    "print(now)\n",
    "print(type(now))\n",
    "\n",
    "#获取指定日期和时间\n",
    "dt = datetime(2015, 4, 19, 12, 20) #2015-04-19 12:20:00\n",
    "print(dt)\n"
   ]
  },
  {
   "cell_type": "markdown",
   "metadata": {},
   "source": [
    "#### datetime <--> timestamp"
   ]
  },
  {
   "cell_type": "code",
   "execution_count": null,
   "metadata": {},
   "outputs": [],
   "source": [
    "from datetime import datetime\n",
    "dt = datetime(2015, 4, 19, 12, 20)\n",
    "#datetime转换为timestamp\n",
    "tsp = dt.timestamp() \n",
    "print(tsp)\n",
    "\n",
    "#timestamp转换为datetime\n",
    "#timestamp是一个浮点数，它没有时区的概念，\n",
    "#datetime是有时区的。\n",
    "#fromtimestamp()是在timestamp和本地时间做转换。\n",
    "dt = datetime.fromtimestamp(tsp)\n",
    "print(dt)\n",
    "\n",
    "#ufcfromtimestamp()是在timestamp和utc时间做转换\n",
    "dt = datetime.utcfromtimestamp(tsp)\n",
    "print(dt)"
   ]
  },
  {
   "cell_type": "markdown",
   "metadata": {},
   "source": [
    "#### datetime <--> str"
   ]
  },
  {
   "cell_type": "code",
   "execution_count": null,
   "metadata": {},
   "outputs": [],
   "source": [
    "from datetime import datetime\n",
    "#str转换为datetime\n",
    "cday = datetime.strptime('2015-6-1 18:19:59', '%Y-%m-%d %H:%M:%S')\n",
    "print(cday)\n",
    "\n",
    "#datetime转换为str\n",
    "now = datetime.now()\n",
    "print(now.strftime('%a, %b %d %H:%M'))\n"
   ]
  },
  {
   "cell_type": "markdown",
   "metadata": {},
   "source": [
    "#### datetime加减"
   ]
  },
  {
   "cell_type": "code",
   "execution_count": null,
   "metadata": {},
   "outputs": [],
   "source": [
    "#datetime加减\n",
    "from datetime import datetime,timedelta\n",
    "now = datetime.now()\n",
    "print(now + timedelta(hours=10))\n",
    "print(now - timedelta(days=1))\n",
    "print(now + timedelta(days=2, hours=12))"
   ]
  },
  {
   "cell_type": "markdown",
   "metadata": {},
   "source": [
    "#### 本地时间转换为UTC时间"
   ]
  },
  {
   "cell_type": "code",
   "execution_count": null,
   "metadata": {},
   "outputs": [],
   "source": [
    "#datetime类型有一个时区属性tzinfo，\n",
    "#但是默认为None，所以无法区分这个datetime到底是哪个时区，\n",
    "#除非强行给datetime设置一个时区\n",
    "from datetime import datetime, timedelta, timezone\n",
    "tz_utc_8 = timezone(timedelta(hours=8)) # 创建时区UTC+8:00\n",
    "print(tz_utc_8)\n",
    "\n",
    "now = datetime.now()\n",
    "print(now)\n",
    "\n",
    "dt = now.replace(tzinfo=tz_utc_8) # 强制设置为UTC+8:00\n",
    "print(dt)\n"
   ]
  },
  {
   "cell_type": "markdown",
   "metadata": {},
   "source": [
    "#### 时区转换"
   ]
  },
  {
   "cell_type": "code",
   "execution_count": null,
   "metadata": {},
   "outputs": [],
   "source": [
    "时区转换的关键在于，拿到一个明确时区的datetime，然后强制设置时区，作为基准时间。\n",
    "利用带时区的datetime，通过astimezone()方法，可以转换到任意时区。\n",
    "注：不是必须从UTC+0:00时区转换到其他时区，任何带时区的datetime都可以正确转换，例如上述bj_dt到tokyo_dt的转换"
   ]
  },
  {
   "cell_type": "code",
   "execution_count": null,
   "metadata": {},
   "outputs": [],
   "source": [
    "#可以先通过utcnow()拿到当前的UTC时间，再转换为任意时区的时间\n",
    "\n",
    "utc_dt = datetime.utcnow().replace(tzinfo=timezone.utc)\n",
    "print(utc_dt)\n",
    "\n",
    "# astimezone()将转换时区为北京时间:\n",
    "bj_dt = utc_dt.astimezone(timezone(timedelta(hours=8)))\n",
    "print(bj_dt)\n",
    "\n",
    "# astimezone()将转换时区为东京时间:\n",
    "tokyo_dt = utc_dt.astimezone(timezone(timedelta(hours=9)))\n",
    "print(tokyo_dt)\n",
    "\n",
    "# astimezone()将bj_dt转换时区为东京时间:\n",
    "tokyo_dt2 = bj_dt.astimezone(timezone(timedelta(hours=9)))\n",
    "print(tokyo_dt2)\n"
   ]
  },
  {
   "cell_type": "markdown",
   "metadata": {},
   "source": [
    "### collections"
   ]
  },
  {
   "cell_type": "raw",
   "metadata": {},
   "source": [
    "collections是Python内建的一个集合模块，提供了许多有用的集合类"
   ]
  },
  {
   "cell_type": "markdown",
   "metadata": {},
   "source": [
    "#### namedtuple:\n",
    "namedtuple是一个函数，它用来创建一个自定义的命名tuple对象，\n",
    "并且规定了tuple元素的个数，可以用属性名而不是索引来引用tuple的某个元素"
   ]
  },
  {
   "cell_type": "code",
   "execution_count": null,
   "metadata": {},
   "outputs": [],
   "source": [
    "from collections import namedtuple\n",
    "Point = namedtuple('Point', ['x', 'y'])\n",
    "#Point = namedtuple('Point', ('X', 'Y')) #与上面的语句效果是一样的\n",
    "point = Point(1, 2)\n",
    "print(point.x)\n",
    "print(point.y)\n",
    "\n",
    "print(type(Point))\n",
    "print(type(point))\n",
    "print(isinstance(point, tuple))\n"
   ]
  },
  {
   "cell_type": "markdown",
   "metadata": {},
   "source": [
    "#### deque:\n",
    "deque是为了高效实现插入和删除操作的双向列表(链式结构)"
   ]
  },
  {
   "cell_type": "code",
   "execution_count": null,
   "metadata": {},
   "outputs": [],
   "source": [
    "from collections import deque\n",
    "q = deque(['a', 'b', 'c'])\n",
    "q.append('x')\n",
    "q.appendleft('y')\n",
    "print(q)\n"
   ]
  },
  {
   "cell_type": "markdown",
   "metadata": {},
   "source": [
    "#### defaultdict:\n",
    "使用dict时，如果引用的Key不存在，就会抛出KeyError。\n",
    "如果希望key不存在时，返回一个默认值，就可以用defaultdict"
   ]
  },
  {
   "cell_type": "code",
   "execution_count": null,
   "metadata": {},
   "outputs": [],
   "source": [
    "from collections import defaultdict\n",
    "dd = defaultdict(lambda: 'N/A')\n",
    "dd['key1'] = 'abc'\n",
    "print(dd['key1']) # key1存在\n",
    "print(dd['key2']) # key2不存在，返回默认值\n",
    "\n",
    "#当要获取的key不存在时，会调用构造函数中传入的参数\n",
    "#除了在Key不存在时返回默认值，defaultdict的其他行为跟dict是完全一样的"
   ]
  },
  {
   "cell_type": "markdown",
   "metadata": {},
   "source": [
    "#### OrderedDict:\n",
    "使用dict时，Key是无序的。在对dict做迭代时，我们无法确定Key的顺序。\n",
    "如果要保持Key的顺序，可以用OrderedDict.\n"
   ]
  },
  {
   "cell_type": "code",
   "execution_count": null,
   "metadata": {},
   "outputs": [],
   "source": [
    "from collections import OrderedDict\n",
    "d = dict([('a', 1), ('b', 2), ('c', 3)])\n",
    "print(d) # dict的Key是无序的\n",
    "\n",
    "od = OrderedDict([('a', 1), ('b', 2), ('c', 3)])\n",
    "print(od)  # OrderedDict的Key是有序的\n",
    "\n",
    "#注意，OrderedDict的Key会按照插入的顺序排列，不是Key本身排序\n"
   ]
  },
  {
   "cell_type": "markdown",
   "metadata": {},
   "source": [
    "#### Counter:\n",
    "Counter是一个简单的计数器，例如，统计字符出现的个数"
   ]
  },
  {
   "cell_type": "code",
   "execution_count": null,
   "metadata": {},
   "outputs": [],
   "source": [
    "from collections import Counter\n",
    "c = Counter()\n",
    "for ch in 'programming':\n",
    "    c[ch] = c[ch] + 1\n",
    "print(c)"
   ]
  },
  {
   "cell_type": "markdown",
   "metadata": {},
   "source": [
    "### base64"
   ]
  },
  {
   "cell_type": "raw",
   "metadata": {},
   "source": [
    "Base64是一种用64个字符来表示任意二进制数据的方法.\n",
    "将三个字节24位的数据拆分成四个６位的索引(索引范围为0-63),根据这个索引将6位的数据转换成对就的字符; 当要编码的数据不是3(字节)的整数时,Base64在缺的位补足后，再在编码的末尾加上1个或2个=号，表示补了多少字节，解码的时候，会自动去掉.\n",
    "\n",
    "\n",
    "8 * 3 --> xxxxxx * xxxxxx * xxxxxx * xxxxxx\n",
    "8 * 2 --> xxxxxx * xxxxxx * xxxx00 * =  //可以根据最后的1个'='推出最后缺了1个字节，补了2位\n",
    "8 * 1 --> xxxxxx * xx0000 * =      * =　//可以根据最后的2个'='推出最后缺了2个字节，补了4位\n",
    "['A', 'B', 'C', ... 'a', 'b', 'c', ... '0', '1', ... '+', '/']\n"
   ]
  },
  {
   "cell_type": "code",
   "execution_count": null,
   "metadata": {},
   "outputs": [],
   "source": [
    "import base64\n",
    "testData = b'binary\\x00string'\n",
    "print(len(testData)%3)\n",
    "encode64Str = base64.b64encode(testData) \n",
    "print(encode64Str)\n",
    "\n",
    "decodeData = base64.b64decode(b'YmluYXJ5AHN0cmluZw==')\n",
    "print(decodeData)"
   ]
  },
  {
   "cell_type": "markdown",
   "metadata": {},
   "source": [
    "### struct"
   ]
  },
  {
   "cell_type": "raw",
   "metadata": {},
   "source": [
    "Python提供了一个struct模块来解决bytes和其他二进制数据类型的转换"
   ]
  },
  {
   "cell_type": "code",
   "execution_count": null,
   "metadata": {},
   "outputs": [],
   "source": [
    "import struct\n",
    "\n",
    "#struct的pack函数把任意数据类型变成bytes: 将数据变成字节流\n",
    "#pack的第一个参数是处理指令，'>I'的意思是：>表示字节顺序是big-endian, I表示4字节无符号整数。\n",
    "retbytes = struct.pack('>I', 10240099)\n",
    "print(retbytes)\n",
    "\n",
    "\n",
    "#unpack把bytes变成相应的数据类型： 将字节流变成数据\n",
    "#>IH表示，后面的bytes依次变为I：4字节无符号整数 和　H：2字节无符号整数\n",
    "retStruct = struct.unpack('>IH', b'\\xf0\\xf0\\xf0\\xf0\\x80\\x80')\n",
    "print(retStruct)\n",
    "\n",
    "#参考: https://docs.python.org/3/library/struct.html#format-characters"
   ]
  },
  {
   "cell_type": "markdown",
   "metadata": {},
   "source": [
    "### itertools\n",
    "Python的内建模块itertools提供了非常有用的用于操作迭代对象的函数"
   ]
  },
  {
   "cell_type": "raw",
   "metadata": {},
   "source": [
    "itertools工具中的count,cycle,repeat可以产生无限序列;\n",
    "通常我们会通过takewhile()等函数根据条件判断来截取出一个有限的序列"
   ]
  },
  {
   "cell_type": "code",
   "execution_count": 4,
   "metadata": {},
   "outputs": [
    {
     "data": {
      "text/plain": [
       "[1, 2, 3, 4, 5, 6, 7, 8, 9, 10]"
      ]
     },
     "execution_count": 4,
     "metadata": {},
     "output_type": "execute_result"
    }
   ],
   "source": [
    "#count()会创建一个无限的迭代器\n",
    "import itertools\n",
    "natuals = itertools.count(1) #natuals从一个从１开始的无限计数器\n",
    "#for n in natuals:\n",
    "#    print(n)\n",
    "\n",
    "#通过takewhile()等函数根据条件判断来截取出一个有限的序列\n",
    "ns = itertools.takewhile(lambda x: x <= 10, natuals)　\n",
    "list(ns)\n"
   ]
  },
  {
   "cell_type": "code",
   "execution_count": 5,
   "metadata": {},
   "outputs": [
    {
     "ename": "SyntaxError",
     "evalue": "invalid character in identifier (<ipython-input-5-307d508e1663>, line 7)",
     "output_type": "error",
     "traceback": [
      "\u001b[1;36m  File \u001b[1;32m\"<ipython-input-5-307d508e1663>\"\u001b[1;36m, line \u001b[1;32m7\u001b[0m\n\u001b[1;33m    cs = itertools.takewhile(lambda x: x <= 10, cyc)\u001b[0m\n\u001b[1;37m                                                    ^\u001b[0m\n\u001b[1;31mSyntaxError\u001b[0m\u001b[1;31m:\u001b[0m invalid character in identifier\n"
     ]
    }
   ],
   "source": [
    "#cycle()会把传入的一个序列无限重复下去：\n",
    "import itertools\n",
    "cyc = itertools.cycle('ABC') # 注意字符串也是序列的一种\n",
    "#for c in cyc:\n",
    "#    print(c)\n"
   ]
  },
  {
   "cell_type": "code",
   "execution_count": null,
   "metadata": {},
   "outputs": [],
   "source": [
    "#repeat()负责把一个元素无限重复下去，不过如果提供第二个参数就可以限定重复次数\n"
   ]
  },
  {
   "cell_type": "code",
   "execution_count": 2,
   "metadata": {},
   "outputs": [
    {
     "name": "stdout",
     "output_type": "stream",
     "text": [
      "A\n",
      "A\n",
      "A\n"
     ]
    }
   ],
   "source": [
    "import itertools\n",
    "ns = itertools.repeat('A', 3)\n",
    "for n in ns:\n",
    "    print(n)\n"
   ]
  },
  {
   "cell_type": "code",
   "execution_count": 6,
   "metadata": {},
   "outputs": [
    {
     "name": "stdout",
     "output_type": "stream",
     "text": [
      "A\n",
      "B\n",
      "C\n",
      "X\n",
      "Y\n",
      "Z\n"
     ]
    }
   ],
   "source": [
    "#chain()可以把一组迭代对象串联起来，形成一个更大的迭代器：\n",
    "for c in itertools.chain('ABC', 'XYZ'):\n",
    "    print(c)\n"
   ]
  },
  {
   "cell_type": "code",
   "execution_count": 8,
   "metadata": {},
   "outputs": [
    {
     "name": "stdout",
     "output_type": "stream",
     "text": [
      "A ['A', 'A', 'A']\n",
      "B ['B', 'B', 'B']\n",
      "C ['C', 'C']\n",
      "A ['A', 'A', 'A']\n",
      "\n",
      "\n",
      "\n",
      "\n",
      "A ['A', 'a', 'a']\n",
      "B ['B', 'B', 'b']\n",
      "C ['c', 'C']\n",
      "A ['A', 'A', 'a']\n"
     ]
    }
   ],
   "source": [
    "#groupby()把迭代器中相邻的重复元素挑出来放在一起：\n",
    "for key, group in itertools.groupby('AAABBBCCAAA'):\n",
    "    print(key, list(group))\n",
    "\n",
    "print(\"\\n\\n\\n\")\n",
    "    \n",
    "#指定groupby()用于挑选元素的函数\n",
    "for key, group in itertools.groupby('AaaBBbcCAAa', lambda c: c.upper()):\n",
    "    print(key, list(group))"
   ]
  },
  {
   "cell_type": "markdown",
   "metadata": {},
   "source": [
    "### contextlib & with ... as var"
   ]
  },
  {
   "cell_type": "raw",
   "metadata": {},
   "source": [
    "在Python中，读写文件这样的资源要特别注意，必须在使用完毕后正确关闭它们。\n",
    "正确关闭文件资源的一个方法是使用try...finally：\n",
    "try:\n",
    "    f = open('/path/to/file', 'r')\n",
    "    f.read()\n",
    "finally:\n",
    "    if f:\n",
    "        f.close()\n",
    "写try...finally非常繁琐。Python的with语句允许我们非常方便地使用资源，而不必担心资源没有关闭，\n",
    "所以上面的代码可以简化为：\n",
    "with open('/path/to/file', 'r') as f:\n",
    "    f.read()\n",
    "并不是只有open()函数返回的fp对象才能使用with语句。\n",
    "实际上，任何对象，只要正确实现了上下文管理，就可以用于with语句。\n",
    "实现上下文管理是通过__enter__和__exit__这两个方法实现的"
   ]
  },
  {
   "cell_type": "code",
   "execution_count": 9,
   "metadata": {},
   "outputs": [
    {
     "name": "stdout",
     "output_type": "stream",
     "text": [
      "Begin\n",
      "Query info about Bob...\n",
      "End\n"
     ]
    }
   ],
   "source": [
    "#任何对象，只要正确实现了上下文管理，就可以用于with语句。\n",
    "#实现上下文管理是通过__enter__和__exit__这两个方法实现的\n",
    "\n",
    "class Query(object):\n",
    "    def __init__(self, name):\n",
    "        self.name = name\n",
    "\n",
    "    def __enter__(self):\n",
    "        print('Begin')\n",
    "        return self\n",
    "\n",
    "    def __exit__(self, exc_type, exc_value, traceback):\n",
    "        if exc_type:\n",
    "            print('Error')\n",
    "        else:\n",
    "            print('End')\n",
    "\n",
    "    def query(self):\n",
    "        print('Query info about %s...' % self.name)\n",
    "\n",
    "with Query('Bob') as q:\n",
    "    q.query()\n"
   ]
  },
  {
   "cell_type": "markdown",
   "metadata": {},
   "source": [
    "#### @contextmanager"
   ]
  },
  {
   "cell_type": "raw",
   "metadata": {},
   "source": [
    "编写__enter__和__exit__仍然很繁琐，因此Python的标准库contextlib提供了更简单的写法.\n",
    "@contextmanager这个decorator接受一个generator，\n",
    "用yield语句通过with ... as var把变量输出到var，然后，with语句就可以正常地工作了"
   ]
  },
  {
   "cell_type": "code",
   "execution_count": 10,
   "metadata": {},
   "outputs": [
    {
     "name": "stdout",
     "output_type": "stream",
     "text": [
      "Begin\n",
      "Query info about Bob...\n",
      "End\n"
     ]
    }
   ],
   "source": [
    "from contextlib import contextmanager\n",
    "class Query(object):\n",
    "    def __init__(self, name):\n",
    "        self.name = name\n",
    "\n",
    "    def query(self):\n",
    "        print('Query info about %s...' % self.name)\n",
    "\n",
    "@contextmanager\n",
    "def create_query(name):\n",
    "    print('Begin')\n",
    "    query = Query(name)\n",
    "    yield query     #1\n",
    "    print('End')\n",
    "    \n",
    "with create_query('Bob') as q: #执行１后,q接收到一个Query对象\n",
    "    q.query()\n"
   ]
  },
  {
   "cell_type": "code",
   "execution_count": 12,
   "metadata": {},
   "outputs": [
    {
     "name": "stdout",
     "output_type": "stream",
     "text": [
      "<h1>\n",
      "hello\n",
      "world\n",
      "</h1>\n"
     ]
    }
   ],
   "source": [
    "#很多时候，我们希望在某段代码执行前后自动执行特定代码，也可以用@contextmanager实现。例如：\n",
    "@contextmanager\n",
    "def tag(name):\n",
    "    print(\"<%s>\" % name)\n",
    "    yield\n",
    "    print(\"</%s>\" % name)\n",
    "\n",
    "with tag(\"h1\"):\n",
    "    print(\"hello\")\n",
    "    print(\"world\")\n",
    "    "
   ]
  },
  {
   "cell_type": "markdown",
   "metadata": {},
   "source": [
    "#### @closing"
   ]
  },
  {
   "cell_type": "raw",
   "metadata": {},
   "source": [
    "如果一个对象没有实现上下文，我们就不能把它用于with语句。\n",
    "这个时候，可以用closing()来把该对象变为上下文对象。\n",
    "closing也是一个经过@contextmanager装饰的generator，这个generator编写起来其实非常简单：\n",
    "@contextmanager\n",
    "def closing(thing):\n",
    "    try:\n",
    "        yield thing\n",
    "    finally:\n",
    "        thing.close()\n",
    "它的作用就是把任意对象变为上下文对象，并支持with语句。\n",
    "@contextlib还有一些其他decorator，便于我们编写更简洁的代码\n"
   ]
  },
  {
   "cell_type": "code",
   "execution_count": 13,
   "metadata": {},
   "outputs": [
    {
     "name": "stdout",
     "output_type": "stream",
     "text": [
      "b'<!doctype html>\\n'\n",
      "b'<!--[if lt IE 7]>   <html class=\"no-js ie6 lt-ie7 lt-ie8 lt-ie9\">   <![endif]-->\\n'\n",
      "b'<!--[if IE 7]>      <html class=\"no-js ie7 lt-ie8 lt-ie9\">          <![endif]-->\\n'\n",
      "b'<!--[if IE 8]>      <html class=\"no-js ie8 lt-ie9\">                 <![endif]-->\\n'\n",
      "b'<!--[if gt IE 8]><!--><html class=\"no-js\" lang=\"en\" dir=\"ltr\">  <!--<![endif]-->\\n'\n",
      "b'\\n'\n",
      "b'<head>\\n'\n",
      "b'    <meta charset=\"utf-8\">\\n'\n",
      "b'    <meta http-equiv=\"X-UA-Compatible\" content=\"IE=edge\">\\n'\n",
      "b'\\n'\n",
      "b'    <link rel=\"prefetch\" href=\"//ajax.googleapis.com/ajax/libs/jquery/1.8.2/jquery.min.js\">\\n'\n",
      "b'\\n'\n",
      "b'    <meta name=\"application-name\" content=\"Python.org\">\\n'\n",
      "b'    <meta name=\"msapplication-tooltip\" content=\"The official home of the Python Programming Language\">\\n'\n",
      "b'    <meta name=\"apple-mobile-web-app-title\" content=\"Python.org\">\\n'\n",
      "b'    <meta name=\"apple-mobile-web-app-capable\" content=\"yes\">\\n'\n",
      "b'    <meta name=\"apple-mobile-web-app-status-bar-style\" content=\"black\">\\n'\n",
      "b'\\n'\n",
      "b'    <meta name=\"viewport\" content=\"width=device-width, initial-scale=1.0\">\\n'\n",
      "b'    <meta name=\"HandheldFriendly\" content=\"True\">\\n'\n",
      "b'    <meta name=\"format-detection\" content=\"telephone=no\">\\n'\n",
      "b'    <meta http-equiv=\"cleartype\" content=\"on\">\\n'\n",
      "b'    <meta http-equiv=\"imagetoolbar\" content=\"false\">\\n'\n",
      "b'\\n'\n",
      "b'    <script src=\"/static/js/libs/modernizr.js\"></script>\\n'\n",
      "b'\\n'\n",
      "b'    <link href=\"/static/stylesheets/style.67f4b30f7483.css\" rel=\"stylesheet\" type=\"text/css\" title=\"default\" />\\n'\n",
      "b'    <link href=\"/static/stylesheets/mq.3ae8e02ece5b.css\" rel=\"stylesheet\" type=\"text/css\" media=\"not print, braille, embossed, speech, tty\" />\\n'\n",
      "b'    \\n'\n",
      "b'\\n'\n",
      "b'    <!--[if (lte IE 8)&(!IEMobile)]>\\n'\n",
      "b'    <link href=\"/static/stylesheets/no-mq.fcf414dc68a3.css\" rel=\"stylesheet\" type=\"text/css\" media=\"screen\" />\\n'\n",
      "b'    \\n'\n",
      "b'    \\n'\n",
      "b'    <![endif]-->\\n'\n",
      "b'\\n'\n",
      "b'    \\n'\n",
      "b'    <link rel=\"icon\" type=\"image/x-icon\" href=\"/static/favicon.ico\">\\n'\n",
      "b'    <link rel=\"apple-touch-icon-precomposed\" sizes=\"144x144\" href=\"/static/apple-touch-icon-144x144-precomposed.png\">\\n'\n",
      "b'    <link rel=\"apple-touch-icon-precomposed\" sizes=\"114x114\" href=\"/static/apple-touch-icon-114x114-precomposed.png\">\\n'\n",
      "b'    <link rel=\"apple-touch-icon-precomposed\" sizes=\"72x72\" href=\"/static/apple-touch-icon-72x72-precomposed.png\">\\n'\n",
      "b'    <link rel=\"apple-touch-icon-precomposed\" href=\"/static/apple-touch-icon-precomposed.png\">\\n'\n",
      "b'    <link rel=\"apple-touch-icon\" href=\"/static/apple-touch-icon-precomposed.png\">\\n'\n",
      "b'\\n'\n",
      "b'    \\n'\n",
      "b'    <meta name=\"msapplication-TileImage\" content=\"/static/metro-icon-144x144-precomposed.png\"><!-- white shape -->\\n'\n",
      "b'    <meta name=\"msapplication-TileColor\" content=\"#3673a5\"><!-- python blue -->\\n'\n",
      "b'    <meta name=\"msapplication-navbutton-color\" content=\"#3673a5\">\\n'\n",
      "b'\\n'\n",
      "b'    <title>Welcome to Python.org</title>\\n'\n",
      "b'\\n'\n",
      "b'    <meta name=\"description\" content=\"The official home of the Python Programming Language\">\\n'\n",
      "b'    <meta name=\"keywords\" content=\"Python programming language object oriented web free open source software license documentation download community\">\\n'\n",
      "b'\\n'\n",
      "b'    \\n'\n",
      "b'    <meta property=\"og:type\" content=\"website\">\\n'\n",
      "b'    <meta property=\"og:site_name\" content=\"Python.org\">\\n'\n",
      "b'    <meta property=\"og:title\" content=\"Welcome to Python.org\">\\n'\n",
      "b'    <meta property=\"og:description\" content=\"The official home of the Python Programming Language\">\\n'\n",
      "b'    \\n'\n",
      "b'    <meta property=\"og:image\" content=\"https://www.python.org/static/opengraph-icon-200x200.png\">\\n'\n",
      "b'    <meta property=\"og:image:secure_url\" content=\"https://www.python.org/static/opengraph-icon-200x200.png\">\\n'\n",
      "b'    \\n'\n",
      "b'    <meta property=\"og:url\" content=\"https://www.python.org/\">\\n'\n",
      "b'\\n'\n",
      "b'    <link rel=\"author\" href=\"/static/humans.txt\">\\n'\n",
      "b'\\n'\n",
      "b'    <link rel=\"alternate\" type=\"application/rss+xml\" title=\"Python Enhancement Proposals\"\\n'\n",
      "b'          href=\"https://www.python.org/dev/peps/peps.rss/\">\\n'\n",
      "b'    <link rel=\"alternate\" type=\"application/rss+xml\" title=\"Python Job Opportunities\"\\n'\n",
      "b'          href=\"https://www.python.org/jobs/feed/rss/\">\\n'\n",
      "b'    <link rel=\"alternate\" type=\"application/rss+xml\" title=\"Python Software Foundation News\"\\n'\n",
      "b'          href=\"https://feeds.feedburner.com/PythonSoftwareFoundationNews\">\\n'\n",
      "b'    <link rel=\"alternate\" type=\"application/rss+xml\" title=\"Python Insider\"\\n'\n",
      "b'          href=\"https://feeds.feedburner.com/PythonInsider\">\\n'\n",
      "b'\\n'\n",
      "b'    \\n'\n",
      "b'\\n'\n",
      "b'    \\n'\n",
      "b'    <script type=\"application/ld+json\">\\n'\n",
      "b'     {\\n'\n",
      "b'       \"@context\": \"https://schema.org\",\\n'\n",
      "b'       \"@type\": \"WebSite\",\\n'\n",
      "b'       \"url\": \"https://www.python.org/\",\\n'\n",
      "b'       \"potentialAction\": {\\n'\n",
      "b'         \"@type\": \"SearchAction\",\\n'\n",
      "b'         \"target\": \"https://www.python.org/search/?q={search_term_string}\",\\n'\n",
      "b'         \"query-input\": \"required name=search_term_string\"\\n'\n",
      "b'       }\\n'\n",
      "b'     }\\n'\n",
      "b'    </script>\\n'\n",
      "b'\\n'\n",
      "b'    \\n'\n",
      "b'    <script type=\"text/javascript\">\\n'\n",
      "b'    var _gaq = _gaq || [];\\n'\n",
      "b\"    _gaq.push(['_setAccount', 'UA-39055973-1']);\\n\"\n",
      "b\"    _gaq.push(['_trackPageview']);\\n\"\n",
      "b'\\n'\n",
      "b'    (function() {\\n'\n",
      "b\"        var ga = document.createElement('script'); ga.type = 'text/javascript'; ga.async = true;\\n\"\n",
      "b\"        ga.src = ('https:' == document.location.protocol ? 'https://ssl' : 'http://www') + '.google-analytics.com/ga.js';\\n\"\n",
      "b\"        var s = document.getElementsByTagName('script')[0]; s.parentNode.insertBefore(ga, s);\\n\"\n",
      "b'    })();\\n'\n",
      "b'    </script>\\n'\n",
      "b'    \\n'\n",
      "b'</head>\\n'\n",
      "b'\\n'\n",
      "b'<body class=\"python home\" id=\"homepage\">\\n'\n",
      "b'\\n'\n",
      "b'    <div id=\"touchnav-wrapper\">\\n'\n",
      "b'\\n'\n",
      "b'        <div id=\"nojs\" class=\"do-not-print\">\\n'\n",
      "b'            <p><strong>Notice:</strong> While Javascript is not essential for this website, your interaction with the content will be limited. Please turn Javascript on for the full experience. </p>\\n'\n",
      "b'        </div>\\n'\n",
      "b'\\n'\n",
      "b'        <!--[if lte IE 8]>\\n'\n",
      "b'        <div id=\"oldie-warning\" class=\"do-not-print\">\\n'\n",
      "b'            <p>\\n'\n",
      "b'                <strong>Notice:</strong> Your browser is <em>ancient</em>. Please\\n'\n",
      "b'                <a href=\"http://browsehappy.com/\">upgrade to a different browser</a> to experience a better web.\\n'\n",
      "b'            </p>\\n'\n",
      "b'        </div>\\n'\n",
      "b'        <![endif]-->\\n'\n",
      "b'\\n'\n",
      "b'        <!-- Sister Site Links -->\\n'\n",
      "b'        <div id=\"top\" class=\"top-bar do-not-print\">\\n'\n",
      "b'\\n'\n",
      "b'            <nav class=\"meta-navigation container\" role=\"navigation\">\\n'\n",
      "b'\\n'\n",
      "b'                \\n'\n",
      "b'                <div class=\"skip-link screen-reader-text\">\\n'\n",
      "b'                    <a href=\"#content\" title=\"Skip to content\">Skip to content</a>\\n'\n",
      "b'                </div>\\n'\n",
      "b'\\n'\n",
      "b'                \\n'\n",
      "b'                <a id=\"close-python-network\" class=\"jump-link\" href=\"#python-network\" aria-hidden=\"true\">\\n'\n",
      "b'                    <span aria-hidden=\"true\" class=\"icon-arrow-down\"><span>&#9660;</span></span> Close\\n'\n",
      "b'                </a>\\n'\n",
      "b'\\n'\n",
      "b'                \\n'\n",
      "b'\\n'\n",
      "b'<ul class=\"menu\" role=\"tree\">\\n'\n",
      "b'    \\n'\n",
      "b'    <li class=\"python-meta current_item selectedcurrent_branch selected\">\\n'\n",
      "b'        <a href=\"/\" title=\"The Python Programming Language\" class=\"current_item selectedcurrent_branch selected\">Python</a>\\n'\n",
      "b'    </li>\\n'\n",
      "b'    \\n'\n",
      "b'    <li class=\"psf-meta \">\\n'\n",
      "b'        <a href=\"/psf-landing/\" title=\"The Python Software Foundation\" >PSF</a>\\n'\n",
      "b'    </li>\\n'\n",
      "b'    \\n'\n",
      "b'    <li class=\"docs-meta \">\\n'\n",
      "b'        <a href=\"https://docs.python.org\" title=\"Python Documentation\" >Docs</a>\\n'\n",
      "b'    </li>\\n'\n",
      "b'    \\n'\n",
      "b'    <li class=\"pypi-meta \">\\n'\n",
      "b'        <a href=\"https://pypi.python.org/\" title=\"Python Package Index\" >PyPI</a>\\n'\n",
      "b'    </li>\\n'\n",
      "b'    \\n'\n",
      "b'    <li class=\"jobs-meta \">\\n'\n",
      "b'        <a href=\"/jobs/\" title=\"Python Job Board\" >Jobs</a>\\n'\n",
      "b'    </li>\\n'\n",
      "b'    \\n'\n",
      "b'    <li class=\"shop-meta \">\\n'\n",
      "b'        <a href=\"/community/\" title=\"Python Community\" >Community</a>\\n'\n",
      "b'    </li>\\n'\n",
      "b'    \\n'\n",
      "b'</ul>\\n'\n",
      "b'\\n'\n",
      "b'\\n'\n",
      "b'                <a id=\"python-network\" class=\"jump-link\" href=\"#top\" aria-hidden=\"true\">\\n'\n",
      "b'                    <span aria-hidden=\"true\" class=\"icon-arrow-up\"><span>&#9650;</span></span> The Python Network\\n'\n",
      "b'                </a>\\n'\n",
      "b'\\n'\n",
      "b'            </nav>\\n'\n",
      "b'\\n'\n",
      "b'        </div>\\n'\n",
      "b'\\n'\n",
      "b'        <!-- Header elements -->\\n'\n",
      "b'        <header class=\"main-header\" role=\"banner\">\\n'\n",
      "b'            <div class=\"container\">\\n'\n",
      "b'\\n'\n",
      "b'                <h1 class=\"site-headline\">\\n'\n",
      "b'                    <a href=\"/\"><img class=\"python-logo\" src=\"/static/img/python-logo.png\" alt=\"python&trade;\"></a>\\n'\n",
      "b'                </h1>\\n'\n",
      "b'\\n'\n",
      "b'                <div class=\"options-bar-container do-not-print\">\\n'\n",
      "b'                    <a href=\"/psf/donations/\" class=\"donate-button\">Donate</a>\\n'\n"
     ]
    },
    {
     "name": "stdout",
     "output_type": "stream",
     "text": [
      "b'                    <div class=\"options-bar\">\\n'\n",
      "b'                        \\n'\n",
      "b'                        <a id=\"site-map-link\" class=\"jump-to-menu\" href=\"#site-map\"><span class=\"menu-icon\">&equiv;</span> Menu</a><form class=\"search-the-site\" action=\"/search/\" method=\"get\">\\n'\n",
      "b'                            <fieldset title=\"Search Python.org\">\\n'\n",
      "b'\\n'\n",
      "b'                                <span aria-hidden=\"true\" class=\"icon-search\"></span>\\n'\n",
      "b'\\n'\n",
      "b'                                <label class=\"screen-reader-text\" for=\"id-search-field\">Search This Site</label>\\n'\n",
      "b'                                <input id=\"id-search-field\" name=\"q\" type=\"search\" role=\"textbox\" class=\"search-field\" placeholder=\"Search\" value=\"\" tabindex=\"1\">\\n'\n",
      "b'\\n'\n",
      "b'                                <button type=\"submit\" name=\"submit\" id=\"submit\" class=\"search-button\" title=\"Submit this Search\" tabindex=\"3\">\\n'\n",
      "b'                                    GO\\n'\n",
      "b'                                </button>\\n'\n",
      "b'\\n'\n",
      "b'                                \\n'\n",
      "b'                                <!--[if IE]><input type=\"text\" style=\"display: none;\" disabled=\"disabled\" size=\"1\" tabindex=\"4\"><![endif]-->\\n'\n",
      "b'\\n'\n",
      "b'                            </fieldset>\\n'\n",
      "b'                        </form><span class=\"breaker\"></span><div class=\"adjust-font-size\" aria-hidden=\"true\">\\n'\n",
      "b'                            <ul class=\"navigation menu\" aria-label=\"Adjust Text Size on Page\">\\n'\n",
      "b'                                <li class=\"tier-1 last\" aria-haspopup=\"true\">\\n'\n",
      "b'                                    <a href=\"#\" class=\"action-trigger\"><strong><small>A</small> A</strong></a>\\n'\n",
      "b'                                    <ul class=\"subnav menu\">\\n'\n",
      "b'                                        <li class=\"tier-2 element-1\" role=\"treeitem\"><a class=\"text-shrink\" title=\"Make Text Smaller\" href=\"javascript:;\">Smaller</a></li>\\n'\n",
      "b'                                        <li class=\"tier-2 element-2\" role=\"treeitem\"><a class=\"text-grow\" title=\"Make Text Larger\" href=\"javascript:;\">Larger</a></li>\\n'\n",
      "b'                                        <li class=\"tier-2 element-3\" role=\"treeitem\"><a class=\"text-reset\" title=\"Reset any font size changes I have made\" href=\"javascript:;\">Reset</a></li>\\n'\n",
      "b'                                    </ul>\\n'\n",
      "b'                                </li>\\n'\n",
      "b'                            </ul>\\n'\n",
      "b'                        </div><div class=\"winkwink-nudgenudge\">\\n'\n",
      "b'                            <ul class=\"navigation menu\" aria-label=\"Social Media Navigation\">\\n'\n",
      "b'                                <li class=\"tier-1 last\" aria-haspopup=\"true\">\\n'\n",
      "b'                                    <a href=\"#\" class=\"action-trigger\">Socialize</a>\\n'\n",
      "b'                                    <ul class=\"subnav menu\">\\n'\n",
      "b'                                        <li class=\"tier-2 element-1\" role=\"treeitem\"><a href=\"https://www.facebook.com/pythonlang?fref=ts\"><span aria-hidden=\"true\" class=\"icon-facebook\"></span>Facebook</a></li>\\n'\n",
      "b'                                        <li class=\"tier-2 element-2\" role=\"treeitem\"><a href=\"https://twitter.com/ThePSF\"><span aria-hidden=\"true\" class=\"icon-twitter\"></span>Twitter</a></li>\\n'\n",
      "b'                                        <li class=\"tier-2 element-3\" role=\"treeitem\"><a href=\"/community/irc/\"><span aria-hidden=\"true\" class=\"icon-freenode\"></span>Chat on IRC</a></li>\\n'\n",
      "b'                                    </ul>\\n'\n",
      "b'                                </li>\\n'\n",
      "b'                            </ul>\\n'\n",
      "b'                        </div>\\n'\n",
      "b'                        <span data-html-include=\"/authenticated\"></span>\\n'\n",
      "b'                    </div><!-- end options-bar -->\\n'\n",
      "b'                </div>\\n'\n",
      "b'\\n'\n",
      "b'                <nav id=\"mainnav\" class=\"python-navigation main-navigation do-not-print\" role=\"navigation\">\\n'\n",
      "b'                    \\n'\n",
      "b'                        \\n'\n",
      "b'<ul class=\"navigation menu\" role=\"menubar\" aria-label=\"Main Navigation\">\\n'\n",
      "b'  \\n'\n",
      "b'    \\n'\n",
      "b'    \\n'\n",
      "b'    <li id=\"about\" class=\"tier-1 element-1  \" aria-haspopup=\"true\">\\n'\n",
      "b'        <a href=\"/about/\" title=\"\" class=\"\">About</a>\\n'\n",
      "b'        \\n'\n",
      "b'            \\n'\n",
      "b'\\n'\n",
      "b'<ul class=\"subnav menu\" role=\"menu\" aria-hidden=\"true\">\\n'\n",
      "b'    \\n'\n",
      "b'        <li class=\"tier-2 element-1\" role=\"treeitem\"><a href=\"/about/apps/\" title=\"\">Applications</a></li>\\n'\n",
      "b'    \\n'\n",
      "b'        <li class=\"tier-2 element-2\" role=\"treeitem\"><a href=\"/about/quotes/\" title=\"\">Quotes</a></li>\\n'\n",
      "b'    \\n'\n",
      "b'        <li class=\"tier-2 element-3\" role=\"treeitem\"><a href=\"/about/gettingstarted/\" title=\"\">Getting Started</a></li>\\n'\n",
      "b'    \\n'\n",
      "b'        <li class=\"tier-2 element-4\" role=\"treeitem\"><a href=\"/about/help/\" title=\"\">Help</a></li>\\n'\n",
      "b'    \\n'\n",
      "b'        <li class=\"tier-2 element-5\" role=\"treeitem\"><a href=\"http://brochure.getpython.info/\" title=\"\">Python Brochure</a></li>\\n'\n",
      "b'    \\n'\n",
      "b'</ul>\\n'\n",
      "b'\\n'\n",
      "b'        \\n'\n",
      "b'    </li>\\n'\n",
      "b'    \\n'\n",
      "b'    \\n'\n",
      "b'    \\n'\n",
      "b'    <li id=\"downloads\" class=\"tier-1 element-2  \" aria-haspopup=\"true\">\\n'\n",
      "b'        <a href=\"/downloads/\" title=\"\" class=\"\">Downloads</a>\\n'\n",
      "b'        \\n'\n",
      "b'            \\n'\n",
      "b'\\n'\n",
      "b'<ul class=\"subnav menu\" role=\"menu\" aria-hidden=\"true\">\\n'\n",
      "b'    \\n'\n",
      "b'        <li class=\"tier-2 element-1\" role=\"treeitem\"><a href=\"/downloads/\" title=\"\">All releases</a></li>\\n'\n",
      "b'    \\n'\n",
      "b'        <li class=\"tier-2 element-2\" role=\"treeitem\"><a href=\"/downloads/source/\" title=\"\">Source code</a></li>\\n'\n",
      "b'    \\n'\n",
      "b'        <li class=\"tier-2 element-3\" role=\"treeitem\"><a href=\"/downloads/windows/\" title=\"\">Windows</a></li>\\n'\n",
      "b'    \\n'\n",
      "b'        <li class=\"tier-2 element-4\" role=\"treeitem\"><a href=\"/downloads/mac-osx/\" title=\"\">Mac OS X</a></li>\\n'\n",
      "b'    \\n'\n",
      "b'        <li class=\"tier-2 element-5\" role=\"treeitem\"><a href=\"/download/other/\" title=\"\">Other Platforms</a></li>\\n'\n",
      "b'    \\n'\n",
      "b'        <li class=\"tier-2 element-6\" role=\"treeitem\"><a href=\"https://docs.python.org/3/license.html\" title=\"\">License</a></li>\\n'\n",
      "b'    \\n'\n",
      "b'        <li class=\"tier-2 element-7\" role=\"treeitem\"><a href=\"/download/alternatives\" title=\"\">Alternative Implementations</a></li>\\n'\n",
      "b'    \\n'\n",
      "b'</ul>\\n'\n",
      "b'\\n'\n",
      "b'        \\n'\n",
      "b'    </li>\\n'\n",
      "b'    \\n'\n",
      "b'    \\n'\n",
      "b'    \\n'\n",
      "b'    <li id=\"documentation\" class=\"tier-1 element-3  \" aria-haspopup=\"true\">\\n'\n",
      "b'        <a href=\"/doc/\" title=\"\" class=\"\">Documentation</a>\\n'\n",
      "b'        \\n'\n",
      "b'            \\n'\n",
      "b'\\n'\n",
      "b'<ul class=\"subnav menu\" role=\"menu\" aria-hidden=\"true\">\\n'\n",
      "b'    \\n'\n",
      "b'        <li class=\"tier-2 element-1\" role=\"treeitem\"><a href=\"/doc/\" title=\"\">Docs</a></li>\\n'\n",
      "b'    \\n'\n",
      "b'        <li class=\"tier-2 element-2\" role=\"treeitem\"><a href=\"/doc/av\" title=\"\">Audio/Visual Talks</a></li>\\n'\n",
      "b'    \\n'\n",
      "b'        <li class=\"tier-2 element-3\" role=\"treeitem\"><a href=\"https://wiki.python.org/moin/BeginnersGuide\" title=\"\">Beginner&#39;s Guide</a></li>\\n'\n",
      "b'    \\n'\n",
      "b'        <li class=\"tier-2 element-4\" role=\"treeitem\"><a href=\"https://devguide.python.org/\" title=\"\">Developer&#39;s Guide</a></li>\\n'\n",
      "b'    \\n'\n",
      "b'        <li class=\"tier-2 element-5\" role=\"treeitem\"><a href=\"https://docs.python.org/faq/\" title=\"\">FAQ</a></li>\\n'\n",
      "b'    \\n'\n",
      "b'        <li class=\"tier-2 element-6\" role=\"treeitem\"><a href=\"http://wiki.python.org/moin/Languages\" title=\"\">Non-English Docs</a></li>\\n'\n",
      "b'    \\n'\n",
      "b'        <li class=\"tier-2 element-7\" role=\"treeitem\"><a href=\"http://python.org/dev/peps/\" title=\"\">PEP Index</a></li>\\n'\n",
      "b'    \\n'\n",
      "b'        <li class=\"tier-2 element-8\" role=\"treeitem\"><a href=\"https://wiki.python.org/moin/PythonBooks\" title=\"\">Python Books</a></li>\\n'\n",
      "b'    \\n'\n",
      "b'        <li class=\"tier-2 element-9\" role=\"treeitem\"><a href=\"/doc/essays/\" title=\"\">Python Essays</a></li>\\n'\n",
      "b'    \\n'\n",
      "b'</ul>\\n'\n",
      "b'\\n'\n",
      "b'        \\n'\n",
      "b'    </li>\\n'\n",
      "b'    \\n'\n",
      "b'    \\n'\n",
      "b'    \\n'\n",
      "b'    <li id=\"community\" class=\"tier-1 element-4  \" aria-haspopup=\"true\">\\n'\n",
      "b'        <a href=\"/community/\" title=\"\" class=\"\">Community</a>\\n'\n",
      "b'        \\n'\n",
      "b'            \\n'\n",
      "b'\\n'\n",
      "b'<ul class=\"subnav menu\" role=\"menu\" aria-hidden=\"true\">\\n'\n",
      "b'    \\n'\n",
      "b'        <li class=\"tier-2 element-1\" role=\"treeitem\"><a href=\"/community/survey\" title=\"\">Community Survey</a></li>\\n'\n",
      "b'    \\n'\n",
      "b'        <li class=\"tier-2 element-2\" role=\"treeitem\"><a href=\"/community/diversity/\" title=\"\">Diversity</a></li>\\n'\n",
      "b'    \\n'\n",
      "b'        <li class=\"tier-2 element-3\" role=\"treeitem\"><a href=\"/community/lists/\" title=\"\">Mailing Lists</a></li>\\n'\n",
      "b'    \\n'\n",
      "b'        <li class=\"tier-2 element-4\" role=\"treeitem\"><a href=\"/community/irc/\" title=\"\">IRC</a></li>\\n'\n",
      "b'    \\n'\n",
      "b'        <li class=\"tier-2 element-5\" role=\"treeitem\"><a href=\"/community/forums/\" title=\"\">Forums</a></li>\\n'\n",
      "b'    \\n'\n",
      "b'        <li class=\"tier-2 element-6\" role=\"treeitem\"><a href=\"/community/workshops/\" title=\"\">Python Conferences</a></li>\\n'\n",
      "b'    \\n'\n",
      "b'        <li class=\"tier-2 element-7\" role=\"treeitem\"><a href=\"/community/sigs/\" title=\"\">Special Interest Groups</a></li>\\n'\n",
      "b'    \\n'\n",
      "b'        <li class=\"tier-2 element-8\" role=\"treeitem\"><a href=\"/community/logos/\" title=\"\">Python Logo</a></li>\\n'\n",
      "b'    \\n'\n",
      "b'        <li class=\"tier-2 element-9\" role=\"treeitem\"><a href=\"https://wiki.python.org/moin/\" title=\"\">Python Wiki</a></li>\\n'\n",
      "b'    \\n'\n",
      "b'        <li class=\"tier-2 element-10\" role=\"treeitem\"><a href=\"/community/merchandise/\" title=\"\">Merchandise</a></li>\\n'\n",
      "b'    \\n'\n",
      "b'        <li class=\"tier-2 element-11\" role=\"treeitem\"><a href=\"/community/awards\" title=\"\">Community Awards</a></li>\\n'\n",
      "b'    \\n'\n",
      "b'        <li class=\"tier-2 element-12\" role=\"treeitem\"><a href=\"https://www.python.org/psf/codeofconduct/\" title=\"\">Code of Conduct</a></li>\\n'\n",
      "b'    \\n'\n",
      "b'</ul>\\n'\n",
      "b'\\n'\n",
      "b'        \\n'\n",
      "b'    </li>\\n'\n",
      "b'    \\n'\n",
      "b'    \\n'\n",
      "b'    \\n'\n",
      "b'    <li id=\"success-stories\" class=\"tier-1 element-5  \" aria-haspopup=\"true\">\\n'\n",
      "b'        <a href=\"/success-stories/\" title=\"success-stories\" class=\"\">Success Stories</a>\\n'\n",
      "b'        \\n'\n",
      "b'            \\n'\n",
      "b'\\n'\n",
      "b'<ul class=\"subnav menu\" role=\"menu\" aria-hidden=\"true\">\\n'\n",
      "b'    \\n'\n",
      "b'        <li class=\"tier-2 element-1\" role=\"treeitem\"><a href=\"/success-stories/category/arts/\" title=\"\">Arts</a></li>\\n'\n",
      "b'    \\n'\n",
      "b'        <li class=\"tier-2 element-2\" role=\"treeitem\"><a href=\"/success-stories/category/business/\" title=\"\">Business</a></li>\\n'\n",
      "b'    \\n'\n",
      "b'        <li class=\"tier-2 element-3\" role=\"treeitem\"><a href=\"/success-stories/category/education/\" title=\"\">Education</a></li>\\n'\n",
      "b'    \\n'\n",
      "b'        <li class=\"tier-2 element-4\" role=\"treeitem\"><a href=\"/success-stories/category/engineering/\" title=\"\">Engineering</a></li>\\n'\n",
      "b'    \\n'\n",
      "b'        <li class=\"tier-2 element-5\" role=\"treeitem\"><a href=\"/success-stories/category/government/\" title=\"\">Government</a></li>\\n'\n",
      "b'    \\n'\n",
      "b'        <li class=\"tier-2 element-6\" role=\"treeitem\"><a href=\"/success-stories/category/scientific/\" title=\"\">Scientific</a></li>\\n'\n",
      "b'    \\n'\n",
      "b'        <li class=\"tier-2 element-7\" role=\"treeitem\"><a href=\"/success-stories/category/software-development/\" title=\"\">Software Development</a></li>\\n'\n",
      "b'    \\n'\n",
      "b'</ul>\\n'\n",
      "b'\\n'\n",
      "b'        \\n'\n",
      "b'    </li>\\n'\n",
      "b'    \\n'\n",
      "b'    \\n'\n",
      "b'    \\n'\n",
      "b'    <li id=\"news\" class=\"tier-1 element-6  \" aria-haspopup=\"true\">\\n'\n",
      "b'        <a href=\"/blogs/\" title=\"News from around the Python world\" class=\"\">News</a>\\n'\n",
      "b'        \\n'\n",
      "b'            \\n'\n",
      "b'\\n'\n",
      "b'<ul class=\"subnav menu\" role=\"menu\" aria-hidden=\"true\">\\n'\n",
      "b'    \\n'\n",
      "b'        <li class=\"tier-2 element-1\" role=\"treeitem\"><a href=\"/blogs/\" title=\"Python Insider Blog Posts\">Python News</a></li>\\n'\n",
      "b'    \\n'\n",
      "b'        <li class=\"tier-2 element-2\" role=\"treeitem\"><a href=\"http://planetpython.org/\" title=\"Planet Python\">Community News</a></li>\\n'\n",
      "b'    \\n'\n",
      "b'        <li class=\"tier-2 element-3\" role=\"treeitem\"><a href=\"http://pyfound.blogspot.com/\" title=\"PSF Blog\">PSF News</a></li>\\n'\n",
      "b'    \\n'\n",
      "b'        <li class=\"tier-2 element-4\" role=\"treeitem\"><a href=\"http://pycon.blogspot.com/\" title=\"PyCon Blog\">PyCon News</a></li>\\n'\n",
      "b'    \\n'\n",
      "b'</ul>\\n'\n",
      "b'\\n'\n",
      "b'        \\n'\n",
      "b'    </li>\\n'\n",
      "b'    \\n'\n",
      "b'    \\n'\n",
      "b'    \\n'\n"
     ]
    },
    {
     "name": "stdout",
     "output_type": "stream",
     "text": [
      "b'    <li id=\"events\" class=\"tier-1 element-7  \" aria-haspopup=\"true\">\\n'\n",
      "b'        <a href=\"/events/\" title=\"\" class=\"\">Events</a>\\n'\n",
      "b'        \\n'\n",
      "b'            \\n'\n",
      "b'\\n'\n",
      "b'<ul class=\"subnav menu\" role=\"menu\" aria-hidden=\"true\">\\n'\n",
      "b'    \\n'\n",
      "b'        <li class=\"tier-2 element-1\" role=\"treeitem\"><a href=\"/events/python-events\" title=\"\">Python Events</a></li>\\n'\n",
      "b'    \\n'\n",
      "b'        <li class=\"tier-2 element-2\" role=\"treeitem\"><a href=\"/events/python-user-group/\" title=\"\">User Group Events</a></li>\\n'\n",
      "b'    \\n'\n",
      "b'        <li class=\"tier-2 element-3\" role=\"treeitem\"><a href=\"/events/python-events/past/\" title=\"\">Python Events Archive</a></li>\\n'\n",
      "b'    \\n'\n",
      "b'        <li class=\"tier-2 element-4\" role=\"treeitem\"><a href=\"/events/python-user-group/past/\" title=\"\">User Group Events Archive</a></li>\\n'\n",
      "b'    \\n'\n",
      "b'        <li class=\"tier-2 element-5\" role=\"treeitem\"><a href=\"https://wiki.python.org/moin/PythonEventsCalendar#Submitting_an_Event\" title=\"\">Submit an Event</a></li>\\n'\n",
      "b'    \\n'\n",
      "b'</ul>\\n'\n",
      "b'\\n'\n",
      "b'        \\n'\n",
      "b'    </li>\\n'\n",
      "b'    \\n'\n",
      "b'    \\n'\n",
      "b'    \\n'\n",
      "b'    \\n'\n",
      "b'  \\n'\n",
      "b'</ul>\\n'\n",
      "b'\\n'\n",
      "b'                    \\n'\n",
      "b'                </nav>\\n'\n",
      "b'\\n'\n",
      "b'                <div class=\"header-banner \"> <!-- for optional \"do-not-print\" class -->\\n'\n",
      "b'                    \\n'\n",
      "b'        <div id=\"dive-into-python\" class=\"flex-slideshow slideshow\">\\n'\n",
      "b'\\n'\n",
      "b'            <ul class=\"launch-shell menu\" id=\"launch-shell\">\\n'\n",
      "b'                <li>\\n'\n",
      "b'                    <a class=\"button prompt\" id=\"start-shell\" data-shell-container=\"#dive-into-python\" href=\"/shell/\">&gt;_\\n'\n",
      "b'                        <span class=\"message\">Launch Interactive Shell</span>\\n'\n",
      "b'                    </a>\\n'\n",
      "b'                </li>\\n'\n",
      "b'            </ul>\\n'\n",
      "b'\\n'\n",
      "b'            <ul class=\"slides menu\">\\n'\n",
      "b'                \\n'\n",
      "b'                <li>\\n'\n",
      "b'                    <div class=\"slide-code\"><pre><code><span class=\"comment\"># Python 3: Fibonacci series up to n</span>\\r\\n'\n",
      "b'>>> def fib(n):\\r\\n'\n",
      "b'>>>     a, b = 0, 1\\r\\n'\n",
      "b'>>>     while a &lt; n:\\r\\n'\n",
      "b\">>>         print(a, end=' ')\\r\\n\"\n",
      "b'>>>         a, b = b, a+b\\r\\n'\n",
      "b'>>>     print()\\r\\n'\n",
      "b'>>> fib(1000)\\r\\n'\n",
      "b'<span class=\"output\">0 1 1 2 3 5 8 13 21 34 55 89 144 233 377 610 987</span></code></pre></div>\\n'\n",
      "b'                    <div class=\"slide-copy\"><h1>Functions Defined</h1>\\r\\n'\n",
      "b'<p>The core of extensible programming is defining functions. Python allows mandatory and optional arguments, keyword arguments, and even arbitrary argument lists. <a href=\"//docs.python.org/3/tutorial/controlflow.html#defining-functions\">More about defining functions in Python&nbsp;3</a></p></div>\\n'\n",
      "b'                </li>\\n'\n",
      "b'                \\n'\n",
      "b'                <li>\\n'\n",
      "b'                    <div class=\"slide-code\"><pre><code><span class=\"comment\"># Python 3: List comprehensions</span>\\r\\n'\n",
      "b\">>> fruits = ['Banana', 'Apple', 'Lime']\\r\\n\"\n",
      "b'>>> loud_fruits = [fruit.upper() for fruit in fruits]\\r\\n'\n",
      "b'>>> print(loud_fruits)\\r\\n'\n",
      "b'<span class=\"output\">[\\'BANANA\\', \\'APPLE\\', \\'LIME\\']</span>\\r\\n'\n",
      "b'\\r\\n'\n",
      "b'<span class=\"comment\"># List and the enumerate function</span>\\r\\n'\n",
      "b'>>> list(enumerate(fruits))\\r\\n'\n",
      "b'<span class=\"output\">[(0, \\'Banana\\'), (1, \\'Apple\\'), (2, \\'Lime\\')]</span></code></pre></div>\\n'\n",
      "b'                    <div class=\"slide-copy\"><h1>Compound Data Types</h1>\\r\\n'\n",
      "b'<p>Lists (known as arrays in other languages) are one of the compound data types that Python understands. Lists can be indexed, sliced and manipulated with other built-in functions. <a href=\"//docs.python.org/3/tutorial/introduction.html#lists\">More about lists in Python&nbsp;3</a></p></div>\\n'\n",
      "b'                </li>\\n'\n",
      "b'                \\n'\n",
      "b'                <li>\\n'\n",
      "b'                    <div class=\"slide-code\"><pre><code><span class=\"comment\"># Python 3: Simple arithmetic</span>\\r\\n'\n",
      "b'>>> 1 / 2\\r\\n'\n",
      "b'<span class=\"output\">0.5</span>\\r\\n'\n",
      "b'>>> 2 ** 3\\r\\n'\n",
      "b'<span class=\"output\">8</span>\\r\\n'\n",
      "b'>>> 17 / 3  <span class=\"comment\"># classic division returns a float</span>\\r\\n'\n",
      "b'<span class=\"output\">5.666666666666667</span>\\r\\n'\n",
      "b'>>> 17 // 3  <span class=\"comment\"># floor division</span>\\r\\n'\n",
      "b'<span class=\"output\">5</span></code></pre></div>\\n'\n",
      "b'                    <div class=\"slide-copy\"><h1>Intuitive Interpretation</h1>\\r\\n'\n",
      "b'<p>Calculations are simple with Python, and expression syntax is straightforward: the operators <code>+</code>, <code>-</code>, <code>*</code> and <code>/</code> work as expected; parentheses <code>()</code> can be used for grouping. <a href=\"http://docs.python.org/3/tutorial/introduction.html#using-python-as-a-calculator\">More about simple math functions in Python&nbsp;3</a>.</p></div>\\n'\n",
      "b'                </li>\\n'\n",
      "b'                \\n'\n",
      "b'                <li>\\n'\n",
      "b'                    <div class=\"slide-code\"><pre><code><span class=\"comment\"># Python 3: Simple output (with Unicode)</span>\\r\\n'\n",
      "b'>>> print(\"Hello, I\\'m Python!\")\\r\\n'\n",
      "b'<span class=\"output\">Hello, I\\'m Python!</span>\\r\\n'\n",
      "b'\\r\\n'\n",
      "b'<span class=\"comment\"># Input, assignment</span>\\r\\n'\n",
      "b\">>> name = input('What is your name?\\\\n')\\r\\n\"\n",
      "b\">>> print('Hi, %s.' % name)\\r\\n\"\n",
      "b'<span class=\"output\">What is your name?\\r\\n'\n",
      "b'Python\\r\\n'\n",
      "b'Hi, Python.</span></code></pre></div>\\n'\n",
      "b'                    <div class=\"slide-copy\"><h1>Quick &amp; Easy to Learn</h1>\\r\\n'\n",
      "b'<p>Experienced programmers in any other language can pick up Python very quickly, and beginners find the clean syntax and indentation structure easy to learn. <a href=\"//docs.python.org/3/tutorial/\">Whet your appetite</a> with our Python&nbsp;3 overview.</p>\\r\\n'\n",
      "b'                   </div>\\n'\n",
      "b'                </li>\\n'\n",
      "b'                \\n'\n",
      "b'                <li>\\n'\n",
      "b'                    <div class=\"slide-code\"><pre><code><span class=\"comment\"># For loop on a list</span>\\r\\n'\n",
      "b'>>> numbers = [2, 4, 6, 8]\\r\\n'\n",
      "b'>>> product = 1\\r\\n'\n",
      "b'>>> for number in numbers:\\r\\n'\n",
      "b'...    product = product * number\\r\\n'\n",
      "b'... \\r\\n'\n",
      "b\">>> print('The product is:', product)\\r\\n\"\n",
      "b'<span class=\"output\">The product is: 384</span></code></pre></div>\\n'\n",
      "b'                    <div class=\"slide-copy\"><h1>All the Flow You&rsquo;d Expect</h1>\\r\\n'\n",
      "b'<p>Python knows the usual control flow statements that other languages speak &mdash; <code>if</code>, <code>for</code>, <code>while</code> and <code>range</code> &mdash; with some of its own twists, of course. <a href=\"//docs.python.org/3/tutorial/controlflow.html\">More control flow tools in Python&nbsp;3</a></p></div>\\n'\n",
      "b'                </li>\\n'\n",
      "b'                \\n'\n",
      "b'            </ul>\\n'\n",
      "b'        </div>\\n'\n",
      "b'\\n'\n",
      "b'\\n'\n",
      "b'                </div>\\n'\n",
      "b'\\n'\n",
      "b'                \\n'\n",
      "b'        <div class=\"introduction\">\\n'\n",
      "b'            <p>Python is a programming language that lets you work quickly <span class=\"breaker\"></span>and integrate systems more effectively. <a class=\"readmore\" href=\"/doc/\">Learn More</a></p>\\n'\n",
      "b'        </div>\\n'\n",
      "b'\\n'\n",
      "b'\\n'\n",
      "b'             </div><!-- end .container -->\\n'\n",
      "b'        </header>\\n'\n",
      "b'\\n'\n",
      "b'        <div id=\"content\" class=\"content-wrapper\">\\n'\n",
      "b'            <!-- Main Content Column -->\\n'\n",
      "b'            <div class=\"container\">\\n'\n",
      "b'\\n'\n",
      "b'                <section class=\"main-content \" role=\"main\">\\n'\n",
      "b'\\n'\n",
      "b'                    \\n'\n",
      "b'                    \\n'\n",
      "b'\\n'\n",
      "b'                    \\n'\n",
      "b'\\n'\n",
      "b'                    \\n'\n",
      "b'\\n'\n",
      "b'                <div class=\"notification-bar notification-bar--survey\" style=\"background-color: #ffdf76; color: #664e04; border-color: #004d7a; text-align: center; background-color: #004d7a; color: #fff; padding: 10px; margin: .5em; position: relative; width: 95%; background-color: #ffdf76; color: #664e04; border-color: #004d7a; border-radius: 1em;\">\\n'\n",
      "b'  <span class=\"notification-bar__icon\">\\n'\n",
      "b'    <i class=\"fa fa-chart-line\" aria-hidden=\"true\"></i>\\n'\n",
      "b'  </span>\\n'\n",
      "b'  <span class=\"notification-bar__message\">Contribute to the PSF by Purchasing a PyCharm License. All proceeds benefit the PSF. &nbsp;&nbsp;<a class=\"button button--dark button--small button--primary\" style=\"color: #606060; border-color: #006dad; background-color: #006dad;\" href=\"https://www.jetbrains.com/pycharm/promo/support-python/\"  target=\"_blank\" rel=\"noopener\">Donate Now</a>\\n'\n",
      "b'   </span>\\n'\n",
      "b'</div>\\n'\n",
      "b'\\n'\n",
      "b'\\n'\n",
      "b'                <div class=\"row\">\\n'\n",
      "b'\\n'\n",
      "b'                    <div class=\"small-widget get-started-widget\">\\n'\n",
      "b'                        <h2 class=\"widget-title\"><span aria-hidden=\"true\" class=\"icon-get-started\"></span>Get Started</h2>\\r\\n'\n",
      "b\"<p>Whether you're new to programming or an experienced developer, it's easy to learn and use Python.</p>\\r\\n\"\n",
      "b'<p><a href=\"/about/gettingstarted/\">Start with our Beginner&rsquo;s Guide</a></p>\\n'\n",
      "b'                    </div>\\n'\n",
      "b'\\n'\n",
      "b'                    <div class=\"small-widget download-widget\">\\n'\n",
      "b'                        <h2 class=\"widget-title\"><span aria-hidden=\"true\" class=\"icon-download\"></span>Download</h2>\\n'\n",
      "b'<p>Python source code and installers are available for download for all versions!</p>\\n'\n",
      "b'<p>Latest: <a href=\"/downloads/release/python-373/\">Python 3.7.3</a></p>\\n'\n",
      "b'                    </div>\\n'\n",
      "b'\\n'\n",
      "b'                    <div class=\"small-widget documentation-widget\">\\n'\n"
     ]
    },
    {
     "name": "stdout",
     "output_type": "stream",
     "text": [
      "b'                        <h2 class=\"widget-title\"><span aria-hidden=\"true\" class=\"icon-documentation\"></span>Docs</h2>\\r\\n'\n",
      "b\"<p>Documentation for Python's standard library, along with tutorials and guides, are available online.</p>\\r\\n\"\n",
      "b'<p><a href=\"https://docs.python.org\">docs.python.org</a></p>\\n'\n",
      "b'                    </div>\\n'\n",
      "b'\\n'\n",
      "b'                    <div class=\"small-widget jobs-widget last\">\\n'\n",
      "b'                        <h2 class=\"widget-title\"><span aria-hidden=\"true\" class=\"icon-jobs\"></span>Jobs</h2>\\r\\n'\n",
      "b\"<p>Looking for work or have a Python related position that you're trying to hire for? Our <strong>relaunched community-run job board</strong> is the place to go.</p>\\r\\n\"\n",
      "b'<p><a href=\"//jobs.python.org\">jobs.python.org</a></p>\\n'\n",
      "b'                    </div>\\n'\n",
      "b'\\n'\n",
      "b'                </div>\\n'\n",
      "b'\\n'\n",
      "b'                <div class=\"list-widgets row\">\\n'\n",
      "b'\\n'\n",
      "b'                    <div class=\"medium-widget blog-widget\">\\n'\n",
      "b'                        \\n'\n",
      "b'                        <div class=\"shrubbery\">\\n'\n",
      "b'                        \\n'\n",
      "b'                            <h2 class=\"widget-title\"><span aria-hidden=\"true\" class=\"icon-news\"></span>Latest News</h2>\\n'\n",
      "b'                            <p class=\"give-me-more\"><a href=\"https://blog.python.org\" title=\"More News\">More</a></p>\\n'\n",
      "b'                            \\n'\n",
      "b'                            <ul class=\"menu\">\\n'\n",
      "b'                                \\n'\n",
      "b'                                \\n'\n",
      "b'                                <li>\\n'\n",
      "b'<time datetime=\"2019-06-19T03:30:00.000002+00:00\"><span class=\"say-no-more\">2019-</span>06-19</time>\\n'\n",
      "b' <a href=\"http://feedproxy.google.com/~r/PythonInsider/~3/0igDnpeIHjY/python-374rc1-and-369rc1-are-now.html\">Python 3.7.4rc1 and 3.6.9rc1 are now available</a></li>\\n'\n",
      "b'                                \\n'\n",
      "b'                                <li>\\n'\n",
      "b'<time datetime=\"2019-06-18T15:16:00.000001+00:00\"><span class=\"say-no-more\">2019-</span>06-18</time>\\n'\n",
      "b' <a href=\"http://feedproxy.google.com/~r/PythonInsider/~3/U3aKcpq1Bq0/pypi-now-supports-two-factor-login-via.html\">PyPI Now Supports Two-Factor Login via WebAuthn</a></li>\\n'\n",
      "b'                                \\n'\n",
      "b'                                <li>\\n'\n",
      "b'<time datetime=\"2019-06-18T15:16:00.000001+00:00\"><span class=\"say-no-more\">2019-</span>06-18</time>\\n'\n",
      "b' <a href=\"http://feedproxy.google.com/~r/PythonSoftwareFoundationNews/~3/3WpekcDpX4A/pypi-now-supports-two-factor-login-via.html\">PyPI Now Supports Two-Factor Login via WebAuthn</a></li>\\n'\n",
      "b'                                \\n'\n",
      "b'                                <li>\\n'\n",
      "b'<time datetime=\"2019-06-12T16:43:00.000002+00:00\"><span class=\"say-no-more\">2019-</span>06-12</time>\\n'\n",
      "b' <a href=\"http://feedproxy.google.com/~r/PythonSoftwareFoundationNews/~3/wV9HN81G75M/2019-board-of-directors-election-voting.html\">2019 Board of Directors Election - Voting is Open</a></li>\\n'\n",
      "b'                                \\n'\n",
      "b'                                <li>\\n'\n",
      "b'<time datetime=\"2019-06-04T23:18:00.000001+00:00\"><span class=\"say-no-more\">2019-</span>06-04</time>\\n'\n",
      "b' <a href=\"http://feedproxy.google.com/~r/PythonInsider/~3/pbwRlizzUMA/python-380b1-is-now-available-for.html\">Python 3.8.0b1 is now available for testing</a></li>\\n'\n",
      "b'                                \\n'\n",
      "b'                            </ul>\\n'\n",
      "b'                        </div><!-- end .shrubbery -->\\n'\n",
      "b'\\n'\n",
      "b'                    </div>\\n'\n",
      "b'\\n'\n",
      "b'                    <div class=\"medium-widget event-widget last\">\\n'\n",
      "b'                        \\n'\n",
      "b'                        <div class=\"shrubbery\">\\n'\n",
      "b'                        \\n'\n",
      "b'                            <h2 class=\"widget-title\"><span aria-hidden=\"true\" class=\"icon-calendar\"></span>Upcoming Events</h2>\\n'\n",
      "b'                            <p class=\"give-me-more\"><a href=\"/events/calendars/\" title=\"More Events\">More</a></p>\\n'\n",
      "b'                            \\n'\n",
      "b'                            <ul class=\"menu\">\\n'\n",
      "b'                                \\n'\n",
      "b'                                \\n'\n",
      "b'                                \\n'\n",
      "b'                                <li>\\n'\n",
      "b'<time datetime=\"2019-06-28T00:00:00+00:00\"><span class=\"say-no-more\">2019-</span>06-28</time>\\n'\n",
      "b' <a href=\"/events/python-user-group/829/\">Django Girls Abuja</a></li>\\n'\n",
      "b'                                \\n'\n",
      "b'                                \\n'\n",
      "b'                                \\n'\n",
      "b'                                <li>\\n'\n",
      "b'<time datetime=\"2019-06-29T00:00:00+00:00\"><span class=\"say-no-more\">2019-</span>06-29</time>\\n'\n",
      "b' <a href=\"/events/python-events/842/\">PyDay Pereira</a></li>\\n'\n",
      "b'                                \\n'\n",
      "b'                                \\n'\n",
      "b'                                \\n'\n",
      "b'                                <li>\\n'\n",
      "b'<time datetime=\"2019-06-29T00:00:00+00:00\"><span class=\"say-no-more\">2019-</span>06-29</time>\\n'\n",
      "b' <a href=\"/events/python-events/856/\">PyDayNEA 2019</a></li>\\n'\n",
      "b'                                \\n'\n",
      "b'                                \\n'\n",
      "b'                                \\n'\n",
      "b'                                <li>\\n'\n",
      "b'<time datetime=\"2019-07-07T00:00:00+00:00\"><span class=\"say-no-more\">2019-</span>07-07</time>\\n'\n",
      "b' <a href=\"/events/python-events/843/\">Caipyra 2019</a></li>\\n'\n",
      "b'                                \\n'\n",
      "b'                                \\n'\n",
      "b'                                \\n'\n",
      "b'                                <li>\\n'\n",
      "b'<time datetime=\"2019-07-08T00:00:00+00:00\"><span class=\"say-no-more\">2019-</span>07-08</time>\\n'\n",
      "b' <a href=\"/events/python-events/811/\">SciPy 2019</a></li>\\n'\n",
      "b'                                \\n'\n",
      "b'                                \\n'\n",
      "b'                            </ul>\\n'\n",
      "b'                        </div>\\n'\n",
      "b'\\n'\n",
      "b'                    </div>\\n'\n",
      "b'\\n'\n",
      "b'                </div>\\n'\n",
      "b'\\n'\n",
      "b'                <div class=\"row\">\\n'\n",
      "b'\\n'\n",
      "b'                    <div class=\"medium-widget success-stories-widget\">\\n'\n",
      "b'                        \\n'\n",
      "b'\\n'\n",
      "b'\\n'\n",
      "b'\\n'\n",
      "b'                        <div class=\"shrubbery\">\\n'\n",
      "b'                            \\n'\n",
      "b'\\n'\n",
      "b'                            <h2 class=\"widget-title\"><span aria-hidden=\"true\" class=\"icon-success-stories\"></span>Success Stories</h2>\\n'\n",
      "b'                            <p class=\"give-me-more\"><a href=\"/success-stories/\" title=\"More Success Stories\">More</a></p>\\n'\n",
      "b'\\n'\n",
      "b'                            \\n'\n",
      "b'                            <div class=\"success-story-item\" id=\"success-story-838\">\\n'\n",
      "b'\\n'\n",
      "b'                            <blockquote>\\n'\n",
      "b'                                <a href=\"/success-stories/saving-the-world-with-open-data-and-python/\">When an Open Data standard is created and promoted, it\\xe2\\x80\\x99s important to think why - what change is this trying to drive? What will people do with this data that they couldn\\xe2\\x80\\x99t do before?</a>\\n'\n",
      "b'                            </blockquote>\\n'\n",
      "b'\\n'\n",
      "b'                            <table cellpadding=\"0\" cellspacing=\"0\" border=\"0\" width=\"100%\" class=\"quote-from\">\\n'\n",
      "b'                                <tbody>\\n'\n",
      "b'                                    <tr>\\n'\n",
      "b'                                        \\n'\n",
      "b'                                        <td><p><a href=\"/success-stories/saving-the-world-with-open-data-and-python/\">Saving the world with Open Data and Python</a> <em>by James Baster</em></p></td>\\n'\n",
      "b'                                    </tr>\\n'\n",
      "b'                                </tbody>\\n'\n",
      "b'                            </table>\\n'\n",
      "b'                            </div>\\n'\n",
      "b'                            \\n'\n",
      "b'\\n'\n",
      "b'                        </div><!-- end .shrubbery -->\\n'\n",
      "b'\\n'\n",
      "b'                    </div>\\n'\n",
      "b'\\n'\n",
      "b'                    <div class=\"medium-widget applications-widget last\">\\n'\n",
      "b'                        <div class=\"shrubbery\">\\n'\n",
      "b'                            <h2 class=\"widget-title\"><span aria-hidden=\"true\" class=\"icon-python\"></span>Use Python for&hellip;</h2>\\r\\n'\n",
      "b'<p class=\"give-me-more\"><a href=\"/about/apps\" title=\"More Applications\">More</a></p>\\r\\n'\n",
      "b'\\r\\n'\n",
      "b'<ul class=\"menu\">\\r\\n'\n",
      "b'    <li><b>Web Development</b>:\\r\\n'\n",
      "b'        <span class=\"tag-wrapper\"><a class=\"tag\" href=\"http://www.djangoproject.com/\">Django</a>, <a class=\"tag\" href=\"http://www.pylonsproject.org/\">Pyramid</a>, <a class=\"tag\" href=\"http://bottlepy.org\">Bottle</a>, <a class=\"tag\" href=\"http://tornadoweb.org\">Tornado</a>, <a href=\"http://flask.pocoo.org/\" class=\"tag\">Flask</a>, <a class=\"tag\" href=\"http://www.web2py.com/\">web2py</a></span></li>\\r\\n'\n",
      "b'    <li><b>GUI Development</b>:\\r\\n'\n",
      "b'        <span class=\"tag-wrapper\"><a class=\"tag\" href=\"http://wiki.python.org/moin/TkInter\">tkInter</a>, <a class=\"tag\" href=\"https://wiki.gnome.org/Projects/PyGObject\">PyGObject</a>, <a class=\"tag\" href=\"http://www.riverbankcomputing.co.uk/software/pyqt/intro\">PyQt</a>, <a class=\"tag\" href=\"https://wiki.qt.io/PySide\">PySide</a>, <a class=\"tag\" href=\"https://kivy.org/\">Kivy</a>, <a class=\"tag\" href=\"http://www.wxpython.org/\">wxPython</a></span></li>\\r\\n'\n",
      "b'    <li><b>Scientific and Numeric</b>:\\r\\n'\n",
      "b'        <span class=\"tag-wrapper\">\\r\\n'\n",
      "b'<a class=\"tag\" href=\"http://www.scipy.org\">SciPy</a>, <a class=\"tag\" href=\"http://pandas.pydata.org/\">Pandas</a>, <a href=\"http://ipython.org\" class=\"tag\">IPython</a></span></li>\\r\\n'\n",
      "b'    <li><b>Software Development</b>:\\r\\n'\n",
      "b'        <span class=\"tag-wrapper\"><a class=\"tag\" href=\"http://buildbot.net/\">Buildbot</a>, <a class=\"tag\" href=\"http://trac.edgewall.org/\">Trac</a>, <a class=\"tag\" href=\"http://roundup.sourceforge.net/\">Roundup</a></span></li>\\r\\n'\n",
      "b'    <li><b>System Administration</b>:\\r\\n'\n",
      "b'        <span class=\"tag-wrapper\"><a class=\"tag\" href=\"http://www.ansible.com\">Ansible</a>, <a class=\"tag\" href=\"http://www.saltstack.com\">Salt</a>, <a class=\"tag\" href=\"https://www.openstack.org\">OpenStack</a></span></li>\\r\\n'\n",
      "b'</ul>\\r\\n'\n",
      "b'\\n'\n",
      "b'                        </div><!-- end .shrubbery -->\\n'\n",
      "b'                    </div>\\n'\n",
      "b'\\n'\n",
      "b'                </div>\\n'\n",
      "b'\\n'\n",
      "b'                \\n'\n",
      "b'                <div class=\"pep-widget\">\\n'\n",
      "b'\\n'\n",
      "b'                    <h2 class=\"widget-title\">\\n'\n",
      "b'                        <span class=\"prompt\">&gt;&gt;&gt;</span> <a href=\"/dev/peps/\">Python Enhancement Proposals<span class=\"say-no-more\"> (PEPs)</span></a>: The future of Python<span class=\"say-no-more\"> is discussed here.</span>\\n'\n",
      "b'                        <a aria-hidden=\"true\" class=\"rss-link\" href=\"/dev/peps/peps.rss\"><span class=\"icon-feed\"></span> RSS</a>\\n'\n",
      "b'                    </h2>\\n'\n",
      "b'\\n'\n",
      "b'\\n'\n",
      "b'                    \\n'\n",
      "b'                    \\n'\n",
      "b'                </div>\\n'\n",
      "b'\\n'\n",
      "b'                                <div class=\"psf-widget\">\\n'\n",
      "b'\\n'\n",
      "b'                    <div class=\"python-logo\"></div>\\n'\n",
      "b'                    \\n'\n",
      "b'                    <h2 class=\"widget-title\">\\r\\n'\n",
      "b'    <span class=\"prompt\">&gt;&gt;&gt;</span> <a href=\"/psf/\">Python Software Foundation</a>\\r\\n'\n",
      "b'</h2>\\r\\n'\n",
      "b'<p>The mission of the Python Software Foundation is to promote, protect, and advance the Python programming language, and to support and facilitate the growth of a diverse and international community of Python programmers. <a class=\"readmore\" href=\"/psf/\">Learn more</a> </p>\\r\\n'\n",
      "b'<p class=\"click-these\">\\r\\n'\n",
      "b'    <a class=\"button\" href=\"/users/membership/\">Become a Member</a>\\r\\n'\n",
      "b'    <a class=\"button\" href=\"/psf/donations/\">Donate to the PSF</a>\\r\\n'\n",
      "b'</p>\\n'\n",
      "b'                </div>\\n'\n",
      "b'\\n'\n",
      "b'\\n'\n",
      "b'\\n'\n",
      "b'\\n'\n",
      "b'                </section>\\n'\n",
      "b'\\n'\n",
      "b'                \\n'\n",
      "b'                \\n'\n",
      "b'\\n'\n",
      "b'                \\n'\n",
      "b'                \\n'\n",
      "b'\\n'\n",
      "b'\\n'\n",
      "b'            </div><!-- end .container -->\\n'\n",
      "b'        </div><!-- end #content .content-wrapper -->\\n'\n",
      "b'\\n'\n",
      "b'        <!-- Footer and social media list -->\\n'\n",
      "b'        <footer id=\"site-map\" class=\"main-footer\" role=\"contentinfo\">\\n'\n",
      "b'            <div class=\"main-footer-links\">\\n'\n",
      "b'                <div class=\"container\">\\n'\n",
      "b'\\n'\n",
      "b'                    \\n'\n",
      "b'                    <a id=\"back-to-top-1\" class=\"jump-link\" href=\"#python-network\"><span aria-hidden=\"true\" class=\"icon-arrow-up\"><span>&#9650;</span></span> Back to Top</a>\\n'\n",
      "b'\\n'\n",
      "b'                    \\n'\n",
      "b'\\n'\n",
      "b'<ul class=\"sitemap navigation menu do-not-print\" role=\"tree\" id=\"container\">\\n'\n",
      "b'    \\n'\n",
      "b'    <li class=\"tier-1 element-1\">\\n'\n",
      "b'        <a href=\"/about/\" >About</a>\\n'\n",
      "b'        \\n'\n",
      "b'            \\n'\n",
      "b'\\n'\n",
      "b'<ul class=\"subnav menu\">\\n'\n",
      "b'    \\n'\n",
      "b'        <li class=\"tier-2 element-1\" role=\"treeitem\"><a href=\"/about/apps/\" title=\"\">Applications</a></li>\\n'\n",
      "b'    \\n'\n",
      "b'        <li class=\"tier-2 element-2\" role=\"treeitem\"><a href=\"/about/quotes/\" title=\"\">Quotes</a></li>\\n'\n",
      "b'    \\n'\n",
      "b'        <li class=\"tier-2 element-3\" role=\"treeitem\"><a href=\"/about/gettingstarted/\" title=\"\">Getting Started</a></li>\\n'\n",
      "b'    \\n'\n",
      "b'        <li class=\"tier-2 element-4\" role=\"treeitem\"><a href=\"/about/help/\" title=\"\">Help</a></li>\\n'\n",
      "b'    \\n'\n",
      "b'        <li class=\"tier-2 element-5\" role=\"treeitem\"><a href=\"http://brochure.getpython.info/\" title=\"\">Python Brochure</a></li>\\n'\n",
      "b'    \\n'\n",
      "b'</ul>\\n'\n",
      "b'\\n'\n",
      "b'        \\n'\n",
      "b'    </li>\\n'\n",
      "b'    \\n'\n",
      "b'    <li class=\"tier-1 element-2\">\\n'\n",
      "b'        <a href=\"/downloads/\" >Downloads</a>\\n'\n",
      "b'        \\n'\n",
      "b'            \\n'\n",
      "b'\\n'\n",
      "b'<ul class=\"subnav menu\">\\n'\n",
      "b'    \\n'\n",
      "b'        <li class=\"tier-2 element-1\" role=\"treeitem\"><a href=\"/downloads/\" title=\"\">All releases</a></li>\\n'\n",
      "b'    \\n'\n",
      "b'        <li class=\"tier-2 element-2\" role=\"treeitem\"><a href=\"/downloads/source/\" title=\"\">Source code</a></li>\\n'\n",
      "b'    \\n'\n",
      "b'        <li class=\"tier-2 element-3\" role=\"treeitem\"><a href=\"/downloads/windows/\" title=\"\">Windows</a></li>\\n'\n",
      "b'    \\n'\n",
      "b'        <li class=\"tier-2 element-4\" role=\"treeitem\"><a href=\"/downloads/mac-osx/\" title=\"\">Mac OS X</a></li>\\n'\n",
      "b'    \\n'\n",
      "b'        <li class=\"tier-2 element-5\" role=\"treeitem\"><a href=\"/download/other/\" title=\"\">Other Platforms</a></li>\\n'\n",
      "b'    \\n'\n",
      "b'        <li class=\"tier-2 element-6\" role=\"treeitem\"><a href=\"https://docs.python.org/3/license.html\" title=\"\">License</a></li>\\n'\n",
      "b'    \\n'\n",
      "b'        <li class=\"tier-2 element-7\" role=\"treeitem\"><a href=\"/download/alternatives\" title=\"\">Alternative Implementations</a></li>\\n'\n",
      "b'    \\n'\n",
      "b'</ul>\\n'\n",
      "b'\\n'\n",
      "b'        \\n'\n",
      "b'    </li>\\n'\n",
      "b'    \\n'\n",
      "b'    <li class=\"tier-1 element-3\">\\n'\n",
      "b'        <a href=\"/doc/\" >Documentation</a>\\n'\n",
      "b'        \\n'\n",
      "b'            \\n'\n",
      "b'\\n'\n",
      "b'<ul class=\"subnav menu\">\\n'\n",
      "b'    \\n'\n",
      "b'        <li class=\"tier-2 element-1\" role=\"treeitem\"><a href=\"/doc/\" title=\"\">Docs</a></li>\\n'\n",
      "b'    \\n'\n",
      "b'        <li class=\"tier-2 element-2\" role=\"treeitem\"><a href=\"/doc/av\" title=\"\">Audio/Visual Talks</a></li>\\n'\n",
      "b'    \\n'\n",
      "b'        <li class=\"tier-2 element-3\" role=\"treeitem\"><a href=\"https://wiki.python.org/moin/BeginnersGuide\" title=\"\">Beginner&#39;s Guide</a></li>\\n'\n",
      "b'    \\n'\n",
      "b'        <li class=\"tier-2 element-4\" role=\"treeitem\"><a href=\"https://devguide.python.org/\" title=\"\">Developer&#39;s Guide</a></li>\\n'\n",
      "b'    \\n'\n",
      "b'        <li class=\"tier-2 element-5\" role=\"treeitem\"><a href=\"https://docs.python.org/faq/\" title=\"\">FAQ</a></li>\\n'\n",
      "b'    \\n'\n",
      "b'        <li class=\"tier-2 element-6\" role=\"treeitem\"><a href=\"http://wiki.python.org/moin/Languages\" title=\"\">Non-English Docs</a></li>\\n'\n",
      "b'    \\n'\n",
      "b'        <li class=\"tier-2 element-7\" role=\"treeitem\"><a href=\"http://python.org/dev/peps/\" title=\"\">PEP Index</a></li>\\n'\n",
      "b'    \\n'\n",
      "b'        <li class=\"tier-2 element-8\" role=\"treeitem\"><a href=\"https://wiki.python.org/moin/PythonBooks\" title=\"\">Python Books</a></li>\\n'\n",
      "b'    \\n'\n",
      "b'        <li class=\"tier-2 element-9\" role=\"treeitem\"><a href=\"/doc/essays/\" title=\"\">Python Essays</a></li>\\n'\n",
      "b'    \\n'\n",
      "b'</ul>\\n'\n",
      "b'\\n'\n",
      "b'        \\n'\n",
      "b'    </li>\\n'\n",
      "b'    \\n'\n",
      "b'    <li class=\"tier-1 element-4\">\\n'\n",
      "b'        <a href=\"/community/\" >Community</a>\\n'\n",
      "b'        \\n'\n",
      "b'            \\n'\n",
      "b'\\n'\n",
      "b'<ul class=\"subnav menu\">\\n'\n",
      "b'    \\n'\n",
      "b'        <li class=\"tier-2 element-1\" role=\"treeitem\"><a href=\"/community/survey\" title=\"\">Community Survey</a></li>\\n'\n",
      "b'    \\n'\n",
      "b'        <li class=\"tier-2 element-2\" role=\"treeitem\"><a href=\"/community/diversity/\" title=\"\">Diversity</a></li>\\n'\n",
      "b'    \\n'\n",
      "b'        <li class=\"tier-2 element-3\" role=\"treeitem\"><a href=\"/community/lists/\" title=\"\">Mailing Lists</a></li>\\n'\n",
      "b'    \\n'\n",
      "b'        <li class=\"tier-2 element-4\" role=\"treeitem\"><a href=\"/community/irc/\" title=\"\">IRC</a></li>\\n'\n",
      "b'    \\n'\n",
      "b'        <li class=\"tier-2 element-5\" role=\"treeitem\"><a href=\"/community/forums/\" title=\"\">Forums</a></li>\\n'\n",
      "b'    \\n'\n",
      "b'        <li class=\"tier-2 element-6\" role=\"treeitem\"><a href=\"/community/workshops/\" title=\"\">Python Conferences</a></li>\\n'\n",
      "b'    \\n'\n",
      "b'        <li class=\"tier-2 element-7\" role=\"treeitem\"><a href=\"/community/sigs/\" title=\"\">Special Interest Groups</a></li>\\n'\n",
      "b'    \\n'\n",
      "b'        <li class=\"tier-2 element-8\" role=\"treeitem\"><a href=\"/community/logos/\" title=\"\">Python Logo</a></li>\\n'\n",
      "b'    \\n'\n",
      "b'        <li class=\"tier-2 element-9\" role=\"treeitem\"><a href=\"https://wiki.python.org/moin/\" title=\"\">Python Wiki</a></li>\\n'\n",
      "b'    \\n'\n",
      "b'        <li class=\"tier-2 element-10\" role=\"treeitem\"><a href=\"/community/merchandise/\" title=\"\">Merchandise</a></li>\\n'\n",
      "b'    \\n'\n",
      "b'        <li class=\"tier-2 element-11\" role=\"treeitem\"><a href=\"/community/awards\" title=\"\">Community Awards</a></li>\\n'\n",
      "b'    \\n'\n",
      "b'        <li class=\"tier-2 element-12\" role=\"treeitem\"><a href=\"https://www.python.org/psf/codeofconduct/\" title=\"\">Code of Conduct</a></li>\\n'\n",
      "b'    \\n'\n",
      "b'</ul>\\n'\n",
      "b'\\n'\n",
      "b'        \\n'\n",
      "b'    </li>\\n'\n",
      "b'    \\n'\n",
      "b'    <li class=\"tier-1 element-5\">\\n'\n",
      "b'        <a href=\"/success-stories/\" title=\"success-stories\">Success Stories</a>\\n'\n",
      "b'        \\n'\n",
      "b'            \\n'\n",
      "b'\\n'\n",
      "b'<ul class=\"subnav menu\">\\n'\n",
      "b'    \\n'\n",
      "b'        <li class=\"tier-2 element-1\" role=\"treeitem\"><a href=\"/success-stories/category/arts/\" title=\"\">Arts</a></li>\\n'\n",
      "b'    \\n'\n",
      "b'        <li class=\"tier-2 element-2\" role=\"treeitem\"><a href=\"/success-stories/category/business/\" title=\"\">Business</a></li>\\n'\n",
      "b'    \\n'\n",
      "b'        <li class=\"tier-2 element-3\" role=\"treeitem\"><a href=\"/success-stories/category/education/\" title=\"\">Education</a></li>\\n'\n",
      "b'    \\n'\n",
      "b'        <li class=\"tier-2 element-4\" role=\"treeitem\"><a href=\"/success-stories/category/engineering/\" title=\"\">Engineering</a></li>\\n'\n",
      "b'    \\n'\n",
      "b'        <li class=\"tier-2 element-5\" role=\"treeitem\"><a href=\"/success-stories/category/government/\" title=\"\">Government</a></li>\\n'\n",
      "b'    \\n'\n",
      "b'        <li class=\"tier-2 element-6\" role=\"treeitem\"><a href=\"/success-stories/category/scientific/\" title=\"\">Scientific</a></li>\\n'\n",
      "b'    \\n'\n",
      "b'        <li class=\"tier-2 element-7\" role=\"treeitem\"><a href=\"/success-stories/category/software-development/\" title=\"\">Software Development</a></li>\\n'\n",
      "b'    \\n'\n",
      "b'</ul>\\n'\n",
      "b'\\n'\n",
      "b'        \\n'\n",
      "b'    </li>\\n'\n",
      "b'    \\n'\n",
      "b'    <li class=\"tier-1 element-6\">\\n'\n",
      "b'        <a href=\"/blogs/\" title=\"News from around the Python world\">News</a>\\n'\n",
      "b'        \\n'\n",
      "b'            \\n'\n",
      "b'\\n'\n",
      "b'<ul class=\"subnav menu\">\\n'\n",
      "b'    \\n'\n",
      "b'        <li class=\"tier-2 element-1\" role=\"treeitem\"><a href=\"/blogs/\" title=\"Python Insider Blog Posts\">Python News</a></li>\\n'\n",
      "b'    \\n'\n",
      "b'        <li class=\"tier-2 element-2\" role=\"treeitem\"><a href=\"http://planetpython.org/\" title=\"Planet Python\">Community News</a></li>\\n'\n",
      "b'    \\n'\n",
      "b'        <li class=\"tier-2 element-3\" role=\"treeitem\"><a href=\"http://pyfound.blogspot.com/\" title=\"PSF Blog\">PSF News</a></li>\\n'\n",
      "b'    \\n'\n",
      "b'        <li class=\"tier-2 element-4\" role=\"treeitem\"><a href=\"http://pycon.blogspot.com/\" title=\"PyCon Blog\">PyCon News</a></li>\\n'\n",
      "b'    \\n'\n",
      "b'</ul>\\n'\n",
      "b'\\n'\n",
      "b'        \\n'\n",
      "b'    </li>\\n'\n",
      "b'    \\n'\n",
      "b'    <li class=\"tier-1 element-7\">\\n'\n",
      "b'        <a href=\"/events/\" >Events</a>\\n'\n",
      "b'        \\n'\n",
      "b'            \\n'\n",
      "b'\\n'\n",
      "b'<ul class=\"subnav menu\">\\n'\n",
      "b'    \\n'\n",
      "b'        <li class=\"tier-2 element-1\" role=\"treeitem\"><a href=\"/events/python-events\" title=\"\">Python Events</a></li>\\n'\n",
      "b'    \\n'\n",
      "b'        <li class=\"tier-2 element-2\" role=\"treeitem\"><a href=\"/events/python-user-group/\" title=\"\">User Group Events</a></li>\\n'\n",
      "b'    \\n'\n",
      "b'        <li class=\"tier-2 element-3\" role=\"treeitem\"><a href=\"/events/python-events/past/\" title=\"\">Python Events Archive</a></li>\\n'\n",
      "b'    \\n'\n",
      "b'        <li class=\"tier-2 element-4\" role=\"treeitem\"><a href=\"/events/python-user-group/past/\" title=\"\">User Group Events Archive</a></li>\\n'\n",
      "b'    \\n'\n",
      "b'        <li class=\"tier-2 element-5\" role=\"treeitem\"><a href=\"https://wiki.python.org/moin/PythonEventsCalendar#Submitting_an_Event\" title=\"\">Submit an Event</a></li>\\n'\n",
      "b'    \\n'\n",
      "b'</ul>\\n'\n",
      "b'\\n'\n",
      "b'        \\n'\n",
      "b'    </li>\\n'\n",
      "b'    \\n'\n",
      "b'    <li class=\"tier-1 element-8\">\\n'\n",
      "b'        <a href=\"/dev/\" >Contributing</a>\\n'\n",
      "b'        \\n'\n",
      "b'            \\n'\n",
      "b'\\n'\n",
      "b'<ul class=\"subnav menu\">\\n'\n",
      "b'    \\n'\n",
      "b'        <li class=\"tier-2 element-1\" role=\"treeitem\"><a href=\"https://devguide.python.org/\" title=\"\">Developer&#39;s Guide</a></li>\\n'\n",
      "b'    \\n'\n",
      "b'        <li class=\"tier-2 element-2\" role=\"treeitem\"><a href=\"https://bugs.python.org/\" title=\"\">Issue Tracker</a></li>\\n'\n",
      "b'    \\n'\n",
      "b'        <li class=\"tier-2 element-3\" role=\"treeitem\"><a href=\"https://mail.python.org/mailman/listinfo/python-dev\" title=\"\">python-dev list</a></li>\\n'\n",
      "b'    \\n'\n",
      "b'        <li class=\"tier-2 element-4\" role=\"treeitem\"><a href=\"/dev/core-mentorship/\" title=\"\">Core Mentorship</a></li>\\n'\n",
      "b'    \\n'\n",
      "b'        <li class=\"tier-2 element-5\" role=\"treeitem\"><a href=\"/news/security/\" title=\"\">Report a Security Issue</a></li>\\n'\n",
      "b'    \\n'\n",
      "b'</ul>\\n'\n",
      "b'\\n'\n",
      "b'        \\n'\n",
      "b'    </li>\\n'\n",
      "b'    \\n'\n",
      "b'</ul>\\n'\n",
      "b'\\n'\n",
      "b'\\n'\n",
      "b'                    <a id=\"back-to-top-2\" class=\"jump-link\" href=\"#python-network\"><span aria-hidden=\"true\" class=\"icon-arrow-up\"><span>&#9650;</span></span> Back to Top</a>\\n'\n",
      "b'                    \\n'\n",
      "b'\\n'\n",
      "b'                </div><!-- end .container -->\\n'\n",
      "b'            </div> <!-- end .main-footer-links -->\\n'\n",
      "b'\\n'\n",
      "b'            <div class=\"site-base\">\\n'\n",
      "b'                <div class=\"container\">\\n'\n",
      "b'                    \\n'\n",
      "b'                    <ul class=\"footer-links navigation menu do-not-print\" role=\"tree\">\\n'\n",
      "b'                        <li class=\"tier-1 element-1\"><a href=\"/about/help/\">Help &amp; <span class=\"say-no-more\">General</span> Contact</a></li>\\n'\n",
      "b'                        <li class=\"tier-1 element-2\"><a href=\"/community/diversity/\">Diversity <span class=\"say-no-more\">Initiatives</span></a></li>\\n'\n",
      "b'                        <li class=\"tier-1 element-3\"><a href=\"https://github.com/python/pythondotorg/issues\">Submit Website Bug</a></li>\\n'\n",
      "b'                        <li class=\"tier-1 element-4\">\\n'\n",
      "b'                            <a href=\"https://status.python.org/\">Status <span class=\"python-status-indicator-default\" id=\"python-status-indicator\"></span></a>\\n'\n",
      "b'                        </li>\\n'\n",
      "b'                    </ul>\\n'\n",
      "b'\\n'\n",
      "b'                    <div class=\"copyright\">\\n'\n",
      "b'                        <p><small>\\n'\n",
      "b'                            <span class=\"pre\">Copyright &copy;2001-2019.</span>\\n'\n",
      "b'                            &nbsp;<span class=\"pre\"><a href=\"/psf-landing/\">Python Software Foundation</a></span>\\n'\n",
      "b'                            &nbsp;<span class=\"pre\"><a href=\"/about/legal/\">Legal Statements</a></span>\\n'\n",
      "b'                            &nbsp;<span class=\"pre\"><a href=\"/privacy/\">Privacy Policy</a></span>\\n'\n",
      "b'                            &nbsp;<span class=\"pre\"><a href=\"/psf/sponsorship/sponsors/#heroku\">Powered by Heroku</a></span>\\n'\n",
      "b'                        </small></p>\\n'\n",
      "b'                    </div>\\n'\n",
      "b'\\n'\n",
      "b'                </div><!-- end .container -->\\n'\n",
      "b'            </div><!-- end .site-base -->\\n'\n",
      "b'\\n'\n",
      "b'        </footer>\\n'\n",
      "b'\\n'\n",
      "b'    </div><!-- end #touchnav-wrapper -->\\n'\n",
      "b'\\n'\n",
      "b'    \\n'\n",
      "b'    <script src=\"//ajax.googleapis.com/ajax/libs/jquery/1.8.2/jquery.min.js\"></script>\\n'\n",
      "b'    <script>window.jQuery || document.write(\\'<script src=\"/static/js/libs/jquery-1.8.2.min.js\"><\\\\/script>\\')</script>\\n'\n",
      "b'\\n'\n",
      "b'    <script src=\"/static/js/libs/masonry.pkgd.min.js\"></script>\\n'\n",
      "b'    <script src=\"/static/js/libs/html-includes.js\"></script>\\n'\n",
      "b'\\n'\n",
      "b'    <script type=\"text/javascript\" src=\"/static/js/main-min.fbfe252506ae.js\" charset=\"utf-8\"></script>\\n'\n",
      "b'    \\n'\n",
      "b'\\n'\n",
      "b'    <!--[if lte IE 7]>\\n'\n",
      "b'    <script type=\"text/javascript\" src=\"/static/js/plugins/IE8-min.16868e6a5d2f.js\" charset=\"utf-8\"></script>\\n'\n",
      "b'    \\n'\n",
      "b'    \\n'\n",
      "b'    <![endif]-->\\n'\n",
      "b'\\n'\n",
      "b'    <!--[if lte IE 8]>\\n'\n",
      "b'    <script type=\"text/javascript\" src=\"/static/js/plugins/getComputedStyle-min.c3860be1d290.js\" charset=\"utf-8\"></script>\\n'\n",
      "b'    \\n'\n",
      "b'    \\n'\n",
      "b'    <![endif]-->\\n'\n",
      "b'\\n'\n",
      "b'    \\n'\n",
      "b'\\n'\n",
      "b'    \\n'\n",
      "b'    \\n'\n",
      "b'\\n'\n",
      "b'</body>\\n'\n",
      "b'</html>\\n'\n"
     ]
    }
   ],
   "source": [
    "from contextlib import closing\n",
    "from urllib.request import urlopen\n",
    "\n",
    "with closing(urlopen('https://www.python.org')) as page:\n",
    "    for line in page:\n",
    "        print(line)\n",
    "\n"
   ]
  },
  {
   "cell_type": "markdown",
   "metadata": {},
   "source": [
    "### XML"
   ]
  },
  {
   "cell_type": "raw",
   "metadata": {},
   "source": [
    "DOM vs SAX\n",
    "操作XML有两种方法：DOM和SAX。DOM会把整个XML读入内存，解析为树，因此占用内存大，解析慢，优点是可以任意遍历树的节点。SAX是流模式，边读边解析，占用内存小，解析快，缺点是我们需要自己处理事件.\n",
    "\n",
    "当SAX解析器读到一个节点时：举个例子，\n",
    "<a href=\"/\">python</a>\n",
    "会产生3个事件：\n",
    "1.\tstart_element事件，在读取<a href=\"/\">时；\n",
    "2.\tchar_data事件，在读取python时；\n",
    "3.\tend_element事件，在读取</a>时\n"
   ]
  },
  {
   "cell_type": "markdown",
   "metadata": {},
   "source": [
    "### HTMLParser"
   ]
  },
  {
   "cell_type": "raw",
   "metadata": {},
   "source": [
    "HTML的语法没有XML那么严格，所以不能用标准的DOM或SAX来解析HTML。"
   ]
  },
  {
   "cell_type": "markdown",
   "metadata": {},
   "source": [
    "### urllib"
   ]
  },
  {
   "cell_type": "raw",
   "metadata": {},
   "source": [
    "urllib提供了一系列用于操作URL的功能."
   ]
  },
  {
   "cell_type": "code",
   "execution_count": 25,
   "metadata": {
    "scrolled": true
   },
   "outputs": [
    {
     "name": "stdout",
     "output_type": "stream",
     "text": [
      "Status: 200 OK\n",
      "Date: Tue, 25 Jun 2019 17:04:01 GMT\n",
      "Expires: -1\n",
      "Cache-Control: private, max-age=0\n",
      "Content-Type: text/html; charset=Big5\n",
      "P3P: CP=\"This is not a P3P policy! See g.co/p3phelp for more info.\"\n",
      "Server: gws\n",
      "X-XSS-Protection: 0\n",
      "X-Frame-Options: SAMEORIGIN\n",
      "Set-Cookie: 1P_JAR=2019-06-25-17; expires=Thu, 25-Jul-2019 17:04:01 GMT; path=/; domain=.google.com.hk\n",
      "Set-Cookie: NID=186=D179gz-6RABgH_2sXZJWhxkbHsmSTGaGyQrkthaDC4P7ss_cWXCPM_JIEPNWBXrm8_msMM0dX13o1SDXlYAwffYeZ1s1xCjKMdw5hj4fz5tsxNe7oYtcxHhauworVc91bTfWMCqDS2edh8w5U9c52v3IuPI-J-eR2bicZ_7o814; expires=Wed, 25-Dec-2019 17:04:01 GMT; path=/; domain=.google.com.hk; HttpOnly\n",
      "Alt-Svc: quic=\":443\"; ma=2592000; v=\"46,44,43,39\"\n",
      "Accept-Ranges: none\n",
      "Vary: Accept-Encoding\n",
      "Connection: close\n"
     ]
    },
    {
     "ename": "UnicodeDecodeError",
     "evalue": "'utf-8' codec can't decode byte 0xb7 in position 5505: invalid start byte",
     "output_type": "error",
     "traceback": [
      "\u001b[1;31m---------------------------------------------------------------------------\u001b[0m",
      "\u001b[1;31mUnicodeDecodeError\u001b[0m                        Traceback (most recent call last)",
      "\u001b[1;32m<ipython-input-25-20eaaf5e76a1>\u001b[0m in \u001b[0;36m<module>\u001b[1;34m()\u001b[0m\n\u001b[0;32m      9\u001b[0m     \u001b[1;32mfor\u001b[0m \u001b[0mk\u001b[0m\u001b[1;33m,\u001b[0m \u001b[0mv\u001b[0m \u001b[1;32min\u001b[0m \u001b[0mf\u001b[0m\u001b[1;33m.\u001b[0m\u001b[0mgetheaders\u001b[0m\u001b[1;33m(\u001b[0m\u001b[1;33m)\u001b[0m\u001b[1;33m:\u001b[0m\u001b[1;33m\u001b[0m\u001b[0m\n\u001b[0;32m     10\u001b[0m         \u001b[0mprint\u001b[0m\u001b[1;33m(\u001b[0m\u001b[1;34m'%s: %s'\u001b[0m \u001b[1;33m%\u001b[0m \u001b[1;33m(\u001b[0m\u001b[0mk\u001b[0m\u001b[1;33m,\u001b[0m \u001b[0mv\u001b[0m\u001b[1;33m)\u001b[0m\u001b[1;33m)\u001b[0m\u001b[1;33m\u001b[0m\u001b[0m\n\u001b[1;32m---> 11\u001b[1;33m     \u001b[0mprint\u001b[0m\u001b[1;33m(\u001b[0m\u001b[1;34m'Data:'\u001b[0m\u001b[1;33m,\u001b[0m \u001b[0mf\u001b[0m\u001b[1;33m.\u001b[0m\u001b[0mread\u001b[0m\u001b[1;33m(\u001b[0m\u001b[1;33m)\u001b[0m\u001b[1;33m.\u001b[0m\u001b[0mdecode\u001b[0m\u001b[1;33m(\u001b[0m\u001b[1;34m'utf-8'\u001b[0m\u001b[1;33m)\u001b[0m\u001b[1;33m)\u001b[0m\u001b[1;33m\u001b[0m\u001b[0m\n\u001b[0m",
      "\u001b[1;31mUnicodeDecodeError\u001b[0m: 'utf-8' codec can't decode byte 0xb7 in position 5505: invalid start byte"
     ]
    }
   ],
   "source": [
    "#urllib的request模块可以非常方便地抓取URL内容，也就是发送一个GET请求到指定的页面，然后返回HTTP的响应\n",
    "\n",
    "from urllib import request\n",
    "url = 'https://www.google.com.hk/'\n",
    "req = request.Request(url)\n",
    "#req.add_header('User-Agent', 'Mozilla/5.0 (Windows; U; Windows NT 6.1; en-US; rv:1.9.1.6) Gecko/20091201 Firefox/3.5.6')\n",
    "with request.urlopen(req) as f:\n",
    "    print('Status:', f.status, f.reason)\n",
    "    for k, v in f.getheaders():\n",
    "        print('%s: %s' % (k, v))\n",
    "    print('Data:', f.read().decode('utf-8'))\n"
   ]
  },
  {
   "cell_type": "markdown",
   "metadata": {},
   "source": [
    "#### 模拟浏览器发送GET请求\n",
    "需要使用Request对象，通过往Request对象添加HTTP头，我们就可以把请求伪装成浏览器"
   ]
  },
  {
   "cell_type": "code",
   "execution_count": 18,
   "metadata": {
    "collapsed": true
   },
   "outputs": [
    {
     "name": "stdout",
     "output_type": "stream",
     "text": [
      "Status: 200 OK\n",
      "Date: Tue, 25 Jun 2019 16:58:40 GMT\n",
      "Content-Type: text/html; charset=utf-8\n",
      "Transfer-Encoding: chunked\n",
      "Connection: close\n",
      "Vary: Accept-Encoding\n",
      "X-Xss-Protection: 1; mode=block\n",
      "X-Douban-Mobileapp: 0\n",
      "Expires: Sun, 1 Jan 2006 01:00:00 GMT\n",
      "Pragma: no-cache\n",
      "Cache-Control: must-revalidate, no-cache, private\n",
      "Set-Cookie: talionnav_show_app=\"0\"\n",
      "Set-Cookie: bid=fgkMjnpMruQ; Expires=Wed, 24-Jun-20 16:58:40 GMT; Domain=.douban.com; Path=/\n",
      "X-DOUBAN-NEWBID: fgkMjnpMruQ\n",
      "X-DAE-Node: anson65\n",
      "X-DAE-App: talion\n",
      "Server: dae\n",
      "X-Frame-Options: SAMEORIGIN\n",
      "Strict-Transport-Security: max-age=15552000;\n",
      "X-Content-Type-Options: nosniff\n",
      "Data: \n",
      "\n",
      "\n",
      "<!DOCTYPE html>\n",
      "<html itemscope itemtype=\"http://schema.org/WebPage\" class=\"ua-safari ua-mobile \">\n",
      "    <head>\n",
      "        <meta charset=\"UTF-8\">\n",
      "        <title>豆瓣(手机版)</title>\n",
      "        <meta name=\"google-site-verification\" content=\"ok0wCgT20tBBgo9_zat2iAcimtN4Ftf5ccsh092Xeyw\" />\n",
      "        <meta name=\"viewport\" content=\"width=device-width, height=device-height, user-scalable=no, initial-scale=1.0, minimum-scale=1.0, maximum-scale=1.0\">\n",
      "        <meta name=\"format-detection\" content=\"telephone=no\">\n",
      "        <link rel=\"canonical\" href=\"\n",
      "http://m.douban.com/\">\n",
      "        <link href=\"https://img3.doubanio.com/f/talion/8d84a75b70e143438e6441a7ef95224142100474/css/card/base.css\" rel=\"stylesheet\">\n",
      "        \n",
      "    <meta name=\"description\" content=\"读书、看电影、涨知识、学穿搭...，加入兴趣小组，获得达人们的高质量生活经验，找到有相同爱好的小伙伴。\">\n",
      "    <meta name=\"keywords\" content=\"豆瓣,手机豆瓣,豆瓣手机版,豆瓣电影,豆瓣读书,豆瓣同城\">\n",
      "    \n",
      "    \n",
      "\n",
      "    <!-- Schema.org markup for Google+ -->\n",
      "    <meta itemprop=\"name\" content=\"豆瓣\">\n",
      "    <meta itemprop=\"description\" content=\"读书、看电影、涨知识、学穿搭...，加入兴趣小组，获得达人们的高质量生活经验，找到有相同爱好的小伙伴。\">\n",
      "    <meta itemprop=\"image\" content=\"https://img3.doubanio.com/f/talion/8e7b9cbd097c02972c4191aa03fdb084524505c4/pics/icon/m_logo_180.png\">\n",
      "    <!-- Twitter meta -->\n",
      "    <meta name=\"twitter:card\" content=\"summary\" />\n",
      "    <!-- Open Graph meta -->\n",
      "    <meta property=\"og:title\" content=\"豆瓣\" />\n",
      "    <meta property=\"og:description\" content=\"读书、看电影、涨知识、学穿搭...，加入兴趣小组，获得达人们的高质量生活经验，找到有相同爱好的小伙伴。\" />\n",
      "    <meta property=\"og:site_name\" content=\"豆瓣(手机版)\" />\n",
      "    <meta property=\"og:url\" content=\"https://m.douban.com/\" />\n",
      "    <meta property=\"og:image\" content=\"https://img3.doubanio.com/f/talion/8e7b9cbd097c02972c4191aa03fdb084524505c4/pics/icon/m_logo_180.png\" />\n",
      "    <meta property=\"og:image:type\" content=\"image/png\" />\n",
      "    <meta property=\"og:image:width\" content=\"300\" />\n",
      "    <meta property=\"og:image:height\" content=\"300\" />\n",
      "    <meta property=\"og:type\" content=\"article\" />\n",
      "    <!-- Wechat meta -->\n",
      "    <meta property=\"weixin:timeline_title\" content=\"豆瓣\" />\n",
      "    <meta property=\"weixin:chat_title\" content=\"豆瓣\" />\n",
      "    <meta property=\"weixin:description\" content=\"读书、看电影、涨知识、学穿搭...，加入兴趣小组，获得达人们的高质量生活经验，找到有相同爱好的小伙伴。\" />\n",
      "    <meta property=\"weixin:image\" content=\"https://img3.doubanio.com/f/talion/8e7b9cbd097c02972c4191aa03fdb084524505c4/pics/icon/m_logo_180.png\" />\n",
      "    <script>\n",
      "    ;(function () {\n",
      "        window.setMeta = function (name, val) {\n",
      "          var meta = document.querySelectorAll('meta[property=\"' + name + '\"], meta[name=\"' + name + '\"]')\n",
      "          if (!meta.length) {\n",
      "            meta = document.createElement('meta')\n",
      "            meta.name = name\n",
      "            document.head.appendChild(meta)\n",
      "            meta = [meta]\n",
      "          }\n",
      "         meta[0].content = val || ''\n",
      "        }\n",
      "        window.getMeta = function (name) {\n",
      "          var meta = document.querySelectorAll('meta[property=\"' + name + '\"], meta[name=\"' + name + '\"]')\n",
      "          if (!meta.length) {\n",
      "            return ''\n",
      "          } else {\n",
      "            return meta[0].content\n",
      "          }\n",
      "        }\n",
      "        !getMeta('weixin:chat_title') && setMeta('weixin:chat_title', document.title)\n",
      "        !getMeta('weixin:timeline_title') && setMeta('weixin:timeline_title', document.title)\n",
      "        !getMeta('weixin:description') && setMeta('weixin:description', getMeta('og:description'))\n",
      "    })();\n",
      "    </script>\n",
      "\n",
      "\n",
      "        <link rel=\"stylesheet\" href=\"https://img3.doubanio.com/misc/mixed_static/468e9211d89502ad.css\">\n",
      "        <link rel=\"icon\" type=\"image/png\" sizes=\"16x16\" href=\"https://img3.doubanio.com/f/talion/c970bb0d720963a7392f7dd6c77068bb9925caaf/pics/icon/dou16.png\">\n",
      "        <link rel=\"icon\" type=\"image/png\" sizes=\"32x32\" href=\"https://img3.doubanio.com/f/talion/2f3c0bc0f35b031d4535fd993ae3936f4e40e6c8/pics/icon/dou32.png\">\n",
      "        <link rel=\"icon\" type=\"image/png\" sizes=\"48x48\" href=\"https://img3.doubanio.com/f/talion/10a4a913a5715f628e4b598f7f9f2c18621bdcb3/pics/icon/dou48.png\">\n",
      "        <!-- iOS touch icon -->\n",
      "        <link rel=\"apple-touch-icon-precomposed\" href=\"https://img3.doubanio.com/f/talion/997f2018d82979da970030a5eb84c77f0123ae5f/pics/icon/m_logo_76.png\">\n",
      "        <link rel=\"apple-touch-icon-precomposed\" sizes=\"76x76\" href=\"https://img3.doubanio.com/f/talion/997f2018d82979da970030a5eb84c77f0123ae5f/pics/icon/m_logo_76.png\">\n",
      "        <link rel=\"apple-touch-icon-precomposed\" sizes=\"120x120\" href=\"https://img3.doubanio.com/f/talion/18932a3e71a60ed7150ca2ca7ebf21ddadd7092e/pics/icon/m_logo_120.png\">\n",
      "        <link rel=\"apple-touch-icon-precomposed\" sizes=\"152x152\" href=\"https://img3.doubanio.com/f/talion/b99497ff8538c54b9ba6f40867da932396ab2562/pics/icon/m_logo_152.png\">\n",
      "        <link rel=\"apple-touch-icon-precomposed\" sizes=\"167x167\" href=\"https://img3.doubanio.com/f/talion/0c233ada957a95e632f81607e30230d16e8293e8/pics/icon/m_logo_167.png\">\n",
      "        <link rel=\"apple-touch-icon-precomposed\" sizes=\"180x180\" href=\"https://img3.doubanio.com/f/talion/8e7b9cbd097c02972c4191aa03fdb084524505c4/pics/icon/m_logo_180.png\">\n",
      "        <link rel=\"apple-touch-icon-precomposed\" sizes=\"200x200\" href=\"https://img3.doubanio.com/f/talion/7c6364aadf368dc0210173c940cfd0f64ceddc66/pics/icon/m_logo_200.png\">\n",
      "        <!-- For Android -->\n",
      "        <link rel=\"icon\" sizes=\"128x128\" href=\"https://img3.doubanio.com/f/talion/b99497ff8538c54b9ba6f40867da932396ab2562/pics/icon/m_logo_152.png\">\n",
      "        <link rel=\"icon\" sizes=\"192x192\" href=\"https://img3.doubanio.com/f/talion/7c6364aadf368dc0210173c940cfd0f64ceddc66/pics/icon/m_logo_200.png\">\n",
      "        <!-- For Web App Manifest -->\n",
      "        \n",
      "  \n",
      "  \n",
      "  <link rel=\"manifest\" href=\"/pwa/manifest?path=/&short_name=%E8%B1%86%E7%93%A3%28%E6%89%8B%E6%9C%BA%E7%89%88%29&name=%E8%B1%86%E7%93%A3%28%E6%89%8B%E6%9C%BA%E7%89%88%29\">\n",
      "  <meta name=\"theme-color\" content=\"#42bd56\">\n",
      "\n",
      "\n",
      "        <link type=\"application/opensearchdescription+xml\" rel=\"search\" href=\"/opensearch\"/>\n",
      "            <!-- hm baidu -->\n",
      "            <script type=\"text/javascript\">\n",
      "            var _hmt = _hmt || [];\n",
      "            (function() {\n",
      "              var hm = document.createElement(\"script\");\n",
      "              hm.src = \"https://hm.baidu.com/hm.js?6d4a8cfea88fa457c3127e14fb5fabc2\";\n",
      "              var s = document.getElementsByTagName(\"script\")[0];\n",
      "              s.parentNode.insertBefore(hm, s);\n",
      "            })();\n",
      "            _hmt.logTruncate = function(type) {\n",
      "                _hmt.push(['_trackEvent', 'article', 'truncate', type, 1]);\n",
      "            }\n",
      "            </script>\n",
      "    </head>\n",
      "    <body ontouchstart=\"\">\n",
      "        \n",
      "        \n",
      "\n",
      "        \n",
      "    \n",
      "    \n",
      "        <div id=\"TalionNav\"><header class=\"TalionNav\"><div class=\"TalionNav-primary\"><a href=\"/\" class=\"logo\"><h1>豆瓣</h1></a><nav><span class=\"\"></span><a href=\"javascript:;;\" class=\"openapp\" id=\"topnav-openapp\">打开豆瓣App</a></nav></div><div class=\"TalionNav-secondary\"><a class=\"close-nav\" href=\"javascript:;\">关闭</a><form action=\"/search\" method=\"GET\"><div><input name=\"query\" type=\"search\"></div></form><ul><li><div><a href=\"/movie\" target=\"_blank\"><strong style=\"color: #2384E8;\">电影</strong><span>影院热映</span></a><a href=\"https://douban.com/location\" target=\"\"><strong style=\"color: #E6467E;\">同城</strong><span>周末活动</span></a><a href=\"https://read.douban.com\" target=\"\"><strong style=\"color: #9F7860;\">阅读</strong><span>电子书</span></a><a href=\"/status\" target=\"_blank\"><strong style=\"color: #E1644D;\">广播</strong><span>友邻动态</span></a></div></li><li><div><a href=\"/tv\" target=\"_blank\"><strong style=\"color: #7A6ADB;\">电视</strong><span>正在热播</span></a><a href=\"/group\" target=\"_blank\"><strong style=\"color: #2AB8CC;\">小组</strong><span>志趣相投</span></a><a href=\"/game\" target=\"_blank\"><strong style=\"color: #5774C5;\">游戏</strong><span>虚拟世界</span></a><a href=\"https://douban.fm\" target=\"\"><strong style=\"color: #40CFA9;\">FM</strong><span>红心歌单</span></a></div></li><li><div><a href=\"/book\" target=\"_blank\"><strong style=\"color: #9F7860;\">图书</strong><span>畅销排行</span></a><a href=\"/music\" target=\"_blank\"><strong style=\"color: #F48F2E;\">音乐</strong><span>新碟榜</span></a><a href=\"/mobileapp\" target=\"_blank\"><strong style=\"color: #596CDD;\">应用</strong><span>玩手机</span></a><a href=\"https://market.douban.com/?utm_campaign=mobile_web_douban_nav&amp;utm_source=douban&amp;utm_medium=mobile_web\" target=\"\"><strong style=\"color: #42BD56;\">豆品</strong><span>生活美学</span></a></div></li></ul><div class=\"navBottom\"><div class=\"nav-item\"><a class=\"toUser\" href=\"/mine/\">我的豆瓣</a><a class=\"toExit\" href=\"https://accounts.douban.com/logout?ck=undefined&amp;redir=http://accounts.douban.com/passport/login\">退出豆瓣</a></div><div class=\"nav-item\"><a class=\"toPC\" href=\"/to_pc/?url=about%3Ablank\">使用桌面版</a><a class=\"toApp\">使用豆瓣App</a></div></div></div></header></div>\n",
      "\n",
      "\n",
      "        <div class=\"page\">\n",
      "            \n",
      "    <div class=\"card\">\n",
      "        <ul class=\"quick-nav\">\n",
      "            <li>\n",
      "                <a href=\"/movie/nowintheater?loc_id=108288\">影院热映</a>\n",
      "            </li>\n",
      "              <li>\n",
      "                  <a href=\"/book/hotnonfiction/\">最受关注图书</a>\n",
      "              </li>\n",
      "            <li>\n",
      "                <a id=\"hot-topics\" href=\"https://m.douban.com/time/?dt_time_source=douban-msite_shortcut\">豆瓣时间</a>\n",
      "            </li>\n",
      "            <li>\n",
      "                <a href=\"https://www.douban.com/doubanapp/app?channel=card_home&direct_dl=1\">使用豆瓣App</a>\n",
      "            </li>\n",
      "        </ul>\n",
      "        <section id=\"recommend-feed\"></section>\n",
      "    </div>\n",
      "\n",
      "        </div>\n",
      "\n",
      "        <script src=\"https://img3.doubanio.com/f/talion/ee8e0c54293aefb5709ececbdf082f8091ad5e49/js/card/zepto.min.js\"></script>\n",
      "        <script src=\"https://img3.doubanio.com/f/talion/623e2eaf89ec30075943ef7ffa57c00aee9a4b0d/js/card/main.js\"></script>\n",
      "        <script src=\"https://img3.doubanio.com/f/talion/00b50b657d0a2bb4d58dc336d996fdb774431842/js/lib/douban-ad-helper.js\"></script>\n",
      "\n",
      "\n",
      "\n",
      "        \n",
      "    \n",
      "  \n",
      "\n",
      "\n",
      "        \n",
      "  \n",
      "\n",
      "  \n",
      "        <script src=\"https://img3.doubanio.com/f/talion/88fc2b21c8dda5c93aa4c011eb15b74f8850978f/js/lib/react/15.3.0/react-all.min.js\"></script>\n",
      "\n",
      "\n",
      "  <script type=\"text/javascript\">\n",
      "    var userCfg = {}\n",
      "  </script>\n",
      "\n",
      "  \n",
      "\n",
      "  \n",
      "  \n",
      "\n",
      "\n",
      "\n",
      "        <script type=\"text/javascript\" src=\"https://img3.doubanio.com/misc/mixed_static/588f7e500ec86180.js\"></script>\n",
      "        \n",
      "\n",
      "\n",
      "<script type=\"text/javascript\" data-mobile=\"true\">\n",
      "    (function (global) {\n",
      "        var newNode = global.document.createElement('script'),\n",
      "            existingNode = global.document.getElementsByTagName('script')[0],\n",
      "            adSource = '//erebor.douban.com/',\n",
      "            userId = '',\n",
      "            browserId = 'fgkMjnpMruQ',\n",
      "            criteria = '3:/',\n",
      "            preview = '',\n",
      "            debug = false;\n",
      "\n",
      "        global.DoubanAdRequest = {src: adSource, uid: userId, bid: browserId, crtr: criteria, prv: preview, debug: debug};\n",
      "\n",
      "        newNode.setAttribute('type', 'text/javascript');\n",
      "        newNode.setAttribute('src', 'https://img3.doubanio.com/f/adjs/d498017e21bc47257ad38e9c1a43d4d0f97caaa4/ad.release.js');\n",
      "        newNode.setAttribute('async', true);\n",
      "        existingNode.parentNode.insertBefore(newNode, existingNode);\n",
      "    })(this);\n",
      "</script>\n",
      "\n",
      "\n",
      "        \n",
      "  \n",
      "\n",
      "\n",
      "        <script type='text/javascript'>\n",
      "            \n",
      "            ;(function(global) {\n",
      "                if (window.DoubanAdRequest) {\n",
      "                    window.DoubanAdRequest.filter = []\n",
      "                }\n",
      "                global.DoubanAdSlots = global.DoubanAdSlots || []\n",
      "            })(window);\n",
      "        </script>\n",
      "            <!-- Google Tag Manager -->\n",
      "<!-- Global site tag (gtag.js) - Google Analytics -->\n",
      "<script async src=\"https://www.googletagmanager.com/gtag/js?id=UA-53594431-7\"></script>\n",
      "<script>\n",
      "  window.dataLayer = window.dataLayer || [];\n",
      "  function gtag(){dataLayer.push(arguments);}\n",
      "  gtag('js', new Date());\n",
      "\n",
      "  gtag('config', 'UA-53594431-7', { sample_rate: .1, site_speed_sample_rate: .0001 });\n",
      "</script>\n",
      "<!-- End Google Analytics -->\n",
      "\n",
      "        \n",
      "\n",
      "\n",
      "\n",
      "\n",
      "\n",
      "\n",
      "        <script type='text/javascript'>\n",
      "        (function(){\n",
      "            var site_list = window.white_site_list || new RegExp ([\n",
      "                '^https?://(.+\\\\.douban\\\\.com',\n",
      "                '|web[0-9]?\\\\.qq\\\\.com',\n",
      "                '|hao\\\\.qq\\\\.com',\n",
      "                '|(hao\\\\.)*360\\\\.cn',\n",
      "                '|so\\\\.com',\n",
      "                '|www\\\\.soso\\\\.com',\n",
      "                '|(www\\\\.)?growingio\\\\.com',\n",
      "                '|m-douban-com\\\\.mipcdn\\\\.com',\n",
      "                '|.+\\\\.baidu\\\\.com',\n",
      "                ')(\\\\:[\\\\d]+)?/'\n",
      "            ].join(''));\n",
      "            if (self !== top && document.referrer.search(site_list) === -1) {\n",
      "                top.location = self.location;\n",
      "            }\n",
      "        })();\n",
      "        </script>\n",
      "    </body>\n",
      "</html>\n",
      "\n",
      "\n",
      "\n",
      "\n",
      "\n",
      "\n",
      "\n",
      "\n",
      "\n",
      "\n",
      "\n",
      "\n",
      "\n",
      "\n",
      "\n"
     ]
    }
   ],
   "source": [
    "from urllib import request\n",
    "req = request.Request('http://www.douban.com/')\n",
    "req.add_header('User-Agent', 'Mozilla/6.0 (iPhone; CPU iPhone OS 8_0 like Mac OS X) AppleWebKit/536.26 (KHTML, like Gecko) Version/8.0 Mobile/10A5376e Safari/8536.25')\n",
    "with request.urlopen(req) as f:\n",
    "    print('Status:', f.status, f.reason)\n",
    "    for k, v in f.getheaders():\n",
    "        print('%s: %s' % (k, v))\n",
    "    print('Data:', f.read().decode('utf-8'))\n"
   ]
  },
  {
   "cell_type": "markdown",
   "metadata": {},
   "source": [
    "#### Post\n",
    "如果要以POST发送一个请求，只需要把参数data以bytes形式传入"
   ]
  },
  {
   "cell_type": "code",
   "execution_count": null,
   "metadata": {},
   "outputs": [],
   "source": [
    "from urllib import request, parse\n",
    "print('Login to weibo.cn...')\n",
    "email = input('Email: ')\n",
    "passwd = input('Password: ')\n",
    "login_data = parse.urlencode([\n",
    "    ('username', email),\n",
    "    ('password', passwd),\n",
    "    ('entry', 'mweibo'),\n",
    "    ('client_id', ''),\n",
    "    ('savestate', '1'),\n",
    "    ('ec', ''),\n",
    "    ('pagerefer', 'https://passport.weibo.cn/signin/welcome?entry=mweibo&r=http%3A%2F%2Fm.weibo.cn%2F')\n",
    "])\n",
    "\n",
    "req = request.Request('https://passport.weibo.cn/sso/login')\n",
    "req.add_header('Origin', 'https://passport.weibo.cn')\n",
    "req.add_header('User-Agent', 'Mozilla/6.0 (iPhone; CPU iPhone OS 8_0 like Mac OS X) AppleWebKit/536.26 (KHTML, like Gecko) Version/8.0 Mobile/10A5376e Safari/8536.25')\n",
    "req.add_header('Referer', 'https://passport.weibo.cn/signin/login?entry=mweibo&res=wel&wm=3349&r=http%3A%2F%2Fm.weibo.cn%2F')\n",
    "\n",
    "with request.urlopen(req, data=login_data.encode('utf-8')) as f:\n",
    "    print('Status:', f.status, f.reason)\n",
    "    for k, v in f.getheaders():\n",
    "        print('%s: %s' % (k, v))\n",
    "    print('Data:', f.read().decode('utf-8'))\n"
   ]
  },
  {
   "cell_type": "markdown",
   "metadata": {},
   "source": [
    "## 数据库"
   ]
  },
  {
   "cell_type": "markdown",
   "metadata": {},
   "source": [
    "### sqlite"
   ]
  },
  {
   "cell_type": "code",
   "execution_count": 32,
   "metadata": {},
   "outputs": [
    {
     "name": "stdout",
     "output_type": "stream",
     "text": [
      "1\n",
      "[('1', 'Michael')]\n"
     ]
    }
   ],
   "source": [
    "#由于SQLite的驱动内置在Python标准库中，所以我们可以直接来操作SQLite数据库。\n",
    "# 导入SQLite驱动:\n",
    "import sqlite3\n",
    "\n",
    "# 连接到SQLite数据库\n",
    "# 数据库文件是test.db\n",
    "# 如果文件不存在，会自动在当前目录创建:\n",
    "conn = sqlite3.connect('D:/DailyCleaning/test.db')\n",
    "\n",
    "# 创建一个Cursor:\n",
    "cursor = conn.cursor()\n",
    "\n",
    "# 执行一条SQL语句，创建user表:\n",
    "cursor.execute('create table if not exists user(id varchar(20) primary key, name varchar(20))')\n",
    "\n",
    "# 继续执行一条SQL语句，插入一条记录:\n",
    "cursor.execute(\"insert into user (id, name) values ('1', 'Michael')\")\n",
    "\n",
    "# 通过rowcount获得插入的行数:\n",
    "print(cursor.rowcount)\n",
    "\n",
    "# 关闭Cursor:\n",
    "cursor.close()\n",
    "\n",
    "# 提交事务:\n",
    "conn.commit()\n",
    "\n",
    "# 关闭Connection:\n",
    "conn.close()\n",
    "\n",
    "#我们再试试查询记录：\n",
    "conn = sqlite3.connect('D:/DailyCleaning/test.db')\n",
    "cursor = conn.cursor()\n",
    "# 执行查询语句:\n",
    "cursor.execute('select * from user where id=?', ('1',))\n",
    "# 获得查询结果集:\n",
    "values = cursor.fetchall()\n",
    "print(values)\n",
    "cursor.close()\n",
    "conn.close()\n"
   ]
  },
  {
   "cell_type": "code",
   "execution_count": null,
   "metadata": {},
   "outputs": [],
   "source": []
  },
  {
   "cell_type": "code",
   "execution_count": null,
   "metadata": {},
   "outputs": [],
   "source": []
  },
  {
   "cell_type": "code",
   "execution_count": null,
   "metadata": {},
   "outputs": [],
   "source": []
  }
 ],
 "metadata": {
  "kernelspec": {
   "display_name": "Python 3",
   "language": "python",
   "name": "python3"
  },
  "language_info": {
   "codemirror_mode": {
    "name": "ipython",
    "version": 3
   },
   "file_extension": ".py",
   "mimetype": "text/x-python",
   "name": "python",
   "nbconvert_exporter": "python",
   "pygments_lexer": "ipython3",
   "version": "3.7.0"
  },
  "toc": {
   "base_numbering": 1,
   "nav_menu": {},
   "number_sections": true,
   "sideBar": true,
   "skip_h1_title": false,
   "title_cell": "Table of Contents",
   "title_sidebar": "Contents",
   "toc_cell": false,
   "toc_position": {
    "height": "calc(100% - 180px)",
    "left": "10px",
    "top": "150px",
    "width": "270px"
   },
   "toc_section_display": true,
   "toc_window_display": true
  },
  "widgets": {
   "application/vnd.jupyter.widget-state+json": {
    "state": {},
    "version_major": 2,
    "version_minor": 0
   }
  }
 },
 "nbformat": 4,
 "nbformat_minor": 2
}
