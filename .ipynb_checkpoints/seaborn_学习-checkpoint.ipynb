{
 "cells": [
  {
   "cell_type": "code",
   "execution_count": null,
   "metadata": {},
   "outputs": [],
   "source": []
  },
  {
   "cell_type": "markdown",
   "metadata": {},
   "source": [
    "Seaborn属于Matplotlib的一个高级接口，为我们进行数据的可视化分析提供了极大的方便。"
   ]
  },
  {
   "cell_type": "markdown",
   "metadata": {},
   "source": [
    "## 常用函数"
   ]
  },
  {
   "cell_type": "raw",
   "metadata": {},
   "source": [
    "\n",
    "import seaborn as sns\n",
    "0. 条形图(作对比) sns.barplot()\n",
    "\n",
    "1. 直方图/灰度图(看分布): sns.distplot()\n",
    "    * 常用参数:\n",
    "       - kde:是否绘制kde(核密度)曲线\n",
    "       - bins:指定直方的个数\n",
    "       - rug:是否在轴上绘制rugplot\n",
    "\n",
    "2. 散点图(看两变变量间的相关关系): sns.jointplot()\n",
    "    * 常用参数:\n",
    "       + kind:该参数指定绘图的方式\n",
    "            - 默认散点图\n",
    "            - hex:六角箱图\n",
    "            - kde:核函数估计图\n",
    "            \n",
    "3. 数据集中的两两关系(看数据集中任意两变量间的相关关系): sns.pairplot()\n",
    "  * 因为pairplot是对所有列绘制两两关系，所以会绘制columns*columns个图.\n",
    "  * 所以用于绘制的pairplot的DataFrame的列不要太多，如果有很多列，需要先整理一下\n",
    "\n",
    "4. 绘制线性回归模型: sns.lmplot()\n",
    "    * 最简单的方式：散点图 + 线性回归 + 95%置信区间\n",
    "    * sns.lmplot(x=\"xColName\", y=\"yColName\", data=dataSet)\n",
    "    *参数: \n",
    "        - ci: 置信区间\n",
    "        - order: 指定最小二乘法拟合的阶数\n",
    "        - logistic: 是否使用逻辑回归拟合\n",
    "        - hue: 可以对指定的变量按值分组\n",
    "          \n",
    "5. 提琴图: sns.violinplot()\n",
    "    * 箱线图 + KDE(Kernel Distribution Estimation)    \n",
    "    \n",
    "6. 拆线图: sns.pointplot()\n",
    "\n",
    "7. 分类子图: sns.factorplot()\n",
    "    \n",
    "8. 多分类标准的子图: \n",
    "    g = sns.PairGrid(tips, x_vars=[\"x1ColName\", \"x2ColName\", \"x3ColName\"],\n",
    "             y_vars=[\"y1ColName\", \"y2ColName\"],\n",
    "             aspect=.75, size=3.5)\n",
    "    g.map(sns.violinplot, palette=\"bright\");\n",
    "    "
   ]
  },
  {
   "cell_type": "code",
   "execution_count": 1,
   "metadata": {},
   "outputs": [
    {
     "name": "stdout",
     "output_type": "stream",
     "text": [
      "Object `sns.pointplot` not found.\n"
     ]
    }
   ],
   "source": [
    "sns.pointplot?"
   ]
  },
  {
   "cell_type": "code",
   "execution_count": null,
   "metadata": {},
   "outputs": [],
   "source": []
  },
  {
   "cell_type": "code",
   "execution_count": null,
   "metadata": {},
   "outputs": [],
   "source": []
  }
 ],
 "metadata": {
  "kernelspec": {
   "display_name": "Python 3",
   "language": "python",
   "name": "python3"
  },
  "language_info": {
   "codemirror_mode": {
    "name": "ipython",
    "version": 3
   },
   "file_extension": ".py",
   "mimetype": "text/x-python",
   "name": "python",
   "nbconvert_exporter": "python",
   "pygments_lexer": "ipython3",
   "version": "3.7.0"
  },
  "toc": {
   "base_numbering": 1,
   "nav_menu": {},
   "number_sections": true,
   "sideBar": true,
   "skip_h1_title": false,
   "title_cell": "Table of Contents",
   "title_sidebar": "Contents",
   "toc_cell": false,
   "toc_position": {},
   "toc_section_display": true,
   "toc_window_display": false
  }
 },
 "nbformat": 4,
 "nbformat_minor": 2
}
