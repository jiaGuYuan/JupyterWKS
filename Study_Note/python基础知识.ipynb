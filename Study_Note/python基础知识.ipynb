{
 "cells": [
  {
   "cell_type": "code",
   "execution_count": null,
   "metadata": {},
   "outputs": [],
   "source": [
    "#使每个Cell可以同时输出多个语句.仅对当前文件有效\n",
    "from IPython.core.interactiveshell import InteractiveShell\n",
    "InteractiveShell.ast_node_interactivity = \"all\"\n",
    "\n",
    "#注:如果其他Cell只输出了一个结果,可先执行该Cell,再执行其他Cell"
   ]
  },
  {
   "cell_type": "markdown",
   "metadata": {},
   "source": [
    "# python基础"
   ]
  },
  {
   "cell_type": "markdown",
   "metadata": {},
   "source": [
    "## 基本类型和操作"
   ]
  },
  {
   "cell_type": "markdown",
   "metadata": {},
   "source": [
    "### 查看帮助"
   ]
  },
  {
   "cell_type": "code",
   "execution_count": null,
   "metadata": {
    "code_folding": []
   },
   "outputs": [],
   "source": [
    "#查看帮助\n",
    "help(\"keywords\") \n",
    "help(\"modules\")\n",
    "#help(class)\n",
    "#help(functionName)\n",
    "help(abs)"
   ]
  },
  {
   "cell_type": "markdown",
   "metadata": {},
   "source": [
    "### 查看类型"
   ]
  },
  {
   "cell_type": "code",
   "execution_count": null,
   "metadata": {},
   "outputs": [],
   "source": [
    "#查看类型\n",
    "type(1)\n",
    "type(1.0)\n",
    "type('str')\n",
    "type(())\n",
    "type([])\n",
    "type({})\n",
    "\n",
    "#函数类\n",
    "import types\n",
    "dir(types) #列举所有的函数类型\n"
   ]
  },
  {
   "cell_type": "markdown",
   "metadata": {},
   "source": [
    "### 局部变量&全局变量"
   ]
  },
  {
   "cell_type": "code",
   "execution_count": null,
   "metadata": {},
   "outputs": [],
   "source": [
    "# 在函数外使用的变量为全局变量; \n",
    "# 在函数内使用的变量为局部变量, 若要在函数内使用全局变量,需要使用gloabl先声明(gloabl varName声明时不能赋值)\n",
    "# 变量的有效期为其每一次被使用至不被使用\n",
    "\n",
    "g_var = \"helloWorld!\" #这个是全局变量\n",
    "g_var2 = \"helloWorld!\" #这个是全局变量\n",
    "\n",
    "def func(variableObj, temp_var):\n",
    "    global g_var\n",
    "    g_var = \"hello python\"\n",
    "    g_var2 = \"hello python\"  #没有使用gloabl声明,所以这个g_var是func中的一个局部变量\n",
    "    temp_var = \"hello python\"\n",
    "    t_var = \"hello python\"\n",
    "    variableObj.append(\"hello python\")\n",
    "    #注意: 这里参数variableObj和temp_var都是临时变量\n",
    "    #但是在例中variableObj对应一个可变对象, temp_var对应一个不可变对象\n",
    "    #且variableObj只是对可变对象进行操作，并没有改变它所引用的对象\n",
    "    \n",
    "    variableObj = \"xxx\"\n",
    "    \n",
    "\n",
    "if __name__ == \"__main__\":\n",
    "    print(g_var)\n",
    "    varObj = []     #是一个全局变量,在该语句被执行后可在其它地方访问\n",
    "    onlyReadObj = \"onlyReadObj\"\n",
    "    func(varObj, onlyReadObj)\n",
    "    print(g_var)\n",
    "    print(g_var2)\n",
    "    print(varObj)\n",
    "    print(onlyReadObj)\n",
    "    #print(temp_var) #--temp_var只在func函数中有效\n",
    "    #print(t_var) #--t_var只在func函数中有效\n",
    "    \n"
   ]
  },
  {
   "cell_type": "markdown",
   "metadata": {},
   "source": [
    "### 单引号('),双引号(\"),三引号(''', \"\"\")"
   ]
  },
  {
   "cell_type": "code",
   "execution_count": null,
   "metadata": {},
   "outputs": [],
   "source": [
    "#单引号与双引号是等价的,但单引号与双引号不配套\n",
    "#单引号中的双引号不需要转义, 双引号中的单引号也不需要转义\n",
    "#单引号与双引号嵌套使用可以避免对相互之间使用转义符\n",
    "str1 = 'The teacher said:\\r\\n\\t\"Practice makes perfect\" is a very famous proverb.'\n",
    "str2 = \"I'm a big fan of Python.\"\n",
    "print(str1)\n",
    "print(str2)\n",
    "\n",
    "\n",
    "#使用三引号保持书写格式输出(转义符仍然是生效的).'\\'将当前行与下一行连接成一行\n",
    "str3 = '''\\\n",
    "List of name:\n",
    "Hua Li\n",
    "Chao Deng'''\n",
    "print(str3)"
   ]
  },
  {
   "cell_type": "markdown",
   "metadata": {},
   "source": [
    "### 使用书面字符串(不进行转义)"
   ]
  },
  {
   "cell_type": "code",
   "execution_count": null,
   "metadata": {},
   "outputs": [],
   "source": [
    "# 在字符串前加一个r,那么python解释器将不对后面的字符串进行转义\n",
    "strNoEscape = r\"\\r\\n\"\n",
    "print(strNoEscape)"
   ]
  },
  {
   "cell_type": "markdown",
   "metadata": {},
   "source": [
    "### 变量类型取决于值的类型"
   ]
  },
  {
   "cell_type": "code",
   "execution_count": null,
   "metadata": {},
   "outputs": [],
   "source": [
    "#变量无类型,值有类型(变量类型取决于值的类型)\n",
    "a = 12\n",
    "type(a)\n",
    "a = \"str\"\n",
    "type(a)"
   ]
  },
  {
   "cell_type": "markdown",
   "metadata": {},
   "source": [
    "### 检查对象所属类型\n",
    "（对象为类型的子类时也返回true）"
   ]
  },
  {
   "cell_type": "code",
   "execution_count": null,
   "metadata": {},
   "outputs": [],
   "source": [
    "#验证变量类型: isinstance(varName, Type) --Type为type()查出的结果\n",
    "isinstance(1, int)\n",
    "isinstance(1.0, float)\n",
    "isinstance('str', str)\n",
    "isinstance((), tuple)\n",
    "isinstance([], list)\n",
    "isinstance({}, dict)\n",
    "\n",
    "isinstance(1, (int, float))\n"
   ]
  },
  {
   "cell_type": "markdown",
   "metadata": {},
   "source": [
    "### 检查变量是否可迭代"
   ]
  },
  {
   "cell_type": "code",
   "execution_count": null,
   "metadata": {},
   "outputs": [],
   "source": [
    "#验证变量是否可迭\n",
    "from collections import Iterable\n",
    "#isinstance(varName, Iterable)\n",
    "isinstance([], Iterable)"
   ]
  },
  {
   "cell_type": "markdown",
   "metadata": {},
   "source": [
    "### 除法'/' & '//'"
   ]
  },
  {
   "cell_type": "code",
   "execution_count": null,
   "metadata": {},
   "outputs": [],
   "source": [
    "# '/'保存小数(结果为float类型)\n",
    "10/3\n",
    "type(10/3)"
   ]
  },
  {
   "cell_type": "code",
   "execution_count": null,
   "metadata": {},
   "outputs": [],
   "source": [
    "#地板除法'//'(求模--结果为int类型; 类似C的求模'/')\n",
    "10//3\n",
    "type(10//3)"
   ]
  },
  {
   "cell_type": "markdown",
   "metadata": {},
   "source": [
    "### if"
   ]
  },
  {
   "cell_type": "code",
   "execution_count": null,
   "metadata": {
    "code_folding": []
   },
   "outputs": [],
   "source": [
    "a = 90\n",
    "if a > 80:\n",
    "    print('优')\n",
    "elif a > 60:\n",
    "    print('良')\n",
    "else:\n",
    "    print('继续努力')\n"
   ]
  },
  {
   "cell_type": "markdown",
   "metadata": {},
   "source": [
    "### for"
   ]
  },
  {
   "cell_type": "code",
   "execution_count": null,
   "metadata": {},
   "outputs": [],
   "source": [
    "for i in range(5, 10):  # range生成[start, end)序列, 通过list()函数可以转换为list\n",
    "    print(i)\n",
    "\n",
    "list(range(5, 10))"
   ]
  },
  {
   "cell_type": "markdown",
   "metadata": {},
   "source": [
    "### while"
   ]
  },
  {
   "cell_type": "code",
   "execution_count": null,
   "metadata": {},
   "outputs": [],
   "source": [
    "sum = 0\n",
    "n = 0\n",
    "while n < 10:\n",
    "    sum = sum + n\n",
    "    n = n + 1\n",
    "print(sum)\n",
    "\n",
    "#break 与 continue; 用法与C++一样"
   ]
  },
  {
   "cell_type": "markdown",
   "metadata": {},
   "source": [
    "### str与数字类型的互转"
   ]
  },
  {
   "cell_type": "code",
   "execution_count": null,
   "metadata": {},
   "outputs": [],
   "source": [
    "# str --> number\n",
    "moneyStr = '50'\n",
    "moneyInt = int(moneyStr)\n",
    "type(moneyInt)\n",
    "print(moneyInt)\n",
    "\n",
    "moneyStr = '50.5'\n",
    "moneyFloat = float(moneyStr)\n",
    "type(moneyFloat)\n",
    "print(moneyFloat)\n",
    "\n",
    "# number --> str\n",
    "moneyStr = str(moneyInt)\n",
    "type(moneyStr)\n",
    "print(moneyStr)"
   ]
  },
  {
   "cell_type": "markdown",
   "metadata": {},
   "source": [
    "### 字符串拼接\n",
    "\"格式化字符串\" % (对应格式化字符串的一个元组) "
   ]
  },
  {
   "cell_type": "code",
   "execution_count": null,
   "metadata": {},
   "outputs": [],
   "source": [
    "addr = \"%s/%s\" % (\"hunan\", \"huaihua\")\n",
    "print(addr)"
   ]
  },
  {
   "cell_type": "markdown",
   "metadata": {},
   "source": [
    "### input 输入"
   ]
  },
  {
   "cell_type": "code",
   "execution_count": null,
   "metadata": {},
   "outputs": [],
   "source": [
    "# input()返回的数据类型是str\n",
    "name = input('请输入名字:')\n",
    "print('输入的名字是:\\'', name)\n",
    "age = input('请输入年龄:')\n",
    "if int(age) < 18 :\n",
    "    print('未成年')\n",
    "else:\n",
    "    print('成年人')\n",
    "\n"
   ]
  },
  {
   "cell_type": "markdown",
   "metadata": {},
   "source": [
    "### 对a = 'ABC'的理解"
   ]
  },
  {
   "cell_type": "code",
   "execution_count": null,
   "metadata": {},
   "outputs": [],
   "source": [
    "#Python解释器干了两件事情：\n",
    "#1.在内存中创建了一个'ABC'的字符串；\n",
    "#2.在内存中创建了一个名为a的变量，并把它指向'abc'。\n",
    "a = 'ABC'\n",
    "b = a\n",
    "a = 'XYZ'\n",
    "print(b) #输出的是'ABC'还是'XYZ'?\n"
   ]
  },
  {
   "cell_type": "markdown",
   "metadata": {},
   "source": [
    "### 字符编码"
   ]
  },
  {
   "cell_type": "code",
   "execution_count": null,
   "metadata": {},
   "outputs": [],
   "source": [
    "#由于Python的字符串类型是str，在内存中以Unicode表示，一个字符对应若干个字节。\n",
    "#如果要在网络上传输，或者保存到磁盘上，就需要把str变为以字节为单位的bytes。\n",
    "#Python对bytes类型的数据用带b前缀的单引号或双引号表示：\n",
    "x = b'ABC'\n",
    "\n",
    "#以Unicode表示的str通过encode()方法可以编码为指定的bytes\n",
    "'ABC'.encode('ascii')\n",
    "'中文'.encode('utf-8')\n",
    "\n",
    "#要把bytes变为str，就需要用decode()方法：\n",
    "b'ABC'.decode('ascii')\n",
    "\n",
    "#要计算str包含多少个字符，可以用len()函数：(注意是计算字符数)\n",
    "len('ABC')  #3\n",
    "len('中文') #2\n"
   ]
  },
  {
   "cell_type": "markdown",
   "metadata": {},
   "source": [
    "### tuple"
   ]
  },
  {
   "cell_type": "code",
   "execution_count": null,
   "metadata": {},
   "outputs": [],
   "source": [
    "#元组tuple一旦初始化就不能修改， 可通过编号索引访问，可嵌套\n",
    "classmates = ('Michael', 'Bob', 'Tracy')\n",
    "type(classmates)\n",
    "print(classmates)\n",
    "print(classmates[1])\n",
    "\n",
    "# classmates[0] = 'mod' #error \n",
    "\n",
    "#单元素tuple的写法\n",
    "singleElm = (1, )"
   ]
  },
  {
   "cell_type": "markdown",
   "metadata": {},
   "source": [
    "### List"
   ]
  },
  {
   "cell_type": "code",
   "execution_count": null,
   "metadata": {},
   "outputs": [],
   "source": [
    "#列表，可修改。可通过编号索引访问，可嵌套\n",
    "classmates = ['Michael', 'Bob', 'Tracy']\n",
    "type(classmates)\n",
    "\n",
    "classmates.append('Adam')\n",
    "print(classmates)\n",
    "\n",
    "classmates.insert(1, 'Jack')\n",
    "print(classmates)\n",
    "\n",
    "classmates.pop()\n",
    "print(classmates)\n",
    "\n",
    "classmates[1] = 'Sarah'\n",
    "print(classmates)\n",
    "\n",
    "p = ['Bob', 'asp', 'php']\n",
    "\n",
    "classmates.extend(p) #合并不去重  <==> classmates += p\n",
    "print(classmates)\n",
    "\n",
    "classmates.append(p) #追加，将列表p当作一个元素加入(说明：正常使用时建议列表中的各元素类型一致)\n",
    "print(classmates)\n"
   ]
  },
  {
   "cell_type": "markdown",
   "metadata": {},
   "source": [
    "### dict"
   ]
  },
  {
   "cell_type": "code",
   "execution_count": null,
   "metadata": {},
   "outputs": [],
   "source": [
    "#字典,使用键-值（key-value）存储，具有极快的查找速度。\n",
    "#需要牢记的第一条就是dict的key必须是不可变对象。\n",
    "dictX = {'Michael': 95, 'Bob': 75, 'Tracy': 85}\n",
    "print(dictX['Michael'])\n",
    "\n",
    "#要避免key不存在的错误，有两种办法，\n",
    "#一是通过in判断key是否存在\n",
    "if 'Tracy' in dictX:\n",
    "    dictX['Tracy'] = 100\n",
    "print(dictX)\n",
    "    \n",
    "# 二是通过dict提供的get方法，如果key不存在，返回None，或者自己指定的value：\n",
    "if dictX.get('Michael') != None:\n",
    "    michaelGrade = dictX['Michael']\n",
    "    print(michaelGrade)\n",
    "if dictX.get('Michael', -1) != -1:\n",
    "    michaelGrade = dictX['Michael']\n",
    "    print(michaelGrade)\n",
    "\n",
    "#删除一个key，用pop(key)方法，对应的value也会从dict中删除：\n",
    "dictX.pop('Bob')\n",
    "print(dictX)\n",
    "\n",
    "#通过对一个不存在的key进行赋值来插入一个key-value对\n",
    "dictX['add'] = 99 \n",
    "print(dictX)\n",
    "\n",
    "#但访问不存在的对象会出错\n",
    "# print(dictX['none'])"
   ]
  },
  {
   "cell_type": "markdown",
   "metadata": {},
   "source": [
    "### set"
   ]
  },
  {
   "cell_type": "raw",
   "metadata": {},
   "source": [
    "set和dict类似，也是一组key的集合，但不存储value。\n",
    "由于key不能重复，所以，在set中，没有重复的key。\n",
    "可以通过[]list来创建set---- s = set([1, 2, 3, 2]) 重复元素在set中自动被过滤：\n",
    "通过add(key)方法可以添加元素到set中，可以重复添加，但不会有效果\n",
    "通过remove(key)方法可以删除元素.\n",
    "set可以看成数学意义上的无序和无重复元素的集合，因此，两个set可以做数学意义上的交集、并集等操作："
   ]
  },
  {
   "cell_type": "code",
   "execution_count": null,
   "metadata": {},
   "outputs": [],
   "source": [
    "s1 = set([1, 2, 3])\n",
    "s2 = set([2, 3, 4])\n",
    "print(s1 & s2) #交集\n",
    "print(s1 | s2) #合集\n",
    "print(s1 - s2) #差集\n",
    "print(set(s1).difference(set(s2)))  #<==>s1 - s2"
   ]
  },
  {
   "cell_type": "markdown",
   "metadata": {},
   "source": [
    "### 不变对象"
   ]
  },
  {
   "cell_type": "raw",
   "metadata": {},
   "source": [
    "在Python中，字符串、整数等都是不可变的，因此，可以放心地作为key。而list是可变的，就不能作为key：\n",
    "对于不变对象来说，调用对象自身的任意方法，也不会改变该对象自身的内容。\n",
    "相反，这些方法会创建新的对象并返回，这样，就保证了不可变对象本身永远是不可变的。\n"
   ]
  },
  {
   "cell_type": "code",
   "execution_count": null,
   "metadata": {},
   "outputs": [],
   "source": [
    "t = ('a', 'b', ['A', 'B'])\n",
    "t[2][0] = 'X'   #正确，说明：tuple不可变类型，这里t的第三个元素是list类型，我们改变的是\n",
    "                #t[2][0]所指向的元素， t[2]并没有改变（即tuple的list元素并没有改变）\n",
    "#对tuple元素不能修改的理解是--指向不变。\n",
    "#对python元素的理解是----C/C++中的高级指针，变量赋值是改变指针的指向\n",
    "print(t)"
   ]
  },
  {
   "cell_type": "markdown",
   "metadata": {},
   "source": [
    "### 多元赋值,*号展开(解包)"
   ]
  },
  {
   "cell_type": "code",
   "execution_count": 1,
   "metadata": {},
   "outputs": [
    {
     "name": "stdout",
     "output_type": "stream",
     "text": [
      "200 100\n"
     ]
    },
    {
     "ename": "NameError",
     "evalue": "name 'e' is not defined",
     "output_type": "error",
     "traceback": [
      "\u001b[1;31m---------------------------------------------------------------------------\u001b[0m",
      "\u001b[1;31mNameError\u001b[0m                                 Traceback (most recent call last)",
      "\u001b[1;32m<ipython-input-1-30a29ef27c65>\u001b[0m in \u001b[0;36m<module>\u001b[1;34m()\u001b[0m\n\u001b[0;32m     16\u001b[0m \u001b[0ml1\u001b[0m\u001b[1;33m=\u001b[0m\u001b[1;33m[\u001b[0m\u001b[1;36m1\u001b[0m\u001b[1;33m,\u001b[0m\u001b[1;36m2\u001b[0m\u001b[1;33m,\u001b[0m\u001b[1;36m3\u001b[0m\u001b[1;33m,\u001b[0m\u001b[1;36m4\u001b[0m\u001b[1;33m,\u001b[0m\u001b[1;36m5\u001b[0m\u001b[1;33m,\u001b[0m\u001b[1;34m'6'\u001b[0m\u001b[1;33m]\u001b[0m\u001b[1;33m\u001b[0m\u001b[0m\n\u001b[0;32m     17\u001b[0m \u001b[0ma\u001b[0m\u001b[1;33m,\u001b[0m\u001b[0mb\u001b[0m\u001b[1;33m,\u001b[0m\u001b[1;33m*\u001b[0m\u001b[0mc\u001b[0m\u001b[1;33m,\u001b[0m\u001b[0md\u001b[0m\u001b[1;33m=\u001b[0m\u001b[0ml1\u001b[0m\u001b[1;33m\u001b[0m\u001b[0m\n\u001b[1;32m---> 18\u001b[1;33m \u001b[0mprint\u001b[0m\u001b[1;33m(\u001b[0m\u001b[0ma\u001b[0m\u001b[1;33m,\u001b[0m\u001b[0mb\u001b[0m\u001b[1;33m,\u001b[0m\u001b[0mc\u001b[0m\u001b[1;33m,\u001b[0m\u001b[0md\u001b[0m\u001b[1;33m,\u001b[0m\u001b[0me\u001b[0m\u001b[1;33m)\u001b[0m\u001b[1;33m\u001b[0m\u001b[0m\n\u001b[0m\u001b[0;32m     19\u001b[0m \u001b[1;33m\u001b[0m\u001b[0m\n\u001b[0;32m     20\u001b[0m \u001b[1;31m#*号收集\u001b[0m\u001b[1;33m\u001b[0m\u001b[1;33m\u001b[0m\u001b[0m\n",
      "\u001b[1;31mNameError\u001b[0m: name 'e' is not defined"
     ]
    }
   ],
   "source": [
    "#多重赋值\n",
    "#a=100;b=100\n",
    "a=b=100\n",
    "\n",
    "#多元赋值\n",
    "#a=100;b=200\n",
    "a,b,c=100,200,200\n",
    "\n",
    "#交换赋值\n",
    "a,b=b,a\n",
    "print(a,b)\n",
    "\n",
    "#unpack解包\n",
    "l1=[1,2,3,4,5,'6']\n",
    "a,b,*c,d=l1\n",
    "print(a,b,c,d)\n",
    "\n",
    "#*号收集\n",
    "a,*b,c=l1\n",
    "print(a,b,c)\n",
    "\n",
    "#*号展开,针对序列\n",
    "l1=[1,2,3,4]\n",
    "s1='julyedu.com'\n",
    "[*l1,*s1]\n",
    "\n",
    "#*号展开,针对字典\n",
    "d1={'name':'machine learning 5th','add':'BJ,SH,*'}\n",
    "[*d1],{**d1,'date':'2018-7-30'}\n",
    "\n",
    "# ,号放在最后的解包\n",
    "l1=[[3,4,5]]\n",
    "a=l1\n",
    "b,=l1\n",
    "print(a,b)"
   ]
  },
  {
   "cell_type": "code",
   "execution_count": null,
   "metadata": {},
   "outputs": [],
   "source": []
  },
  {
   "cell_type": "markdown",
   "metadata": {},
   "source": [
    "## 函数"
   ]
  },
  {
   "cell_type": "code",
   "execution_count": null,
   "metadata": {},
   "outputs": [],
   "source": [
    "help(abs)"
   ]
  },
  {
   "cell_type": "code",
   "execution_count": null,
   "metadata": {},
   "outputs": [],
   "source": [
    "#函数也可以是一个变量\n",
    "abs_var = abs\n",
    "abs_var(-1)"
   ]
  },
  {
   "cell_type": "code",
   "execution_count": null,
   "metadata": {},
   "outputs": [],
   "source": [
    "#工具函数\n",
    "print(int(\"100\"))\n",
    "print(float(\"100.5\"))\n",
    "print(str(100.6))\n",
    "print(hex(255))\n"
   ]
  },
  {
   "cell_type": "markdown",
   "metadata": {},
   "source": [
    "### 函数定义"
   ]
  },
  {
   "cell_type": "code",
   "execution_count": null,
   "metadata": {},
   "outputs": [],
   "source": [
    "def my_abs(number):\n",
    "    if not isinstance(number, (int, float)):\n",
    "        raise TypeError(\"bad operand type\")\n",
    "    if number >= 0:\n",
    "        return number\n",
    "    else:\n",
    "        return -number\n",
    "    \n",
    "my_abs(-1)\n",
    "\n",
    "#无return <==> return <==> reutrn None\n",
    "#pass占位"
   ]
  },
  {
   "cell_type": "markdown",
   "metadata": {},
   "source": [
    "### 以元组的方式封装多值返回"
   ]
  },
  {
   "cell_type": "code",
   "execution_count": null,
   "metadata": {},
   "outputs": [],
   "source": [
    "import math\n",
    "\n",
    "def move(x, y, step, angle=0):\n",
    "    nx = x + step*math.cos(angle)\n",
    "    ny = y - step*math.sin(angle)\n",
    "    return nx,ny\n",
    "\n",
    "x,y = move(1, 1, 2, 0)\n",
    "type(move(1, 1, 2, 0))\n"
   ]
  },
  {
   "cell_type": "markdown",
   "metadata": {},
   "source": [
    "### 函数的参数类型\n",
    "必选参数: 位置参数.\n",
    "可选参数: 默认参数，可变参数，关键字参数"
   ]
  },
  {
   "cell_type": "code",
   "execution_count": null,
   "metadata": {},
   "outputs": [],
   "source": [
    "#位置参数是必须传递的参数, 如下number, pow均为位置参数（位置参数的顺序必须和形参顺序一致, 或者按照形参名来指定实参）\n",
    "def power(number, pow):\n",
    "    return number ** pow\n",
    "\n",
    "power(2, 3)\n",
    "power(pow=4, number=3)"
   ]
  },
  {
   "cell_type": "markdown",
   "metadata": {},
   "source": [
    "#### 默认参数（parameter=val）\n",
    "函数定义时形参以parameter=val提供，调用时可以不提供。\n",
    "必选参数在前，默认参数在后.\n",
    "python有多个默认参数时可以不提供最后的一个或多个默认参数，\n",
    "也可以不提供中间部分的默认参数，这时需要把后面提供的默认参数的名称写上（这与C++不同）.\n",
    "如： 有函数 def func(x, y='A', z=0):\n",
    "func(1, 'B') ---不提供默认参数z\n",
    "和 func(1, z=1) --不提供参数y(这时参数y之后的参数必须提供参数名)\n"
   ]
  },
  {
   "cell_type": "code",
   "execution_count": null,
   "metadata": {},
   "outputs": [],
   "source": [
    "#parameter=val 必选参数在前，默认参数在后\n",
    "def power(number, pow=2):\n",
    "    return number ** pow\n",
    "\n",
    "print(power(2))\n",
    "\n",
    "#默认参数必须指向不变对象！！！----否则容易掉坑里（不是语法错误）：如下\n",
    "def add_end(L=[]):\n",
    "    L.append('END')\n",
    "    return L\n",
    "print(add_end())\n",
    "print(add_end())\n",
    "#默认参数是[]，但是函数似乎每次都“记住了”上次添加了'END'后的list。\n",
    "#Python函数在定义的时候，默认参数L的值就被计算出来了，即[]，因为默认参数L也是一个变量，\n",
    "#它指向对象[]，每次调用该函数，如果改变了L的内容，则下次调用时，默认参数的内容就变了，不再是函数定义时的[]了。\n"
   ]
  },
  {
   "cell_type": "markdown",
   "metadata": {},
   "source": [
    "#### 可变参数（*parameter）\n",
    "函数定义时形参以*parameter形式提供，调用时var1,var2,var3的方式传参（或*tupleVar, *listVar）  --内部组装为一个tuple.\n",
    "可变参数允许你传入0个或任意个参数，这些可变参数在函数调用时自动组装为一个tuple.一个一个传递可变参数时,在函数内部组装成tuple; 直接传递list或tuple到函数时(外部组装),需要加一个'*'号"
   ]
  },
  {
   "cell_type": "code",
   "execution_count": null,
   "metadata": {},
   "outputs": [],
   "source": [
    "def calc_sum(*numbers):\n",
    "    print(type(numbers))\n",
    "    sum = 0\n",
    "    for n in numbers:\n",
    "        sum = sum + n * n\n",
    "    return sum\n",
    "\n",
    "nums = [1, 2, 3]\n",
    "ret = calc_sum(nums[0], nums[1], nums[2]) #在函数内部，参数numbers接收到的是一个tuple\n",
    "print(ret)\n",
    "\n",
    "#Python允许你在list或tuple前面加一个*号，把list或tuple的元素变成可变参数传进去：\n",
    "ret = calc_sum(*nums) #在函数内部，参数numbers接收到的是一个tuple\n",
    "print(ret)\n",
    "\n"
   ]
  },
  {
   "cell_type": "markdown",
   "metadata": {},
   "source": [
    "#### 关键字参数（**parameter）\n",
    "函数定义时形参以**parameter的方式提供，调用时以key1=val1,key2=val2的方式传递参数(或**dictVar)   --内部组装为一个dict. 关键字参数允许你传入0个或任意个key:value对，这些key:value对在函数内部自动组装为一个dict,这些key:value对在函数调用时自动组装为一个dict.传递key:value对时,在函数内部组装成tuple; 直接传递dict到函数时(外部组装),需要加'**'号"
   ]
  },
  {
   "cell_type": "code",
   "execution_count": null,
   "metadata": {},
   "outputs": [],
   "source": [
    "def person(name, age, **kw):\n",
    "    print('name:', name, 'age:', age, 'other:', kw)\n",
    "    return\n",
    "\n",
    "person('Bob', 35, city='Beijing')\n",
    "\n",
    "extra = {'city': 'Beijing', 'job': 'Engineer'}\n",
    "person('Jack', 24, city=extra['city'], job=extra['job'])\n",
    "person('Jack', 24, **extra) #直接传递dict到函数时(外部组装),需要加'**'号\n",
    "\n",
    "#注意： 注意kw获得的dict是extra的一份拷贝，对kw的改动不会影响到函数外的extra\n",
    "#对于关键字参数，函数的调用者可以传入任意不受限制的关键字参数。至于到底传入了哪些，就需要在函数内部通过kw检查。\n"
   ]
  },
  {
   "cell_type": "markdown",
   "metadata": {},
   "source": [
    "#### 命名关键字参数\n",
    "调用时需要key=xxx的形式提供参数(其中key必须与参数名命名关键字参数相同)。\n",
    "def person(name, age, *, job，city，country='中国') --*号后的位置参数即是命名关键字参数。可变参数后的位置参数也是命名参数"
   ]
  },
  {
   "cell_type": "code",
   "execution_count": null,
   "metadata": {},
   "outputs": [],
   "source": [
    "#如果要限制关键字参数的名字，就可以用命名关键字参数，例如，只接收city和job作为关键字参数。这种方式定义的函数如下：\n",
    "def person(name, age, *, job, city, country=\"中国\"):  #调用时需要city=xxx, job=xxx的形式提供命名参数\n",
    "    print(name, age, job, city, country)\n",
    "\n",
    "#和关键字参数**kw不同，命名关键字参数需要一个特殊分隔符*，*后面的参数被视为命名关键字参数。调用方式如下：\n",
    "person('Jack', 24, job='Engineer', city='Beijing')\n",
    "\n",
    "#如果函数定义中已经有了一个可变参数，后面跟着的命名关键字参数就不再需要一个特殊分隔符*了：\n",
    "def person(name, age, *args, job, city, country=\"中国\"):\n",
    "    print(name, age, args, job, city, country)\n",
    "    "
   ]
  },
  {
   "cell_type": "raw",
   "metadata": {},
   "source": [
    "说明：位置参数放最前， 默认参数放最后， 命名关键字参数放默认参数之前（尽量不要有命名参数字参数），可变参数和关键字参数放命名关键字参数之前。"
   ]
  },
  {
   "cell_type": "markdown",
   "metadata": {},
   "source": [
    "#### 尾递归\n",
    "解决递归调用栈溢出的方法是通过尾递归优化，事实上尾递归和循环的效果是一样的，所以，把循环看成是一种特殊的尾递归函数也是可以的。\n",
    "尾递归是指，在函数返回的时候，调用自身本身，并且，return语句不能包含表达式。这样，编译器或者解释器就可以把尾递归做优化，\n",
    "使递归本身无论调用多少次，都只占用一个栈帧，不会出现栈溢出的情况。\n"
   ]
  },
  {
   "cell_type": "code",
   "execution_count": null,
   "metadata": {},
   "outputs": [],
   "source": [
    "#算阶乘\n",
    "def fact(n):\n",
    "    return fact_iter(n, 1)\n",
    "\n",
    "def fact_iter(num, product):\n",
    "    if num==1:\n",
    "        return product\n",
    "    else:\n",
    "        return fact_iter(num-1, num*product)\n",
    "\n",
    "\n",
    "print(fact(10))\n"
   ]
  },
  {
   "cell_type": "markdown",
   "metadata": {},
   "source": [
    "## 高阶特性"
   ]
  },
  {
   "cell_type": "markdown",
   "metadata": {},
   "source": [
    "### 切片"
   ]
  },
  {
   "cell_type": "code",
   "execution_count": null,
   "metadata": {},
   "outputs": [],
   "source": [
    "from IPython.core.interactiveshell import InteractiveShell\n",
    "InteractiveShell.ast_node_interactivity = \"all\"\n",
    "\n",
    "#range(n)---产生[0, n)的序列\n",
    "L = [0, 1, 2, 3, 4]\n",
    "\n",
    "#切片: L[开始索引 ：结束索引-不包括它 ：步长]  \n",
    "L[0:3]  #切片，取L的第[0,3)个元素（第0，第1，第2 个元素）\n",
    "L[1:3]  #切片，取L的第[1,3)个元素 （第1，第2 个元素）\n",
    "L[:3]  #切片，取L的前3个元素\n",
    "\n",
    "L[-1]  #切片，取L的最后一个元素\n",
    "L[-3:] #切片，取L的后3个元素 <==>L[-3:0]\n",
    "L[::] #取L的第[0,len() )个元素 <==> L[0:len(L)]\n",
    "L[::-1] #取L的第[-1,-len()]个元素 <==>相当于将L逆置\n",
    "\n",
    "\n",
    "L = list(range(100)) #0，1，2，3......99\n",
    "L[2:20:2] #在第[2,20)个元素中每两个取一个 ： 2, 4, 6, 8, 10, 12, 14, 16, 18\n",
    "\n",
    "\n",
    "#tuple也是一种list，唯一区别是tuple不可变。因此，tuple也可以用切片操作，只是操作的结果仍是tuple：\n",
    "t = (0, 1, 2, 3, 4, 5)\n",
    "t[0:3]\n",
    "\n",
    "#字符串'xxx'也可以看成是一种list，每个元素就是一个字符。因此，字符串也可以用切片操作，只是操作结果仍是字符串：\n",
    "c = 'ABCDEFG'\n",
    "c[0:3]\n"
   ]
  },
  {
   "cell_type": "markdown",
   "metadata": {},
   "source": [
    "### 迭代"
   ]
  },
  {
   "cell_type": "code",
   "execution_count": null,
   "metadata": {},
   "outputs": [],
   "source": [
    "#只要是可迭代对象，无论是否可通过下标访问，都可以迭代，比如dict就可以迭代：\n",
    "\n",
    "d = {'a': 1, 'b': 2, 'c': 3}\n",
    "#按key迭代\n",
    "for key in d:\n",
    "    print(key)\n",
    "\n",
    "#按value迭代\n",
    "for value in d.values():\n",
    "    print(value)\n",
    "    \n",
    "#同时迭代key和value\n",
    "for k, v in d.items():\n",
    "    print(k, \":\", v)"
   ]
  },
  {
   "cell_type": "markdown",
   "metadata": {},
   "source": [
    "### 如何判断一个对象是可迭代对象呢？\n",
    "方法是通过collections模块的Iterable类型判断\n"
   ]
  },
  {
   "cell_type": "code",
   "execution_count": null,
   "metadata": {},
   "outputs": [],
   "source": [
    "from collections import Iterable\n",
    "\n",
    "isinstance('abc', Iterable) # str是否可迭代\n",
    "\n",
    "isinstance([1,2,3], Iterable) # list是否可迭代\n",
    "\n",
    "isinstance(123, Iterable) # 整数是否可迭代\n",
    "\n"
   ]
  },
  {
   "cell_type": "markdown",
   "metadata": {},
   "source": [
    "### 判断一个对象能否被调用（callable(obj)）"
   ]
  },
  {
   "cell_type": "code",
   "execution_count": null,
   "metadata": {},
   "outputs": [],
   "source": [
    "#重载__call__的对象是一个可调用对象。 --类比C++的函数对象(重载函数操作符())\n",
    "class Student(object):\n",
    "    def __init__(self, name):\n",
    "        self.name = name\n",
    "\n",
    "    def __call__(self): \n",
    "        print('My name is %s.' % self.name)\n",
    "\n",
    "s = Student(\"gjy\")\n",
    "if callable(s):\n",
    "    s()\n",
    "\n",
    "print(callable(abs))\n",
    "print(callable([1,2,3]))\n",
    "print(callable(None))\n",
    "    "
   ]
  },
  {
   "cell_type": "markdown",
   "metadata": {},
   "source": [
    "### 将list转换成基于下标的key和value"
   ]
  },
  {
   "cell_type": "code",
   "execution_count": null,
   "metadata": {},
   "outputs": [],
   "source": [
    "#Python内置的enumerate函数可以把一个list变成索引-元素对，这样就可以在for循环中同时迭代索引和元素本身：\n",
    "for i, value in enumerate(['A', 'B', 'C']):\n",
    "    print(i, \":\", value)\n"
   ]
  },
  {
   "cell_type": "markdown",
   "metadata": {},
   "source": [
    "### 列表生成式"
   ]
  },
  {
   "cell_type": "code",
   "execution_count": null,
   "metadata": {},
   "outputs": [],
   "source": [
    "#列出当前目录下的所有文件和目录名，可以通过一行代码实现：\n",
    "import os #导入os模块\n",
    "x = [d for d in os.listdir('.')] #os.listdir 可以列出文件和目录\n",
    "print(x)\n",
    "\n",
    "\n",
    "#筛选出偶数的平方：\n",
    "[x*x for x in range(1, 11) if x%2 == 0]\n",
    "\n",
    "#列表生成式是一次性创建出整个列表, 生成器是一次生成一个元素\n"
   ]
  },
  {
   "cell_type": "markdown",
   "metadata": {},
   "source": [
    "### 生成器"
   ]
  },
  {
   "cell_type": "code",
   "execution_count": null,
   "metadata": {},
   "outputs": [],
   "source": [
    "# 生成器是一次生成一个元素\n",
    "g = (x*x for x in range(10))\n",
    "type(g)\n",
    "\n",
    "#通过next()函数获得generator的下一个返回值：当生成器没有元素时，next()将抛出StopIteration的错误\n",
    "for n in g:\n",
    "    print(n)\n"
   ]
  },
  {
   "cell_type": "markdown",
   "metadata": {},
   "source": [
    "### b, a = a, b"
   ]
  },
  {
   "cell_type": "code",
   "execution_count": null,
   "metadata": {},
   "outputs": [],
   "source": [
    "# b, a = a, b 完成a,b的交换\n",
    "#相当于：\n",
    "#t = (a, b) # t是一个tuple\n",
    "#b = t[0]\n",
    "#a = t[1]\n",
    "\n",
    "a = 1\n",
    "b = 2\n",
    "b, a = a, b\n",
    "print(a, b)"
   ]
  },
  {
   "cell_type": "markdown",
   "metadata": {},
   "source": [
    "### 定义generator来实现斐波拉契数列\n",
    "generator和函数的执行流程不一样。函数是顺序执行，遇到return语句或者最后一行函数语句就返回。而变成generator的函数，在每次调用next()的时候执行，遇到yield语句返回，再次执行时从上次返回的yield语句处继续执行。\n",
    "注意：用for循环调用generator时，发现拿不到generator的return语句的返回值。\n",
    "如果想要拿到返回值，必须捕获StopIteration错误，返回值包含在StopIteration的value中"
   ]
  },
  {
   "cell_type": "code",
   "execution_count": null,
   "metadata": {},
   "outputs": [],
   "source": [
    "#使用了yield关键字的函数，是一个generator\n",
    "def fib(max):\n",
    "    n, a, b = 0, 0, 1\n",
    "    while n < max:\n",
    "        yield b\n",
    "        a, b = b, a + b\n",
    "        n = n + 1\n",
    "    return 'done'\n",
    "\n",
    "g = fib(10)\n",
    "for n in g:\n",
    "    print(n)\n"
   ]
  },
  {
   "cell_type": "markdown",
   "metadata": {},
   "source": [
    "### 迭代器\n",
    "可以直接作用于for循环的数据类型有以下几种：\n",
    "一类是集合数据类型，如list、tuple、dict、set、str等；\n",
    "一类是generator，包括生成器和带yield的generator function。\n",
    "这些可以直接作用于for循环的对象统称为可迭代对象：Iterable。\n",
    "可以使用isinstance()判断一个对象是否是Iterable对象.\n",
    "可以被next()函数调用并不断返回下一个值的对象称为迭代器：Iterator.\n",
    "集合数据类型如list、dict、str等是Iterable但不是Iterator，不过可以通过iter()函数获得一个Iterator对象.\n"
   ]
  },
  {
   "cell_type": "markdown",
   "metadata": {},
   "source": [
    "## 高阶函数"
   ]
  },
  {
   "cell_type": "markdown",
   "metadata": {},
   "source": [
    "### 函数式编程\n",
    "函数式编程的一个特点就是，允许把函数本身作为参数传入另一个函数，还允许返回一个函数！"
   ]
  },
  {
   "cell_type": "markdown",
   "metadata": {},
   "source": [
    "### map/reduce"
   ]
  },
  {
   "cell_type": "code",
   "execution_count": null,
   "metadata": {},
   "outputs": [],
   "source": [
    "#map()函数接收两个参数，一个是函数，一个是Iterable，\n",
    "#map将传入的函数依次作用到序列的每个元素，并把结果作为新的Iterator返回。\n",
    "def f(x):\n",
    "    return x * x\n",
    "\n",
    "r = map(f, [1, 2, 3, 4, 5, 6, 7, 8, 9])\n",
    "list(r)  #Iterator是惰性序列，因此通过list()函数让它把整个序列都计算出来并返回一个list。\n"
   ]
  },
  {
   "cell_type": "code",
   "execution_count": null,
   "metadata": {},
   "outputs": [],
   "source": [
    "#reduce把一个函数作用在一个序列[x1, x2, x3, ...]上，reduce必须接收两个参数，\n",
    "#reduce把结果继续和序列的下一个元素做累积计算，其效果就是：\n",
    "#reduce(f, [x1, x2, x3, x4]) <==> f(f(f(x1, x2), x3), x4)\n",
    "\n",
    "#把序列[1, 3, 5, 7, 9]变换成整数13579，reduce就可以派上用场：\n",
    "from functools import reduce\n",
    "def fn(x, y):\n",
    "    return x * 10 + y\n",
    "\n",
    "reduce(fn, [1, 3, 5, 7, 9])\n"
   ]
  },
  {
   "cell_type": "markdown",
   "metadata": {},
   "source": [
    "### python函数嵌套定义"
   ]
  },
  {
   "cell_type": "code",
   "execution_count": null,
   "metadata": {},
   "outputs": [],
   "source": [
    "from functools import reduce\n",
    "#str2int: 实现str-->int\n",
    "def str2int(numstr):\n",
    "    def fn(x, y):\n",
    "        return x * 10 + y\n",
    "    def char2num(chr):\n",
    "        return {'0': 0, '1': 1, '2': 2, '3': 3, '4': 4, '5': 5, '6': 6, '7': 7, '8': 8, '9': 9}[chr]\n",
    "    return reduce(fn, map(char2num, numstr))\n",
    "\n",
    "print(str2int(\"123\"))"
   ]
  },
  {
   "cell_type": "markdown",
   "metadata": {},
   "source": [
    "### filter\n",
    "Python内建的filter()函数用于过滤序列。\n",
    "和map()类似，filter()也接收一个函数和一个序列; 和map()不同的是，\n",
    "filter()把传入的函数依次作用于每个元素，然后根据返回值是True\n",
    "还是False决定保留还是丢弃该元素。---有点像C++标准算法中的谓词\n"
   ]
  },
  {
   "cell_type": "code",
   "execution_count": null,
   "metadata": {},
   "outputs": [],
   "source": [
    "#在一个list中，删掉偶数，只保留奇数，可以这么写：\n",
    "def is_odd(n):\n",
    "    return n % 2 == 1\n",
    "\n",
    "list(filter(is_odd, [1, 2, 4, 5, 6, 9, 10, 15]))\n"
   ]
  },
  {
   "cell_type": "markdown",
   "metadata": {},
   "source": [
    "### sorted\n",
    "排序算法; sorted()是一个高阶函数，可以接收一个key函数来实现自定义的排序\n"
   ]
  },
  {
   "cell_type": "code",
   "execution_count": null,
   "metadata": {},
   "outputs": [],
   "source": [
    "#按绝对值大小排序：\n",
    "sorted([36, 5, -12, 9, -21], key=abs)\n",
    "\n",
    "#key指定的函数将作用于list的每一个元素上，并根据key函数返回的结果进行排序\n",
    "#要进行反向排序，不必改动key函数，可以传入第三个参数reverse=True：\n",
    "sorted([36, 5, -12, 9, -21], key=abs, reverse=True)\n"
   ]
  },
  {
   "cell_type": "markdown",
   "metadata": {},
   "source": [
    "### 闭包（Closure）"
   ]
  },
  {
   "cell_type": "raw",
   "metadata": {},
   "source": [
    "如下:在函数lazy_sum中又定义了函数sum，并且，内部函数sum可以引用外部函数lazy_sum的参数和局部变量，\n",
    "     当lazy_sum返回函数sum时，相关参数和变量都保存在返回的函数中 -- 这种程序结构称为\"闭包（Closure）\""
   ]
  },
  {
   "cell_type": "code",
   "execution_count": null,
   "metadata": {},
   "outputs": [],
   "source": [
    "def lazy_sum(*args):\n",
    "    def sum():\n",
    "        ax = 0\n",
    "        for n in args:\n",
    "            ax = ax + n\n",
    "        return ax\n",
    "    return sum\n",
    "\n",
    "\n",
    "#注意:当我们调用lazy_sum()时，每次调用都会返回一个新的函数，即使传入相同的参数：\n",
    "f1 = lazy_sum(1, 3, 5, 7, 9)\n",
    "f2 = lazy_sum(1, 3, 5, 7, 9)\n",
    "f1 ==f2\n"
   ]
  },
  {
   "cell_type": "markdown",
   "metadata": {},
   "source": [
    "#### 闭包要注意的坑\n",
    "返回闭包时牢记的一点就是：返回的函数引用的外层变量，在函数返回之后不要做修改。\n",
    "具体为:返回函数不要引用任何外层函数的循环变量，或者后续会发生变化的变量."
   ]
  },
  {
   "cell_type": "code",
   "execution_count": null,
   "metadata": {},
   "outputs": [],
   "source": [
    "#我们来看一个例子：\n",
    "def count():\n",
    "    fs = []\n",
    "    for i in range(1, 4):\n",
    "        def f():\n",
    "             return i*i   #嵌套函数可以使用外层函数中的变量 --- i的值取决就被调用时,外层函数中i的值\n",
    "        fs.append(f)       #将函数f加入到列表中---注意:加入的是函数,而不是函数的执行结果\n",
    "    return fs\n",
    "\n",
    "f1, f2, f3 = count()\n",
    "f1()\n",
    "f2()\n",
    "f3()\n",
    "\n",
    "#在上面的例子中，count()调用创建了三个新的函数，加将函数加入了fs列表中。\n",
    "#你可能认为调用f1()，f2()和f3()结果应该是1，4，9，但实际结果是9，9，9\n",
    "#原因就在于返回的函数引用了的变量，在函数返回之前被修改了\n",
    "\n",
    "\n",
    "#如果一定要引用循环变量怎么办？\n",
    "#方法是再创建一个函数（再包一层），用该函数的参数绑定循环变量当前的值，无论该循环变量后续如何更改，已绑定到函数参数的值不变：\n",
    "def count():\n",
    "    def f(j):\n",
    "        def g():\n",
    "            return j*j\n",
    "        return g\n",
    "    fs = []\n",
    "    for i in range(1, 4):\n",
    "        fs.append(f(i)) # f(i)立刻被执行，因此i的当前值被传入f()\n",
    "    return fs\n",
    "#可利用lambda函数缩短代码\n"
   ]
  },
  {
   "cell_type": "markdown",
   "metadata": {},
   "source": [
    "### 查看python内置函数\n",
    "\"https://docs.python.org/3/library/functions.html\""
   ]
  },
  {
   "cell_type": "code",
   "execution_count": null,
   "metadata": {},
   "outputs": [],
   "source": [
    "#locals()--作用域内的局部变量集合。\n"
   ]
  },
  {
   "cell_type": "markdown",
   "metadata": {},
   "source": [
    "### 模块"
   ]
  },
  {
   "cell_type": "raw",
   "metadata": {},
   "source": [
    "一个目录即一个命名空间\n",
    "包--即包含__init__.py的目录,\n",
    "模块--py文件名（__init__.py的模块名为所在的目录）.\n",
    "A                  //包(包名/模块名为A)\n",
    "|--__init__.py     //模块(模块名为A)\n",
    "|--x.py            //模块(模块名为A.x)\n",
    "|--B               //包(包名/模块名为A.B)\n",
    "|  |--__init__.py  //模块(模块名为A.B)\n",
    "|  |--y.py         //模块(模块名为A.B.y)\n",
    "|--C               //目录(命名空间)\n",
    "|  |--z.py         //不在包下\n",
    "\n",
    "\n",
    "import hello：相当于加载了一个包吧，可以调用对象hello里的任何函数，形式为hello.xxx,比如hello.test()。\n",
    "from hello import test：个人感觉就相当于包hello中的test()函数，之后可以直接用test()函数了，\n",
    "如果只是导入了import hello,使用test()时必须加上hello.test()。\n"
   ]
  },
  {
   "cell_type": "markdown",
   "metadata": {},
   "source": [
    "## 面向对象编程"
   ]
  },
  {
   "cell_type": "raw",
   "metadata": {},
   "source": [
    "特殊变量 & 私有说明变量\n",
    "形如\"__varName__\"的变量是特殊变量。\n",
    "我们使用\"__varName\"的形式来定义一个私有变量。"
   ]
  },
  {
   "cell_type": "code",
   "execution_count": null,
   "metadata": {
    "code_folding": []
   },
   "outputs": [],
   "source": [
    "#私有说明:\n",
    "#    如果希望将变量定义为私有请使用'__'作为变量名前缀(如: __name, __address).\n",
    "#    Python解释器会自动在其变量名前加'_类名'。'__name'实际上变为'_CalssName__name'( CalssName为该变量所属类的类名).\n",
    "#    这里有个坑:\n",
    "class Student(object):\n",
    "    def __init__(self, name, score):\n",
    "        self.__name = name\n",
    "        self.__score = score\n",
    "    def get_name(self):\n",
    "        return self.__name\n",
    "        \n",
    "bart = Student('Bart Simpson', 98)\n",
    "bart.get_name()\n",
    "bart.__name = 'New Name' # 设置__name变量！\n",
    "bart.__name\n",
    "print(dir(bart)) #可以看到对象有'_Student__name'和'__name'属性\n",
    "\n",
    "#表面上看，外部代码“成功”地设置了__name变量，\n",
    "#但实际上这个__name变量和class内部的__name变量不是一个变量！\n",
    "#内部的__name变量已经被Python解释器自动改成了_Student__name，而外部代码给bart对象新增了一个__name变量。\n"
   ]
  },
  {
   "cell_type": "markdown",
   "metadata": {},
   "source": [
    "### 继承&多态"
   ]
  },
  {
   "cell_type": "code",
   "execution_count": null,
   "metadata": {},
   "outputs": [],
   "source": [
    "class Animal(object):\n",
    "    def run(self):\n",
    "        print('Animal is running...')\n",
    "\n",
    "class Dog(Animal):\n",
    "    def run(self):\n",
    "        print('Dog is running...')\n",
    "\n",
    "class Cat(Animal):\n",
    "    def run(self):\n",
    "        print('Cat is running...')\n",
    "\n",
    "class NoneAnimalSubclass:\n",
    "    def run(self):\n",
    "        print('NoneAnimalSubclass is running...')\n",
    "        \n",
    "def run_test(animal):\n",
    "    animal.run()\n",
    "\n",
    "if __name__ == \"__main__\":\n",
    "    run_test(Animal())\n",
    "    run_test(Dog())\n",
    "    run_test(Cat())\n",
    "    run_test(NoneAnimalSubclass())"
   ]
  },
  {
   "cell_type": "markdown",
   "metadata": {},
   "source": [
    "### 动态语言与静态语言多态的不同"
   ]
  },
  {
   "cell_type": "raw",
   "metadata": {},
   "source": [
    "python是动态语言，不同于C++静态语言。\n",
    "c++在实现多态时传入的对象必须是指定的类型或者它的子类型。\n",
    "对于Python这样的动态语言来说，我们只需要保证传入的对象有同名的被调方法即可(如上例中的NoneAnimalSubclass.run）方法就可以了。\n",
    "再次看上面的run_test函数。\n",
    "def run_test(animal):\n",
    "    animal.run()\n",
    "我们说run_test接受一个名为animal的参数，而不是说接受一个Animal类型的参数。因为python是动态类型，其变量的类型是在运行时确定的，也就是说在执行时我们给它传递什么类型的对象，它就是什么类型。所以只要我们传递的对象（类型）具有run方法，那么这个函数调用就是正确的。---这是不同与C++的。\n"
   ]
  },
  {
   "cell_type": "code",
   "execution_count": null,
   "metadata": {},
   "outputs": [],
   "source": [
    "getattr()、setattr()以及hasattr()\n"
   ]
  },
  {
   "cell_type": "code",
   "execution_count": null,
   "metadata": {},
   "outputs": [],
   "source": [
    "class MyObject(object):\n",
    "    def __init__(self):\n",
    "        self.x = 9\n",
    "    def power(self):\n",
    "        return self.x * self.x\n",
    "\n",
    "obj = MyObject()\n",
    "if hasattr(obj, 'x'):\n",
    "    print(getattr(obj, 'x'))\n",
    "    print(obj.x)\n",
    "if not hasattr(obj, 'y'):\n",
    "    setattr(obj, 'y', 19)\n",
    "    print(getattr(obj, 'y'))\n",
    "    print(obj.y)\n",
    "    \n",
    "\n",
    "#getattr(obj, 'z') #如果试图获取不存在的属性，会抛出AttributeError的错误：\n",
    "\n",
    "#可以传入一个default参数，如果属性不存在，就返回默认值：\n",
    "getattr(obj, 'z', 404) # 获取属性'z'，如果不存在，返回默认值404\n",
    "\n",
    "fn = getattr(obj, 'power') # 获取属性'power'并赋值到变量fn\n",
    "fn() # 调用fn()与调用obj.power()是一样的"
   ]
  },
  {
   "cell_type": "markdown",
   "metadata": {},
   "source": [
    "### 实例属性和类属性"
   ]
  },
  {
   "cell_type": "code",
   "execution_count": null,
   "metadata": {},
   "outputs": [],
   "source": [
    "#给实例绑定属性的方法是通过实例变量，或者通过self变量\n",
    "class Student(object):\n",
    "    name = \"gjy\"      #这个属性属于类，可通过类名和对象来访问\n",
    "    def __init__(self, addr):\n",
    "        self.addr = addr  #类实例属性\n",
    "\n",
    "s = Student(\"huaihua\");  #实例化一个类对象\n",
    "print(dir(Student)) #查看一个类的所有属性和方法 --实例比类多一个\"addr\"属性\n",
    "print(dir(s))       #查看一个对象的所有属性和方法\n",
    "\n",
    "print(s.name)  # 打印name属性，因为实例并没有name属性，所以会继续查找class的name属性\n",
    "s.name = 'gsf'  # 给实例动态绑定name属性---注意：这里是给实例绑定属性，而不是给类绑定属性\n",
    "print(s.name) # 由于实例属性优先级比类属性高，因此，它会屏蔽掉类的name属性\n",
    "print(Student.name) # 但是类属性并未消失，用Student.name仍然可以访问\n",
    "del s.name # 如果删除实例的name属性\n",
    "print(s.name) # 再次调用s.name，由于实例的name属性没有找到，类的name属性就显示出来了\n",
    "print(dir(s))\n",
    "\n",
    "#在编写程序的时候，千万不要把实例属性和类属性使用相同的名字，因为相同名称的实例属性将屏蔽掉类属性，\n",
    "#但是当你删除实例属性后，再使用相同的名称，访问到的将是类属性。  -- 这样容易有坑"
   ]
  },
  {
   "cell_type": "markdown",
   "metadata": {},
   "source": [
    "## 面向对象高级编程"
   ]
  },
  {
   "cell_type": "markdown",
   "metadata": {},
   "source": [
    "### 给实例绑定一个方法"
   ]
  },
  {
   "cell_type": "code",
   "execution_count": null,
   "metadata": {},
   "outputs": [],
   "source": [
    "from types import MethodType\n",
    "\n",
    "class Student(object):  #定义一个类\n",
    "    pass\n",
    "\n",
    "s = Student(); #实例化一个类对象\n",
    "s.name = 'Michael' #为实例化的类对象绑定name属性\n",
    "print(s.name)\n",
    "\n",
    "def set_age(self, age): \n",
    "    self.age = age\n",
    "\n",
    "\n",
    "orgAttrs = set(dir(Student))\n",
    "\n",
    "s.set_age = MethodType(set_age, s) # 给实例绑定一个方法\n",
    "s.set_age(25)\n",
    "print(s.age)\n",
    "\n",
    "print(set(dir(s)) - set(dir(Student)))  #实例比类多出的属性\n",
    "\n",
    "#给类对象s绑定的属性和方法只对该对象起作用，对类的其他对象不起作用。\n",
    "#要想绑定的属性或方法对类的所有对象起作用则需要绑定到类上（而不是类对象上）\n",
    "def set_score(self, score):\n",
    "    self.score = score\n",
    "\n",
    "Student.set_score = set_score #动态为类绑定方法\n",
    "print(set(dir(Student)) - orgAttrs)  #类新增的属性"
   ]
  },
  {
   "cell_type": "code",
   "execution_count": null,
   "metadata": {},
   "outputs": [],
   "source": [
    "a=[\"a\",\"b\",\"c\"]\n",
    "b=[\"b\",\"d\"]\n",
    "set(a)\n",
    "set(b)\n",
    "print(set(a)-set(b))\n",
    "print(set(b)-set(a))"
   ]
  },
  {
   "cell_type": "markdown",
   "metadata": {},
   "source": [
    "### 使用\"__slots__\""
   ]
  },
  {
   "cell_type": "code",
   "execution_count": null,
   "metadata": {},
   "outputs": [],
   "source": [
    "#__slots__用来限制实例的属性。比如，只允许对Student实例添加name和age属性\n",
    "\n",
    "class Student(object):\n",
    "    __slots__ = ('name', 'age') # 用tuple定义允许绑定的属性名称\n",
    "    def __init__(self, addr):\n",
    "        #self.addr = addr  #试图绑定addr实例属性  --会报错 -- 只允许实例动态绑定'name','age'属性。\n",
    "        pass\n",
    "    \n",
    "s = Student(\"huaihua\") # 创建新的实例\n",
    "s.name = 'Michael' # 绑定属性'name'\n",
    "s.age = 25         # 绑定属性'age'\n",
    "#s.score  = 99       #试图绑定score实例属性  --会报错 -- 只允许实例动态绑定'name','age'属性。\n"
   ]
  },
  {
   "cell_type": "markdown",
   "metadata": {},
   "source": [
    "### 使用@property与@xxx.setter来隐藏属性"
   ]
  },
  {
   "cell_type": "markdown",
   "metadata": {},
   "source": [
    "### 常用特殊函数"
   ]
  },
  {
   "cell_type": "code",
   "execution_count": null,
   "metadata": {},
   "outputs": [],
   "source": [
    "__init__, __len__, __slots__, \n",
    "__str__, __repr__, \n",
    "__iter__, __next__, \n",
    "__getitem__, __setitem__, __delitem__,\n",
    "__getattr__,  __setattr__, __call__, \n",
    "__members__, "
   ]
  },
  {
   "cell_type": "markdown",
   "metadata": {},
   "source": [
    "### 枚举类"
   ]
  },
  {
   "cell_type": "code",
   "execution_count": null,
   "metadata": {},
   "outputs": [],
   "source": [
    "from enum import Enum, unique\n",
    "\n",
    "Month = Enum('Month', ('Jan', 'Feb', 'Mar', 'Apr', 'May', 'Jun', 'Jul', 'Aug', 'Sep', 'Oct', 'Nov', 'Dec'))\n",
    "for name, member in Month.__members__.items():\n",
    "    print(name, '=>', member, ',', member.value)\n",
    "print(Month.Jan, Month.Jan.value)\n",
    "\n",
    "#如果需要更精确地控制枚举类型，可以从Enum派生出自定义类：\n",
    "@unique   #@unique装饰器可以帮助我们检查保证没有重复值。\n",
    "class Weekday(Enum):\n",
    "    Sun = 0 # Sun的value被设定为0\n",
    "    Mon = 1\n",
    "    Tue = 2\n",
    "    Wed = 3\n",
    "    Thu = 4\n",
    "    Fri = 5\n",
    "    Sat = 6\n",
    "\n",
    "day1 = Weekday.Mon\n",
    "print(day1)\n",
    "print(Weekday.Tue)\n",
    "print(Weekday['Tue'])"
   ]
  },
  {
   "cell_type": "markdown",
   "metadata": {},
   "source": [
    "### type()\n",
    "type()函数既可以返回一个对象的类型，又可以创建出新的类型"
   ]
  },
  {
   "cell_type": "code",
   "execution_count": null,
   "metadata": {},
   "outputs": [],
   "source": [
    "#要创建一个class对象，type()函数依次传入3个参数：\n",
    "#1. class的名称；\n",
    "#2. 继承的父类集合，注意Python支持多重继承，如果只有一个父类，别忘了tuple的单元素写法；\n",
    "#3. class的方法名称与函数绑定，这里我们把函数fn绑定到方法名hello上\n",
    "\n",
    "def fn(self, name='world'): # 先定义函数\n",
    "    print('Hello, %s.' % name)\n",
    "\n",
    "Hello = type('Hello', (object,), dict(hello=fn)) # 创建Hello class\n",
    "h = Hello()\n",
    "h.hello()\n",
    "print(type(Hello))\n"
   ]
  },
  {
   "cell_type": "markdown",
   "metadata": {},
   "source": [
    "### 元类metaclass"
   ]
  },
  {
   "cell_type": "code",
   "execution_count": null,
   "metadata": {},
   "outputs": [],
   "source": [
    "#使用元类metaclass控制类的创建行为\n",
    "#先定义metaclass，根据metaclass创建出类，最后创建实例\n",
    "\n",
    "#定义元类: metaclass是类的模板，必须是'type'类型派生\n",
    "class ListMetaclass(type):\n",
    "    def __new__(cls, name, bases, attrs):\n",
    "        print(cls, \"\\n\", name, \"\\n\", bases, \"\\n\", attrs, \"\\n\")\n",
    "        attrs['add'] = lambda self, value: self.append(value)\n",
    "        return type.__new__(cls, name, bases, attrs)\n",
    "    \n",
    "#根据元类来创建类. 通过关键字参数metaclass指定创建MyList类时使用的元类\n",
    "class MyList(list, metaclass=ListMetaclass):\n",
    "    pass\n",
    "\n",
    "L = MyList()\n",
    "L.add(1)\n",
    "print(L)\n",
    "\n",
    "\n",
    "#说明:\n",
    "#通过传入关键字参数metaclass=ListMetaclass，指示Python解释器在创建MyList时，要通过ListMetaclass.__new__()来创建，\n",
    "#在__new__()函数中我们可以修改类的定义，比如，加上新的方法，然后返回修改后的定义。\n",
    "#元类的__new__()方法接收到的参数依次是：\n",
    "#1. 元类(cls: ListMetaclass)\n",
    "#2. 要创建的类名(name: MyList)；\n",
    "#3. 要创建的类继承的父类集合(bases: (list, ))；\n",
    "#4. 要创建类的属性集合。\n",
    "\n"
   ]
  },
  {
   "cell_type": "code",
   "execution_count": null,
   "metadata": {},
   "outputs": [],
   "source": [
    "class User:\n",
    "    def __new__(cls): #__new__的第一个参数为类\n",
    "        print(\"new\", cls)\n",
    "        cls.nationality = \"中国\"  #__new__中通过cls.xxx创建的属性为类属性\n",
    "        return object.__new__(cls)\n",
    "\n",
    "    def __init__(self):  #__init__的第一个参数为实例对象\n",
    "        print(\"init\", self)\n",
    "        gender = \"男\"\n",
    "        self.age = 25 #__init__中通过self.xxx创建的属性为实例属性\n",
    "        \n",
    "if __name__ == \"__main__\":\n",
    "    me = User()\n",
    "    print(\"\\n类User的属性\\n\", dir(User))\n",
    "    print(\"\\n对象me的属性\\n\", dir(me))"
   ]
  },
  {
   "cell_type": "raw",
   "metadata": {},
   "source": [
    "小结：\n",
    "__new__方法用于创建对象，__init__方法用于对对象进行初始化。\n",
    "python中一切皆为对象，类也是对象类可由元类创建(通过__new__)"
   ]
  },
  {
   "cell_type": "markdown",
   "metadata": {},
   "source": [
    "### python中类方法、类实例方法、静态方法"
   ]
  },
  {
   "cell_type": "code",
   "execution_count": 1,
   "metadata": {},
   "outputs": [
    {
     "name": "stdout",
     "output_type": "stream",
     "text": [
      "类实例的方法\n",
      "<function User.foo at 0x000002221DA6E7B8> \n",
      " <bound method User.foo of <__main__.User object at 0x000002221DA80518>> \n",
      " <bound method User.foo of <__main__.User object at 0x000002221DA805C0>> \n",
      "\n",
      "类的方法\n",
      "<bound method User.class_foo of <class '__main__.User'>> \n",
      " <bound method User.class_foo of <class '__main__.User'>> \n",
      " <bound method User.class_foo of <class '__main__.User'>> \n",
      "\n",
      "静态方法\n",
      "<function User.static_foo at 0x000002221D9A3950> \n",
      " <function User.static_foo at 0x000002221D9A3950> \n",
      " <function User.static_foo at 0x000002221D9A3950> \n",
      "\n"
     ]
    }
   ],
   "source": [
    "class User:\n",
    "    @classmethod\n",
    "    def class_foo(cls, x):\n",
    "        print(\"executing class_foo(%s, %s)\" % (cls, x))\n",
    "        \n",
    "    @staticmethod\n",
    "    def static_foo(x):\n",
    "        print(\"executing static_foo(%s)\" % (x, ))\n",
    "        \n",
    "    def foo(self, x):\n",
    "        print(\"executing foo(%s, %s)\" % (self, x))\n",
    "        \n",
    "        \n",
    "if __name__ == \"__main__\":\n",
    "    u1 = User()\n",
    "    u2 = User()\n",
    "    print(\"类实例的方法\")\n",
    "    print(User.foo, \"\\n\", u1.foo, \"\\n\", u2.foo, \"\\n\")\n",
    "    \n",
    "    print(\"类的方法\")\n",
    "    print(User.class_foo, \"\\n\", u1.class_foo, \"\\n\", u2.class_foo, \"\\n\")\n",
    "    \n",
    "    print(\"静态方法\")\n",
    "    print(User.static_foo, \"\\n\", u1.static_foo, \"\\n\", u2.static_foo, \"\\n\")\n",
    "    \n",
    "#区别： \n",
    "#•类方法和静态方法由所有类的实例所共享。类实例方法由每个实例所独享，每个实例都有它的一个副本。\n",
    "#•类方法的隐含调用参数是类，而类实例方法的隐含调用参数是类的实例，静态方法没有隐含调用参数。（隐含参数即方法的第一个函数，所以使用时不需要显式传入）。\n"
   ]
  },
  {
   "cell_type": "markdown",
   "metadata": {},
   "source": [
    "## 错误、调试和测试"
   ]
  },
  {
   "cell_type": "markdown",
   "metadata": {},
   "source": [
    "### 错误处理\n",
    "try...except...finally..."
   ]
  },
  {
   "cell_type": "raw",
   "metadata": {},
   "source": [
    "内置了一套try...except...finally...的错误处理机制.\n",
    "由于没有错误发生，except语句块不会被执行，\n",
    "但是如果有finally，则finally一定会被执行（可以没有finally语句）。\n",
    "\n",
    "Python所有的错误都是从BaseException类派生的，常见的错误类型和继承关系看这里：\n",
    "https://docs.python.org/3/library/exceptions.html#exception-hierarchy"
   ]
  },
  {
   "cell_type": "code",
   "execution_count": null,
   "metadata": {},
   "outputs": [],
   "source": [
    "import logging\n",
    "\n",
    "def excptionTest(numberStr):\n",
    "    try:\n",
    "        print('try...')\n",
    "        r = 10 / int(numberStr)\n",
    "        print('result:', r)\n",
    "        return r\n",
    "    except ValueError as e:\n",
    "        print('ValueError:', e)\n",
    "        logging.exception(e) #使用logging记录信息\n",
    "    except ZeroDivisionError as e:\n",
    "        print('ZeroDivisionError:', e)\n",
    "        logging.exception(e)\n",
    "    finally:\n",
    "        print('finally...')\n",
    "    print('END')\n",
    "    \n",
    "\n",
    "def test(numberStr):\n",
    "    return excptionTest(numberStr) * 2\n",
    "\n",
    "if __name__ == \"__main__\":\n",
    "    #ret = test(\"1\")\n",
    "    #ret = test(\"a\")\n",
    "    ret = test(\"0\")\n",
    "    print(ret)"
   ]
  },
  {
   "cell_type": "markdown",
   "metadata": {},
   "source": [
    "### 抛出错误\n",
    "使用raise语句抛出异常"
   ]
  },
  {
   "cell_type": "code",
   "execution_count": null,
   "metadata": {},
   "outputs": [],
   "source": [
    "#自定义异常\n",
    "class FooError(ValueError):\n",
    "    pass\n",
    "\n",
    "def foo(s):\n",
    "    n = int(s)\n",
    "    if n==0:\n",
    "        raise FooError('invalid value: %s' % s) #抛出异常\n",
    "    return 10 / n\n",
    "\n",
    "foo('0')\n"
   ]
  },
  {
   "cell_type": "markdown",
   "metadata": {},
   "source": [
    "## 单元测试\n",
    "需要引入Python自带的unittest模块."
   ]
  },
  {
   "cell_type": "raw",
   "metadata": {},
   "source": [
    "unittest模块参考:\n",
    "https://blog.csdn.net/u012291393/article/details/78636502\n",
    "https://www.liaoxuefeng.com/discuss/969955749132672/1203224296196800\n",
    "https://stackoverflow.com/questions/25004917/attributeerror-when-running-unittest-sample-in-ipy-notebook"
   ]
  },
  {
   "cell_type": "code",
   "execution_count": null,
   "metadata": {},
   "outputs": [],
   "source": [
    "import unittest\n",
    "\n",
    "#自定义的Dict类\n",
    "class Dict(dict):\n",
    "    def __init__(self, **kw):\n",
    "        super().__init__(**kw)\n",
    "        \n",
    "    def __getattr__(self, key):\n",
    "        try:\n",
    "            return self[key]\n",
    "        except KeyError:\n",
    "            raise AttributeError(r\"'Dict' object has no attribute '%s'\" % key)\n",
    "            \n",
    "    def __setattr__(self, key, value):\n",
    "        self[key] = value\n",
    "\n",
    "\n",
    "\n",
    "#使用单元测试来测试自定义的Dict类\n",
    "class TestDict(unittest.TestCase):  #从unittest.TestCase继承\n",
    "    #以test开头的方法就是测试方法，不以test开头的方法不被认为是测试方法，测试的时候不会被执行。\n",
    "    def test_init(self):\n",
    "        d = Dict(a=1, b='test')\n",
    "        self.assertEqual(d.a, 1)  #断言d.a与1相等\n",
    "        self.assertEqual(d.b, 'test')\n",
    "        self.assertTrue(isinstance(d, dict))\n",
    "        print(\"test_init ok\")\n",
    "        \n",
    "    def test_key(self):\n",
    "        d = Dict()\n",
    "        d['key'] = 'value'\n",
    "        self.assertEqual(d.key, 'value')\n",
    "        print(\"test_key ok\")\n",
    "        \n",
    "    def test_attr(self):\n",
    "        d = Dict()\n",
    "        d.key = 'value'\n",
    "        self.assertTrue('key' in d)\n",
    "        self.assertEqual(d['key'], 'value')\n",
    "        print(\"test_attr ok\")\n",
    "        \n",
    "    def test_keyerror(self):\n",
    "        d = Dict()\n",
    "        with self.assertRaises(KeyError):  #断言期待抛出KeyError类型的Error\n",
    "            value = d['empty']\n",
    "        print(\"test_keyerror ok\")\n",
    "            \n",
    "    def test_attrerror(self):\n",
    "        d = Dict()\n",
    "        with self.assertRaises(AttributeError): #断言期待抛出AttributeError类型的Error\n",
    "            value = d.empty\n",
    "        print(\"test_attrerror ok\")\n",
    "\n",
    "#运行单元测试\n",
    "if __name__ == '__main__':\n",
    "    import sys\n",
    "    print(sys.argv)\n",
    "    \n",
    "    #unittest.main() #直接执行这个会失败; 参考\"https://blog.csdn.net/u012291393/article/details/78636502\"\n",
    "    #unittest.main(argv=[\"TestDict\"], exit=False)\n",
    "    unittest.main(argv=['first-arg-is-ignored'], exit=False)\n",
    "    \n",
    "    #suite = unittest.TestLoader().loadTestsFromTestCase(TestDict)\n",
    "    #unittest.TextTestRunner().run(suite)\n",
    "\n",
    "\n",
    "    \n",
    "#补充：setUp与tearDown\n",
    "#在单元测试中有两个特殊的setUp()和tearDown()方法; 这两个方法会分别在调用每一个测试方法的前后分别被执行.\n",
    "#可以使用这两个方法来清理单元测试时的环境，使每一次测试都是独立的"
   ]
  },
  {
   "cell_type": "markdown",
   "metadata": {},
   "source": [
    "## 文件操作"
   ]
  },
  {
   "cell_type": "markdown",
   "metadata": {},
   "source": [
    "### 读文件"
   ]
  },
  {
   "cell_type": "code",
   "execution_count": null,
   "metadata": {
    "code_folding": [],
    "scrolled": true
   },
   "outputs": [],
   "source": [
    "import logging\n",
    "\n",
    "f = None\n",
    "try:\n",
    "    #f = open('D:/DailyCleaning/notfound.txt', 'r')\n",
    "    f = open('D:/DailyCleaning/test.txt', 'r')\n",
    "    print(f.read())\n",
    "except FileNotFoundError as e:\n",
    "    print('FileNotFoundError:', e)\n",
    "    logging.exception(e) #使用logging记录信息\n",
    "finally:\n",
    "    if f:\n",
    "        f.close()\n",
    "        print(\"f.close()\")\n",
    "\n",
    "#read()会一次性读取文件的全部内容\n",
    "#如果文件文件非常大，一次性读取会把内存撑爆，此时可以反复调用read(size)方法，每次最多读取size个字节的内容。\n",
    "#readline()可以每次读取一行内容\n",
    "#readlines()一次读取所有内容并按行返回list\n",
    "    "
   ]
  },
  {
   "cell_type": "markdown",
   "metadata": {},
   "source": [
    "### with...as..."
   ]
  },
  {
   "cell_type": "code",
   "execution_count": null,
   "metadata": {},
   "outputs": [],
   "source": [
    "with open('D:/DailyCleaning/test.txt', 'r') as f:\n",
    "    for line in f.readlines():\n",
    "        print(line.strip()) # 把末尾的'\\n'删掉\n",
    "#和前面的try ... finally是一样的，但是代码更佳简洁，并且不必调用f.close()方法\n"
   ]
  },
  {
   "cell_type": "markdown",
   "metadata": {},
   "source": [
    "### file-like Object"
   ]
  },
  {
   "cell_type": "markdown",
   "metadata": {},
   "source": [
    "### StringIO和BytesIO"
   ]
  },
  {
   "cell_type": "code",
   "execution_count": null,
   "metadata": {},
   "outputs": [],
   "source": [
    "#StringIO--在内存中对字符串数据进行操作\n",
    "from io import StringIO\n",
    "fw = StringIO()\n",
    "fw.write('Hello!\\n')\n",
    "fw.write('Hi!\\n')\n",
    "fw.write('world!')\n",
    "print(fw.getvalue())\n",
    "\n",
    "print(\"\\n\\n\")\n",
    "\n",
    "fr = StringIO('Hello!\\nHi!\\nGoodbye!')\n",
    "for line in fr.readlines():\n",
    "    print(line.strip())\n",
    "\n"
   ]
  },
  {
   "cell_type": "code",
   "execution_count": null,
   "metadata": {},
   "outputs": [],
   "source": [
    "#BytesIO--在内存中对二进制数据进行操作\n",
    "from io import BytesIO\n",
    "fw = BytesIO()\n",
    "fw.write('中文'.encode('utf-8')) #将字符串按uft8编码成二进制数据\n",
    "print(fw.getvalue())\n",
    "\n",
    "fr = BytesIO(b'\\xe4\\xb8\\xad\\xe6\\x96\\x87')\n",
    "print(fr.read())\n"
   ]
  },
  {
   "cell_type": "markdown",
   "metadata": {},
   "source": [
    "### 操作文件和目录 \n"
   ]
  },
  {
   "cell_type": "code",
   "execution_count": null,
   "metadata": {},
   "outputs": [],
   "source": [
    "import os\n",
    "\n",
    "#os.name 查看操作系统类型; posix--Linux、Unix或MacOSX，nt--Windows\n",
    "os.name\n",
    "\n",
    "#os.uname()查看详细系统信息, windows无此函数\n",
    "#os.uname()\n",
    "\n",
    "#查看全部环境信息\n",
    "os.environ\n",
    "\n",
    "os.environ.get('PATH')\n",
    "\n",
    "#按key获取环境变量\n",
    "os.environ.get('key', 'default')"
   ]
  },
  {
   "cell_type": "markdown",
   "metadata": {},
   "source": [
    "### 操作文件和目录\n",
    "操作文件和目录的函数一部分放在os模块中，一部分放在os.path模块中"
   ]
  },
  {
   "cell_type": "code",
   "execution_count": null,
   "metadata": {},
   "outputs": [],
   "source": [
    "# 查看当前目录的绝对路径\n",
    "os.path.abspath('.')\n",
    "\n",
    "# 创建一个目录\n",
    "os.mkdir('./testdir') \n",
    "\n",
    "# 删掉一个目录\n",
    "os.rmdir('./testdir') \n",
    "\n",
    "# 对文件重命名\n",
    "#os.rename('test.txt', 'test.py')\n",
    "\n",
    "# 使用os.path.join()函数拼接路径,可以正确处理不同操作系统的路径分隔符\n",
    "os.path.join('/Users/michael/', 'testdir/file.txt')\n",
    "\n",
    "# 使用os.path.split()拆分路径中的目录名和文件名\n",
    "os.path.split('/Users/michael/testdir/file.txt')\n",
    "\n",
    "# 使用os.path.splitext()拆分路径中全文件名和扩展名\n",
    "os.path.splitext('/Users/michael/testdir/file.txt')\n",
    "\n",
    "# 注:合并、拆分路径的函数并不要求目录和文件要真实存在，它们只对字符串进行操作\n",
    "\n",
    "\n",
    "# 复制文件\n",
    "import shutil\n",
    "shutil.copyfile(\"./src.txt\", \"./target.txt\")\n",
    "\n"
   ]
  },
  {
   "cell_type": "code",
   "execution_count": null,
   "metadata": {},
   "outputs": [],
   "source": [
    "#列出当前目录下的所有目录\n",
    "[x for x in os.listdir('.') if os.path.isdir(x)]\n",
    "\n",
    "#列出当前目录下所有的.py文件\n",
    "[x for x in os.listdir('.') if os.path.isfile(x) and os.path.splitext(x)[1]=='.py']"
   ]
  },
  {
   "cell_type": "markdown",
   "metadata": {},
   "source": [
    "## 序列化"
   ]
  },
  {
   "cell_type": "code",
   "execution_count": null,
   "metadata": {},
   "outputs": [],
   "source": [
    "把变量从内存中变成可存储或传输的过程称之为序列化，在Python中叫pickling.\n",
    "反序列化--unpicking"
   ]
  },
  {
   "cell_type": "code",
   "execution_count": null,
   "metadata": {},
   "outputs": [],
   "source": [
    "import pickle\n",
    "stu = dict(name='Bob', age=20, score=88)\n",
    "\n",
    "#pickle.dumps()方法把任意对象序列化成一个bytes\n",
    "stuBts = pickle.dumps(stu)\n",
    "print(stuBts)\n",
    "\n",
    "#将stu对象序列化到文件 \n",
    "fw = open('D:/DailyCleaning/dump.dat', 'wb')\n",
    "#使用pickle.dump()直接把对象序列化后写入一个file-like Object\n",
    "pickle.dump(stu, fw)\n",
    "fw.close()\n",
    "\n",
    "#从文件中反序列化stuDict对象\n",
    "fr = open('D:/DailyCleaning/dump.dat', 'rb')\n",
    "stuDict = pickle.load(fr)\n",
    "fr.close()\n",
    "print(stuDict)"
   ]
  },
  {
   "cell_type": "markdown",
   "metadata": {},
   "source": [
    "## JSON"
   ]
  },
  {
   "cell_type": "raw",
   "metadata": {},
   "source": [
    "Json,Xml等标准格式方便我们在不同编程语言之间传递对象"
   ]
  },
  {
   "cell_type": "markdown",
   "metadata": {},
   "source": [
    "|Json类型|Python类型|\n",
    "|--------|---------|\n",
    "|{}|dict|\n",
    "|[]|list|\n",
    "|\"stirng\"|str|\n",
    "|123.45|int/float|\n",
    "|true/false|True/False|\n",
    "|null|None|"
   ]
  },
  {
   "cell_type": "raw",
   "metadata": {},
   "source": [
    "Python内置的json模块提供了非常完善的Python对象到JSON格式的转换.\n",
    "JSON标准规定JSON编码是UTF-8"
   ]
  },
  {
   "cell_type": "code",
   "execution_count": null,
   "metadata": {},
   "outputs": [],
   "source": [
    "import json\n",
    "stuDict = dict(name='Bob', age=20, score=88)\n",
    "stuDictJsonStr = json.dumps(stuDict)\n",
    "print(type(stuDictJsonStr), stuDictJsonStr)\n",
    "\n",
    "#将stu对象序列化到文件 \n",
    "fw = open('D:/DailyCleaning/testJson.txt', 'w')\n",
    "#使用json.dump()直接把python对象后写入一个file-like Object\n",
    "json.dump(stuDict, fw)\n",
    "fw.close()\n",
    "\n",
    "json_str = '{\"age\": 20, \"score\": 88, \"name\": \"Bob\"}'\n",
    "json.loads(json_str)\n"
   ]
  },
  {
   "cell_type": "markdown",
   "metadata": {},
   "source": [
    "### JSON进阶"
   ]
  },
  {
   "cell_type": "code",
   "execution_count": null,
   "metadata": {},
   "outputs": [],
   "source": [
    "#json.dump()中提供了一个关键字参数default，允许我们定制将对象转换为支持Json格式对象的方法.\n",
    "\n",
    "class Student(object):\n",
    "    def __init__(self, name, age, score):\n",
    "        self.name = name\n",
    "        self.age = age\n",
    "        self.score = score\n",
    "\n",
    "stu = Student('Bob', 20, 88)\n",
    "#print(json.dumps(stu)) #TypeError --json无法将stu对象转换为Json格式\n",
    "\n",
    "\n",
    "def student2dict(stu):\n",
    "    if isinstance(stu, Student):\n",
    "        return {\n",
    "            'name': stu.name,\n",
    "            'age': stu.age,\n",
    "            'score': stu.score\n",
    "        }\n",
    "    return None\n",
    "\n",
    "#使用default参数指定对象到Json对象的转换\n",
    "print(json.dumps(stu, default=student2dict))"
   ]
  },
  {
   "cell_type": "markdown",
   "metadata": {},
   "source": [
    "## 进程和线程"
   ]
  },
  {
   "cell_type": "markdown",
   "metadata": {},
   "source": [
    "### 进程"
   ]
  },
  {
   "cell_type": "raw",
   "metadata": {},
   "source": [
    "fork()函数 -- 产生一个子进程。\n",
    "一次调用返回两次 --在父进程中返回子进程的id,在子进程中返回0(在子进程中可通过getppid()获取父进程的ID)。\n",
    "os模块封装了常见系统调用, frok()也可其中"
   ]
  },
  {
   "cell_type": "code",
   "execution_count": null,
   "metadata": {},
   "outputs": [],
   "source": [
    "import os\n",
    "print(\"进程 (%s) start\" % os.getpid())\n",
    "\n",
    "pid = os.frok()\n",
    "if pid == 0: #子进程\n",
    "    print(\"当前为子进程 (%s), 父进程 (%s)\" (os.getpid(), os.getpp()))\n",
    "else :  #父进程\n",
    "    print(\"当前为父进程 (%s), 子进程 (%s)\" (os.getpid(), pid))\n",
    "\n",
    "#注： 以上代码无法在windows下执行\n"
   ]
  },
  {
   "cell_type": "code",
   "execution_count": null,
   "metadata": {},
   "outputs": [],
   "source": [
    "#跨平台的多进程模块 multiprocessing\n",
    "\n",
    "import os\n",
    "import time\n",
    "from multiprocessing import Process\n",
    "\n",
    "# 子进程要执行的代码\n",
    "def run_proc(name):\n",
    "    print('Run child process %s (%s)...' % (name, os.getpid()))\n",
    "    time.sleep(5)\n",
    "    print(\"end\")\n",
    "\n",
    "if __name__=='__main__':\n",
    "    print('Parent process %s.' % os.getpid())\n",
    "    p = Process(target=run_proc, args=('test',))\n",
    "    print('Child process will start.')\n",
    "    p.start() #开始执行子进程\n",
    "    p.join() #等待子进程结束后再继续\n",
    "    print('Child process end.')\n"
   ]
  },
  {
   "cell_type": "code",
   "execution_count": null,
   "metadata": {},
   "outputs": [],
   "source": [
    "#进程池Pool\n",
    "\n",
    "from multiprocessing import Pool\n",
    "import os, time, random\n",
    "\n",
    "def long_time_task(name):\n",
    "    print('Run task %s (%s)...' % (name, os.getpid()))\n",
    "    start = time.time()\n",
    "    time.sleep(random.random() * 3)\n",
    "    end = time.time()\n",
    "    print('Task %s runs %0.2f seconds.' % (name, (end - start)))\n",
    "\n",
    "if __name__=='__main__':\n",
    "    print('Parent process %s.' % os.getpid())\n",
    "    p = Pool(4) #Pool的默认大小是CPU的核数\n",
    "    for i in range(5):\n",
    "        p.apply_async(long_time_task, args=(i,))\n",
    "    print('Waiting for all subprocesses done...')\n",
    "    p.close()\n",
    "    p.join()\n",
    "    print('All subprocesses done.')\n",
    "#注： 对Pool对象调用join()方法会等待所有子进程执行完毕，\n",
    "# 调用join()之前必须先调用close()，调用close()之后就不能继续添加新的Process了"
   ]
  },
  {
   "cell_type": "markdown",
   "metadata": {},
   "source": [
    "#### 子进程"
   ]
  },
  {
   "cell_type": "raw",
   "metadata": {},
   "source": [
    "subprocess模块可以让我们非常方便地启动一个子进程，然后控制其输入和输出"
   ]
  },
  {
   "cell_type": "markdown",
   "metadata": {},
   "source": [
    "#### 进程间通信"
   ]
  },
  {
   "cell_type": "raw",
   "metadata": {},
   "source": [
    "multiprocessing模块包装了底层的机制，提供了Queue、Pipes等多种方式来交换数据"
   ]
  },
  {
   "cell_type": "markdown",
   "metadata": {},
   "source": [
    "### 多线程"
   ]
  },
  {
   "cell_type": "raw",
   "metadata": {},
   "source": [
    "python的标准库提供了两个线程模块：_thread和threading。\n",
    "threading对_thread进行了封装"
   ]
  },
  {
   "cell_type": "code",
   "execution_count": null,
   "metadata": {},
   "outputs": [],
   "source": [
    "#启动一个线程就是把一个函数传入并创建Thread实例，然后调用start()开始执行\n",
    "\n",
    "import time, threading\n",
    "\n",
    "# 新线程执行的代码:\n",
    "def loop():\n",
    "    print('thread %s is running...' % threading.current_thread().name)\n",
    "    n = 0\n",
    "    while n < 5:\n",
    "        n = n + 1\n",
    "        print('thread %s >>> %s' % (threading.current_thread().name, n))\n",
    "        time.sleep(1)\n",
    "    print('thread %s ended.' % threading.current_thread().name)\n",
    "\n",
    "print('thread %s is running...' % threading.current_thread().name)\n",
    "t = threading.Thread(target=loop, name='LoopThread')\n",
    "t.start()\n",
    "t.join()\n",
    "print('thread %s ended.' % threading.current_thread().name)\n"
   ]
  },
  {
   "cell_type": "markdown",
   "metadata": {},
   "source": [
    "#### Lock"
   ]
  },
  {
   "cell_type": "code",
   "execution_count": null,
   "metadata": {},
   "outputs": [],
   "source": [
    "import time, threading\n",
    "\n",
    "# 假定这是你的银行存款:\n",
    "balance = 0\n",
    "#lock = threading.Lock()\n",
    "\n",
    "def change_it(n):\n",
    "    # 先存后取，结果应该为0:\n",
    "    global balance\n",
    "    balance = balance + n\n",
    "    balance = balance - n\n",
    "\n",
    "\n",
    "def run_thread(n):\n",
    "    for i in range(100000):\n",
    "        # 先要获取锁:\n",
    "        #lock.acquire()\n",
    "        try:\n",
    "            # 放心地改吧:\n",
    "            change_it(n)\n",
    "        finally:\n",
    "            # 改完了一定要释放锁:\n",
    "            #lock.release()\n",
    "            pass\n",
    "            \n",
    "t1 = threading.Thread(target=run_thread, args=(500,))\n",
    "t2 = threading.Thread(target=run_thread, args=(800,))\n",
    "t1.start()\n",
    "t2.start()\n",
    "t1.join()\n",
    "t2.join()\n",
    "print(balance)\n"
   ]
  },
  {
   "cell_type": "markdown",
   "metadata": {},
   "source": [
    "#### ThreadLocal"
   ]
  },
  {
   "cell_type": "raw",
   "metadata": {},
   "source": [
    "在多线程环境下，每个线程都建立自己的数据。\n",
    "一个线程使用自己的局部变量比使用全局变量好，\n",
    "因为局部变量只有线程自己能看见，不会影响其他线程，而全局变量的修改必须加锁"
   ]
  },
  {
   "cell_type": "code",
   "execution_count": null,
   "metadata": {},
   "outputs": [],
   "source": [
    "import threading\n",
    "\n",
    "# 创建全局ThreadLocal对象:\n",
    "g_stuInfo = threading.local()\n",
    "\n",
    "def process_student():\n",
    "    # 获取当前线程关联的student:\n",
    "    stuName = g_stuInfo.stuName\n",
    "    stuAge = g_stuInfo.sutAge\n",
    "    print('Hello, %s %s (in %s)' % (stuName, stuAge, threading.current_thread().name))\n",
    "\n",
    "def process_thread(stuName, stuAge):\n",
    "    # 绑定ThreadLocal的student:\n",
    "    g_stuInfo.stuName = stuName\n",
    "    g_stuInfo.sutAge = stuAge\n",
    "    process_student()\n",
    "\n",
    "t1 = threading.Thread(target= process_thread, args=('Alice', 25), name='Thread-A')\n",
    "t2 = threading.Thread(target= process_thread, args=('Bob', 18), name='Thread-B')\n",
    "t1.start()\n",
    "t2.start()\n",
    "t1.join()\n",
    "t2.join()\n",
    "\n",
    "\n",
    "#注： 一个ThreadLocal变量虽然是全局变量，\n",
    "#但每个线程都只能读写自己线程的独立副本，互不干扰。\n",
    "#ThreadLocal解决了参数在一个线程中各个函数之间互相传递的问"
   ]
  },
  {
   "cell_type": "markdown",
   "metadata": {},
   "source": [
    "### 协程(Python单进程的异步编程模型)"
   ]
  },
  {
   "cell_type": "raw",
   "metadata": {},
   "source": [
    "协程(coroutine)－－函数级的CPU调度。\n",
    "\n",
    "\n",
    "与多线程比，协程有何优势？\n",
    "最大的优势就是协程极高的执行效率。因为子程序切换不是线程切换，而是由程序自身控制，因此，没有线程切换的开销，和多线程比，线程数量越多，协程的性能优势就越明显。\n",
    "第二大优势就是不需要多线程的锁机制，因为只有一个线程，也不存在同时写变量冲突，在协程中控制共享资源不加锁，只需要判断状态就好了，所以执行效率比多线程高很多。\n",
    "因为协程是一个线程执行，那怎么利用多核CPU呢？最简单的方法是多进程+协程，既充分利用多核，又充分发挥协程的高效率，可获得极高的性能\n"
   ]
  },
  {
   "cell_type": "raw",
   "metadata": {},
   "source": [
    "Python对协程的支持是通过generator实现的。\n",
    "在generator中，我们不但可以通过for循环来迭代，还可以不断调用next()函数获取由yield语句返回的下一个值。\n",
    "但是Python的yield不但可以返回一个值，它还可以接收调用者发出的参数\n"
   ]
  },
  {
   "cell_type": "code",
   "execution_count": null,
   "metadata": {},
   "outputs": [],
   "source": [
    "#基于协程的生产者－消费者模式\n",
    "def consumer(): #消费者\n",
    "    r = ''\n",
    "    while True:\n",
    "        n = yield r\n",
    "        if not n:\n",
    "            return\n",
    "        print('[CONSUMER] Consuming %s...' % n)\n",
    "        r = '200 OK'\n",
    "\n",
    "def produce(c):  #生产者\n",
    "    c.send(None)\n",
    "    n = 0\n",
    "    while n < 5:\n",
    "        n = n + 1\n",
    "        print('[PRODUCER] Producing %s...' % n)\n",
    "        r = c.send(n)\n",
    "        print('[PRODUCER] Consumer return: %s' % r)\n",
    "    c.close()\n",
    "\n",
    "c = consumer()\n",
    "produce(c)\n",
    "\n",
    "\n",
    "#注意到consumer函数是一个generator，把一个consumer传入produce后：\n",
    "#1. 首先调用c.send(None)启动生成器；\n",
    "#2. 然后，一旦生产了东西，通过c.send(n)切换到consumer执行；\n",
    "#3. consumer通过yield拿到消息，处理，又通过yield把结果传回；\n",
    "#4. produce拿到consumer处理的结果，继续生产下一条消息；\n",
    "#5. produce决定不生产了，通过c.close()关闭consumer，整个过程结束。\n",
    "#整个流程无锁，由一个线程执行，produce和consumer协作完成任务，所以称为“协程”，而非线程的抢占式多任务。\n",
    "#最后套用Donald Knuth的一句话总结协程的特点：\n",
    "#“子程序就是协程的一种特例。”\n"
   ]
  },
  {
   "cell_type": "markdown",
   "metadata": {},
   "source": [
    "### 异步IO"
   ]
  },
  {
   "cell_type": "raw",
   "metadata": {},
   "source": [
    "asyncio是Python 3.4版本引入的标准库，直接内置了对异步IO的支持。\n",
    "asyncio的编程模型就是一个消息循环。我们从asyncio模块中直接获取一个EventLoop的引用，然后把需要执行的协程扔到EventLoop中执行，就实现了异步IO。\n"
   ]
  },
  {
   "cell_type": "code",
   "execution_count": null,
   "metadata": {},
   "outputs": [],
   "source": [
    "@asyncio.coroutine + yield from"
   ]
  },
  {
   "cell_type": "code",
   "execution_count": null,
   "metadata": {},
   "outputs": [],
   "source": [
    "async/await"
   ]
  },
  {
   "cell_type": "markdown",
   "metadata": {},
   "source": [
    "### 分布式进程"
   ]
  },
  {
   "cell_type": "markdown",
   "metadata": {},
   "source": [
    "## re模块"
   ]
  },
  {
   "cell_type": "raw",
   "metadata": {},
   "source": [
    "建议使用'r'前缀,可以不用考虑转义。\n",
    "\n",
    "reStr = 'ABC\\\\-001' # Python的字符串 #对应的字符串'ABC\\-001'\n",
    "reStr = r'ABC\\-001'\n"
   ]
  },
  {
   "cell_type": "code",
   "execution_count": null,
   "metadata": {},
   "outputs": [],
   "source": [
    "import re\n",
    "if re.match(r'^\\d{3}\\-\\d{3,8}$', '010-12345'):\n",
    "    print(\"match\")\n",
    "else:\n",
    "    print(\"not match\")\n"
   ]
  },
  {
   "cell_type": "markdown",
   "metadata": {},
   "source": [
    "#### 切分字符串"
   ]
  },
  {
   "cell_type": "code",
   "execution_count": null,
   "metadata": {},
   "outputs": [],
   "source": [
    "print('a b   c'.split(' ')) #无法识别连续的空格\n",
    "\n",
    "print(re.split(r'\\s+', 'a b   c'))"
   ]
  },
  {
   "cell_type": "markdown",
   "metadata": {},
   "source": [
    "#### 分组"
   ]
  },
  {
   "cell_type": "code",
   "execution_count": null,
   "metadata": {},
   "outputs": [],
   "source": [
    "m = re.match(r'^(\\d{3})-(\\d{3,8})$', '010-12345')\n",
    "print(m.groups())\n",
    "print(m.group(0))\n",
    "print(m.group(1))\n",
    "print(m.group(2))"
   ]
  },
  {
   "cell_type": "markdown",
   "metadata": {},
   "source": [
    "#### 预编译正则"
   ]
  },
  {
   "cell_type": "code",
   "execution_count": null,
   "metadata": {},
   "outputs": [],
   "source": [
    "import re\n",
    "# 编译:\n",
    "re_telephone = re.compile(r'^(\\d{3})-(\\d{3,8})$')\n",
    "# 使用：\n",
    "re_telephone.match('010-12345').groups()\n"
   ]
  },
  {
   "cell_type": "markdown",
   "metadata": {},
   "source": [
    "## 常用内建模块"
   ]
  },
  {
   "cell_type": "markdown",
   "metadata": {},
   "source": [
    "### datetime"
   ]
  },
  {
   "cell_type": "raw",
   "metadata": {},
   "source": [
    "datetime是Python处理日期和时间的标准库。\n",
    "1970年1月1日 00:00:00 UTC+00:00时区的时刻称为epoch time，记为0（1970年以前的时间timestamp为负数），当前时间就是相对于epoch time的秒数，称为timestamp。\n",
    "你可以认为：\n",
    "timestamp = =0 == 1970-1-1 00:00:00 UTC+0:00\n",
    "对应的北京时间是：\n",
    "timestamp = 0 = 1970-1-1 08:00:00 UTC+8:00\n"
   ]
  },
  {
   "cell_type": "markdown",
   "metadata": {},
   "source": [
    "#### 获取日期时间"
   ]
  },
  {
   "cell_type": "code",
   "execution_count": null,
   "metadata": {},
   "outputs": [],
   "source": [
    "from datetime import datetime #datetime模块包含一个datetime类\n",
    "\n",
    "#获取当前日期和时间\n",
    "now = datetime.now()\n",
    "print(now)\n",
    "print(type(now))\n",
    "\n",
    "#获取指定日期和时间\n",
    "dt = datetime(2015, 4, 19, 12, 20) #2015-04-19 12:20:00\n",
    "print(dt)\n"
   ]
  },
  {
   "cell_type": "markdown",
   "metadata": {},
   "source": [
    "#### datetime <--> timestamp"
   ]
  },
  {
   "cell_type": "code",
   "execution_count": null,
   "metadata": {},
   "outputs": [],
   "source": [
    "from datetime import datetime\n",
    "dt = datetime(2015, 4, 19, 12, 20)\n",
    "#datetime转换为timestamp\n",
    "tsp = dt.timestamp() \n",
    "print(tsp)\n",
    "\n",
    "#timestamp转换为datetime\n",
    "#timestamp是一个浮点数，它没有时区的概念，\n",
    "#datetime是有时区的。\n",
    "#fromtimestamp()是在timestamp和本地时间做转换。\n",
    "dt = datetime.fromtimestamp(tsp)\n",
    "print(dt)\n",
    "\n",
    "#ufcfromtimestamp()是在timestamp和utc时间做转换\n",
    "dt = datetime.utcfromtimestamp(tsp)\n",
    "print(dt)"
   ]
  },
  {
   "cell_type": "markdown",
   "metadata": {},
   "source": [
    "#### datetime <--> str"
   ]
  },
  {
   "cell_type": "code",
   "execution_count": null,
   "metadata": {},
   "outputs": [],
   "source": [
    "from datetime import datetime\n",
    "#str转换为datetime\n",
    "cday = datetime.strptime('2015-6-1 18:19:59', '%Y-%m-%d %H:%M:%S')\n",
    "print(cday)\n",
    "\n",
    "#datetime转换为str\n",
    "now = datetime.now()\n",
    "print(now.strftime('%a, %b %d %H:%M'))\n"
   ]
  },
  {
   "cell_type": "markdown",
   "metadata": {},
   "source": [
    "#### datetime加减"
   ]
  },
  {
   "cell_type": "code",
   "execution_count": null,
   "metadata": {},
   "outputs": [],
   "source": [
    "#datetime加减\n",
    "from datetime import datetime,timedelta\n",
    "now = datetime.now()\n",
    "print(now + timedelta(hours=10))\n",
    "print(now - timedelta(days=1))\n",
    "print(now + timedelta(days=2, hours=12))"
   ]
  },
  {
   "cell_type": "markdown",
   "metadata": {},
   "source": [
    "#### 本地时间转换为UTC时间"
   ]
  },
  {
   "cell_type": "code",
   "execution_count": null,
   "metadata": {},
   "outputs": [],
   "source": [
    "#datetime类型有一个时区属性tzinfo，\n",
    "#但是默认为None，所以无法区分这个datetime到底是哪个时区，\n",
    "#除非强行给datetime设置一个时区\n",
    "from datetime import datetime, timedelta, timezone\n",
    "tz_utc_8 = timezone(timedelta(hours=8)) # 创建时区UTC+8:00\n",
    "print(tz_utc_8)\n",
    "\n",
    "now = datetime.now()\n",
    "print(now)\n",
    "\n",
    "dt = now.replace(tzinfo=tz_utc_8) # 强制设置为UTC+8:00\n",
    "print(dt)\n"
   ]
  },
  {
   "cell_type": "markdown",
   "metadata": {},
   "source": [
    "#### 时区转换"
   ]
  },
  {
   "cell_type": "code",
   "execution_count": null,
   "metadata": {},
   "outputs": [],
   "source": [
    "时区转换的关键在于，拿到一个明确时区的datetime，然后强制设置时区，作为基准时间。\n",
    "利用带时区的datetime，通过astimezone()方法，可以转换到任意时区。\n",
    "注：不是必须从UTC+0:00时区转换到其他时区，任何带时区的datetime都可以正确转换，例如上述bj_dt到tokyo_dt的转换"
   ]
  },
  {
   "cell_type": "code",
   "execution_count": null,
   "metadata": {},
   "outputs": [],
   "source": [
    "#可以先通过utcnow()拿到当前的UTC时间，再转换为任意时区的时间\n",
    "\n",
    "utc_dt = datetime.utcnow().replace(tzinfo=timezone.utc)\n",
    "print(utc_dt)\n",
    "\n",
    "# astimezone()将转换时区为北京时间:\n",
    "bj_dt = utc_dt.astimezone(timezone(timedelta(hours=8)))\n",
    "print(bj_dt)\n",
    "\n",
    "# astimezone()将转换时区为东京时间:\n",
    "tokyo_dt = utc_dt.astimezone(timezone(timedelta(hours=9)))\n",
    "print(tokyo_dt)\n",
    "\n",
    "# astimezone()将bj_dt转换时区为东京时间:\n",
    "tokyo_dt2 = bj_dt.astimezone(timezone(timedelta(hours=9)))\n",
    "print(tokyo_dt2)\n"
   ]
  },
  {
   "cell_type": "markdown",
   "metadata": {},
   "source": [
    "### collections"
   ]
  },
  {
   "cell_type": "raw",
   "metadata": {},
   "source": [
    "collections是Python内建的一个集合模块，提供了许多有用的集合类"
   ]
  },
  {
   "cell_type": "markdown",
   "metadata": {},
   "source": [
    "#### namedtuple:\n",
    "namedtuple是一个函数，它用来创建一个自定义的命名tuple对象，\n",
    "并且规定了tuple元素的个数，可以用属性名而不是索引来引用tuple的某个元素"
   ]
  },
  {
   "cell_type": "code",
   "execution_count": null,
   "metadata": {},
   "outputs": [],
   "source": [
    "from collections import namedtuple\n",
    "Point = namedtuple('Point', ['x', 'y'])\n",
    "#Point = namedtuple('Point', ('X', 'Y')) #与上面的语句效果是一样的\n",
    "point = Point(1, 2)\n",
    "print(point.x)\n",
    "print(point.y)\n",
    "\n",
    "print(type(Point))\n",
    "print(type(point))\n",
    "print(isinstance(point, tuple))\n"
   ]
  },
  {
   "cell_type": "markdown",
   "metadata": {},
   "source": [
    "#### deque:\n",
    "deque是为了高效实现插入和删除操作的双向列表(链式结构)"
   ]
  },
  {
   "cell_type": "code",
   "execution_count": null,
   "metadata": {},
   "outputs": [],
   "source": [
    "from collections import deque\n",
    "q = deque(['a', 'b', 'c'])\n",
    "q.append('x')\n",
    "q.appendleft('y')\n",
    "print(q)\n"
   ]
  },
  {
   "cell_type": "markdown",
   "metadata": {},
   "source": [
    "#### defaultdict:\n",
    "使用dict时，如果引用的Key不存在，就会抛出KeyError。\n",
    "如果希望key不存在时，返回一个默认值，就可以用defaultdict"
   ]
  },
  {
   "cell_type": "code",
   "execution_count": null,
   "metadata": {},
   "outputs": [],
   "source": [
    "from collections import defaultdict\n",
    "dd = defaultdict(lambda: 'N/A')\n",
    "dd['key1'] = 'abc'\n",
    "print(dd['key1']) # key1存在\n",
    "print(dd['key2']) # key2不存在，返回默认值\n",
    "\n",
    "#当要获取的key不存在时，会调用构造函数中传入的参数\n",
    "#除了在Key不存在时返回默认值，defaultdict的其他行为跟dict是完全一样的"
   ]
  },
  {
   "cell_type": "markdown",
   "metadata": {},
   "source": [
    "#### OrderedDict:\n",
    "使用dict时，Key是无序的。在对dict做迭代时，我们无法确定Key的顺序。\n",
    "如果要保持Key的顺序，可以用OrderedDict.\n"
   ]
  },
  {
   "cell_type": "code",
   "execution_count": null,
   "metadata": {},
   "outputs": [],
   "source": [
    "from collections import OrderedDict\n",
    "d = dict([('a', 1), ('b', 2), ('c', 3)])\n",
    "print(d) # dict的Key是无序的\n",
    "\n",
    "od = OrderedDict([('a', 1), ('b', 2), ('c', 3)])\n",
    "print(od)  # OrderedDict的Key是有序的\n",
    "\n",
    "#注意，OrderedDict的Key会按照插入的顺序排列，不是Key本身排序\n"
   ]
  },
  {
   "cell_type": "markdown",
   "metadata": {},
   "source": [
    "#### Counter:\n",
    "Counter是一个简单的计数器，例如，统计字符出现的个数"
   ]
  },
  {
   "cell_type": "code",
   "execution_count": null,
   "metadata": {},
   "outputs": [],
   "source": [
    "from collections import Counter\n",
    "c = Counter()\n",
    "for ch in 'programming':\n",
    "    c[ch] = c[ch] + 1\n",
    "print(c)"
   ]
  },
  {
   "cell_type": "markdown",
   "metadata": {},
   "source": [
    "### base64"
   ]
  },
  {
   "cell_type": "raw",
   "metadata": {},
   "source": [
    "Base64是一种用64个字符来表示任意二进制数据的方法.\n",
    "将三个字节24位的数据拆分成四个６位的索引(索引范围为0-63),根据这个索引将6位的数据转换成对就的字符; 当要编码的数据不是3(字节)的整数时,Base64在缺的位补足后，再在编码的末尾加上1个或2个=号，表示补了多少字节，解码的时候，会自动去掉.\n",
    "\n",
    "\n",
    "8 * 3 --> xxxxxx * xxxxxx * xxxxxx * xxxxxx\n",
    "8 * 2 --> xxxxxx * xxxxxx * xxxx00 * =  //可以根据最后的1个'='推出最后缺了1个字节，补了2位\n",
    "8 * 1 --> xxxxxx * xx0000 * =      * =　//可以根据最后的2个'='推出最后缺了2个字节，补了4位\n",
    "['A', 'B', 'C', ... 'a', 'b', 'c', ... '0', '1', ... '+', '/']\n"
   ]
  },
  {
   "cell_type": "code",
   "execution_count": null,
   "metadata": {},
   "outputs": [],
   "source": [
    "import base64\n",
    "testData = b'binary\\x00string'\n",
    "print(len(testData)%3)\n",
    "encode64Str = base64.b64encode(testData) \n",
    "print(encode64Str)\n",
    "\n",
    "decodeData = base64.b64decode(b'YmluYXJ5AHN0cmluZw==')\n",
    "print(decodeData)"
   ]
  },
  {
   "cell_type": "markdown",
   "metadata": {},
   "source": [
    "### struct"
   ]
  },
  {
   "cell_type": "raw",
   "metadata": {},
   "source": [
    "Python提供了一个struct模块来解决bytes和其他二进制数据类型的转换"
   ]
  },
  {
   "cell_type": "code",
   "execution_count": null,
   "metadata": {},
   "outputs": [],
   "source": [
    "import struct\n",
    "\n",
    "#struct的pack函数把任意数据类型变成bytes: 将数据变成字节流\n",
    "#pack的第一个参数是处理指令，'>I'的意思是：>表示字节顺序是big-endian, I表示4字节无符号整数。\n",
    "retbytes = struct.pack('>I', 10240099)\n",
    "print(retbytes)\n",
    "\n",
    "\n",
    "#unpack把bytes变成相应的数据类型： 将字节流变成数据\n",
    "#>IH表示，后面的bytes依次变为I：4字节无符号整数 和　H：2字节无符号整数\n",
    "retStruct = struct.unpack('>IH', b'\\xf0\\xf0\\xf0\\xf0\\x80\\x80')\n",
    "print(retStruct)\n",
    "\n",
    "#参考: https://docs.python.org/3/library/struct.html#format-characters"
   ]
  },
  {
   "cell_type": "markdown",
   "metadata": {},
   "source": [
    "### itertools\n",
    "Python的内建模块itertools提供了非常有用的用于操作迭代对象的函数"
   ]
  },
  {
   "cell_type": "raw",
   "metadata": {},
   "source": [
    "itertools工具中的count,cycle,repeat可以产生无限序列;\n",
    "通常我们会通过takewhile()等函数根据条件判断来截取出一个有限的序列"
   ]
  },
  {
   "cell_type": "code",
   "execution_count": null,
   "metadata": {},
   "outputs": [],
   "source": [
    "#count()会创建一个无限的迭代器\n",
    "import itertools\n",
    "natuals = itertools.count(1) #natuals从一个从１开始的无限计数器\n",
    "#for n in natuals:\n",
    "#    print(n)\n",
    "\n",
    "#通过takewhile()等函数根据条件判断来截取出一个有限的序列\n",
    "ns = itertools.takewhile(lambda x: x <= 10, natuals)　\n",
    "list(ns)\n"
   ]
  },
  {
   "cell_type": "code",
   "execution_count": null,
   "metadata": {},
   "outputs": [],
   "source": [
    "#cycle()会把传入的一个序列无限重复下去：\n",
    "import itertools\n",
    "cyc = itertools.cycle('ABC') # 注意字符串也是序列的一种\n",
    "#for c in cyc:\n",
    "#    print(c)\n"
   ]
  },
  {
   "cell_type": "code",
   "execution_count": null,
   "metadata": {},
   "outputs": [],
   "source": [
    "#repeat()负责把一个元素无限重复下去，不过如果提供第二个参数就可以限定重复次数\n"
   ]
  },
  {
   "cell_type": "code",
   "execution_count": null,
   "metadata": {},
   "outputs": [],
   "source": [
    "import itertools\n",
    "ns = itertools.repeat('A', 3)\n",
    "for n in ns:\n",
    "    print(n)\n"
   ]
  },
  {
   "cell_type": "code",
   "execution_count": null,
   "metadata": {},
   "outputs": [],
   "source": [
    "#chain()可以把一组迭代对象串联起来，形成一个更大的迭代器：\n",
    "for c in itertools.chain('ABC', 'XYZ'):\n",
    "    print(c)\n"
   ]
  },
  {
   "cell_type": "code",
   "execution_count": null,
   "metadata": {},
   "outputs": [],
   "source": [
    "#groupby()把迭代器中相邻的重复元素挑出来放在一起：\n",
    "for key, group in itertools.groupby('AAABBBCCAAA'):\n",
    "    print(key, list(group))\n",
    "\n",
    "print(\"\\n\\n\\n\")\n",
    "    \n",
    "#指定groupby()用于挑选元素的函数\n",
    "for key, group in itertools.groupby('AaaBBbcCAAa', lambda c: c.upper()):\n",
    "    print(key, list(group))"
   ]
  },
  {
   "cell_type": "markdown",
   "metadata": {},
   "source": [
    "### contextlib & with ... as var"
   ]
  },
  {
   "cell_type": "raw",
   "metadata": {},
   "source": [
    "在Python中，读写文件这样的资源要特别注意，必须在使用完毕后正确关闭它们。\n",
    "正确关闭文件资源的一个方法是使用try...finally：\n",
    "try:\n",
    "    f = open('/path/to/file', 'r')\n",
    "    f.read()\n",
    "finally:\n",
    "    if f:\n",
    "        f.close()\n",
    "写try...finally非常繁琐。Python的with语句允许我们非常方便地使用资源，而不必担心资源没有关闭，\n",
    "所以上面的代码可以简化为：\n",
    "with open('/path/to/file', 'r') as f:\n",
    "    f.read()\n",
    "并不是只有open()函数返回的fp对象才能使用with语句。\n",
    "实际上，任何对象，只要正确实现了上下文管理，就可以用于with语句。\n",
    "实现上下文管理是通过__enter__和__exit__这两个方法实现的"
   ]
  },
  {
   "cell_type": "code",
   "execution_count": null,
   "metadata": {},
   "outputs": [],
   "source": [
    "#任何对象，只要正确实现了上下文管理，就可以用于with语句。\n",
    "#实现上下文管理是通过__enter__和__exit__这两个方法实现的\n",
    "\n",
    "class Query(object):\n",
    "    def __init__(self, name):\n",
    "        self.name = name\n",
    "\n",
    "    def __enter__(self):\n",
    "        print('Begin')\n",
    "        return self\n",
    "\n",
    "    def __exit__(self, exc_type, exc_value, traceback):\n",
    "        if exc_type:\n",
    "            print('Error')\n",
    "        else:\n",
    "            print('End')\n",
    "\n",
    "    def query(self):\n",
    "        print('Query info about %s...' % self.name)\n",
    "\n",
    "with Query('Bob') as q:\n",
    "    q.query()\n"
   ]
  },
  {
   "cell_type": "markdown",
   "metadata": {},
   "source": [
    "#### @contextmanager"
   ]
  },
  {
   "cell_type": "raw",
   "metadata": {},
   "source": [
    "编写__enter__和__exit__仍然很繁琐，因此Python的标准库contextlib提供了更简单的写法.\n",
    "@contextmanager这个decorator接受一个generator，\n",
    "用yield语句通过with ... as var把变量输出到var，然后，with语句就可以正常地工作了"
   ]
  },
  {
   "cell_type": "code",
   "execution_count": null,
   "metadata": {},
   "outputs": [],
   "source": [
    "from contextlib import contextmanager\n",
    "class Query(object):\n",
    "    def __init__(self, name):\n",
    "        self.name = name\n",
    "\n",
    "    def query(self):\n",
    "        print('Query info about %s...' % self.name)\n",
    "\n",
    "@contextmanager\n",
    "def create_query(name):\n",
    "    print('Begin')\n",
    "    query = Query(name)\n",
    "    yield query     #1\n",
    "    print('End')\n",
    "    \n",
    "with create_query('Bob') as q: #执行１后,q接收到一个Query对象\n",
    "    q.query()\n"
   ]
  },
  {
   "cell_type": "code",
   "execution_count": null,
   "metadata": {},
   "outputs": [],
   "source": [
    "#很多时候，我们希望在某段代码执行前后自动执行特定代码，也可以用@contextmanager实现。例如：\n",
    "@contextmanager\n",
    "def tag(name):\n",
    "    print(\"<%s>\" % name)\n",
    "    yield\n",
    "    print(\"</%s>\" % name)\n",
    "\n",
    "with tag(\"h1\"):\n",
    "    print(\"hello\")\n",
    "    print(\"world\")\n",
    "    "
   ]
  },
  {
   "cell_type": "markdown",
   "metadata": {},
   "source": [
    "#### @closing"
   ]
  },
  {
   "cell_type": "raw",
   "metadata": {},
   "source": [
    "如果一个对象没有实现上下文，我们就不能把它用于with语句。\n",
    "这个时候，可以用closing()来把该对象变为上下文对象。\n",
    "closing也是一个经过@contextmanager装饰的generator，这个generator编写起来其实非常简单：\n",
    "@contextmanager\n",
    "def closing(thing):\n",
    "    try:\n",
    "        yield thing\n",
    "    finally:\n",
    "        thing.close()\n",
    "它的作用就是把任意对象变为上下文对象，并支持with语句。\n",
    "@contextlib还有一些其他decorator，便于我们编写更简洁的代码\n"
   ]
  },
  {
   "cell_type": "code",
   "execution_count": null,
   "metadata": {},
   "outputs": [],
   "source": [
    "from contextlib import closing\n",
    "from urllib.request import urlopen\n",
    "\n",
    "with closing(urlopen('https://www.python.org')) as page:\n",
    "    for line in page:\n",
    "        print(line)\n",
    "\n"
   ]
  },
  {
   "cell_type": "markdown",
   "metadata": {},
   "source": [
    "### XML"
   ]
  },
  {
   "cell_type": "raw",
   "metadata": {},
   "source": [
    "DOM vs SAX\n",
    "操作XML有两种方法：DOM和SAX。DOM会把整个XML读入内存，解析为树，因此占用内存大，解析慢，优点是可以任意遍历树的节点。SAX是流模式，边读边解析，占用内存小，解析快，缺点是我们需要自己处理事件.\n",
    "\n",
    "当SAX解析器读到一个节点时：举个例子，\n",
    "<a href=\"/\">python</a>\n",
    "会产生3个事件：\n",
    "1.\tstart_element事件，在读取<a href=\"/\">时；\n",
    "2.\tchar_data事件，在读取python时；\n",
    "3.\tend_element事件，在读取</a>时\n"
   ]
  },
  {
   "cell_type": "markdown",
   "metadata": {},
   "source": [
    "### HTMLParser"
   ]
  },
  {
   "cell_type": "raw",
   "metadata": {},
   "source": [
    "HTML的语法没有XML那么严格，所以不能用标准的DOM或SAX来解析HTML。"
   ]
  },
  {
   "cell_type": "markdown",
   "metadata": {},
   "source": [
    "### urllib"
   ]
  },
  {
   "cell_type": "raw",
   "metadata": {},
   "source": [
    "urllib提供了一系列用于操作URL的功能."
   ]
  },
  {
   "cell_type": "code",
   "execution_count": null,
   "metadata": {
    "scrolled": true
   },
   "outputs": [],
   "source": [
    "#urllib的request模块可以非常方便地抓取URL内容，也就是发送一个GET请求到指定的页面，然后返回HTTP的响应\n",
    "\n",
    "from urllib import request\n",
    "url = 'https://www.google.com.hk/'\n",
    "req = request.Request(url)\n",
    "#req.add_header('User-Agent', 'Mozilla/5.0 (Windows; U; Windows NT 6.1; en-US; rv:1.9.1.6) Gecko/20091201 Firefox/3.5.6')\n",
    "with request.urlopen(req) as f:\n",
    "    print('Status:', f.status, f.reason)\n",
    "    for k, v in f.getheaders():\n",
    "        print('%s: %s' % (k, v))\n",
    "    print('Data:', f.read().decode('utf-8'))\n"
   ]
  },
  {
   "cell_type": "markdown",
   "metadata": {},
   "source": [
    "#### 模拟浏览器发送GET请求\n",
    "需要使用Request对象，通过往Request对象添加HTTP头，我们就可以把请求伪装成浏览器"
   ]
  },
  {
   "cell_type": "code",
   "execution_count": null,
   "metadata": {},
   "outputs": [],
   "source": [
    "from urllib import request\n",
    "req = request.Request('http://www.douban.com/')\n",
    "req.add_header('User-Agent', 'Mozilla/6.0 (iPhone; CPU iPhone OS 8_0 like Mac OS X) AppleWebKit/536.26 (KHTML, like Gecko) Version/8.0 Mobile/10A5376e Safari/8536.25')\n",
    "with request.urlopen(req) as f:\n",
    "    print('Status:', f.status, f.reason)\n",
    "    for k, v in f.getheaders():\n",
    "        print('%s: %s' % (k, v))\n",
    "    print('Data:', f.read().decode('utf-8'))\n"
   ]
  },
  {
   "cell_type": "markdown",
   "metadata": {},
   "source": [
    "#### Post\n",
    "如果要以POST发送一个请求，只需要把参数data以bytes形式传入"
   ]
  },
  {
   "cell_type": "code",
   "execution_count": null,
   "metadata": {},
   "outputs": [],
   "source": [
    "from urllib import request, parse\n",
    "print('Login to weibo.cn...')\n",
    "email = input('Email: ')\n",
    "passwd = input('Password: ')\n",
    "login_data = parse.urlencode([\n",
    "    ('username', email),\n",
    "    ('password', passwd),\n",
    "    ('entry', 'mweibo'),\n",
    "    ('client_id', ''),\n",
    "    ('savestate', '1'),\n",
    "    ('ec', ''),\n",
    "    ('pagerefer', 'https://passport.weibo.cn/signin/welcome?entry=mweibo&r=http%3A%2F%2Fm.weibo.cn%2F')\n",
    "])\n",
    "\n",
    "req = request.Request('https://passport.weibo.cn/sso/login')\n",
    "req.add_header('Origin', 'https://passport.weibo.cn')\n",
    "req.add_header('User-Agent', 'Mozilla/6.0 (iPhone; CPU iPhone OS 8_0 like Mac OS X) AppleWebKit/536.26 (KHTML, like Gecko) Version/8.0 Mobile/10A5376e Safari/8536.25')\n",
    "req.add_header('Referer', 'https://passport.weibo.cn/signin/login?entry=mweibo&res=wel&wm=3349&r=http%3A%2F%2Fm.weibo.cn%2F')\n",
    "\n",
    "with request.urlopen(req, data=login_data.encode('utf-8')) as f:\n",
    "    print('Status:', f.status, f.reason)\n",
    "    for k, v in f.getheaders():\n",
    "        print('%s: %s' % (k, v))\n",
    "    print('Data:', f.read().decode('utf-8'))\n"
   ]
  },
  {
   "cell_type": "markdown",
   "metadata": {},
   "source": [
    "## 数据库"
   ]
  },
  {
   "cell_type": "markdown",
   "metadata": {},
   "source": [
    "### sqlite"
   ]
  },
  {
   "cell_type": "code",
   "execution_count": null,
   "metadata": {},
   "outputs": [],
   "source": [
    "#由于SQLite的驱动内置在Python标准库中，所以我们可以直接来操作SQLite数据库。\n",
    "# 导入SQLite驱动:\n",
    "import sqlite3\n",
    "\n",
    "# 连接到SQLite数据库\n",
    "# 数据库文件是test.db\n",
    "# 如果文件不存在，会自动在当前目录创建:\n",
    "conn = sqlite3.connect('D:/DailyCleaning/test.db')\n",
    "\n",
    "# 创建一个Cursor:\n",
    "cursor = conn.cursor()\n",
    "\n",
    "# 执行一条SQL语句，创建user表:\n",
    "cursor.execute('create table if not exists user(id varchar(20) primary key, name varchar(20))')\n",
    "\n",
    "# 继续执行一条SQL语句，插入一条记录:\n",
    "cursor.execute(\"insert into user (id, name) values ('1', 'Michael')\")\n",
    "\n",
    "# 通过rowcount获得插入的行数:\n",
    "print(cursor.rowcount)\n",
    "\n",
    "# 关闭Cursor:\n",
    "cursor.close()\n",
    "\n",
    "# 提交事务:\n",
    "conn.commit()\n",
    "\n",
    "# 关闭Connection:\n",
    "conn.close()\n",
    "\n",
    "#我们再试试查询记录：\n",
    "conn = sqlite3.connect('D:/DailyCleaning/test.db')\n",
    "cursor = conn.cursor()\n",
    "# 执行查询语句:\n",
    "cursor.execute('select * from user where id=?', ('1',))\n",
    "# 获得查询结果集:\n",
    "values = cursor.fetchall()\n",
    "print(values)\n",
    "cursor.close()\n",
    "conn.close()\n"
   ]
  },
  {
   "cell_type": "code",
   "execution_count": null,
   "metadata": {},
   "outputs": [],
   "source": []
  },
  {
   "cell_type": "code",
   "execution_count": null,
   "metadata": {},
   "outputs": [],
   "source": []
  },
  {
   "cell_type": "code",
   "execution_count": null,
   "metadata": {},
   "outputs": [],
   "source": []
  }
 ],
 "metadata": {
  "kernelspec": {
   "display_name": "Python 3",
   "language": "python",
   "name": "python3"
  },
  "language_info": {
   "codemirror_mode": {
    "name": "ipython",
    "version": 3
   },
   "file_extension": ".py",
   "mimetype": "text/x-python",
   "name": "python",
   "nbconvert_exporter": "python",
   "pygments_lexer": "ipython3",
   "version": "3.7.6"
  },
  "toc": {
   "base_numbering": 1,
   "nav_menu": {},
   "number_sections": true,
   "sideBar": true,
   "skip_h1_title": false,
   "title_cell": "Table of Contents",
   "title_sidebar": "Contents",
   "toc_cell": false,
   "toc_position": {
    "height": "calc(100% - 180px)",
    "left": "10px",
    "top": "150px",
    "width": "320px"
   },
   "toc_section_display": true,
   "toc_window_display": true
  },
  "widgets": {
   "application/vnd.jupyter.widget-state+json": {
    "state": {},
    "version_major": 2,
    "version_minor": 0
   }
  }
 },
 "nbformat": 4,
 "nbformat_minor": 2
}
