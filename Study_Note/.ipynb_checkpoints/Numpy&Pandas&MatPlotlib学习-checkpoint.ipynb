{
 "cells": [
  {
   "cell_type": "code",
   "execution_count": 1,
   "metadata": {},
   "outputs": [],
   "source": [
    "import numpy as np\n",
    "import pandas as pd\n",
    "import matplotlib.pyplot as plt"
   ]
  },
  {
   "cell_type": "markdown",
   "metadata": {},
   "source": [
    "## Numpy"
   ]
  },
  {
   "cell_type": "markdown",
   "metadata": {},
   "source": [
    "### RClass对象np.r_\n",
    "+ 用于对多个np.array沿第一个轴进行快速连接,并产生一个新shape的array. (功能有点类型与pd.concat)\n",
    "    * 索引表达式有两种用法。      \n",
    "        1. 如果索引表达式为逗号分隔的数字字符串(如:'stackAxisIndex:DimNum:thirdNum')，则将其沿其第一个数字表示的轴堆叠。\n",
    "        2. 如果索引表达式为切片符号或标量，则创建一个一维数组，其范围由切片符号指示。"
   ]
  },
  {
   "cell_type": "markdown",
   "metadata": {},
   "source": [
    "#### 不使用索引表达式时，在第一个维度进行拼接"
   ]
  },
  {
   "cell_type": "code",
   "execution_count": 2,
   "metadata": {},
   "outputs": [
    {
     "data": {
      "text/plain": [
       "array([[ 1,  2,  3],\n",
       "       [ 4,  5,  6],\n",
       "       [10, 20, 30],\n",
       "       [40, 50, 60]])"
      ]
     },
     "execution_count": 2,
     "metadata": {},
     "output_type": "execute_result"
    }
   ],
   "source": [
    "# 不使用索引表达式时，在第一个维度进行拼接\n",
    "# np.r_返回的array与要拼接的array维度相同\n",
    "a = np.array([[1,2,3], [4,5,6]])        # a.shape为(2, 3)\n",
    "b = np.array([[10,20,30], [40,50,60]])  # b.shape为(2, 3)\n",
    "c = np.r_[a, b]   # c.shape为(4, 3), --相当于在第一个维度进行拼接\n",
    "c\n",
    "# >> array([[ 1,  2,  3],\n",
    "#           [ 4,  5,  6],\n",
    "#\n",
    "#           [10, 20, 30],\n",
    "#           [40, 50, 60]])"
   ]
  },
  {
   "cell_type": "markdown",
   "metadata": {},
   "source": [
    "#### 使用索引表达式"
   ]
  },
  {
   "cell_type": "code",
   "execution_count": 3,
   "metadata": {},
   "outputs": [
    {
     "data": {
      "text/plain": [
       "array([ 0., 10.,  0.,  0.,  0.,  5.,  6.])"
      ]
     },
     "execution_count": 3,
     "metadata": {},
     "output_type": "execute_result"
    }
   ],
   "source": [
    "# 如果索引表达式为切片符号或标量，则创建一个一维数组，其范围由切片符号指示。\n",
    "\n",
    "# 切片形式的索引表达式格式为'x:y:z',根据z是否为虚数, \n",
    "# 分别对应np.range(start:stop:step)--z为非虚数 或 np.linspace(start:stop:num) --z为虚数 \n",
    "np.r_[np.array([1,2,3]), 0, 0, np.array([4,5,6])] # 直接进行连接\n",
    "# >> array([1, 2, 3, 0, 0, 4, 5, 6])\n",
    "\n",
    "# 索引表达式最后一项为非虚数\n",
    "np.r_[0:10:2, [0]*3, 5, 6] # 将[0,10)按照步长2生成序列，再进行拼接\n",
    "# >> array([0, 2, 4, 6, 8, 0, 0, 0, 5, 6])\n",
    "\n",
    "# 索引表达式最后一项为虚数\n",
    "np.r_[0:10:2j, [0]*3, 5, 6] # 在[0,10]中按np.linspace取2个数据，再进行拼接\n",
    "# >> array([0, 2, 4, 6, 8, 0, 0, 0, 5, 6]"
   ]
  },
  {
   "cell_type": "markdown",
   "metadata": {},
   "source": [
    "```\n",
    "# 如果索引表达式为逗号分隔的数字字符串(如:'stackAxisIndex:DimNum:thirdNum')，则将其沿其第一个数字表示的轴堆叠 \n",
    "# 逗号分隔的数字字符串索引表达式格式为'-1'或'stackAxisIndex:DimNum:thirdNum'(第三个数可)\n",
    "# 为'-1'时：\n",
    "# 将提升生产的新array的shape的最后一维,默认值为'-1'\n",
    "\n",
    "a = np.array([[1,2,3], [4,5,6]])        # a.shape为(2, 3)\n",
    "b = np.array([[10,20,30], [40,50,60]])  # b.shape为(2, 3)\n",
    "c = np.r_['-1', a, b]  # c.shape为(2, 6), --相当于在最后一个维度进行拼接\n",
    "c\n",
    "# >> array([[ 1,  2,  3, 10, 20, 30],\n",
    "#           [ 4,  5,  6, 40, 50, 60]])\n",
    "\n",
    "# 为'stackAxisIndex:DimNum:thirdNum'时：\n",
    "# stackAxisIndex:表示np.r_操作在该轴上进行堆叠,　\n",
    "# DimNum:表示操作后生成的新array的维度数\n",
    "# thirdNum: 为0时,生成的新array的最后一个维度为1(即shape为(D1, D2, ..., 1))\n",
    "#           为1时,生成的新array的最后一个维度保持\n",
    "\n",
    "# c.shape为(2,　1, 2, 3), --指定在索引为0的轴进行拼接\n",
    "# 因为在索引表达式引指定了输出array的维度(且比a,b维度都大)，所以返回指定维度的array(4维)\n",
    "c = np.r_['0, 4', a, b] \n",
    "c\n",
    "# >>array([ [ [ [ 1,  2,  3],\n",
    "#               [ 4,  5,  6]]],\n",
    "#\n",
    "#           [ [ [10, 20, 30],\n",
    "#               [40, 50, 60]]]])\n",
    "\n",
    "\n",
    "# c.shape为(1, 2, 2, 3), --指定在索引为1的轴进行拼接\n",
    "# 因为在索引表达式引指定了输出array的维度(且比a,b维度都大)，所以返回指定维度的array(4维)\n",
    "c = np.r_['1, 4', a, b] \n",
    "c\n",
    "# >>array([ [ [ [ 1,  2,  3],\n",
    "#               [ 4,  5,  6]]],\n",
    "#\n",
    "#             [ [10, 20, 30],\n",
    "#               [40, 50, 60]]])\n",
    "\n",
    "\n",
    "c = np.r_['1, 4', a, b] \n",
    "array([[[[ 1,  2,  3],\n",
    "         [ 4,  5,  6]],\n",
    "\n",
    "        [[10, 20, 30],\n",
    "         [40, 50, 60]]]])\n",
    "相当于先将a维度扩充到4维,　再在第2个维度连接b.\n",
    "\n",
    "a: [[1,2,3], [4,5,6]]\n",
    "维度扩充到4维: [[[[1,2,3], [4,5,6]]]]\n",
    "在第2个维度连接b: [[[[1,2,3], [4,5,6]], [[10,20,30], [40,50,60]]]]\n",
    "```"
   ]
  },
  {
   "cell_type": "code",
   "execution_count": 5,
   "metadata": {},
   "outputs": [
    {
     "data": {
      "text/plain": [
       "array([[ 1,  2,  3],\n",
       "       [ 4,  5,  6],\n",
       "       [10, 20, 30],\n",
       "       [40, 50, 60]])"
      ]
     },
     "execution_count": 5,
     "metadata": {},
     "output_type": "execute_result"
    }
   ],
   "source": [
    "np.r_[a, b] "
   ]
  },
  {
   "cell_type": "markdown",
   "metadata": {},
   "source": [
    "## Series"
   ]
  },
  {
   "cell_type": "markdown",
   "metadata": {},
   "source": [
    "Series是pandas中暴露给我们使用的基本对象，它是由相同元素类型构成的一维数据结构，同时具有列表和字典的属性（字典的属性由索引赋予）。\n",
    "\n",
    "+ Series：有序，有索引\n",
    "+ list：  有序，无索引\n",
    "+ dict：  无序，有索引"
   ]
  },
  {
   "cell_type": "markdown",
   "metadata": {},
   "source": [
    "### 创建Series"
   ]
  },
  {
   "cell_type": "code",
   "execution_count": 6,
   "metadata": {},
   "outputs": [
    {
     "name": "stdout",
     "output_type": "stream",
     "text": [
      "a    1\n",
      "b    2\n",
      "c    3\n",
      "Name: seriesName, dtype: int64\n"
     ]
    }
   ],
   "source": [
    "data = [1, 2, 3]\n",
    "index = ['a','b','c']\n",
    "\n",
    "#不指定index时,如果data是有索引的则使用data的索引,否则使用从0开始的下标作为索引\n",
    "seriesObj = pd.Series(data=data, index=index, name = 'seriesName')\n",
    "print(seriesObj)\n",
    "\n",
    "\n",
    "data2 = { 'a':1, 'b':2,'c':3 }\n",
    "index2 = ['a', 'b', 'c', 'd']\n",
    "#seriesObj = pd.Series(data = data2) #不指定index时,如果data是有索引的则使用data的索引,否则使用从0开始的下标作为索引\n",
    "#seriesObj = pd.Series(data = data2, index = index2)\n",
    "#print(seriesObj)"
   ]
  },
  {
   "cell_type": "raw",
   "metadata": {},
   "source": [
    "如上，index项用于从当前已有索引中匹配出相同的行，如果当前索引缺失给定的索引，则填充NaN（NaN：not a number为pandas缺失值标记）。"
   ]
  },
  {
   "cell_type": "markdown",
   "metadata": {},
   "source": [
    "### Series四属性\n",
    "+ 索引: seriesObj.index\n",
    "+ 名字: seriesObj.name\n",
    "+ 值: seriesObj.values\n",
    "+ 元素类型: seriesObj.dtype"
   ]
  },
  {
   "cell_type": "code",
   "execution_count": 7,
   "metadata": {},
   "outputs": [
    {
     "name": "stdout",
     "output_type": "stream",
     "text": [
      "Index(['a', 'b', 'c'], dtype='object')\n",
      "seriesName\n",
      "[1 2 3]\n",
      "int64\n"
     ]
    }
   ],
   "source": [
    "print(seriesObj.index)\n",
    "print(seriesObj.name)\n",
    "print(seriesObj.values)\n",
    "print(seriesObj.dtype)"
   ]
  },
  {
   "cell_type": "markdown",
   "metadata": {},
   "source": [
    "### Series的查、改、增、 删¶"
   ]
  },
  {
   "cell_type": "markdown",
   "metadata": {},
   "source": [
    "#### 查"
   ]
  },
  {
   "cell_type": "markdown",
   "metadata": {},
   "source": [
    "##### [],  基于位置,基于索引\n",
    "基于位置,基于索引,切片(范围),指定索引(列表枚举),掩码"
   ]
  },
  {
   "cell_type": "code",
   "execution_count": 8,
   "metadata": {},
   "outputs": [
    {
     "data": {
      "text/plain": [
       "2"
      ]
     },
     "execution_count": 8,
     "metadata": {},
     "output_type": "execute_result"
    }
   ],
   "source": [
    "seriesObj[1] # 索引从0开始算起"
   ]
  },
  {
   "cell_type": "code",
   "execution_count": 9,
   "metadata": {},
   "outputs": [
    {
     "data": {
      "text/plain": [
       "a    1\n",
       "b    2\n",
       "Name: seriesName, dtype: int64"
      ]
     },
     "execution_count": 9,
     "metadata": {},
     "output_type": "execute_result"
    }
   ],
   "source": [
    "seriesObj[0:2] # 取索引为[0, 2)范围内的元素"
   ]
  },
  {
   "cell_type": "code",
   "execution_count": 10,
   "metadata": {},
   "outputs": [
    {
     "data": {
      "text/plain": [
       "a    1\n",
       "c    3\n",
       "Name: seriesName, dtype: int64"
      ]
     },
     "execution_count": 10,
     "metadata": {},
     "output_type": "execute_result"
    }
   ],
   "source": [
    "seriesObj[[0,2]] # 通过列表枚举要获取元素的索引 -- 返回第0和第2个"
   ]
  },
  {
   "cell_type": "code",
   "execution_count": 11,
   "metadata": {},
   "outputs": [
    {
     "data": {
      "text/plain": [
       "b    2\n",
       "Name: seriesName, dtype: int64"
      ]
     },
     "execution_count": 11,
     "metadata": {},
     "output_type": "execute_result"
    }
   ],
   "source": [
    "mask = [False, True, False]  #mask，类似于列表枚举，只是长度必须和Series相同，返回Series中的指定元素\n",
    "seriesObj[mask]"
   ]
  },
  {
   "cell_type": "markdown",
   "metadata": {},
   "source": [
    "##### .loc[]，基于索引\n",
    "可通过.loc[]进行查询方式同样可以通过[]进行"
   ]
  },
  {
   "cell_type": "code",
   "execution_count": 12,
   "metadata": {},
   "outputs": [
    {
     "data": {
      "text/plain": [
       "2"
      ]
     },
     "execution_count": 12,
     "metadata": {},
     "output_type": "execute_result"
    }
   ],
   "source": [
    "seriesObj.loc['b'] # 单索引，返回一个值\n",
    "#seriesObj['b']"
   ]
  },
  {
   "cell_type": "code",
   "execution_count": 13,
   "metadata": {},
   "outputs": [
    {
     "data": {
      "text/plain": [
       "a    1\n",
       "b    2\n",
       "c    3\n",
       "Name: seriesName, dtype: int64"
      ]
     },
     "execution_count": 13,
     "metadata": {},
     "output_type": "execute_result"
    }
   ],
   "source": [
    "seriesObj.loc['a':'c']  # 范围，注意：左闭右闭，返回Series切片\n",
    "#seriesObj['a':'c']"
   ]
  },
  {
   "cell_type": "code",
   "execution_count": 14,
   "metadata": {},
   "outputs": [
    {
     "data": {
      "text/plain": [
       "a    1\n",
       "c    3\n",
       "Name: seriesName, dtype: int64"
      ]
     },
     "execution_count": 14,
     "metadata": {},
     "output_type": "execute_result"
    }
   ],
   "source": [
    "seriesObj.loc[['a','c']] # 列表枚举，返回指定索引的Series元素 --通过列表指定要返回元素的索引\n",
    "#seriesObj[['a', 'c']]"
   ]
  },
  {
   "cell_type": "code",
   "execution_count": 15,
   "metadata": {},
   "outputs": [
    {
     "data": {
      "text/plain": [
       "b    2\n",
       "Name: seriesName, dtype: int64"
      ]
     },
     "execution_count": 15,
     "metadata": {},
     "output_type": "execute_result"
    }
   ],
   "source": [
    "mask = [False, True, False] # mask，和iloc[]效果等同，返回指定的Series元素\n",
    "seriesObj.loc[mask]"
   ]
  },
  {
   "cell_type": "markdown",
   "metadata": {},
   "source": [
    "##### .iloc[]，基于位置\n",
    "可通过.iloc[]进行查询方式同样可以通过[]进行"
   ]
  },
  {
   "cell_type": "code",
   "execution_count": 16,
   "metadata": {},
   "outputs": [
    {
     "data": {
      "text/plain": [
       "2"
      ]
     },
     "execution_count": 16,
     "metadata": {},
     "output_type": "execute_result"
    }
   ],
   "source": [
    "seriesObj.iloc[1] # 返回一个值\n",
    "#seriesObj[1] "
   ]
  },
  {
   "cell_type": "code",
   "execution_count": 17,
   "metadata": {},
   "outputs": [
    {
     "data": {
      "text/plain": [
       "a    1\n",
       "b    2\n",
       "Name: seriesName, dtype: int64"
      ]
     },
     "execution_count": 17,
     "metadata": {},
     "output_type": "execute_result"
    }
   ],
   "source": [
    "seriesObj.iloc[0:2] # 取索引为[0, 2)范围内的元素\n",
    "#seriesObj[0:2] "
   ]
  },
  {
   "cell_type": "code",
   "execution_count": 18,
   "metadata": {},
   "outputs": [
    {
     "data": {
      "text/plain": [
       "a    1\n",
       "c    3\n",
       "Name: seriesName, dtype: int64"
      ]
     },
     "execution_count": 18,
     "metadata": {},
     "output_type": "execute_result"
    }
   ],
   "source": [
    "seriesObj.iloc[[0,2]] # 通过列表枚举要获取元素的索引 -- 返回第0和第2个\n",
    "#seriesObj[[0,2]] "
   ]
  },
  {
   "cell_type": "code",
   "execution_count": 19,
   "metadata": {},
   "outputs": [
    {
     "data": {
      "text/plain": [
       "b    2\n",
       "Name: seriesName, dtype: int64"
      ]
     },
     "execution_count": 19,
     "metadata": {},
     "output_type": "execute_result"
    }
   ],
   "source": [
    "mask = [False, True, False]  #mask，类似于列表枚举，只是长度必须和Series相同，返回Series中的指定元素\n",
    "seriesObj.iloc[mask]\n",
    "#seriesObj[mask]"
   ]
  },
  {
   "cell_type": "markdown",
   "metadata": {},
   "source": [
    "#### 改"
   ]
  },
  {
   "cell_type": "code",
   "execution_count": 20,
   "metadata": {},
   "outputs": [],
   "source": [
    "seriesObj2 = seriesObj.copy()  # 深copy，拷贝数据结构包含的所有信息"
   ]
  },
  {
   "cell_type": "markdown",
   "metadata": {},
   "source": [
    "##### 查的基础上赋值，就可以修改"
   ]
  },
  {
   "cell_type": "code",
   "execution_count": 21,
   "metadata": {},
   "outputs": [],
   "source": [
    "seriesObj2['a'] = 10"
   ]
  },
  {
   "cell_type": "markdown",
   "metadata": {},
   "source": [
    "##### Series.replace()\n",
    "\n",
    "几个主要参数:\n",
    "+ to_replace：要修改的值，可以为列表\n",
    "+ value：改为的值，可以为列表，与to_repalce要匹配；\n",
    "+ inplace：是否在原地修改；\n"
   ]
  },
  {
   "cell_type": "code",
   "execution_count": 22,
   "metadata": {},
   "outputs": [
    {
     "data": {
      "text/plain": [
       "a    100\n",
       "b      2\n",
       "c      3\n",
       "Name: seriesName, dtype: int64"
      ]
     },
     "execution_count": 22,
     "metadata": {},
     "output_type": "execute_result"
    }
   ],
   "source": [
    "seriesObj2.replace(to_replace = 10, value = 100, inplace=False)"
   ]
  },
  {
   "cell_type": "markdown",
   "metadata": {},
   "source": [
    "#### 改索引"
   ]
  },
  {
   "cell_type": "markdown",
   "metadata": {},
   "source": [
    "##### 直接改index\n",
    "index类似于tuple，只能引用到别处，不能切片修改."
   ]
  },
  {
   "cell_type": "code",
   "execution_count": 23,
   "metadata": {},
   "outputs": [
    {
     "name": "stdout",
     "output_type": "stream",
     "text": [
      "Index(['a', 'b', 'c'], dtype='object')\n",
      "Index(['a', 'e', 'f'], dtype='object')\n"
     ]
    }
   ],
   "source": [
    "seriesObj2 = seriesObj.copy() \n",
    "print(seriesObj2.index)\n",
    "seriesObj2.index = ['a','e','f']\n",
    "print(seriesObj2.index)"
   ]
  },
  {
   "cell_type": "markdown",
   "metadata": {},
   "source": [
    "##### Series.rename()\n",
    "\n",
    "几个常用参数:\n",
    "+ index：list or dict，list时必须和已有索引长度相同，dict可以部分修改；\n",
    "+ level：多重索引时，可以指定修改哪一重，从0开始递增；\n",
    "+ inplace：是否原地修改。\n"
   ]
  },
  {
   "cell_type": "code",
   "execution_count": 24,
   "metadata": {},
   "outputs": [
    {
     "name": "stdout",
     "output_type": "stream",
     "text": [
      "Index(['a', 'b', 'c'], dtype='object')\n",
      "Index(['A', 'b', 'c'], dtype='object')\n"
     ]
    }
   ],
   "source": [
    "seriesObj2 = seriesObj.copy() \n",
    "print(seriesObj2.index)\n",
    "tmpS = seriesObj2.rename( index = {'a':'A'}, inplace = False)\n",
    "print(tmpS.index)"
   ]
  },
  {
   "cell_type": "markdown",
   "metadata": {},
   "source": [
    "#### 增"
   ]
  },
  {
   "cell_type": "markdown",
   "metadata": {},
   "source": [
    "##### 直接增一行"
   ]
  },
  {
   "cell_type": "code",
   "execution_count": 25,
   "metadata": {},
   "outputs": [
    {
     "name": "stdout",
     "output_type": "stream",
     "text": [
      "a    1\n",
      "b    2\n",
      "c    3\n",
      "Name: seriesName, dtype: int64\n",
      "a    1\n",
      "b    2\n",
      "c    3\n",
      "d    4\n",
      "Name: seriesName, dtype: int64\n"
     ]
    }
   ],
   "source": [
    "seriesObj2 = seriesObj.copy() \n",
    "print(seriesObj2)\n",
    "seriesObj2['d'] = 4\n",
    "print(seriesObj2)"
   ]
  },
  {
   "cell_type": "markdown",
   "metadata": {},
   "source": [
    "##### 函数删多行 Series.append() \n",
    "几个常用参数:\n",
    "+ to_append: 另一个series或多个Series构成的列表；\n",
    "+ ignore_index：False-保留原有索引，True-清除所有索引，生成默认数值索引；\n",
    "+ verify_integrity：True的情况下，如果to_append索引与当前索引有重复，则报错。\n"
   ]
  },
  {
   "cell_type": "code",
   "execution_count": 26,
   "metadata": {},
   "outputs": [
    {
     "name": "stdout",
     "output_type": "stream",
     "text": [
      "a    1\n",
      "b    2\n",
      "c    3\n",
      "Name: seriesName, dtype: int64\n",
      "a     1\n",
      "b     2\n",
      "c     3\n",
      "x    22\n",
      "y    33\n",
      "dtype: int64\n"
     ]
    }
   ],
   "source": [
    "seriesObj2 = seriesObj.copy() \n",
    "print(seriesObj2)\n",
    "tmpS = pd.Series([22, 33], index = ['x', 'y']) #创建一个Series对象\n",
    "seriesObj3 = seriesObj2.append(tmpS, ignore_index=False)\n",
    "print(seriesObj3)"
   ]
  },
  {
   "cell_type": "markdown",
   "metadata": {},
   "source": [
    "#### 删"
   ]
  },
  {
   "cell_type": "markdown",
   "metadata": {},
   "source": [
    "##### 直接删一行¶"
   ]
  },
  {
   "cell_type": "code",
   "execution_count": 27,
   "metadata": {},
   "outputs": [
    {
     "name": "stdout",
     "output_type": "stream",
     "text": [
      "a    1\n",
      "b    2\n",
      "c    3\n",
      "Name: seriesName, dtype: int64\n",
      "a    1\n",
      "c    3\n",
      "Name: seriesName, dtype: int64\n"
     ]
    }
   ],
   "source": [
    "seriesObj2 = seriesObj.copy() \n",
    "print(seriesObj2)\n",
    "del seriesObj2['b']\n",
    "print(seriesObj2)"
   ]
  },
  {
   "cell_type": "markdown",
   "metadata": {},
   "source": [
    "##### 函数删多行 Series.drop()\n",
    "几个常用参数:\n",
    "+ labels：索引，单索引或索引的列表；\n",
    "+ level：多重索引需要设置；\n",
    "+ inplace：是否本地修改。\n"
   ]
  },
  {
   "cell_type": "code",
   "execution_count": 28,
   "metadata": {},
   "outputs": [
    {
     "name": "stdout",
     "output_type": "stream",
     "text": [
      "a    1\n",
      "b    2\n",
      "c    3\n",
      "Name: seriesName, dtype: int64\n",
      "b    2\n",
      "Name: seriesName, dtype: int64\n"
     ]
    }
   ],
   "source": [
    "seriesObj2 = seriesObj.copy() \n",
    "print(seriesObj2)\n",
    "seriesObj2.drop(['a','c'], inplace=True)\n",
    "print(seriesObj2)"
   ]
  },
  {
   "cell_type": "code",
   "execution_count": null,
   "metadata": {},
   "outputs": [],
   "source": []
  },
  {
   "cell_type": "code",
   "execution_count": null,
   "metadata": {},
   "outputs": [],
   "source": []
  },
  {
   "cell_type": "markdown",
   "metadata": {},
   "source": [
    "## DataFrame"
   ]
  },
  {
   "cell_type": "markdown",
   "metadata": {},
   "source": [
    "### 创建DataFrame"
   ]
  },
  {
   "cell_type": "markdown",
   "metadata": {},
   "source": [
    "#### 根据文件创建DataFrame"
   ]
  },
  {
   "cell_type": "markdown",
   "metadata": {},
   "source": [
    "##### pd.read_csv()\n",
    "\n",
    "read_csv的参数很多，但这几个参数就够我们使用了：\n",
    "+ filepath_or_buffer：路径和文件名不要带中文，带中文容易报错。\n",
    "+ sep: csv文件数据的分隔符，默认是','，根据实际情况修改；\n",
    "+ header：如果有列名，那么这一项不用改；\n",
    "+ names：如果没有列名，那么必须设置header = None， names为列名的列表，不设置默认生成数值索引；\n",
    "+ index_col：int型，选取这一列作为索引。\n",
    "+ encoding：根据你的文档编码来确定，如果有中文读取报错，试试encoding = 'gbk'\n",
    "+ index_col: 指定作为索引的列(如:index_col=“DateCol”指定列名为DateCol的列作为索引);当指定Date格式的列作为索引时，最好对该列进行parse_dates处理.\n",
    "+ 对日期相关的列进行处理:\n",
    "    - parse_dates: 将指定的列按照Date进行解析\n",
    "    - dayfirst: Date格式是否为day在前(如: 23/08/2019). \n",
    "      "
   ]
  },
  {
   "cell_type": "code",
   "execution_count": 29,
   "metadata": {},
   "outputs": [],
   "source": [
    "path =  './data/ex1data1.txt'\n",
    "data = pd.read_csv(path, header=None, names=['Population', 'Profit'])\n"
   ]
  },
  {
   "cell_type": "markdown",
   "metadata": {},
   "source": [
    "##### pd.read_excel()\n",
    "\n",
    "read_excel的参数很多，但这几个参数就够我们使用了：\n",
    "\n",
    "+ header：如果有列名，那么这一项不用改；\n",
    "+ names：如果没有列名，那么必须设置header = None， names为列名的列表，不设置默认生成数值索引；\n",
    "+ index_col：int型，选取这一列作为索引。\n"
   ]
  },
  {
   "cell_type": "markdown",
   "metadata": {},
   "source": [
    "#### 使用pd.DataFrame()创建\n",
    "\n",
    "pd.DataFrame(data=None, index=None, columns=None) --这里只关注三个主要参数\n",
    "- 如果data中不包含行索引或列索引信息,且没有通过参数显式指定时,将生成从0开始的默认索引.\n"
   ]
  },
  {
   "cell_type": "code",
   "execution_count": 30,
   "metadata": {},
   "outputs": [
    {
     "data": {
      "text/html": [
       "<div>\n",
       "<style scoped>\n",
       "    .dataframe tbody tr th:only-of-type {\n",
       "        vertical-align: middle;\n",
       "    }\n",
       "\n",
       "    .dataframe tbody tr th {\n",
       "        vertical-align: top;\n",
       "    }\n",
       "\n",
       "    .dataframe thead th {\n",
       "        text-align: right;\n",
       "    }\n",
       "</style>\n",
       "<table border=\"1\" class=\"dataframe\">\n",
       "  <thead>\n",
       "    <tr style=\"text-align: right;\">\n",
       "      <th></th>\n",
       "      <th>A</th>\n",
       "      <th>B</th>\n",
       "      <th>C</th>\n",
       "    </tr>\n",
       "  </thead>\n",
       "  <tbody>\n",
       "    <tr>\n",
       "      <th>a</th>\n",
       "      <td>1</td>\n",
       "      <td>2</td>\n",
       "      <td>3</td>\n",
       "    </tr>\n",
       "    <tr>\n",
       "      <th>b</th>\n",
       "      <td>4</td>\n",
       "      <td>5</td>\n",
       "      <td>6</td>\n",
       "    </tr>\n",
       "  </tbody>\n",
       "</table>\n",
       "</div>"
      ],
      "text/plain": [
       "   A  B  C\n",
       "a  1  2  3\n",
       "b  4  5  6"
      ]
     },
     "execution_count": 30,
     "metadata": {},
     "output_type": "execute_result"
    }
   ],
   "source": [
    "# data无行索引，无列索引 -- data 为 ndarray(2D) or list(2D)\n",
    "data1 = np.array([[1,2,3],\n",
    "                  [4,5,6]] )\n",
    "index1 = ['a','b']\n",
    "columns1 = ['A','B','C']\n",
    "#df = pd.DataFrame(data=data)\n",
    "df = pd.DataFrame(data=data1, index = index1, columns = columns1)\n",
    "df"
   ]
  },
  {
   "cell_type": "code",
   "execution_count": 31,
   "metadata": {},
   "outputs": [
    {
     "data": {
      "text/html": [
       "<div>\n",
       "<style scoped>\n",
       "    .dataframe tbody tr th:only-of-type {\n",
       "        vertical-align: middle;\n",
       "    }\n",
       "\n",
       "    .dataframe tbody tr th {\n",
       "        vertical-align: top;\n",
       "    }\n",
       "\n",
       "    .dataframe thead th {\n",
       "        text-align: right;\n",
       "    }\n",
       "</style>\n",
       "<table border=\"1\" class=\"dataframe\">\n",
       "  <thead>\n",
       "    <tr style=\"text-align: right;\">\n",
       "      <th></th>\n",
       "      <th>A</th>\n",
       "      <th>B</th>\n",
       "      <th>C</th>\n",
       "    </tr>\n",
       "  </thead>\n",
       "  <tbody>\n",
       "    <tr>\n",
       "      <th>a</th>\n",
       "      <td>1</td>\n",
       "      <td>2</td>\n",
       "      <td>3</td>\n",
       "    </tr>\n",
       "    <tr>\n",
       "      <th>b</th>\n",
       "      <td>4</td>\n",
       "      <td>5</td>\n",
       "      <td>6</td>\n",
       "    </tr>\n",
       "  </tbody>\n",
       "</table>\n",
       "</div>"
      ],
      "text/plain": [
       "   A  B  C\n",
       "a  1  2  3\n",
       "b  4  5  6"
      ]
     },
     "execution_count": 31,
     "metadata": {},
     "output_type": "execute_result"
    }
   ],
   "source": [
    "# data无行索引，有列索引 -- data为 dict of ndarray(1D) or list(1D)\n",
    "data2 = { 'A': [1, 4], \n",
    "          'B': [2, 5], \n",
    "          'C': [3, 6] }\n",
    "index2 = ['a','b']\n",
    "columns2 = ['A', 'B', 'C', 'D']\n",
    "df = pd.DataFrame(data=data2, index = index2)\n",
    "#df = pd.DataFrame(data=data2, index = index2, columns = columns2)\n",
    "df"
   ]
  },
  {
   "cell_type": "code",
   "execution_count": 32,
   "metadata": {},
   "outputs": [
    {
     "data": {
      "text/html": [
       "<div>\n",
       "<style scoped>\n",
       "    .dataframe tbody tr th:only-of-type {\n",
       "        vertical-align: middle;\n",
       "    }\n",
       "\n",
       "    .dataframe tbody tr th {\n",
       "        vertical-align: top;\n",
       "    }\n",
       "\n",
       "    .dataframe thead th {\n",
       "        text-align: right;\n",
       "    }\n",
       "</style>\n",
       "<table border=\"1\" class=\"dataframe\">\n",
       "  <thead>\n",
       "    <tr style=\"text-align: right;\">\n",
       "      <th></th>\n",
       "      <th>A</th>\n",
       "      <th>B</th>\n",
       "      <th>C</th>\n",
       "    </tr>\n",
       "  </thead>\n",
       "  <tbody>\n",
       "    <tr>\n",
       "      <th>a</th>\n",
       "      <td>1.0</td>\n",
       "      <td>2.0</td>\n",
       "      <td>3.0</td>\n",
       "    </tr>\n",
       "    <tr>\n",
       "      <th>b</th>\n",
       "      <td>4.0</td>\n",
       "      <td>5.0</td>\n",
       "      <td>NaN</td>\n",
       "    </tr>\n",
       "    <tr>\n",
       "      <th>c</th>\n",
       "      <td>NaN</td>\n",
       "      <td>NaN</td>\n",
       "      <td>6.0</td>\n",
       "    </tr>\n",
       "  </tbody>\n",
       "</table>\n",
       "</div>"
      ],
      "text/plain": [
       "     A    B    C\n",
       "a  1.0  2.0  3.0\n",
       "b  4.0  5.0  NaN\n",
       "c  NaN  NaN  6.0"
      ]
     },
     "execution_count": 32,
     "metadata": {},
     "output_type": "execute_result"
    }
   ],
   "source": [
    "# data有行索引，有列索引 -- data为 dict of Series or dict\n",
    "# data3 = { 'A' : pd.Series([1,4] ,index = ['a','b']), 'B' : pd.Series([2,5] ,index = ['a','b']), 'C' : pd.Series([3,6] ,index = ['a','c']) }\n",
    "data3 = { 'A' : { 'a':1, 'b':4}, 'B': {'a':2,'b':5}, 'C':{'a':3, 'c':6} }\n",
    "df = pd.DataFrame(data=data3)\n",
    "df"
   ]
  },
  {
   "cell_type": "markdown",
   "metadata": {},
   "source": [
    "### DataFrame属性\n",
    "+ 行索引: df.index\n",
    "+ 列索引: df.columns\n",
    "+ 值: df.values\n",
    "+ 各列元素类型: df.dtypes"
   ]
  },
  {
   "cell_type": "code",
   "execution_count": 33,
   "metadata": {},
   "outputs": [
    {
     "name": "stdout",
     "output_type": "stream",
     "text": [
      "   A  B  C\n",
      "a  1  2  3\n",
      "b  4  5  6\n",
      "Index(['a', 'b'], dtype='object')\n",
      "Index(['A', 'B', 'C'], dtype='object')\n",
      "[[1 2 3]\n",
      " [4 5 6]]\n",
      "A    int64\n",
      "B    int64\n",
      "C    int64\n",
      "dtype: object\n"
     ]
    }
   ],
   "source": [
    "data = [[1,2,3],\n",
    "        [4,5,6]]\n",
    "index = ['a','b']\n",
    "columns = ['A','B','C']\n",
    "df = pd.DataFrame(data=data, index = index, columns = columns)\n",
    "print(df)\n",
    "print(df.index)\n",
    "print(df.columns)\n",
    "print(df.values)\n",
    "print(df.dtypes)"
   ]
  },
  {
   "cell_type": "markdown",
   "metadata": {},
   "source": [
    "### DataFrame的查、改、增、 删"
   ]
  },
  {
   "cell_type": "markdown",
   "metadata": {},
   "source": [
    "#### 查"
   ]
  },
  {
   "cell_type": "markdown",
   "metadata": {},
   "source": [
    "##### []  --使用除切片外的其他方式时,都是基于列进行的\n",
    "基于列索引,基于列表枚举列索引,基于行切片(范围),基于掩码"
   ]
  },
  {
   "cell_type": "code",
   "execution_count": 51,
   "metadata": {},
   "outputs": [
    {
     "data": {
      "text/html": [
       "<div>\n",
       "<style scoped>\n",
       "    .dataframe tbody tr th:only-of-type {\n",
       "        vertical-align: middle;\n",
       "    }\n",
       "\n",
       "    .dataframe tbody tr th {\n",
       "        vertical-align: top;\n",
       "    }\n",
       "\n",
       "    .dataframe thead th {\n",
       "        text-align: right;\n",
       "    }\n",
       "</style>\n",
       "<table border=\"1\" class=\"dataframe\">\n",
       "  <thead>\n",
       "    <tr style=\"text-align: right;\">\n",
       "      <th></th>\n",
       "      <th>A</th>\n",
       "      <th>B</th>\n",
       "      <th>C</th>\n",
       "    </tr>\n",
       "  </thead>\n",
       "  <tbody>\n",
       "    <tr>\n",
       "      <th>a</th>\n",
       "      <td>1</td>\n",
       "      <td>2</td>\n",
       "      <td>3</td>\n",
       "    </tr>\n",
       "    <tr>\n",
       "      <th>b</th>\n",
       "      <td>4</td>\n",
       "      <td>5</td>\n",
       "      <td>6</td>\n",
       "    </tr>\n",
       "  </tbody>\n",
       "</table>\n",
       "</div>"
      ],
      "text/plain": [
       "   A  B  C\n",
       "a  1  2  3\n",
       "b  4  5  6"
      ]
     },
     "execution_count": 51,
     "metadata": {},
     "output_type": "execute_result"
    }
   ],
   "source": [
    "df2 = df.copy()\n",
    "df2"
   ]
  },
  {
   "cell_type": "code",
   "execution_count": 35,
   "metadata": {},
   "outputs": [
    {
     "data": {
      "text/plain": [
       "a    1\n",
       "b    4\n",
       "Name: A, dtype: int64"
      ]
     },
     "execution_count": 35,
     "metadata": {},
     "output_type": "execute_result"
    }
   ],
   "source": [
    "# 基于列索引\n",
    "df2['A'] # 列操作，单列索引，返回Series"
   ]
  },
  {
   "cell_type": "code",
   "execution_count": 36,
   "metadata": {},
   "outputs": [
    {
     "data": {
      "text/html": [
       "<div>\n",
       "<style scoped>\n",
       "    .dataframe tbody tr th:only-of-type {\n",
       "        vertical-align: middle;\n",
       "    }\n",
       "\n",
       "    .dataframe tbody tr th {\n",
       "        vertical-align: top;\n",
       "    }\n",
       "\n",
       "    .dataframe thead th {\n",
       "        text-align: right;\n",
       "    }\n",
       "</style>\n",
       "<table border=\"1\" class=\"dataframe\">\n",
       "  <thead>\n",
       "    <tr style=\"text-align: right;\">\n",
       "      <th></th>\n",
       "      <th>A</th>\n",
       "      <th>C</th>\n",
       "    </tr>\n",
       "  </thead>\n",
       "  <tbody>\n",
       "    <tr>\n",
       "      <th>a</th>\n",
       "      <td>1</td>\n",
       "      <td>3</td>\n",
       "    </tr>\n",
       "    <tr>\n",
       "      <th>b</th>\n",
       "      <td>4</td>\n",
       "      <td>6</td>\n",
       "    </tr>\n",
       "  </tbody>\n",
       "</table>\n",
       "</div>"
      ],
      "text/plain": [
       "   A  C\n",
       "a  1  3\n",
       "b  4  6"
      ]
     },
     "execution_count": 36,
     "metadata": {},
     "output_type": "execute_result"
    }
   ],
   "source": [
    "# 基于列表枚举列索引\n",
    "df2[['A','C']] # 列操作，列表枚举列索引，返回DataFrame"
   ]
  },
  {
   "cell_type": "code",
   "execution_count": 37,
   "metadata": {},
   "outputs": [],
   "source": [
    "# 无法通过单元行索引访问 --但可以通过行切片访问\n",
    "# df2[0]  # 报错\n",
    "# df2['a']  # 报错(无法通过行索引访问)"
   ]
  },
  {
   "cell_type": "code",
   "execution_count": 38,
   "metadata": {},
   "outputs": [
    {
     "data": {
      "text/html": [
       "<div>\n",
       "<style scoped>\n",
       "    .dataframe tbody tr th:only-of-type {\n",
       "        vertical-align: middle;\n",
       "    }\n",
       "\n",
       "    .dataframe tbody tr th {\n",
       "        vertical-align: top;\n",
       "    }\n",
       "\n",
       "    .dataframe thead th {\n",
       "        text-align: right;\n",
       "    }\n",
       "</style>\n",
       "<table border=\"1\" class=\"dataframe\">\n",
       "  <thead>\n",
       "    <tr style=\"text-align: right;\">\n",
       "      <th></th>\n",
       "      <th>A</th>\n",
       "      <th>B</th>\n",
       "      <th>C</th>\n",
       "    </tr>\n",
       "  </thead>\n",
       "  <tbody>\n",
       "    <tr>\n",
       "      <th>a</th>\n",
       "      <td>1</td>\n",
       "      <td>2</td>\n",
       "      <td>3</td>\n",
       "    </tr>\n",
       "  </tbody>\n",
       "</table>\n",
       "</div>"
      ],
      "text/plain": [
       "   A  B  C\n",
       "a  1  2  3"
      ]
     },
     "execution_count": 38,
     "metadata": {},
     "output_type": "execute_result"
    }
   ],
   "source": [
    "# 基于行切片(范围)\n",
    "df2[0:1]  # 行操作，位置范围，返回DataFrame. 位置索引左闭右开[,)"
   ]
  },
  {
   "cell_type": "code",
   "execution_count": 39,
   "metadata": {},
   "outputs": [
    {
     "data": {
      "text/html": [
       "<div>\n",
       "<style scoped>\n",
       "    .dataframe tbody tr th:only-of-type {\n",
       "        vertical-align: middle;\n",
       "    }\n",
       "\n",
       "    .dataframe tbody tr th {\n",
       "        vertical-align: top;\n",
       "    }\n",
       "\n",
       "    .dataframe thead th {\n",
       "        text-align: right;\n",
       "    }\n",
       "</style>\n",
       "<table border=\"1\" class=\"dataframe\">\n",
       "  <thead>\n",
       "    <tr style=\"text-align: right;\">\n",
       "      <th></th>\n",
       "      <th>A</th>\n",
       "      <th>B</th>\n",
       "      <th>C</th>\n",
       "    </tr>\n",
       "  </thead>\n",
       "  <tbody>\n",
       "    <tr>\n",
       "      <th>a</th>\n",
       "      <td>1</td>\n",
       "      <td>2</td>\n",
       "      <td>3</td>\n",
       "    </tr>\n",
       "    <tr>\n",
       "      <th>b</th>\n",
       "      <td>4</td>\n",
       "      <td>5</td>\n",
       "      <td>6</td>\n",
       "    </tr>\n",
       "  </tbody>\n",
       "</table>\n",
       "</div>"
      ],
      "text/plain": [
       "   A  B  C\n",
       "a  1  2  3\n",
       "b  4  5  6"
      ]
     },
     "execution_count": 39,
     "metadata": {},
     "output_type": "execute_result"
    }
   ],
   "source": [
    "# 基于行切片(范围)\n",
    "df2['a':'c']  # 行操作，位置范围，返回DataFrame. 索引左闭右闭[,]"
   ]
  },
  {
   "cell_type": "code",
   "execution_count": 40,
   "metadata": {},
   "outputs": [],
   "source": [
    "# df2[[0,1]] #报错"
   ]
  },
  {
   "cell_type": "code",
   "execution_count": 41,
   "metadata": {},
   "outputs": [
    {
     "data": {
      "text/html": [
       "<div>\n",
       "<style scoped>\n",
       "    .dataframe tbody tr th:only-of-type {\n",
       "        vertical-align: middle;\n",
       "    }\n",
       "\n",
       "    .dataframe tbody tr th {\n",
       "        vertical-align: top;\n",
       "    }\n",
       "\n",
       "    .dataframe thead th {\n",
       "        text-align: right;\n",
       "    }\n",
       "</style>\n",
       "<table border=\"1\" class=\"dataframe\">\n",
       "  <thead>\n",
       "    <tr style=\"text-align: right;\">\n",
       "      <th></th>\n",
       "      <th>A</th>\n",
       "      <th>B</th>\n",
       "      <th>C</th>\n",
       "    </tr>\n",
       "  </thead>\n",
       "  <tbody>\n",
       "    <tr>\n",
       "      <th>b</th>\n",
       "      <td>4</td>\n",
       "      <td>5</td>\n",
       "      <td>6</td>\n",
       "    </tr>\n",
       "  </tbody>\n",
       "</table>\n",
       "</div>"
      ],
      "text/plain": [
       "   A  B  C\n",
       "b  4  5  6"
      ]
     },
     "execution_count": 41,
     "metadata": {},
     "output_type": "execute_result"
    }
   ],
   "source": [
    "# 基于掩码\n",
    "mask = [False,True] \n",
    "df2[mask] # 行操作，mask，必须和行长度一致，返回DataFrame"
   ]
  },
  {
   "cell_type": "markdown",
   "metadata": {},
   "source": [
    "##### .loc[]，基于索引  --先行后列，.loc只有单个[]时按行索引\n",
    ".loc[]在DataFrame中与[]不一致.\n",
    "\n",
    "    DataFrame 有两维，每一维都和 Series 的 .loc[] 用法相同；\n",
    "    Series有四种方式，所以DataFrame有16种方式;\n",
    "    可以缺省后面维度，默认补全为 ':' 。\n"
   ]
  },
  {
   "cell_type": "code",
   "execution_count": 42,
   "metadata": {},
   "outputs": [
    {
     "data": {
      "text/html": [
       "<div>\n",
       "<style scoped>\n",
       "    .dataframe tbody tr th:only-of-type {\n",
       "        vertical-align: middle;\n",
       "    }\n",
       "\n",
       "    .dataframe tbody tr th {\n",
       "        vertical-align: top;\n",
       "    }\n",
       "\n",
       "    .dataframe thead th {\n",
       "        text-align: right;\n",
       "    }\n",
       "</style>\n",
       "<table border=\"1\" class=\"dataframe\">\n",
       "  <thead>\n",
       "    <tr style=\"text-align: right;\">\n",
       "      <th></th>\n",
       "      <th>0</th>\n",
       "      <th>1</th>\n",
       "      <th>2</th>\n",
       "    </tr>\n",
       "  </thead>\n",
       "  <tbody>\n",
       "    <tr>\n",
       "      <th>0</th>\n",
       "      <td>1</td>\n",
       "      <td>2</td>\n",
       "      <td>3</td>\n",
       "    </tr>\n",
       "    <tr>\n",
       "      <th>1</th>\n",
       "      <td>4</td>\n",
       "      <td>5</td>\n",
       "      <td>6</td>\n",
       "    </tr>\n",
       "  </tbody>\n",
       "</table>\n",
       "</div>"
      ],
      "text/plain": [
       "   0  1  2\n",
       "0  1  2  3\n",
       "1  4  5  6"
      ]
     },
     "execution_count": 42,
     "metadata": {},
     "output_type": "execute_result"
    }
   ],
   "source": [
    "dfx = pd.DataFrame( [[1, 2, 3],\n",
    "                     [4, 5, 6],\n",
    "                     [7, 8, 9],\n",
    "                     [10, 11, 12]]\n",
    "                  )\n",
    "# 返回[0, 2]行  --不同于dfx[rowStart:rowEnd], .loc[rowStart:rowEnd, :]方式是包含rowEnd行的\n",
    "dfx.loc[0:2, :] \n",
    "\n",
    "# 返回[0, 2)行\n",
    "dfx[0:2] "
   ]
  },
  {
   "cell_type": "code",
   "execution_count": 53,
   "metadata": {},
   "outputs": [
    {
     "data": {
      "text/plain": [
       "2"
      ]
     },
     "execution_count": 53,
     "metadata": {},
     "output_type": "execute_result"
    }
   ],
   "source": [
    "dfx.loc[0] # 行索引， 返回第0行\n",
    "\n",
    "dfx.loc[0][1] # 单个值 -- 第0行，第1列"
   ]
  },
  {
   "cell_type": "code",
   "execution_count": 43,
   "metadata": {},
   "outputs": [
    {
     "data": {
      "text/plain": [
       "5"
      ]
     },
     "execution_count": 43,
     "metadata": {},
     "output_type": "execute_result"
    }
   ],
   "source": [
    "df2.loc['b','B'] # 返回单一值，因为两维都是单索引\n",
    "#df2['b','B'] #error"
   ]
  },
  {
   "cell_type": "code",
   "execution_count": 44,
   "metadata": {},
   "outputs": [
    {
     "data": {
      "text/plain": [
       "a    2\n",
       "b    5\n",
       "Name: B, dtype: int64"
      ]
     },
     "execution_count": 44,
     "metadata": {},
     "output_type": "execute_result"
    }
   ],
   "source": [
    "df2.loc['a':'b', 'B'] #返回Series，如果有一维是单索引\n",
    "# df2['a':'b', 'B'] #error"
   ]
  },
  {
   "cell_type": "code",
   "execution_count": 45,
   "metadata": {},
   "outputs": [
    {
     "data": {
      "text/plain": [
       "a    2\n",
       "b    5\n",
       "Name: B, dtype: int64"
      ]
     },
     "execution_count": 45,
     "metadata": {},
     "output_type": "execute_result"
    }
   ],
   "source": [
    "#返回Series，如果有一维是单索引 -- 以列表的方法直接指定了索引位置而不是范围\n",
    "df2.loc[['a','b'], 'B'] "
   ]
  },
  {
   "cell_type": "code",
   "execution_count": 46,
   "metadata": {},
   "outputs": [
    {
     "data": {
      "text/plain": [
       "b    5\n",
       "Name: B, dtype: int64"
      ]
     },
     "execution_count": 46,
     "metadata": {},
     "output_type": "execute_result"
    }
   ],
   "source": [
    "mask1 = [False, True] \n",
    "df2.loc[mask1,'B']"
   ]
  },
  {
   "cell_type": "code",
   "execution_count": 47,
   "metadata": {},
   "outputs": [
    {
     "data": {
      "text/html": [
       "<div>\n",
       "<style scoped>\n",
       "    .dataframe tbody tr th:only-of-type {\n",
       "        vertical-align: middle;\n",
       "    }\n",
       "\n",
       "    .dataframe tbody tr th {\n",
       "        vertical-align: top;\n",
       "    }\n",
       "\n",
       "    .dataframe thead th {\n",
       "        text-align: right;\n",
       "    }\n",
       "</style>\n",
       "<table border=\"1\" class=\"dataframe\">\n",
       "  <thead>\n",
       "    <tr style=\"text-align: right;\">\n",
       "      <th></th>\n",
       "      <th>A</th>\n",
       "      <th>B</th>\n",
       "    </tr>\n",
       "  </thead>\n",
       "  <tbody>\n",
       "    <tr>\n",
       "      <th>a</th>\n",
       "      <td>1</td>\n",
       "      <td>2</td>\n",
       "    </tr>\n",
       "    <tr>\n",
       "      <th>b</th>\n",
       "      <td>4</td>\n",
       "      <td>5</td>\n",
       "    </tr>\n",
       "  </tbody>\n",
       "</table>\n",
       "</div>"
      ],
      "text/plain": [
       "   A  B\n",
       "a  1  2\n",
       "b  4  5"
      ]
     },
     "execution_count": 47,
     "metadata": {},
     "output_type": "execute_result"
    }
   ],
   "source": [
    "df2.loc[['a','b'], ['A','B']] # 返回DataFrame"
   ]
  },
  {
   "cell_type": "raw",
   "metadata": {},
   "source": [
    "..."
   ]
  },
  {
   "cell_type": "markdown",
   "metadata": {},
   "source": [
    "##### .iloc[]，基于位置\n",
    "\n",
    "\n",
    "    DataFrame 有两维，每一维都和 Series 的 .iloc[] 用法相同；\n",
    "    Series有四种方式，所以DataFrame有16种方式；\n",
    "    可以缺省后面维度，默认补全为 ':' 。\n"
   ]
  },
  {
   "cell_type": "code",
   "execution_count": 48,
   "metadata": {},
   "outputs": [
    {
     "data": {
      "text/plain": [
       "5"
      ]
     },
     "execution_count": 48,
     "metadata": {},
     "output_type": "execute_result"
    }
   ],
   "source": [
    "df2.iloc[1,1] # 返回单一值"
   ]
  },
  {
   "cell_type": "code",
   "execution_count": 49,
   "metadata": {},
   "outputs": [
    {
     "data": {
      "text/html": [
       "<div>\n",
       "<style scoped>\n",
       "    .dataframe tbody tr th:only-of-type {\n",
       "        vertical-align: middle;\n",
       "    }\n",
       "\n",
       "    .dataframe tbody tr th {\n",
       "        vertical-align: top;\n",
       "    }\n",
       "\n",
       "    .dataframe thead th {\n",
       "        text-align: right;\n",
       "    }\n",
       "</style>\n",
       "<table border=\"1\" class=\"dataframe\">\n",
       "  <thead>\n",
       "    <tr style=\"text-align: right;\">\n",
       "      <th></th>\n",
       "      <th>A</th>\n",
       "      <th>C</th>\n",
       "    </tr>\n",
       "  </thead>\n",
       "  <tbody>\n",
       "    <tr>\n",
       "      <th>a</th>\n",
       "      <td>1</td>\n",
       "      <td>3</td>\n",
       "    </tr>\n",
       "    <tr>\n",
       "      <th>b</th>\n",
       "      <td>4</td>\n",
       "      <td>6</td>\n",
       "    </tr>\n",
       "  </tbody>\n",
       "</table>\n",
       "</div>"
      ],
      "text/plain": [
       "   A  C\n",
       "a  1  3\n",
       "b  4  6"
      ]
     },
     "execution_count": 49,
     "metadata": {},
     "output_type": "execute_result"
    }
   ],
   "source": [
    "df2.iloc[[0,1],[0,2]] # 返回DataFrame"
   ]
  },
  {
   "cell_type": "code",
   "execution_count": 50,
   "metadata": {},
   "outputs": [
    {
     "ename": "IndexError",
     "evalue": "Item wrong length 3 instead of 2.",
     "output_type": "error",
     "traceback": [
      "\u001b[1;31m---------------------------------------------------------------------------\u001b[0m",
      "\u001b[1;31mIndexError\u001b[0m                                Traceback (most recent call last)",
      "\u001b[1;32m<ipython-input-50-1dc3afa7d407>\u001b[0m in \u001b[0;36m<module>\u001b[1;34m\u001b[0m\n\u001b[0;32m      1\u001b[0m \u001b[0mmask1\u001b[0m \u001b[1;33m=\u001b[0m \u001b[1;33m[\u001b[0m\u001b[1;32mFalse\u001b[0m\u001b[1;33m,\u001b[0m \u001b[1;32mTrue\u001b[0m\u001b[1;33m,\u001b[0m \u001b[1;32mFalse\u001b[0m\u001b[1;33m]\u001b[0m  \u001b[1;31m# 返回DataFrame\u001b[0m\u001b[1;33m\u001b[0m\u001b[1;33m\u001b[0m\u001b[0m\n\u001b[0;32m      2\u001b[0m \u001b[0mmask2\u001b[0m \u001b[1;33m=\u001b[0m\u001b[1;33m[\u001b[0m\u001b[1;32mTrue\u001b[0m\u001b[1;33m,\u001b[0m \u001b[1;32mFalse\u001b[0m\u001b[1;33m]\u001b[0m\u001b[1;33m\u001b[0m\u001b[1;33m\u001b[0m\u001b[0m\n\u001b[1;32m----> 3\u001b[1;33m \u001b[0mdf2\u001b[0m\u001b[1;33m.\u001b[0m\u001b[0miloc\u001b[0m\u001b[1;33m[\u001b[0m\u001b[0mmask1\u001b[0m\u001b[1;33m,\u001b[0m \u001b[0mmask2\u001b[0m\u001b[1;33m]\u001b[0m\u001b[1;33m\u001b[0m\u001b[1;33m\u001b[0m\u001b[0m\n\u001b[0m",
      "\u001b[1;32mD:\\Software\\Anaconda3\\lib\\site-packages\\pandas\\core\\indexing.py\u001b[0m in \u001b[0;36m__getitem__\u001b[1;34m(self, key)\u001b[0m\n\u001b[0;32m   1416\u001b[0m                 \u001b[1;32mexcept\u001b[0m \u001b[1;33m(\u001b[0m\u001b[0mKeyError\u001b[0m\u001b[1;33m,\u001b[0m \u001b[0mIndexError\u001b[0m\u001b[1;33m,\u001b[0m \u001b[0mAttributeError\u001b[0m\u001b[1;33m)\u001b[0m\u001b[1;33m:\u001b[0m\u001b[1;33m\u001b[0m\u001b[1;33m\u001b[0m\u001b[0m\n\u001b[0;32m   1417\u001b[0m                     \u001b[1;32mpass\u001b[0m\u001b[1;33m\u001b[0m\u001b[1;33m\u001b[0m\u001b[0m\n\u001b[1;32m-> 1418\u001b[1;33m             \u001b[1;32mreturn\u001b[0m \u001b[0mself\u001b[0m\u001b[1;33m.\u001b[0m\u001b[0m_getitem_tuple\u001b[0m\u001b[1;33m(\u001b[0m\u001b[0mkey\u001b[0m\u001b[1;33m)\u001b[0m\u001b[1;33m\u001b[0m\u001b[1;33m\u001b[0m\u001b[0m\n\u001b[0m\u001b[0;32m   1419\u001b[0m         \u001b[1;32melse\u001b[0m\u001b[1;33m:\u001b[0m\u001b[1;33m\u001b[0m\u001b[1;33m\u001b[0m\u001b[0m\n\u001b[0;32m   1420\u001b[0m             \u001b[1;31m# we by definition only have the 0th axis\u001b[0m\u001b[1;33m\u001b[0m\u001b[1;33m\u001b[0m\u001b[1;33m\u001b[0m\u001b[0m\n",
      "\u001b[1;32mD:\\Software\\Anaconda3\\lib\\site-packages\\pandas\\core\\indexing.py\u001b[0m in \u001b[0;36m_getitem_tuple\u001b[1;34m(self, tup)\u001b[0m\n\u001b[0;32m   2103\u001b[0m                 \u001b[1;32mcontinue\u001b[0m\u001b[1;33m\u001b[0m\u001b[1;33m\u001b[0m\u001b[0m\n\u001b[0;32m   2104\u001b[0m \u001b[1;33m\u001b[0m\u001b[0m\n\u001b[1;32m-> 2105\u001b[1;33m             \u001b[0mretval\u001b[0m \u001b[1;33m=\u001b[0m \u001b[0mgetattr\u001b[0m\u001b[1;33m(\u001b[0m\u001b[0mretval\u001b[0m\u001b[1;33m,\u001b[0m \u001b[0mself\u001b[0m\u001b[1;33m.\u001b[0m\u001b[0mname\u001b[0m\u001b[1;33m)\u001b[0m\u001b[1;33m.\u001b[0m\u001b[0m_getitem_axis\u001b[0m\u001b[1;33m(\u001b[0m\u001b[0mkey\u001b[0m\u001b[1;33m,\u001b[0m \u001b[0maxis\u001b[0m\u001b[1;33m=\u001b[0m\u001b[0maxis\u001b[0m\u001b[1;33m)\u001b[0m\u001b[1;33m\u001b[0m\u001b[1;33m\u001b[0m\u001b[0m\n\u001b[0m\u001b[0;32m   2106\u001b[0m \u001b[1;33m\u001b[0m\u001b[0m\n\u001b[0;32m   2107\u001b[0m             \u001b[1;31m# if the dim was reduced, then pass a lower-dim the next time\u001b[0m\u001b[1;33m\u001b[0m\u001b[1;33m\u001b[0m\u001b[1;33m\u001b[0m\u001b[0m\n",
      "\u001b[1;32mD:\\Software\\Anaconda3\\lib\\site-packages\\pandas\\core\\indexing.py\u001b[0m in \u001b[0;36m_getitem_axis\u001b[1;34m(self, key, axis)\u001b[0m\n\u001b[0;32m   2142\u001b[0m         \u001b[1;32mif\u001b[0m \u001b[0mcom\u001b[0m\u001b[1;33m.\u001b[0m\u001b[0mis_bool_indexer\u001b[0m\u001b[1;33m(\u001b[0m\u001b[0mkey\u001b[0m\u001b[1;33m)\u001b[0m\u001b[1;33m:\u001b[0m\u001b[1;33m\u001b[0m\u001b[1;33m\u001b[0m\u001b[0m\n\u001b[0;32m   2143\u001b[0m             \u001b[0mself\u001b[0m\u001b[1;33m.\u001b[0m\u001b[0m_validate_key\u001b[0m\u001b[1;33m(\u001b[0m\u001b[0mkey\u001b[0m\u001b[1;33m,\u001b[0m \u001b[0maxis\u001b[0m\u001b[1;33m)\u001b[0m\u001b[1;33m\u001b[0m\u001b[1;33m\u001b[0m\u001b[0m\n\u001b[1;32m-> 2144\u001b[1;33m             \u001b[1;32mreturn\u001b[0m \u001b[0mself\u001b[0m\u001b[1;33m.\u001b[0m\u001b[0m_getbool_axis\u001b[0m\u001b[1;33m(\u001b[0m\u001b[0mkey\u001b[0m\u001b[1;33m,\u001b[0m \u001b[0maxis\u001b[0m\u001b[1;33m=\u001b[0m\u001b[0maxis\u001b[0m\u001b[1;33m)\u001b[0m\u001b[1;33m\u001b[0m\u001b[1;33m\u001b[0m\u001b[0m\n\u001b[0m\u001b[0;32m   2145\u001b[0m \u001b[1;33m\u001b[0m\u001b[0m\n\u001b[0;32m   2146\u001b[0m         \u001b[1;31m# a list of integers\u001b[0m\u001b[1;33m\u001b[0m\u001b[1;33m\u001b[0m\u001b[1;33m\u001b[0m\u001b[0m\n",
      "\u001b[1;32mD:\\Software\\Anaconda3\\lib\\site-packages\\pandas\\core\\indexing.py\u001b[0m in \u001b[0;36m_getbool_axis\u001b[1;34m(self, key, axis)\u001b[0m\n\u001b[0;32m   1436\u001b[0m         \u001b[1;31m# caller is responsible for ensuring non-None axis\u001b[0m\u001b[1;33m\u001b[0m\u001b[1;33m\u001b[0m\u001b[1;33m\u001b[0m\u001b[0m\n\u001b[0;32m   1437\u001b[0m         \u001b[0mlabels\u001b[0m \u001b[1;33m=\u001b[0m \u001b[0mself\u001b[0m\u001b[1;33m.\u001b[0m\u001b[0mobj\u001b[0m\u001b[1;33m.\u001b[0m\u001b[0m_get_axis\u001b[0m\u001b[1;33m(\u001b[0m\u001b[0maxis\u001b[0m\u001b[1;33m)\u001b[0m\u001b[1;33m\u001b[0m\u001b[1;33m\u001b[0m\u001b[0m\n\u001b[1;32m-> 1438\u001b[1;33m         \u001b[0mkey\u001b[0m \u001b[1;33m=\u001b[0m \u001b[0mcheck_bool_indexer\u001b[0m\u001b[1;33m(\u001b[0m\u001b[0mlabels\u001b[0m\u001b[1;33m,\u001b[0m \u001b[0mkey\u001b[0m\u001b[1;33m)\u001b[0m\u001b[1;33m\u001b[0m\u001b[1;33m\u001b[0m\u001b[0m\n\u001b[0m\u001b[0;32m   1439\u001b[0m         \u001b[0minds\u001b[0m\u001b[1;33m,\u001b[0m \u001b[1;33m=\u001b[0m \u001b[0mkey\u001b[0m\u001b[1;33m.\u001b[0m\u001b[0mnonzero\u001b[0m\u001b[1;33m(\u001b[0m\u001b[1;33m)\u001b[0m\u001b[1;33m\u001b[0m\u001b[1;33m\u001b[0m\u001b[0m\n\u001b[0;32m   1440\u001b[0m         \u001b[1;32mtry\u001b[0m\u001b[1;33m:\u001b[0m\u001b[1;33m\u001b[0m\u001b[1;33m\u001b[0m\u001b[0m\n",
      "\u001b[1;32mD:\\Software\\Anaconda3\\lib\\site-packages\\pandas\\core\\indexing.py\u001b[0m in \u001b[0;36mcheck_bool_indexer\u001b[1;34m(index, key)\u001b[0m\n\u001b[0;32m   2422\u001b[0m         \u001b[1;32mif\u001b[0m \u001b[0mlen\u001b[0m\u001b[1;33m(\u001b[0m\u001b[0mresult\u001b[0m\u001b[1;33m)\u001b[0m \u001b[1;33m!=\u001b[0m \u001b[0mlen\u001b[0m\u001b[1;33m(\u001b[0m\u001b[0mindex\u001b[0m\u001b[1;33m)\u001b[0m\u001b[1;33m:\u001b[0m\u001b[1;33m\u001b[0m\u001b[1;33m\u001b[0m\u001b[0m\n\u001b[0;32m   2423\u001b[0m             raise IndexError(\n\u001b[1;32m-> 2424\u001b[1;33m                 \u001b[1;34m\"Item wrong length {} instead of {}.\"\u001b[0m\u001b[1;33m.\u001b[0m\u001b[0mformat\u001b[0m\u001b[1;33m(\u001b[0m\u001b[0mlen\u001b[0m\u001b[1;33m(\u001b[0m\u001b[0mresult\u001b[0m\u001b[1;33m)\u001b[0m\u001b[1;33m,\u001b[0m \u001b[0mlen\u001b[0m\u001b[1;33m(\u001b[0m\u001b[0mindex\u001b[0m\u001b[1;33m)\u001b[0m\u001b[1;33m)\u001b[0m\u001b[1;33m\u001b[0m\u001b[1;33m\u001b[0m\u001b[0m\n\u001b[0m\u001b[0;32m   2425\u001b[0m             )\n\u001b[0;32m   2426\u001b[0m \u001b[1;33m\u001b[0m\u001b[0m\n",
      "\u001b[1;31mIndexError\u001b[0m: Item wrong length 3 instead of 2."
     ]
    }
   ],
   "source": [
    "mask1 = [False, True, False]  # 返回DataFrame\n",
    "mask2 =[True, False]\n",
    "df2.iloc[mask1, mask2]"
   ]
  },
  {
   "cell_type": "raw",
   "metadata": {},
   "source": [
    "..."
   ]
  },
  {
   "cell_type": "markdown",
   "metadata": {},
   "source": [
    "#### 改"
   ]
  },
  {
   "cell_type": "markdown",
   "metadata": {},
   "source": [
    "##### 直接查的基础上赋值进行修改"
   ]
  },
  {
   "cell_type": "code",
   "execution_count": null,
   "metadata": {},
   "outputs": [],
   "source": [
    "df2 = df.copy()\n",
    "print(df2, '\\n')\n",
    "df2['D'] = 10  # 注意直接使用[]操作的是列\n",
    "print(df2)"
   ]
  },
  {
   "cell_type": "code",
   "execution_count": null,
   "metadata": {},
   "outputs": [],
   "source": [
    "# .loc[]方法确保在原地修改，否则会报warning\n",
    "df2 = df.copy()\n",
    "print(df2, '\\n')\n",
    "df2.loc['a','A'] = 10\n",
    "print(df2)"
   ]
  },
  {
   "cell_type": "code",
   "execution_count": null,
   "metadata": {},
   "outputs": [],
   "source": [
    "# 通过[]行切片产生的是一个副本\n",
    "df2 = df.copy()\n",
    "print(df2, '\\n')\n",
    "df2['a':'b']['A'] = [11, 12] #df2本身并没有被修改\n",
    "print(df2)\n",
    "\n",
    "\n",
    "df2.loc['a':'b', 'A'] = [11, 12] #df2被原地修改了\n",
    "print(df2)"
   ]
  },
  {
   "cell_type": "markdown",
   "metadata": {},
   "source": [
    "##### 函数批量任意修改  DataFrame.replace()\n",
    "几个常用参数:\n",
    "+ to_replace：要修改的值，可以为列表\n",
    "+ value：改为的值，可以为列表，与to_repalce要匹配；\n",
    "+ inplace：是否在原地修改；\n"
   ]
  },
  {
   "cell_type": "code",
   "execution_count": null,
   "metadata": {},
   "outputs": [],
   "source": [
    "df2.replace(to_replace = 10, value = 100, inplace=False)"
   ]
  },
  {
   "cell_type": "markdown",
   "metadata": {},
   "source": [
    "##### 交换两列"
   ]
  },
  {
   "cell_type": "code",
   "execution_count": null,
   "metadata": {},
   "outputs": [],
   "source": [
    "print(df2, '\\n')\n",
    "df2[['A','B']] = df2[['B','A']]  #交换两列\n",
    "print(df2, '\\n')"
   ]
  },
  {
   "cell_type": "markdown",
   "metadata": {},
   "source": [
    "#### 改索引"
   ]
  },
  {
   "cell_type": "markdown",
   "metadata": {},
   "source": [
    "##### 直接改索引\n",
    "索引类似于tuple，必须全改，不能切片修改"
   ]
  },
  {
   "cell_type": "code",
   "execution_count": null,
   "metadata": {},
   "outputs": [],
   "source": [
    "df2 = df.copy()\n",
    "print(df2.index, df2.columns)\n",
    "df2.index = ['e','f']\n",
    "df2.columns = ['E','F','G']\n",
    "print(df2.index, df2.columns)"
   ]
  },
  {
   "cell_type": "markdown",
   "metadata": {},
   "source": [
    "##### 函数修改   DataFrame.rename()\n",
    "几个常用参数:\n",
    "+ index：list or dict，list时必须长度相同，dict时可以部分修改；\n",
    "+ columns：list or dict，list时必须长度相同，dict时可以部分修改；\n",
    "+ level：多重索引时，可以指定修改哪一重，目前还用不着；\n",
    "+ inplace：是否原地修改。\n"
   ]
  },
  {
   "cell_type": "code",
   "execution_count": null,
   "metadata": {},
   "outputs": [],
   "source": [
    "df2 = df.copy()\n",
    "print(df2.index, df2.columns)\n",
    "df2.rename( index = {'e':'b'}, columns = {'E':'A'}, inplace = False)\n",
    "print(df2.index, df2.columns)"
   ]
  },
  {
   "cell_type": "markdown",
   "metadata": {},
   "source": [
    "#### 增"
   ]
  },
  {
   "cell_type": "markdown",
   "metadata": {},
   "source": [
    "##### 直接增一行"
   ]
  },
  {
   "cell_type": "code",
   "execution_count": null,
   "metadata": {},
   "outputs": [],
   "source": [
    "df2 = df.copy()\n",
    "print(df2, '\\n')\n",
    "df2.loc['c'] = [7,8,9]\n",
    "print(df2, '\\n')"
   ]
  },
  {
   "cell_type": "markdown",
   "metadata": {},
   "source": [
    "##### 函数增多行  pd.concat(objs, axis=0)\n",
    "\n",
    "     axis=0时连接行,此时最好确保列索引相同.（其实这个函数并不要求列索引相同，它可以选择出相同的列。而我写这个教程遵循了python的宣言—明确：做好一件事有一种最好的方法，精确控制每一步，可以少犯错。）\n",
    "    参数说明:\n",
    "        objs: list of DataFrame；\n",
    "        axis=0: 按行连接。\n"
   ]
  },
  {
   "cell_type": "code",
   "execution_count": null,
   "metadata": {},
   "outputs": [],
   "source": [
    "df2 = df.copy()\n",
    "print(df2, '\\n')\n",
    "tmpDf = pd.DataFrame([[22,33,44],[55,66,77]], index = ['c','d'],columns = ['A','B','C'])\n",
    "df3 = pd.concat([df2, tmpDf], axis=0 )\n",
    "print(df3, '\\n')"
   ]
  },
  {
   "cell_type": "markdown",
   "metadata": {},
   "source": [
    "##### 直接增一列"
   ]
  },
  {
   "cell_type": "code",
   "execution_count": null,
   "metadata": {},
   "outputs": [],
   "source": [
    "print(df2, '\\n')\n",
    "df2 = df.copy()\n",
    "df2['H'] = [7, 8]\n",
    "print(df2, '\\n')"
   ]
  },
  {
   "cell_type": "markdown",
   "metadata": {},
   "source": [
    "##### 函数增多列 pd.concat(objs, axis=1)¶\n",
    "\n",
    "\n",
    "    axis=1时连接列,此时最好确保行索引相同.\n",
    "    参数说明:\n",
    "        objs: list of DataFrame；\n",
    "        axis=1: 按列连接。"
   ]
  },
  {
   "cell_type": "code",
   "execution_count": null,
   "metadata": {},
   "outputs": [],
   "source": [
    "df2 = df.copy()\n",
    "print(df2, '\\n')\n",
    "tmpDf = pd.DataFrame([[22,33],[44,55]], index = ['a','b'],columns = ['D','E'])\n",
    "df3 = pd.concat([df2,tmpDf], axis =1)\n",
    "print(df3, '\\n')"
   ]
  },
  {
   "cell_type": "markdown",
   "metadata": {},
   "source": [
    "##### 插入列  df.insert()\n",
    "将列插入DataFrame的指定位置。"
   ]
  },
  {
   "cell_type": "code",
   "execution_count": null,
   "metadata": {},
   "outputs": [],
   "source": [
    "df2 = df.copy()\n",
    "print(df2, '\\n')\n",
    "\n",
    "# 在df2中插入列索引为0的列,列名为'addColumn'(df2中已有同名列的将报错,除非`allow_duplicates`设置为True)\n",
    "df2.insert(0, 'addColumn', np.arange(len(df2))) \n",
    "df2.head()"
   ]
  },
  {
   "cell_type": "code",
   "execution_count": null,
   "metadata": {},
   "outputs": [],
   "source": [
    "df3 = df.copy()\n",
    "arrays = [[1, 1, 2], ['A', 'B', 'C']]\n",
    "df3.columns =  pd.MultiIndex.from_arrays(arrays, names=('index_1', 'index_2'))\n",
    "df3"
   ]
  },
  {
   "cell_type": "code",
   "execution_count": null,
   "metadata": {},
   "outputs": [],
   "source": [
    "dates = pd.date_range('20191022', periods=3)\n",
    "dates"
   ]
  },
  {
   "cell_type": "code",
   "execution_count": null,
   "metadata": {},
   "outputs": [],
   "source": [
    "df3.insert(0, ('', 'addColumn'), dates) \n",
    "df3.head()\n",
    "\n",
    "\n",
    "df3.insert(0, 'addColumn2', dates) \n",
    "df3.head()"
   ]
  },
  {
   "cell_type": "code",
   "execution_count": null,
   "metadata": {},
   "outputs": [],
   "source": [
    "index = pd.index"
   ]
  },
  {
   "cell_type": "code",
   "execution_count": null,
   "metadata": {},
   "outputs": [],
   "source": [
    "df3.insert?"
   ]
  },
  {
   "cell_type": "markdown",
   "metadata": {},
   "source": [
    "#### 删"
   ]
  },
  {
   "cell_type": "markdown",
   "metadata": {},
   "source": [
    "##### 函数删多行  DataFrame.drop()\n",
    "\n",
    "几个常用参数:\n",
    "+ labels：索引，单索引或索引的列表；\n",
    "+ axis：0-删行；\n",
    "+ level：多重索引需要指定；\n",
    "+ inplace：是否本地修改。\n"
   ]
  },
  {
   "cell_type": "code",
   "execution_count": null,
   "metadata": {},
   "outputs": [],
   "source": [
    "df2 = df.copy()\n",
    "print(df2, '\\n')\n",
    "df2.drop(['a'], axis=0, inplace=True)\n",
    "print(df2, '\\n')"
   ]
  },
  {
   "cell_type": "markdown",
   "metadata": {},
   "source": [
    "##### 直接删一列"
   ]
  },
  {
   "cell_type": "code",
   "execution_count": null,
   "metadata": {},
   "outputs": [],
   "source": [
    "df2 = df.copy()\n",
    "print(df2, '\\n')\n",
    "del df2['A']\n",
    "print(df2, '\\n')"
   ]
  },
  {
   "cell_type": "markdown",
   "metadata": {},
   "source": [
    "##### 函数删多列  DataFrame.drop()\n",
    "几个常用参数:\n",
    "+ labels：索引，单索引或索引的列表；\n",
    "+ axis：1-删列；\n",
    "+ level：多重索引需要指定；\n",
    "+ inplace：是否本地修改。\n"
   ]
  },
  {
   "cell_type": "code",
   "execution_count": null,
   "metadata": {},
   "outputs": [],
   "source": [
    "df2 = df.copy()\n",
    "print(df2, '\\n')\n",
    "df2.drop(['A', 'C'], axis=1, inplace=True)\n",
    "print(df2, '\\n')"
   ]
  },
  {
   "cell_type": "markdown",
   "metadata": {},
   "source": [
    "### 处理DataFrame中的异常数据\n",
    "\n",
    "从文件中读取的数据可能包含有NaN,"
   ]
  },
  {
   "cell_type": "markdown",
   "metadata": {},
   "source": [
    "#### dropna()删除带NaN的行或列\n",
    "+ axis:0删除行(默认)，\n",
    "     1删除列\n",
    "+ how: 'all'只有将行(或列)全为NaN时才删除该行(或列)"
   ]
  },
  {
   "cell_type": "code",
   "execution_count": null,
   "metadata": {},
   "outputs": [],
   "source": [
    "# dropna()删除带NaN的行或列\n",
    "# axis:0删除行(默认)，\n",
    "#      1删除列\n",
    "df.dropna() "
   ]
  },
  {
   "cell_type": "markdown",
   "metadata": {},
   "source": [
    "#### fillna()使用指定的值来填充NaN\n"
   ]
  },
  {
   "cell_type": "code",
   "execution_count": null,
   "metadata": {},
   "outputs": [],
   "source": [
    "# 使用均值填充NaN\n",
    "df.fillna(df.mean(1), axis=1) "
   ]
  },
  {
   "cell_type": "code",
   "execution_count": null,
   "metadata": {},
   "outputs": [],
   "source": []
  },
  {
   "cell_type": "code",
   "execution_count": null,
   "metadata": {},
   "outputs": [],
   "source": []
  },
  {
   "cell_type": "markdown",
   "metadata": {},
   "source": [
    "#### Group By 和 aggregate()\n",
    "transform()\n",
    "apply()\n",
    "filter()\n",
    " "
   ]
  },
  {
   "cell_type": "code",
   "execution_count": null,
   "metadata": {},
   "outputs": [],
   "source": [
    "df.aggregate?"
   ]
  },
  {
   "cell_type": "code",
   "execution_count": null,
   "metadata": {},
   "outputs": [],
   "source": []
  },
  {
   "cell_type": "raw",
   "metadata": {},
   "source": [
    "表格匹配与拼接\n",
    "concat\n",
    "append\n",
    "merge\n",
    "join"
   ]
  },
  {
   "cell_type": "markdown",
   "metadata": {},
   "source": [
    "### pd.merge()详解\n",
    "\n",
    "pd.merge(left, right, how='inner', on=None, left_on=None, \n",
    "         right_on=None, left_index=False, right_index=False, \n",
    "         sort = False)\n",
    "+ left,right： 要对齐合并的两个DataFrame；\n",
    "+ how： 先做笛卡尔积操作，然后按照要求保留需要的，缺失的数据填充NaN；\n",
    "     - left: 以左DataFrame为基准，即左侧DataFrame的数据全部保留（不代表完全一致、可能会存在复制），保持原序.\n",
    "     - right: 以右DataFrame为基准，保持原序\n",
    "     - inner: 交，保留左右DataFrame在on上完全一致的行，保持左DataFrame顺序\n",
    "     - outer: 并，按照字典顺序重新排序\n",
    "+ on：列索引或列索引列表，如果要在DataFrame相同的列索引做对齐，用这个参数；\n",
    "+ left_on, right_on, left_index, right_index：\n",
    "     - on用于对两个DataFrame中相同的列索引或列索引列表进行对齐; 当要对齐不同列名的DataFrame时使用left_on和right_on.\n",
    "     - index对应要使用的index，建议不要使用这俩参数，因为可以用concat方法代替。\n",
    "+ sort: True or False，是否按字典序重新排序。\n",
    "\n",
    "concat函数本质上是在所有索引上同时进行对齐合并，而如果想在任意列上对齐合并，则需要merge函数"
   ]
  },
  {
   "cell_type": "code",
   "execution_count": null,
   "metadata": {},
   "outputs": [],
   "source": [
    "df1 = pd.DataFrame([[1,2],[3,4]], index = ['a','b'],columns = ['A','B'])\n",
    "df2 = pd.DataFrame([[1,3],[4,8]], index = ['b','d'],columns = ['B','C'])\n",
    "print('df1=\\n', df1, '\\n')\n",
    "print('df2=\\n', df2, '\\n')"
   ]
  },
  {
   "cell_type": "markdown",
   "metadata": {},
   "source": [
    "#### 如果单纯的按照index对齐，不如用concat方法"
   ]
  },
  {
   "cell_type": "code",
   "execution_count": null,
   "metadata": {},
   "outputs": [],
   "source": [
    "# 如果单纯的按照index对齐，不如用concat方法，所以一般不建议使用left_index, right_index.\n",
    "pd.merge(left = df1, right = df2, how = 'inner' ,left_index = True, right_index = True)"
   ]
  },
  {
   "cell_type": "code",
   "execution_count": null,
   "metadata": {},
   "outputs": [],
   "source": [
    "# 区别是concat对重复列没有重命名，但是重名的情况不多，而且重名了说明之前设计就不大合理。\n",
    "pd.concat([df1,df2], join = 'inner',axis =1)  "
   ]
  },
  {
   "cell_type": "markdown",
   "metadata": {},
   "source": [
    "#### on 用法\n",
    "\n",
    "设置 how = 'inner'"
   ]
  },
  {
   "cell_type": "code",
   "execution_count": null,
   "metadata": {},
   "outputs": [],
   "source": [
    "#取left和right两个表中在'B'列上相同的行。 \n",
    "pd.merge(left = df1, right = df2, how = 'inner' , on =['B']) "
   ]
  },
  {
   "cell_type": "code",
   "execution_count": null,
   "metadata": {},
   "outputs": [],
   "source": [
    "# 取left表'A'列 与 right表'C'列 取值相同的行。\n",
    "pd.merge(left = df1, right = df2, how = 'inner',left_on = ['A'] ,right_on = ['C'])"
   ]
  },
  {
   "cell_type": "markdown",
   "metadata": {},
   "source": [
    "#### how 用法"
   ]
  },
  {
   "cell_type": "code",
   "execution_count": null,
   "metadata": {},
   "outputs": [],
   "source": [
    "# 保持左侧DataFrame不变，使用右表的'B'列来跟左表的'B'列对齐，对不上的填NaN。 \n",
    "pd.merge(left = df1, right = df2, how = 'left', on = ['B'] )"
   ]
  },
  {
   "cell_type": "code",
   "execution_count": null,
   "metadata": {},
   "outputs": [],
   "source": [
    "# 保持右侧DataFrame不变，使用左表的'A'列来跟右表的'C'列对齐，对不上的填NaN。\n",
    "pd.merge(left = df1, right = df2, how = 'right', left_on = ['A'] ,right_on = ['C'] )"
   ]
  },
  {
   "cell_type": "code",
   "execution_count": null,
   "metadata": {},
   "outputs": [],
   "source": []
  },
  {
   "cell_type": "markdown",
   "metadata": {},
   "source": [
    "## Index对象\n",
    "\n",
    "Index对象是pandas其核心对象之一.\n",
    "\n",
    "    索引类似于元组，其本身是不能赋值修改的；\n",
    "    其在数据进行整体运算时，辅助自动对齐，这是pandas不同于其他数据处理库的一大特征；\n",
    "    多层索引可以帮助改变表的形态，如透视表等。\n"
   ]
  },
  {
   "cell_type": "markdown",
   "metadata": {},
   "source": [
    "### 单层索引"
   ]
  },
  {
   "cell_type": "markdown",
   "metadata": {},
   "source": [
    "#### 创建单层索引\n",
    "\n",
    "pd.Index(data, dtype = Object, name = None) --data为一维列表时创建的是单层索引\n",
    "+ data：data为一维列表时创建的是单层索引\n",
    "+ dtype：索引元素的类型，默认为object型\n",
    "+ name：索引的名字，类似于列的名字\n"
   ]
  },
  {
   "cell_type": "code",
   "execution_count": null,
   "metadata": {},
   "outputs": [],
   "source": [
    "data = ['a','b','c']\n",
    "index = pd.Index(data, name = 'indexName')\n",
    "index"
   ]
  },
  {
   "cell_type": "markdown",
   "metadata": {},
   "source": [
    "#### Index三要素:\n",
    "+ index.name\n",
    "+ index.values\n",
    "+ index.dtype"
   ]
  },
  {
   "cell_type": "markdown",
   "metadata": {},
   "source": [
    "#### 查\n",
    "查询方式和一维ndarray或Series的.iloc[]完全一样"
   ]
  },
  {
   "cell_type": "code",
   "execution_count": null,
   "metadata": {},
   "outputs": [],
   "source": [
    "#单元素\n",
    "index[0]\n",
    "\n",
    "#范围\n",
    "index[0:2]\n",
    "\n",
    "#枚举列表指定元素\n",
    "index[[0,2]]\n",
    "\n",
    "#掩码\n",
    "mask = [True,False,True]\n",
    "index[mask]"
   ]
  },
  {
   "cell_type": "markdown",
   "metadata": {},
   "source": [
    "#### 改索引名\n",
    "\n",
    "索引的值是不能修改的，但是名字确是可以修改的"
   ]
  },
  {
   "cell_type": "markdown",
   "metadata": {},
   "source": [
    "##### 直接改"
   ]
  },
  {
   "cell_type": "code",
   "execution_count": null,
   "metadata": {},
   "outputs": [],
   "source": [
    "print(index)\n",
    "index.name = 'new_name' \n",
    "print(index)"
   ]
  },
  {
   "cell_type": "markdown",
   "metadata": {},
   "source": [
    "##### 函数改\n",
    "\n",
    "Index.set_names(names, inplace=False)\n",
    "+ names：要设置的名字，可以为名字的列表；\n",
    "+ inplace：是否原地修改。\n"
   ]
  },
  {
   "cell_type": "code",
   "execution_count": null,
   "metadata": {},
   "outputs": [],
   "source": [
    "print(index)\n",
    "index.set_names('indexName', inplace=True)\n",
    "print(index)"
   ]
  },
  {
   "cell_type": "markdown",
   "metadata": {},
   "source": [
    "#### 增"
   ]
  },
  {
   "cell_type": "markdown",
   "metadata": {},
   "source": [
    "##### 按位置添加一个元素    Index.insert(loc, value)\n",
    "\n",
    "Index.insert(loc, value)\n",
    "+ loc：位置编号\n",
    "+ value：值\n"
   ]
  },
  {
   "cell_type": "code",
   "execution_count": null,
   "metadata": {},
   "outputs": [],
   "source": [
    "idx = index.copy()\n",
    "print(idx)\n",
    "idx2 = idx.insert(1,'d')\n",
    "print(idx)\n",
    "print(idx2)"
   ]
  },
  {
   "cell_type": "markdown",
   "metadata": {},
   "source": [
    "##### 尾部添加多个元素 Index.append(other)\n",
    "\n",
    "Index.append(other)\n",
    "+ other：添加到尾部的其他索引对象"
   ]
  },
  {
   "cell_type": "code",
   "execution_count": null,
   "metadata": {},
   "outputs": [],
   "source": [
    "idx = index.copy()\n",
    "print(idx)\n",
    "idx2 = pd.Index(['x', 'y'])\n",
    "idx3 = idx.append(idx2)\n",
    "print(idx3)"
   ]
  },
  {
   "cell_type": "markdown",
   "metadata": {},
   "source": [
    "##### 并\n",
    "Index.union(other)\n",
    "+ other：要并入当前索引的其他索引对象.(可用于去重) "
   ]
  },
  {
   "cell_type": "code",
   "execution_count": null,
   "metadata": {},
   "outputs": [],
   "source": [
    "idx = index.copy()\n",
    "print(idx)\n",
    "\n",
    "idx2 = pd.Index(['b','c','d'])\n",
    "print(idx2)\n",
    "\n",
    "idx.union(idx2)"
   ]
  },
  {
   "cell_type": "markdown",
   "metadata": {},
   "source": [
    "#### 删"
   ]
  },
  {
   "cell_type": "markdown",
   "metadata": {},
   "source": [
    "##### 按位置删除一行  Index.delete(loc)\n",
    "Index.delete(loc)\n",
    "+ loc：位置编号"
   ]
  },
  {
   "cell_type": "code",
   "execution_count": null,
   "metadata": {},
   "outputs": [],
   "source": [
    "idx = index.copy()\n",
    "print(idx)\n",
    "idx.delete(1)"
   ]
  },
  {
   "cell_type": "markdown",
   "metadata": {},
   "source": [
    "##### 按索引删除多行  Index.drop(labels)\n",
    "Index.drop(labels)\n",
    "+ labels：索引列表"
   ]
  },
  {
   "cell_type": "code",
   "execution_count": null,
   "metadata": {},
   "outputs": [],
   "source": [
    "idx = index.copy()\n",
    "print(idx)\n",
    "idx2 = idx.drop(['a','b'])\n",
    "print(idx)\n",
    "print(idx2)"
   ]
  },
  {
   "cell_type": "markdown",
   "metadata": {},
   "source": [
    "##### 交 Index.intersection(other)"
   ]
  },
  {
   "cell_type": "code",
   "execution_count": null,
   "metadata": {},
   "outputs": [],
   "source": [
    "idx = index.copy()\n",
    "print(idx)\n",
    "\n",
    "idx2 = pd.Index(['b','c','d'])\n",
    "idx.intersection(idx2) "
   ]
  },
  {
   "cell_type": "markdown",
   "metadata": {},
   "source": [
    "### 多层索引"
   ]
  },
  {
   "cell_type": "markdown",
   "metadata": {},
   "source": [
    "#### 创建\n",
    "\n",
    "pd.MultiIndex.from_tuples(labels, names = None)\n",
    " labels：元组或列表的列表；\n",
    "+ names：名字的列表。\n",
    "\n"
   ]
  },
  {
   "cell_type": "code",
   "execution_count": null,
   "metadata": {},
   "outputs": [],
   "source": [
    "# data = [['a','one'],['a','two'],['b','one']]\n",
    "data = [('a','one'),('a','two'),('b','one')]\n",
    "mulIndex = pd.MultiIndex.from_tuples( data, names = ['name1','name2'])\n",
    "mulIndex\n",
    "\n",
    "# 输出说明:\n",
    "# MultiIndex(levels=[['a', 'b'], ['one', 'two']], -- 表示两层索引;第一层索引levels[0]=[a, b],第二层索引levels[1]=['one', 'two']\n",
    "#            labels=[[0, 0, 1], [0, 1, 0], -- 对应一个索引组合：(levels[0][labels[0][i]], levels[1][labels[1][i]]) -- 对应data[i]\n",
    "#            names=['name1', 'name2'])\n"
   ]
  },
  {
   "cell_type": "code",
   "execution_count": null,
   "metadata": {},
   "outputs": [],
   "source": [
    "data2 = [('a', 'x', 'one'),('a', 'y', 'two'),('b', 'z', 'one')]\n",
    "mulIndex2 = pd.MultiIndex.from_tuples( data2, names = ['name1', 'name2', 'name3'])\n",
    "mulIndex2\n",
    "\n",
    "# 输出说明:\n",
    "# MultiIndex(levels=[['a', 'b'], ['x', 'y', 'z'], ['one', 'two']],\n",
    "#           labels=[[0, 0, 1], [0, 1, 2], [0, 1, 0]],\n",
    "#           names=['name1', 'name2', 'name3'])\n",
    "#  levels -- 表示三层索引：\n",
    "#               第一层索引levels[0]=[a, b]\n",
    "#               第二层索引levels[1]=['x', 'y', 'z']\n",
    "#               第三层索引levels[2]=['one', 'two']\n",
    "#  labels -- 对应一个索引组合（以矩阵的方式表示data2）：\n",
    "#               (levels[0][labels[0][i]], levels[1][labels[1][i]]， levels[2][labels[2][i]]) -- 对应data2[i]"
   ]
  },
  {
   "cell_type": "markdown",
   "metadata": {},
   "source": [
    "#### 查\n",
    "查询方法和单层索引完全一致。"
   ]
  },
  {
   "cell_type": "code",
   "execution_count": null,
   "metadata": {},
   "outputs": [],
   "source": [
    "#单元素\n",
    "mulIndex[0]\n",
    "\n",
    "#范围\n",
    "mulIndex[0:2]\n",
    "\n",
    "#枚举列表指定元素\n",
    "mulIndex[[0,2]]\n",
    "\n",
    "#掩码\n",
    "mask = [True,False,True]\n",
    "mulIndex[mask]"
   ]
  },
  {
   "cell_type": "markdown",
   "metadata": {},
   "source": [
    "##### 获取某一层索引：MultiIndex.get_level_values(level)\n",
    "MultiIndex.get_level_values(level)\n",
    "+ level：int，选中的那一层"
   ]
  },
  {
   "cell_type": "code",
   "execution_count": null,
   "metadata": {},
   "outputs": [],
   "source": [
    "print(mulIndex)\n",
    "print(mulIndex.get_level_values(0))\n",
    "print(mulIndex.get_level_values(1))"
   ]
  },
  {
   "cell_type": "markdown",
   "metadata": {},
   "source": [
    "#### 改"
   ]
  },
  {
   "cell_type": "markdown",
   "metadata": {},
   "source": [
    "##### 改索引名（函数改）\n",
    "MultiIndex.set_names(names, level=None, inplace=False)\n",
    "+ names：要设置的名字，可以为名字的列表；\n",
    "+ level：多层索引需要设置修改的索引层次，可以为列表，要与names匹配；\n",
    "+ inplace：是否原地修改。\n"
   ]
  },
  {
   "cell_type": "code",
   "execution_count": null,
   "metadata": {},
   "outputs": [],
   "source": [
    "tmpMulIndex = mulIndex.copy()\n",
    "print(tmpMulIndex)\n",
    "# 返回一个tmpMulIndex的副本,原tmpMulIndex不变\n",
    "tmpMulIndex.set_names('new_name',level=0)"
   ]
  },
  {
   "cell_type": "markdown",
   "metadata": {},
   "source": [
    "##### 改索引层次顺序\n",
    "MultiIndex.swaplevel(i=-2, j=-1)\n",
    "改变level i 和level j的次序\n"
   ]
  },
  {
   "cell_type": "code",
   "execution_count": null,
   "metadata": {},
   "outputs": [],
   "source": [
    "tmpMulIndex = mulIndex.copy()\n",
    "print(tmpMulIndex)\n",
    "tmpMulIndex.swaplevel()"
   ]
  },
  {
   "cell_type": "markdown",
   "metadata": {},
   "source": [
    "##### 另外两个更实用的函数:\n",
    "* Series.swaplevel(i=-2, j=-1)\n",
    "* DataFrame.swaplevel(i=-2, j=-1, axis = 1)\n",
    "  + axis：0-行索引，1-列索引"
   ]
  },
  {
   "cell_type": "code",
   "execution_count": null,
   "metadata": {},
   "outputs": [],
   "source": [
    "seriesObj = pd.Series([1,2,3], index = index)\n",
    "seriesObj.swaplevel()"
   ]
  },
  {
   "cell_type": "code",
   "execution_count": null,
   "metadata": {},
   "outputs": [],
   "source": [
    "columns = index.copy()\n",
    "print(columns)\n",
    "columns.set_names( names = ['name3','name4'], level = [0, 1], inplace = True) #列索引取和行索引相同，只是改了名字\n",
    "df = pd.DataFrame([[1,2,3],[4,5,6],[7,8,9]], index= index, columns = columns)\n",
    "df"
   ]
  },
  {
   "cell_type": "code",
   "execution_count": null,
   "metadata": {},
   "outputs": [],
   "source": [
    "df.swaplevel( axis =1)  # 交换列索引顺序"
   ]
  },
  {
   "cell_type": "markdown",
   "metadata": {},
   "source": [
    "#### 多层索引使用方法\n",
    "当对values进行查看时，多层索引可以分开使用。"
   ]
  },
  {
   "cell_type": "code",
   "execution_count": null,
   "metadata": {},
   "outputs": [],
   "source": [
    "df1 = df.copy()\n",
    "df1"
   ]
  },
  {
   "cell_type": "raw",
   "metadata": {},
   "source": [
    "索引为空不代表缺失，缺省写法，意思是之前的索引一致"
   ]
  },
  {
   "cell_type": "markdown",
   "metadata": {},
   "source": [
    "##### 对于外层索引\n",
    "记住：\n",
    "+ 无论是Series还是DataFrame，外层索引都是可以直接使用，也就是说可以认为只有这一层索引；\n",
    "+ 用法和第二篇查、改、增、删提到的方法完全相同。\n"
   ]
  },
  {
   "cell_type": "markdown",
   "metadata": {},
   "source": [
    "###### []   --只有通过数字切片时才是通过行操作,其他均为列操作"
   ]
  },
  {
   "cell_type": "code",
   "execution_count": null,
   "metadata": {},
   "outputs": [],
   "source": [
    "df1['b']  # 列外层 ---取列索引为'b'"
   ]
  },
  {
   "cell_type": "code",
   "execution_count": null,
   "metadata": {},
   "outputs": [],
   "source": [
    "df1['a':'b'] # 列外层 --取列索引['a','b']的列"
   ]
  },
  {
   "cell_type": "code",
   "execution_count": null,
   "metadata": {},
   "outputs": [],
   "source": [
    "df1[['a','b']] # 列外层  --取列索引为'a'和'b'的列 （以枚举方式指定列索引）"
   ]
  },
  {
   "cell_type": "code",
   "execution_count": null,
   "metadata": {},
   "outputs": [],
   "source": [
    "df1[0:2]  # 行外层"
   ]
  },
  {
   "cell_type": "code",
   "execution_count": null,
   "metadata": {},
   "outputs": [],
   "source": [
    "mask =[True,False,True]  # 行外层  --对应第一，第三行\n",
    "df1[mask]"
   ]
  },
  {
   "cell_type": "code",
   "execution_count": null,
   "metadata": {},
   "outputs": [],
   "source": [
    ".loc[]"
   ]
  },
  {
   "cell_type": "code",
   "execution_count": null,
   "metadata": {},
   "outputs": [],
   "source": [
    "df1.loc['a','b']  # 取行索引为'a'，列索引为'b'的所有单元格数据 "
   ]
  },
  {
   "cell_type": "code",
   "execution_count": null,
   "metadata": {},
   "outputs": [],
   "source": [
    "#取行索引为['a', 'b']，列索引为'b' 范围内的所有单元格数据。\n",
    "# --这里行索引以范围的方式给出。（参考excel中的范围表示） \n",
    "df1.loc['a':'b','b']"
   ]
  },
  {
   "cell_type": "code",
   "execution_count": null,
   "metadata": {},
   "outputs": [],
   "source": [
    "#取行索引为'a'或'b'，列索引为'b' 范围内的所有单元格数据。--这里行索引以枚举的方式给出。\n",
    "df1.loc[['a','b'],'b'] "
   ]
  },
  {
   "cell_type": "code",
   "execution_count": null,
   "metadata": {},
   "outputs": [],
   "source": [
    "mask = [True, False, True] # mask\n",
    "df1.loc[mask,'b'] #取第一和第三行，列索引为'b' 范围内的所有单元格数据"
   ]
  },
  {
   "cell_type": "markdown",
   "metadata": {},
   "source": [
    "###### iloc[]"
   ]
  },
  {
   "cell_type": "code",
   "execution_count": null,
   "metadata": {},
   "outputs": [],
   "source": [
    "df1.iloc[0, 0:2] #取第一行，第[0,2)列 区域内的所有单元格数据"
   ]
  },
  {
   "cell_type": "code",
   "execution_count": null,
   "metadata": {},
   "outputs": [],
   "source": [
    "df1.iloc[0:2,0:2] #取第[0,2)行，第[0,2)列 区域内的所有单元格数据"
   ]
  },
  {
   "cell_type": "code",
   "execution_count": null,
   "metadata": {},
   "outputs": [],
   "source": [
    "df1.iloc[[0,1],0:2]  #取第0，第1行; 第[0,2)列 区域内的单元格数据. --这里行索引以枚举的方式给出。"
   ]
  },
  {
   "cell_type": "code",
   "execution_count": null,
   "metadata": {},
   "outputs": [],
   "source": [
    "mask = [True, False, True]\n",
    "df1.iloc[mask,0:2] #取第一和第三行，第[0,2)列 范围内的单元格数据. --这里行索引以掩码的方式给出。"
   ]
  },
  {
   "cell_type": "markdown",
   "metadata": {},
   "source": [
    "##### 对于内层索引\n",
    "\n",
    "+ **内层索引不可直接使用，必须先外层、再内层，直接使用会报错；**\n",
    "+ 内层只能使用单索引形式，其他形式报错。"
   ]
  },
  {
   "cell_type": "markdown",
   "metadata": {},
   "source": [
    "###### [ , ] 快捷操作(基于列)"
   ]
  },
  {
   "cell_type": "code",
   "execution_count": null,
   "metadata": {},
   "outputs": [],
   "source": [
    "#取一列，先外层单列索引，再内层单列索引，其他形式都报错. \n",
    "# --注意：这里'a','one'都是列索引\n",
    "df1['a','one']  "
   ]
  },
  {
   "cell_type": "markdown",
   "metadata": {},
   "source": [
    "###### .loc[ , ]   (基于行)"
   ]
  },
  {
   "cell_type": "code",
   "execution_count": null,
   "metadata": {},
   "outputs": [],
   "source": [
    "print(df1)\n",
    "# 取一行，先外层单行索引，再内层单列索引，其他形式都报错. \n",
    "# --注意：这里'a','one'都是行索引\n",
    "df1.loc['a','one'] "
   ]
  },
  {
   "cell_type": "markdown",
   "metadata": {},
   "source": [
    "###### .iloc[ , ]\n",
    "\n",
    "因为.iloc[]无视索引，只按照位置定位; 所以操作方式外层索引部分完全相同"
   ]
  },
  {
   "cell_type": "markdown",
   "metadata": {},
   "source": [
    "##### xs直接选取法\n",
    "\n",
    "适合在单层level选取，不能行列同时操作。\n",
    "Series.xs(key, level=None, drop_level=True)\n",
    "DataFrame.xs(key, axis=0, level=None, drop_level=True)\n",
    "+ key: 要选取的索引值或其列表；\n",
    "+ axis：0-行索引，1-列索引；\n",
    "+ level：索引层次；\n",
    "+ drop_level：True or False，是否显示用于选取的level索引，默认不显示。\n"
   ]
  },
  {
   "cell_type": "code",
   "execution_count": null,
   "metadata": {},
   "outputs": [],
   "source": [
    "df1 = df.copy()\n",
    "df1.xs( 'one', axis = 0, level = 1 )  # 行索引的level 1, 有两行"
   ]
  },
  {
   "cell_type": "code",
   "execution_count": null,
   "metadata": {},
   "outputs": [],
   "source": [
    "df1.xs( 'two', axis = 1, level = 1 ) # 列索引的level 1，有一列"
   ]
  },
  {
   "cell_type": "markdown",
   "metadata": {},
   "source": [
    "## 绘图"
   ]
  },
  {
   "cell_type": "markdown",
   "metadata": {},
   "source": [
    "### df.plot() --基于df列的Series绘制\n",
    "\n",
    "+ kind： 指定绘图样式 \n",
    "    - 默认为拆线图\n",
    "    - bar或barh为条形  --作对比\n",
    "        df.plot.bar()\n",
    "    - hist为直方图     --看单维度分布\n",
    "        df.plot.hist()\n",
    "    - boxplot为盒型图(箱线图) --看单维度数据(分析异常点)\n",
    "        df.plot.boxplot()\n",
    "    - area为面积图 \n",
    "        df.plot.area()\n",
    "    - scatter为散点图 --看关联\n",
    "        df.plot.scatter()\n",
    "    "
   ]
  },
  {
   "cell_type": "markdown",
   "metadata": {},
   "source": [
    "## 常用函数\n",
    "\n",
    "quantile() --分位数"
   ]
  },
  {
   "cell_type": "code",
   "execution_count": null,
   "metadata": {},
   "outputs": [],
   "source": [
    "# 以概率阈值p进行随机失活\n",
    "p = 0.5\n",
    "H = np.array([[0.51518527, 0.11805243, 0.95007683],\n",
    "              [0.11505597, 0.69643386, 0.85712275],\n",
    "              [0.45662133, 0.42227228, 0.53639051],\n",
    "              [0.21948539, 0.510739  , 0.78275228]]) \n",
    "U = np.random.rand(*H.shape) > p #构造随机失活矩阵\n",
    "OutH = H * U #得到随机失活后的矩阵\n",
    "\n",
    "print(U)\n",
    "print(OutH)"
   ]
  },
  {
   "cell_type": "code",
   "execution_count": null,
   "metadata": {},
   "outputs": [],
   "source": []
  },
  {
   "cell_type": "code",
   "execution_count": null,
   "metadata": {},
   "outputs": [],
   "source": []
  }
 ],
 "metadata": {
  "kernelspec": {
   "display_name": "Python 3",
   "language": "python",
   "name": "python3"
  },
  "language_info": {
   "codemirror_mode": {
    "name": "ipython",
    "version": 3
   },
   "file_extension": ".py",
   "mimetype": "text/x-python",
   "name": "python",
   "nbconvert_exporter": "python",
   "pygments_lexer": "ipython3",
   "version": "3.7.6"
  },
  "toc": {
   "base_numbering": 1,
   "nav_menu": {},
   "number_sections": true,
   "sideBar": true,
   "skip_h1_title": false,
   "title_cell": "Table of Contents",
   "title_sidebar": "Contents",
   "toc_cell": false,
   "toc_position": {
    "height": "calc(100% - 180px)",
    "left": "10px",
    "top": "150px",
    "width": "321.736px"
   },
   "toc_section_display": true,
   "toc_window_display": true
  }
 },
 "nbformat": 4,
 "nbformat_minor": 2
}
