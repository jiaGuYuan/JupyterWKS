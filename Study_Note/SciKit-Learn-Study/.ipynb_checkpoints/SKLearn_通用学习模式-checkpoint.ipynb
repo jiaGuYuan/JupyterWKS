{
 "cells": [
  {
   "cell_type": "code",
   "execution_count": 1,
   "metadata": {},
   "outputs": [],
   "source": [
    "import pandas as dp\n",
    "import numpy as np\n",
    "from sklearn import datasets\n",
    "from sklearn.model_selection import train_test_split\n",
    "from sklearn.model_selection  import learning_curve\n",
    "from sklearn.neighbors import KNeighborsClassifier\n",
    "from sklearn.preprocessing import StandardScaler\n",
    "\n",
    "import matplotlib.pyplot as plt"
   ]
  },
  {
   "cell_type": "code",
   "execution_count": 2,
   "metadata": {},
   "outputs": [],
   "source": [
    "%config ZMQInteractiveShell.ast_node_interactivity='all'"
   ]
  },
  {
   "cell_type": "code",
   "execution_count": 3,
   "metadata": {},
   "outputs": [],
   "source": [
    "# 加载数据\n",
    "# from sklearn import datasets\n",
    "iris = datasets.load_iris()\n",
    "iris_X = iris.data\n",
    "iris_y = iris.target\n",
    "\n",
    "# 查看数据\n",
    "#iris_X[:2, :] # 前两行\n",
    "#np.unique(iris_y) #查看类别取值"
   ]
  },
  {
   "cell_type": "code",
   "execution_count": 4,
   "metadata": {},
   "outputs": [],
   "source": [
    "# 数据检查"
   ]
  },
  {
   "cell_type": "code",
   "execution_count": 5,
   "metadata": {},
   "outputs": [
    {
     "name": "stdout",
     "output_type": "stream",
     "text": [
      "colnum_0 missRate is 0.000\n",
      "colnum_1 missRate is 0.000\n",
      "colnum_2 missRate is 0.000\n",
      "colnum_3 missRate is 0.000\n"
     ]
    }
   ],
   "source": [
    "# 检查各列的缺失率\n",
    "colnumNum = np.size(iris_X, axis=1)\n",
    "for colnumIndex in np.arange(colnumNum):\n",
    "    colnumData = iris_X[:, colnumIndex]\n",
    "    missRate = len(colnumData[np.isnan(colnumData)]) / len(colnumData)\n",
    "    print(\"colnum_%d missRate is %.3f\" % (colnumIndex, missRate))\n",
    "    \n",
    "    # 可对缺失率较大的特征进行处理\n",
    "    pass\n"
   ]
  },
  {
   "cell_type": "code",
   "execution_count": 6,
   "metadata": {},
   "outputs": [
    {
     "data": {
      "text/plain": [
       "(105, 4)"
      ]
     },
     "execution_count": 6,
     "metadata": {},
     "output_type": "execute_result"
    },
    {
     "data": {
      "text/plain": [
       "(45, 4)"
      ]
     },
     "execution_count": 6,
     "metadata": {},
     "output_type": "execute_result"
    }
   ],
   "source": [
    "# 数据集划分  划分数据集时可指定random_state参数使多次调用产生一样的划分(相同的数据集在验证时特别有用)\n",
    "X_train, X_test, y_train, y_test = train_test_split(iris_X, iris_y, test_size=0.3, shuffle=True)\n",
    "\n",
    "X_train.shape\n",
    "X_test.shape"
   ]
  },
  {
   "cell_type": "code",
   "execution_count": 7,
   "metadata": {},
   "outputs": [
    {
     "data": {
      "text/plain": [
       "array([5.89142857, 3.1152381 , 3.74571429, 1.19619048])"
      ]
     },
     "execution_count": 7,
     "metadata": {},
     "output_type": "execute_result"
    },
    {
     "data": {
      "text/plain": [
       "array([0.8234786 , 0.44051506, 1.78277625, 0.76915833])"
      ]
     },
     "execution_count": 7,
     "metadata": {},
     "output_type": "execute_result"
    },
    {
     "data": {
      "text/plain": [
       "array([0., 0., 0., 0.])"
      ]
     },
     "execution_count": 7,
     "metadata": {},
     "output_type": "execute_result"
    },
    {
     "data": {
      "text/plain": [
       "array([1., 1., 1., 1.])"
      ]
     },
     "execution_count": 7,
     "metadata": {},
     "output_type": "execute_result"
    }
   ],
   "source": [
    "# 数据处理操作是针对训练集进行的,所以需要在数据集划分之后进行\n",
    "# from sklearn.preprocessing import StandardScaler\n",
    "\n",
    "# 数据清洗\n",
    "pass\n",
    "\n",
    "# 离群点检测\n",
    "pass\n",
    "\n",
    "# 查看数据分布\n",
    "np.mean(X_train, axis=0)\n",
    "np.std(X_train, axis=0)\n",
    "\n",
    "# 数据可视化\n",
    "pass\n",
    "\n",
    "# 数据归一化/标准化\n",
    "# 使用均值和标准差进行标准化\n",
    "# scaler = StandardScaler().fit(X_train)\n",
    "# iris_X2 = scaler.transform(X_train)\n",
    "# iris_X2.mean(axis=0)\n",
    "# iris_X2.std(axis=0)\n",
    "# X_train = iris_X2\n",
    "\n",
    "# 原地修改\n",
    "# scaler = StandardScaler().fit(X_train)\n",
    "# _ = scaler.transform(X_train, copy=False)\n",
    "# X_train.mean(axis=0)\n",
    "# X_train.std(axis=0)\n",
    "\n",
    "\n",
    "# 使用最小-最大值标准化\n",
    "from sklearn.preprocessing import MinMaxScaler\n",
    "scaler = MinMaxScaler().fit(X_train)\n",
    "iris_X3 = scaler.transform(X_train)\n",
    "iris_X3.min(axis=0)\n",
    "iris_X3.max(axis=0)\n",
    "X_train = iris_X3"
   ]
  },
  {
   "cell_type": "code",
   "execution_count": 8,
   "metadata": {},
   "outputs": [
    {
     "data": {
      "text/plain": [
       "KNeighborsClassifier(algorithm='auto', leaf_size=30, metric='minkowski',\n",
       "                     metric_params=None, n_jobs=None, n_neighbors=5, p=2,\n",
       "                     weights='uniform')"
      ]
     },
     "execution_count": 8,
     "metadata": {},
     "output_type": "execute_result"
    },
    {
     "data": {
      "text/plain": [
       "array([1, 1, 2, 2, 2, 2, 0, 1, 0, 0, 0, 2, 1, 2, 0, 0, 0, 1, 2, 2, 0, 1,\n",
       "       1, 2, 2, 2, 1, 1, 0, 1, 0, 2, 1, 1, 2, 1, 0, 0, 1, 2, 1, 0, 2, 2,\n",
       "       0])"
      ]
     },
     "execution_count": 8,
     "metadata": {},
     "output_type": "execute_result"
    }
   ],
   "source": [
    "# 使用kNN(k最近邻)进行分类\n",
    "# 注意: 使用kNN时需要根据特征数据的取值区间来调整坐标轴的比例 --标准化\n",
    "knn = KNeighborsClassifier()\n",
    "knn.fit(X_train, y_train)\n",
    "\n",
    "X_test = scaler.transform(X_test) # 测试集进行标准化时使用的是训练集的参数(均值,方差)进行的\n",
    "predict = knn.predict(X_test)\n",
    "predict"
   ]
  },
  {
   "cell_type": "code",
   "execution_count": 24,
   "metadata": {},
   "outputs": [
    {
     "data": {
      "text/plain": [
       "(array([13, 18, 21], dtype=int64),)"
      ]
     },
     "execution_count": 24,
     "metadata": {},
     "output_type": "execute_result"
    },
    {
     "data": {
      "text/plain": [
       "0.06666666666666667"
      ]
     },
     "execution_count": 24,
     "metadata": {},
     "output_type": "execute_result"
    }
   ],
   "source": [
    "# 查看分类错误的项\n",
    "predictErrWhere = np.where(predict != y_test) #获取分类错误的项的索引\n",
    "predictErrWhere\n",
    "\n",
    "errorRate = np.size(predictErrWhere, 1)/len(y_test)\n",
    "errorRate"
   ]
  },
  {
   "cell_type": "code",
   "execution_count": null,
   "metadata": {},
   "outputs": [],
   "source": []
  },
  {
   "cell_type": "code",
   "execution_count": 10,
   "metadata": {},
   "outputs": [],
   "source": [
    "# normalization\n",
    "# sklearn.preprocessing"
   ]
  },
  {
   "cell_type": "markdown",
   "metadata": {},
   "source": [
    "## 交叉验证"
   ]
  },
  {
   "cell_type": "code",
   "execution_count": 11,
   "metadata": {},
   "outputs": [
    {
     "data": {
      "text/plain": [
       "0.9714285714285713"
      ]
     },
     "execution_count": 11,
     "metadata": {},
     "output_type": "execute_result"
    }
   ],
   "source": [
    "# 上面的训练过程没有使用交叉验证, 下面使用交叉验证来进行训练\n",
    "# from sklearn.model_selection import train_test_split\n",
    "# from sklearn.neighbors import KNeighborsClassifier\n",
    "\n",
    "from sklearn.model_selection import cross_val_score\n",
    "\n",
    "knn = KNeighborsClassifier(n_neighbors=5)\n",
    "\n",
    "# 进行交叉验证 参数cv指定KFold的折数\n",
    "scores = cross_val_score(knn, X_train, y_train, cv=5, scoring='accuracy')\n",
    "scores.mean()"
   ]
  },
  {
   "cell_type": "code",
   "execution_count": 12,
   "metadata": {},
   "outputs": [
    {
     "data": {
      "text/plain": [
       "<Figure size 864x360 with 0 Axes>"
      ]
     },
     "execution_count": 12,
     "metadata": {},
     "output_type": "execute_result"
    },
    {
     "data": {
      "text/plain": [
       "[<matplotlib.lines.Line2D at 0x1d8005d18c8>]"
      ]
     },
     "execution_count": 12,
     "metadata": {},
     "output_type": "execute_result"
    },
    {
     "data": {
      "text/plain": [
       "Text(0.5, 0, 'Value of K for KNN')"
      ]
     },
     "execution_count": 12,
     "metadata": {},
     "output_type": "execute_result"
    },
    {
     "data": {
      "text/plain": [
       "Text(0, 0.5, 'Cross-Validated Accuracy')"
      ]
     },
     "execution_count": 12,
     "metadata": {},
     "output_type": "execute_result"
    },
    {
     "data": {
      "text/plain": [
       "<Figure size 864x360 with 0 Axes>"
      ]
     },
     "execution_count": 12,
     "metadata": {},
     "output_type": "execute_result"
    },
    {
     "data": {
      "text/plain": [
       "[<matplotlib.lines.Line2D at 0x1d80060be08>]"
      ]
     },
     "execution_count": 12,
     "metadata": {},
     "output_type": "execute_result"
    },
    {
     "data": {
      "text/plain": [
       "Text(0.5, 0, 'Value of K for KNN')"
      ]
     },
     "execution_count": 12,
     "metadata": {},
     "output_type": "execute_result"
    },
    {
     "data": {
      "text/plain": [
       "Text(0, 0.5, 'Cross-Validated neg_mean_squared_error')"
      ]
     },
     "execution_count": 12,
     "metadata": {},
     "output_type": "execute_result"
    },
    {
     "data": {
      "image/png": "[encoded data removed]",
      "text/plain": [
       "<Figure size 864x360 with 1 Axes>"
      ]
     },
     "metadata": {
      "needs_background": "light"
     },
     "output_type": "display_data"
    },
    {
     "data": {
      "image/png": "[encoded data removed]",
      "text/plain": [
       "<Figure size 864x360 with 1 Axes>"
      ]
     },
     "metadata": {
      "needs_background": "light"
     },
     "output_type": "display_data"
    }
   ],
   "source": [
    "# 通过可视化查看KNN的得分随超参数K的变化, 来选择超参数K\n",
    "\n",
    "k_range = range(1, 31)\n",
    "k_scores = []\n",
    "l_loss = []\n",
    "for k in k_range:\n",
    "    knn = KNeighborsClassifier(n_neighbors=k)\n",
    "    scores = cross_val_score(knn, X_train, y_train, cv=10, scoring='accuracy')\n",
    "    # 使用翻转的MSE作为得分(因为loss本是越低越好的,但考虑到得分是越高越好,因此使用翻转的MSE)\n",
    "    loss = cross_val_score(knn, X_train, y_train, cv=10, scoring='neg_mean_squared_error')\n",
    "    k_scores.append(scores.mean())\n",
    "    l_loss.append(loss.mean())\n",
    "\n",
    "    # 可视化\n",
    "plt.figure(1, figsize=(12, 5))\n",
    "plt.plot(k_range, k_scores, 'b-')\n",
    "plt.xlabel('Value of K for KNN')\n",
    "plt.ylabel('Cross-Validated Accuracy')\n",
    "\n",
    "plt.figure(2, figsize=(12, 5))\n",
    "plt.plot(k_range, l_loss, 'b-')\n",
    "plt.xlabel('Value of K for KNN')\n",
    "plt.ylabel('Cross-Validated neg_mean_squared_error')\n",
    "plt.show()\n",
    "\n",
    "\n",
    "# !! 这里可以尝试不同的评分函数, 不同的模型"
   ]
  },
  {
   "cell_type": "markdown",
   "metadata": {},
   "source": [
    "## 使用sklearn.model_selection.learning_curve来可视化学习过程"
   ]
  },
  {
   "cell_type": "code",
   "execution_count": 13,
   "metadata": {},
   "outputs": [
    {
     "data": {
      "text/plain": [
       "[<matplotlib.lines.Line2D at 0x1d800825e08>]"
      ]
     },
     "execution_count": 13,
     "metadata": {},
     "output_type": "execute_result"
    },
    {
     "data": {
      "text/plain": [
       "[<matplotlib.lines.Line2D at 0x1d8007e1348>]"
      ]
     },
     "execution_count": 13,
     "metadata": {},
     "output_type": "execute_result"
    },
    {
     "data": {
      "text/plain": [
       "Text(0.5, 0, 'Number of samples')"
      ]
     },
     "execution_count": 13,
     "metadata": {},
     "output_type": "execute_result"
    },
    {
     "data": {
      "text/plain": [
       "Text(0, 0.5, 'Loss')"
      ]
     },
     "execution_count": 13,
     "metadata": {},
     "output_type": "execute_result"
    },
    {
     "data": {
      "text/plain": [
       "<matplotlib.legend.Legend at 0x1d800a36688>"
      ]
     },
     "execution_count": 13,
     "metadata": {},
     "output_type": "execute_result"
    },
    {
     "data": {
      "image/png": "[encoded data removed]",
      "text/plain": [
       "<Figure size 432x288 with 1 Axes>"
      ]
     },
     "metadata": {
      "needs_background": "light"
     },
     "output_type": "display_data"
    }
   ],
   "source": [
    "# 使用sklearn.model_selection.learning_curve来可视化学习过程\n",
    "\n",
    "from sklearn.datasets import load_digits\n",
    "from sklearn.model_selection  import learning_curve\n",
    "from sklearn.svm import SVC\n",
    "\n",
    "digis = load_digits()\n",
    "X = digis.data\n",
    "y = digis.target\n",
    "\n",
    "train_sizes, train_loss, test_loss = learning_curve(\n",
    "    SVC(gamma=0.001), X, y, cv=10, scoring='neg_mean_squared_error',\n",
    "    train_sizes=np.linspace(0.1, 1.0, 5) # 该参数决定了保留哪些位置的结果(用于之后的绘图)\n",
    "    )\n",
    "\n",
    "# 翻转数据将得分转化成loss\n",
    "train_loss_meam = -1 * np.mean(train_loss, axis=1) \n",
    "test_loss_meam = -1 * np.mean(test_loss, axis=1)\n",
    "\n",
    "plt.plot(train_sizes, train_loss_meam, 'o-', color='b', label='Training')\n",
    "plt.plot(train_sizes, test_loss_meam, 'o-', color='g', label='Cross-Validation')\n",
    "plt.xlabel('Number of samples')\n",
    "plt.ylabel('Loss')\n",
    "plt.legend(loc='best')\n",
    "plt.show()"
   ]
  },
  {
   "cell_type": "markdown",
   "metadata": {},
   "source": [
    "## 交叉验证+可视化学习过程\n",
    "+ 使用validation_curve来得到关于超参数的学习过程, 并绘制学习过程曲线"
   ]
  },
  {
   "cell_type": "code",
   "execution_count": 14,
   "metadata": {},
   "outputs": [
    {
     "data": {
      "text/plain": [
       "[<matplotlib.lines.Line2D at 0x1d8006efac8>]"
      ]
     },
     "execution_count": 14,
     "metadata": {},
     "output_type": "execute_result"
    },
    {
     "data": {
      "text/plain": [
       "[<matplotlib.lines.Line2D at 0x1d8007e25c8>]"
      ]
     },
     "execution_count": 14,
     "metadata": {},
     "output_type": "execute_result"
    },
    {
     "data": {
      "text/plain": [
       "Text(0.5, 0, 'value of log10(gamma)')"
      ]
     },
     "execution_count": 14,
     "metadata": {},
     "output_type": "execute_result"
    },
    {
     "data": {
      "text/plain": [
       "Text(0, 0.5, 'Loss')"
      ]
     },
     "execution_count": 14,
     "metadata": {},
     "output_type": "execute_result"
    },
    {
     "data": {
      "text/plain": [
       "<matplotlib.legend.Legend at 0x1d8006f8e08>"
      ]
     },
     "execution_count": 14,
     "metadata": {},
     "output_type": "execute_result"
    },
    {
     "data": {
      "image/png": "[encoded data removed]",
      "text/plain": [
       "<Figure size 432x288 with 1 Axes>"
      ]
     },
     "metadata": {
      "needs_background": "light"
     },
     "output_type": "display_data"
    }
   ],
   "source": [
    "from sklearn.datasets import load_digits\n",
    "from sklearn.model_selection  import validation_curve\n",
    "from sklearn.svm import SVC\n",
    "\n",
    "digis = load_digits()\n",
    "X = digis.data\n",
    "y = digis.target\n",
    "\n",
    "BASE = 10.0\n",
    "param_range = np.logspace(-6, -2.3, 5, base=BASE) # 从[BASE^start, BASE^stop)中按BASE等比例取值(类比np.linespace是等差取值)\n",
    "\n",
    "# 使用validation_curve对指定的超参数进行类似网格搜索的过程\n",
    "# 这里是对SVC()中的'gamma'参数在取值范围param_range中分别建模, 并获取对应的评分\n",
    "train_loss, test_loss = validation_curve(\n",
    "    SVC(), X, y, param_name='gamma', param_range=param_range,\n",
    "    cv=10, scoring='neg_mean_squared_error',\n",
    "    )\n",
    "\n",
    "# 翻转数据将得分转化成loss\n",
    "train_loss_meam = -1 * np.mean(train_loss, axis=1) \n",
    "test_loss_meam = -1 * np.mean(test_loss, axis=1)\n",
    "\n",
    "\n",
    "log10Gamma = [np.log10(gamma) for gamma in param_range]\n",
    "plt.plot(log10Gamma, train_loss_meam, 'o-', color='b', label='Training')\n",
    "plt.plot(log10Gamma, test_loss_meam, 'o-', color='g', label='Cross-Validation')\n",
    "plt.xlabel('value of log10(gamma)')\n",
    "plt.ylabel('Loss')\n",
    "plt.legend(loc='best')\n",
    "plt.show()"
   ]
  },
  {
   "cell_type": "code",
   "execution_count": null,
   "metadata": {},
   "outputs": [],
   "source": []
  },
  {
   "cell_type": "markdown",
   "metadata": {},
   "source": [
    "## 模型保存\n",
    "+ 使用pickle保存\n",
    "+ 使用joblib保存"
   ]
  },
  {
   "cell_type": "markdown",
   "metadata": {},
   "source": [
    "### 使用pickle保存"
   ]
  },
  {
   "cell_type": "code",
   "execution_count": 15,
   "metadata": {},
   "outputs": [],
   "source": [
    "from sklearn import svm\n",
    "from sklearn import datasets"
   ]
  },
  {
   "cell_type": "code",
   "execution_count": 16,
   "metadata": {},
   "outputs": [
    {
     "data": {
      "text/plain": [
       "SVC(C=1.0, break_ties=False, cache_size=200, class_weight=None, coef0=0.0,\n",
       "    decision_function_shape='ovr', degree=3, gamma='auto', kernel='rbf',\n",
       "    max_iter=-1, probability=False, random_state=None, shrinking=True,\n",
       "    tol=0.001, verbose=False)"
      ]
     },
     "execution_count": 16,
     "metadata": {},
     "output_type": "execute_result"
    }
   ],
   "source": [
    "# fit出模型对象\n",
    "clf = svm.SVC(gamma='auto')\n",
    "iris = datasets.load_iris()\n",
    "X, y = iris.data, iris.target\n",
    "clf.fit(X, y)"
   ]
  },
  {
   "cell_type": "code",
   "execution_count": 17,
   "metadata": {},
   "outputs": [],
   "source": [
    "# 使用pickle将模型对象写入文件\n",
    "import pickle\n",
    "with open('saveModule/clf.pickle', 'wb') as f:\n",
    "    pickle.dump(clf, f)   "
   ]
  },
  {
   "cell_type": "code",
   "execution_count": 18,
   "metadata": {},
   "outputs": [
    {
     "data": {
      "text/plain": [
       "SVC(C=1.0, break_ties=False, cache_size=200, class_weight=None, coef0=0.0,\n",
       "    decision_function_shape='ovr', degree=3, gamma='auto', kernel='rbf',\n",
       "    max_iter=-1, probability=False, random_state=None, shrinking=True,\n",
       "    tol=0.001, verbose=False)"
      ]
     },
     "execution_count": 18,
     "metadata": {},
     "output_type": "execute_result"
    },
    {
     "data": {
      "text/plain": [
       "SVC(C=1.0, break_ties=False, cache_size=200, class_weight=None, coef0=0.0,\n",
       "    decision_function_shape='ovr', degree=3, gamma='auto', kernel='rbf',\n",
       "    max_iter=-1, probability=False, random_state=None, shrinking=True,\n",
       "    tol=0.001, verbose=False)"
      ]
     },
     "execution_count": 18,
     "metadata": {},
     "output_type": "execute_result"
    }
   ],
   "source": [
    "# 使用pickle从文件加载模型对象\n",
    "with open('saveModule/clf.pickle', 'rb') as f:\n",
    "    clf2 = pickle.load(f)  \n",
    "    \n",
    "clf\n",
    "clf2\n"
   ]
  },
  {
   "cell_type": "markdown",
   "metadata": {},
   "source": [
    "### 使用joblib保存"
   ]
  },
  {
   "cell_type": "code",
   "execution_count": 19,
   "metadata": {},
   "outputs": [
    {
     "name": "stderr",
     "output_type": "stream",
     "text": [
      "D:\\Software\\Anaconda3\\lib\\site-packages\\sklearn\\externals\\joblib\\__init__.py:15: FutureWarning: sklearn.externals.joblib is deprecated in 0.21 and will be removed in 0.23. Please import this functionality directly from joblib, which can be installed with: pip install joblib. If this warning is raised when loading pickled models, you may need to re-serialize those models with scikit-learn 0.21+.\n",
      "  warnings.warn(msg, category=FutureWarning)\n"
     ]
    }
   ],
   "source": [
    "from sklearn.externals import joblib"
   ]
  },
  {
   "cell_type": "code",
   "execution_count": 20,
   "metadata": {},
   "outputs": [
    {
     "data": {
      "text/plain": [
       "['saveModule/clf.pkl']"
      ]
     },
     "execution_count": 20,
     "metadata": {},
     "output_type": "execute_result"
    }
   ],
   "source": [
    "# 将模型对象写入文件\n",
    "joblib.dump(clf, 'saveModule/clf.pkl')"
   ]
  },
  {
   "cell_type": "code",
   "execution_count": 21,
   "metadata": {},
   "outputs": [],
   "source": [
    "# 从文件加载模型对象\n",
    "clf3 = joblib.load('saveModule/clf.pkl')"
   ]
  },
  {
   "cell_type": "code",
   "execution_count": 22,
   "metadata": {},
   "outputs": [
    {
     "data": {
      "text/plain": [
       "SVC(C=1.0, break_ties=False, cache_size=200, class_weight=None, coef0=0.0,\n",
       "    decision_function_shape='ovr', degree=3, gamma='auto', kernel='rbf',\n",
       "    max_iter=-1, probability=False, random_state=None, shrinking=True,\n",
       "    tol=0.001, verbose=False)"
      ]
     },
     "execution_count": 22,
     "metadata": {},
     "output_type": "execute_result"
    },
    {
     "data": {
      "text/plain": [
       "SVC(C=1.0, break_ties=False, cache_size=200, class_weight=None, coef0=0.0,\n",
       "    decision_function_shape='ovr', degree=3, gamma='auto', kernel='rbf',\n",
       "    max_iter=-1, probability=False, random_state=None, shrinking=True,\n",
       "    tol=0.001, verbose=False)"
      ]
     },
     "execution_count": 22,
     "metadata": {},
     "output_type": "execute_result"
    }
   ],
   "source": [
    "clf\n",
    "clf3"
   ]
  }
 ],
 "metadata": {
  "kernelspec": {
   "display_name": "Python 3",
   "language": "python",
   "name": "python3"
  },
  "language_info": {
   "codemirror_mode": {
    "name": "ipython",
    "version": 3
   },
   "file_extension": ".py",
   "mimetype": "text/x-python",
   "name": "python",
   "nbconvert_exporter": "python",
   "pygments_lexer": "ipython3",
   "version": "3.7.6"
  },
  "toc": {
   "base_numbering": 1,
   "nav_menu": {},
   "number_sections": true,
   "sideBar": true,
   "skip_h1_title": false,
   "title_cell": "Table of Contents",
   "title_sidebar": "Contents",
   "toc_cell": false,
   "toc_position": {},
   "toc_section_display": true,
   "toc_window_display": true
  }
 },
 "nbformat": 4,
 "nbformat_minor": 2
}
