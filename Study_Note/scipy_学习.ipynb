{
 "cells": [
  {
   "cell_type": "markdown",
   "metadata": {},
   "source": [
    "# Scipy\n",
    "scipy 中有许多科学计算常见问题的工具，比如内置了图像处理， 优化，统计等等相关问题的子模块。\n",
    "\n",
    "https://github.com/jayleicn/scipy-lecture-notes-zh-CN/releases"
   ]
  },
  {
   "cell_type": "code",
   "execution_count": 13,
   "metadata": {},
   "outputs": [],
   "source": [
    "%config ZMQInteractiveShell.ast_node_interactivity='all'"
   ]
  },
  {
   "cell_type": "code",
   "execution_count": 14,
   "metadata": {},
   "outputs": [],
   "source": [
    "import os\n",
    "def get_file_path(filename):\n",
    "    return os.path.join('./data-dir', filename) "
   ]
  },
  {
   "cell_type": "markdown",
   "metadata": {},
   "source": [
    "# 文件输入输出: scipy.io"
   ]
  },
  {
   "cell_type": "markdown",
   "metadata": {},
   "source": [
    "## 载入和保存matlab文件"
   ]
  },
  {
   "cell_type": "code",
   "execution_count": 3,
   "metadata": {},
   "outputs": [
    {
     "data": {
      "text/plain": [
       "array([[1., 1., 1.],\n",
       "       [1., 1., 1.],\n",
       "       [1., 1., 1.]])"
      ]
     },
     "execution_count": 3,
     "metadata": {},
     "output_type": "execute_result"
    }
   ],
   "source": [
    "from scipy import io as spio\n",
    "\n",
    "filename = get_file_path('file.mat')\n",
    "a = np.ones((3, 3))\n",
    "spio.savemat(filename, {'a': a}) # 保存一个字典到文件\n",
    "\n",
    "data = spio.loadmat(filename, struct_as_record=True) # 读取mat文件\n",
    "data['a']"
   ]
  },
  {
   "cell_type": "markdown",
   "metadata": {},
   "source": [
    "## 读取图像"
   ]
  },
  {
   "cell_type": "code",
   "execution_count": null,
   "metadata": {},
   "outputs": [],
   "source": []
  },
  {
   "cell_type": "code",
   "execution_count": 6,
   "metadata": {},
   "outputs": [],
   "source": [
    "# from scipy import misc\n",
    "\n",
    "filename = get_file_path('fname.png')\n",
    "# misc.imread(filename) # 返回array\n",
    "\n",
    "# Matplotlib中有一个相似的函数\n",
    "import matplotlib.pyplot as plt\n",
    "arr = plt.imread(filename)\n"
   ]
  },
  {
   "cell_type": "markdown",
   "metadata": {},
   "source": [
    "** 参见 ** : <br/>\n",
    "载入文本文件: numpy.loadtxt()/numpy.savetxt() <br/>\n",
    "格式化载入text/csv文件: numpy.genfromtxt()/numpy.recfromcsv() <br/>\n",
    "高效快速载入numpy指定类型的，二进制格式文件: numpy.save()/numpy.load() <br/>"
   ]
  },
  {
   "cell_type": "code",
   "execution_count": null,
   "metadata": {},
   "outputs": [],
   "source": []
  },
  {
   "cell_type": "code",
   "execution_count": null,
   "metadata": {},
   "outputs": [],
   "source": []
  },
  {
   "cell_type": "markdown",
   "metadata": {},
   "source": [
    "# 特殊函数: scipy.special"
   ]
  },
  {
   "cell_type": "raw",
   "metadata": {},
   "source": [
    "这里的特殊函数指的是超越函数。 \n",
    "scipy.special 模块的文档写得很详细，在此 我们仅列出一些常用的特殊函数:\n",
    "\n",
    "Bessel函数, 比如 scipy.special.jn() (n阶Bessel函数)\n",
    "椭圆函数 (Jacobian椭圆函数 scipy.special.ellipj() )\n",
    "Gamma函数: scipy.special.gamma(), 另有 scipy.special.gammaln() 对数形式给出的精确度更高的Gamma函数。\n",
    "Erf, 高斯曲线下方的面积: scipy.special.erf()"
   ]
  },
  {
   "cell_type": "code",
   "execution_count": null,
   "metadata": {},
   "outputs": [],
   "source": []
  },
  {
   "cell_type": "code",
   "execution_count": null,
   "metadata": {},
   "outputs": [],
   "source": []
  },
  {
   "cell_type": "markdown",
   "metadata": {},
   "source": [
    "# 线性代数操作: scipy.linalg\n",
    "scipy.linalg 模块提供了基于BLAS和LAPACK的高效的代数操作方法"
   ]
  },
  {
   "cell_type": "markdown",
   "metadata": {},
   "source": [
    "## scipy.linalg.det() 计算方阵的行列式"
   ]
  },
  {
   "cell_type": "code",
   "execution_count": 8,
   "metadata": {},
   "outputs": [
    {
     "data": {
      "text/plain": [
       "-2.0"
      ]
     },
     "execution_count": 8,
     "metadata": {},
     "output_type": "execute_result"
    }
   ],
   "source": [
    "from scipy import linalg\n",
    "\n",
    "arr = np.array([[1, 2],\n",
    "                [3, 4]])\n",
    "linalg.det(arr)\n",
    "\n",
    "\n",
    "# linalg.det(np.ones((3, 4))) # ValueError"
   ]
  },
  {
   "cell_type": "markdown",
   "metadata": {},
   "source": [
    "## scipy.linalg.inv() 计算方阵的逆矩阵:"
   ]
  },
  {
   "cell_type": "code",
   "execution_count": 18,
   "metadata": {},
   "outputs": [
    {
     "data": {
      "text/plain": [
       "array([[-2. ,  1. ],\n",
       "       [ 1.5, -0.5]])"
      ]
     },
     "execution_count": 18,
     "metadata": {},
     "output_type": "execute_result"
    },
    {
     "data": {
      "text/plain": [
       "True"
      ]
     },
     "execution_count": 18,
     "metadata": {},
     "output_type": "execute_result"
    }
   ],
   "source": [
    "arr = np.array([[1, 2],\n",
    "                [3, 4]])\n",
    "\n",
    "iarr = linalg.inv(arr)\n",
    "iarr\n",
    "\n",
    "np.allclose(np.dot(arr, iarr), np.eye(2)) # 验证\n",
    "\n",
    "# 如果计算奇异矩阵(其行列式为0)的逆矩阵，函数会抛出 LinAlgError:\n",
    "arr = np.array([[3, 2],\n",
    "               [6, 4]])\n",
    "# linalg.inv(arr)"
   ]
  },
  {
   "cell_type": "markdown",
   "metadata": {},
   "source": [
    "## 奇异值分解(SVD)"
   ]
  },
  {
   "cell_type": "code",
   "execution_count": 26,
   "metadata": {},
   "outputs": [
    {
     "data": {
      "text/plain": [
       "array([[1, 1, 2],\n",
       "       [3, 4, 5],\n",
       "       [6, 7, 9]])"
      ]
     },
     "execution_count": 26,
     "metadata": {},
     "output_type": "execute_result"
    },
    {
     "data": {
      "text/plain": [
       "(array([[-0.1617463 , -0.98659196,  0.02178164],\n",
       "        [-0.47456365,  0.09711667,  0.87484724],\n",
       "        [-0.86523261,  0.13116653, -0.48390895]]),\n",
       " array([14.88982544,  0.45294236,  0.29654967]),\n",
       " array([[-0.45513179, -0.54511245, -0.70406496],\n",
       "        [ 0.20258033,  0.70658087, -0.67801525],\n",
       "        [-0.86707339,  0.45121601,  0.21115836]]))"
      ]
     },
     "execution_count": 26,
     "metadata": {},
     "output_type": "execute_result"
    },
    {
     "data": {
      "text/plain": [
       "True"
      ]
     },
     "execution_count": 26,
     "metadata": {},
     "output_type": "execute_result"
    }
   ],
   "source": [
    "arr = np.arange(9).reshape((3, 3)) + np.diag([1, 0, 1])\n",
    "arr\n",
    "uarr, spec, vharr = linalg.svd(arr)\n",
    "uarr, spec, vharr\n",
    "\n",
    "# 原始的矩阵可以使用 svd 的输出结果和 np.dot 的乘积重新生成\n",
    "svd_mat = uarr.dot(np.diag(spec)).dot(vharr)\n",
    "np.allclose(svd_mat, arr)"
   ]
  },
  {
   "cell_type": "raw",
   "metadata": {},
   "source": [
    "SVD常用于统计和信号处理领域。其他的一些标准分解方法(QR, LU, Cholesky, Schur) 在 scipy.linalg 中也能够找到。"
   ]
  },
  {
   "cell_type": "code",
   "execution_count": null,
   "metadata": {},
   "outputs": [],
   "source": []
  },
  {
   "cell_type": "code",
   "execution_count": null,
   "metadata": {},
   "outputs": [],
   "source": []
  },
  {
   "cell_type": "markdown",
   "metadata": {},
   "source": [
    "# 快速傅里叶变换: scipy.fftpack\n",
    "scipy.fftpack 模块包含了快速傅里叶变换的功能."
   ]
  },
  {
   "cell_type": "code",
   "execution_count": 40,
   "metadata": {},
   "outputs": [
    {
     "data": {
      "text/plain": [
       "True"
      ]
     },
     "execution_count": 40,
     "metadata": {},
     "output_type": "execute_result"
    }
   ],
   "source": [
    "# 下面是一个噪声信号的例子\n",
    "\n",
    "time_step = 0.02\n",
    "period = 5.\n",
    "time_vec = np.arange(0, 20, time_step)\n",
    "sig = np.sin(2 * np.pi / period * time_vec) + 0.5 * np.random.randn(time_vec.size)\n",
    "\n",
    "\n",
    "# 观察者不知道信号的频率，只知道信号的采样间隙time_step; \n",
    "# sig信号是来自真实函数的，那么 傅里叶变换是对称的。 \n",
    "# scipy.fftpack.fftfreq() 函数会生成采样频率，scipy.fftpack.fft() 则用于进行快速傅里叶变化\n",
    "\n",
    "from scipy import fftpack\n",
    "sample_freq = fftpack.fftfreq(sig.size, d=time_step)\n",
    "sig_fft = fftpack.fft(sig)\n",
    "\n",
    "pidxs = np.where(sample_freq > 0)\n",
    "freqs = sample_freq[pidxs]\n",
    "power = np.abs(sig_fft)[pidxs]\n",
    "\n",
    "# 信号频率可通过如下方式获得:\n",
    "freq = freqs[power.argmax()]\n",
    "np.allclose(freq, 1./period)\n",
    "\n",
    "# import numpy as np\n",
    "# import pylab as pl\n",
    "# pl.figure()\n",
    "# pl.plot(freqs, power)\n",
    "# pl.xlabel('Frequency [Hz]')\n",
    "# pl.ylabel('plower')\n",
    "# axes = pl.axes([0.3, 0.3, 0.5, 0.5])\n",
    "# pl.title('Peak frequency')\n",
    "# pl.plot(freqs[:8], power[:8])\n",
    "# pl.setp(axes, yticks=[])\n",
    "\n",
    "\n",
    "# 滤去傅里叶变化后的信号中的高频噪声:\n",
    "sig_fft[np.abs(sample_freq) > freq] = 0\n",
    "\n",
    "# 去噪后信号可通过如下方式计算： scipy.fftpack.ifft() function:\n",
    "main_sig = fftpack.ifft(sig_fft)\n",
    "\n",
    "# pl.figure()\n",
    "# pl.plot(time_vec, sig)\n",
    "# pl.plot(time_vec, main_sig, linewidth=3)\n",
    "# pl.xlabel('Time [s]')\n",
    "# pl.ylabel('Amplitude')"
   ]
  },
  {
   "cell_type": "code",
   "execution_count": null,
   "metadata": {},
   "outputs": [],
   "source": []
  },
  {
   "cell_type": "code",
   "execution_count": null,
   "metadata": {},
   "outputs": [],
   "source": []
  },
  {
   "cell_type": "code",
   "execution_count": null,
   "metadata": {},
   "outputs": [],
   "source": []
  },
  {
   "cell_type": "markdown",
   "metadata": {},
   "source": [
    "# 优化和拟合: scipy.optimize\n",
    "优化用于求解最小化或者等式一类问题的数值解"
   ]
  },
  {
   "cell_type": "code",
   "execution_count": 43,
   "metadata": {},
   "outputs": [
    {
     "data": {
      "text/plain": [
       "[<matplotlib.lines.Line2D at 0x148ea45a820>]"
      ]
     },
     "execution_count": 43,
     "metadata": {},
     "output_type": "execute_result"
    },
    {
     "data": {
      "image/png": "[encoded data removed]",
      "text/plain": [
       "<Figure size 432x288 with 1 Axes>"
      ]
     },
     "metadata": {
      "needs_background": "light"
     },
     "output_type": "display_data"
    },
    {
     "name": "stdout",
     "output_type": "stream",
     "text": [
      "Optimization terminated successfully.\n",
      "         Current function value: -7.945823\n",
      "         Iterations: 5\n",
      "         Function evaluations: 12\n",
      "         Gradient evaluations: 6\n"
     ]
    },
    {
     "data": {
      "text/plain": [
       "array([-1.30644012])"
      ]
     },
     "execution_count": 43,
     "metadata": {},
     "output_type": "execute_result"
    },
    {
     "data": {
      "text/plain": [
       "array([3.83746709])"
      ]
     },
     "execution_count": 43,
     "metadata": {},
     "output_type": "execute_result"
    }
   ],
   "source": [
    "from scipy import optimize\n",
    "\n",
    "# 定义函数: 此函数有一个全局最小值，约为-1.3， 还有一个局部最小值，约为3.8\n",
    "def f(x):\n",
    "    return x**2 + 10*np.sin(x)\n",
    "\n",
    "\n",
    "# 画出其图像\n",
    "x = np.arange(-10, 10, 0.1)\n",
    "plt.plot(x, f(x)) \n",
    "plt.show() \n",
    "\n",
    "\n",
    "# 一个常用的求解此函数最小值的方法是确定初始点，然后执行梯度下降算法。\n",
    "# 这个方法的缺陷在于有时候可能会被困在一个局部最小值，而得不到全局的最小值。 这取决与初始点的选取\n",
    "# BFGS算法是一个 很好的适用于此的方法:\n",
    "optimize.fmin_bfgs(f, 0)\n",
    "\n",
    "optimize.fmin_bfgs(f, 3, disp=0)"
   ]
  },
  {
   "cell_type": "code",
   "execution_count": null,
   "metadata": {},
   "outputs": [],
   "source": [
    "# 其他函数"
   ]
  },
  {
   "cell_type": "markdown",
   "metadata": {},
   "source": [
    "## 寻找标量函数的零点"
   ]
  },
  {
   "cell_type": "code",
   "execution_count": 47,
   "metadata": {},
   "outputs": [
    {
     "data": {
      "text/plain": [
       "array([0.])"
      ]
     },
     "execution_count": 47,
     "metadata": {},
     "output_type": "execute_result"
    },
    {
     "data": {
      "text/plain": [
       "array([-2.47948183])"
      ]
     },
     "execution_count": 47,
     "metadata": {},
     "output_type": "execute_result"
    }
   ],
   "source": [
    "root = optimize.fsolve(f, 1)\n",
    "root\n",
    "\n",
    "root2 = optimize.fsolve(f, -2.5)\n",
    "root2"
   ]
  },
  {
   "cell_type": "markdown",
   "metadata": {},
   "source": [
    "## 曲线拟合"
   ]
  },
  {
   "cell_type": "code",
   "execution_count": 48,
   "metadata": {},
   "outputs": [
    {
     "data": {
      "text/plain": [
       "array([0.99142946, 9.74650644])"
      ]
     },
     "execution_count": 48,
     "metadata": {},
     "output_type": "execute_result"
    }
   ],
   "source": [
    "# 假设我们现在有从函数 f 中采样得到的含有一些噪声的数据\n",
    "xdata = np.linspace(-10, 10, num=20)\n",
    "ydata = f(xdata) + np.random.randn(xdata.size)\n",
    "\n",
    "\n",
    "# 我们已经知道了函数的形式是 (x^2 + \\sin(x) ) 但不知道每一项系数的大小。 \n",
    "# 我们可以使用最小二乘算法来进行曲线拟合得到系数的值\n",
    "def f2(x, a, b):\n",
    "    return a*x**2 + b*np.sin(x)\n",
    "\n",
    "guess = [2, 2]\n",
    "params, params_covariance = optimize.curve_fit(f2, xdata, ydata, guess)\n",
    "params"
   ]
  },
  {
   "cell_type": "markdown",
   "metadata": {},
   "source": [
    "# 统计和随机数: scipy.stats"
   ]
  },
  {
   "cell_type": "markdown",
   "metadata": {},
   "source": [
    "## 直方图和概率密度函数"
   ]
  },
  {
   "cell_type": "code",
   "execution_count": 49,
   "metadata": {},
   "outputs": [
    {
     "name": "stderr",
     "output_type": "stream",
     "text": [
      "<ipython-input-49-cc0fde2d11b3>:6: VisibleDeprecationWarning: Passing `normed=True` on non-uniform bins has always been broken, and computes neither the probability density function nor the probability mass function. The result is only correct if the bins are uniform, when density=True will produce the same result anyway. The argument will be removed in a future version of numpy.\n",
      "  histogram, bins = np.histogram(a, bins=bins, normed=True)\n"
     ]
    },
    {
     "data": {
      "text/plain": [
       "[<matplotlib.lines.Line2D at 0x148ea8d6460>]"
      ]
     },
     "execution_count": 49,
     "metadata": {},
     "output_type": "execute_result"
    },
    {
     "data": {
      "text/plain": [
       "[<matplotlib.lines.Line2D at 0x148ea8d6790>]"
      ]
     },
     "execution_count": 49,
     "metadata": {},
     "output_type": "execute_result"
    },
    {
     "data": {
      "image/png": "[encoded data removed]",
      "text/plain": [
       "<Figure size 432x288 with 1 Axes>"
      ]
     },
     "metadata": {
      "needs_background": "light"
     },
     "output_type": "display_data"
    }
   ],
   "source": [
    "from scipy import stats\n",
    "import numpy as np\n",
    "import pylab as pl\n",
    "a = np.random.normal(size=10000)\n",
    "\n",
    "bins = np.linspace(-5, 5, 30)\n",
    "histogram, bins = np.histogram(a, bins=bins, normed=True)\n",
    "bins = 0.5*(bins[1:] + bins[:-1])\n",
    "\n",
    "from scipy import stats\n",
    "b = stats.norm.pdf(bins)\n",
    "pl.plot(bins, histogram)\n",
    "pl.plot(bins, b)\n"
   ]
  },
  {
   "cell_type": "code",
   "execution_count": 53,
   "metadata": {},
   "outputs": [
    {
     "data": {
      "text/plain": [
       "-0.00262954743224412"
      ]
     },
     "execution_count": 53,
     "metadata": {},
     "output_type": "execute_result"
    }
   ],
   "source": [
    "# 如果我们事先已经知道所要处理的随机过程属于某一个随机过程族(比如正态过程)，可以采用最大似然估计来 得到相关参数的值\n",
    "loc, std = stats.norm.fit(a)\n",
    "loc "
   ]
  },
  {
   "cell_type": "markdown",
   "metadata": {},
   "source": [
    "## 百分位数"
   ]
  },
  {
   "cell_type": "code",
   "execution_count": 55,
   "metadata": {},
   "outputs": [
    {
     "data": {
      "text/plain": [
       "-0.00043987522072415754"
      ]
     },
     "execution_count": 55,
     "metadata": {},
     "output_type": "execute_result"
    },
    {
     "data": {
      "text/plain": [
       "-0.00043987522072415754"
      ]
     },
     "execution_count": 55,
     "metadata": {},
     "output_type": "execute_result"
    }
   ],
   "source": [
    "# 中位数 (也叫 第50百分位数)\n",
    "np.median(a)   \n",
    "stats.scoreatpercentile(a, 50)     "
   ]
  },
  {
   "cell_type": "markdown",
   "metadata": {},
   "source": [
    "## 统计检验"
   ]
  },
  {
   "cell_type": "code",
   "execution_count": 56,
   "metadata": {},
   "outputs": [
    {
     "data": {
      "text/plain": [
       "Ttest_indResult(statistic=-2.2894301254040905, pvalue=0.02399873997112147)"
      ]
     },
     "execution_count": 56,
     "metadata": {},
     "output_type": "execute_result"
    }
   ],
   "source": [
    "a = np.random.normal(0, 1, size=100)\n",
    "b = np.random.normal(1, 1, size=10)\n",
    "stats.ttest_ind(a, b)   "
   ]
  },
  {
   "cell_type": "code",
   "execution_count": null,
   "metadata": {},
   "outputs": [],
   "source": []
  },
  {
   "cell_type": "code",
   "execution_count": null,
   "metadata": {},
   "outputs": [],
   "source": []
  },
  {
   "cell_type": "markdown",
   "metadata": {},
   "source": [
    "# 插值计算: scipy.interpolate\n",
    "scipy.interpolate 模块在拟合实验数据并估计未知点数值方面非常有用"
   ]
  },
  {
   "cell_type": "code",
   "execution_count": 57,
   "metadata": {},
   "outputs": [
    {
     "data": {
      "text/plain": [
       "[<matplotlib.lines.Line2D at 0x148ea936f10>]"
      ]
     },
     "execution_count": 57,
     "metadata": {},
     "output_type": "execute_result"
    },
    {
     "data": {
      "text/plain": [
       "[<matplotlib.lines.Line2D at 0x148ea942490>]"
      ]
     },
     "execution_count": 57,
     "metadata": {},
     "output_type": "execute_result"
    },
    {
     "data": {
      "text/plain": [
       "[<matplotlib.lines.Line2D at 0x148ea942790>]"
      ]
     },
     "execution_count": 57,
     "metadata": {},
     "output_type": "execute_result"
    },
    {
     "data": {
      "text/plain": [
       "<matplotlib.legend.Legend at 0x148ea9427f0>"
      ]
     },
     "execution_count": 57,
     "metadata": {},
     "output_type": "execute_result"
    },
    {
     "data": {
      "image/png": "[encoded data removed]",
      "text/plain": [
       "<Figure size 432x288 with 1 Axes>"
      ]
     },
     "metadata": {
      "needs_background": "light"
     },
     "output_type": "display_data"
    }
   ],
   "source": [
    "# 产生一个近似正弦函数的一系列实验数据:\n",
    "measured_time = np.linspace(0, 1, 10)\n",
    "noise = (np.random.random(10)*2 - 1) * 1e-1\n",
    "measures = np.sin(2 * np.pi * measured_time) + noise\n",
    "\n",
    "# `scipy.interpolate.interp1d` 类可以创建一个线性插值函数\n",
    "from scipy.interpolate import interp1d\n",
    "linear_interp = interp1d(measured_time, measures)\n",
    "\n",
    "# `scipy.interpolate.linear_interp` 可以在需要的时候获取某些值\n",
    "computed_time = np.linspace(0, 1, 50)\n",
    "linear_results = linear_interp(computed_time)\n",
    "\n",
    "# 三次插值函数可通过 kind 关键字参数得到\n",
    "cubic_interp = interp1d(measured_time, measures, kind='cubic')\n",
    "cubic_results = cubic_interp(computed_time)\n",
    "\n",
    "pl.plot(measured_time, measures, 'o', ms=6, label='measures')\n",
    "pl.plot(computed_time, linear_results, label='linear interp')\n",
    "pl.plot(computed_time, cubic_results, label='cubic interp')\n",
    "pl.legend()"
   ]
  },
  {
   "cell_type": "code",
   "execution_count": null,
   "metadata": {},
   "outputs": [],
   "source": []
  },
  {
   "cell_type": "code",
   "execution_count": null,
   "metadata": {},
   "outputs": [],
   "source": []
  },
  {
   "cell_type": "code",
   "execution_count": null,
   "metadata": {},
   "outputs": [],
   "source": []
  },
  {
   "cell_type": "code",
   "execution_count": null,
   "metadata": {},
   "outputs": [],
   "source": []
  },
  {
   "cell_type": "markdown",
   "metadata": {},
   "source": [
    "# Numerical integration: scipy.integrate"
   ]
  },
  {
   "cell_type": "code",
   "execution_count": null,
   "metadata": {},
   "outputs": [],
   "source": []
  },
  {
   "cell_type": "code",
   "execution_count": null,
   "metadata": {},
   "outputs": [],
   "source": []
  },
  {
   "cell_type": "code",
   "execution_count": null,
   "metadata": {},
   "outputs": [],
   "source": []
  },
  {
   "cell_type": "code",
   "execution_count": null,
   "metadata": {},
   "outputs": [],
   "source": []
  },
  {
   "cell_type": "code",
   "execution_count": null,
   "metadata": {},
   "outputs": [],
   "source": []
  },
  {
   "cell_type": "markdown",
   "metadata": {},
   "source": [
    "# 信号处理: scipy.signal"
   ]
  },
  {
   "cell_type": "code",
   "execution_count": null,
   "metadata": {},
   "outputs": [],
   "source": []
  },
  {
   "cell_type": "code",
   "execution_count": null,
   "metadata": {},
   "outputs": [],
   "source": []
  },
  {
   "cell_type": "code",
   "execution_count": null,
   "metadata": {},
   "outputs": [],
   "source": []
  },
  {
   "cell_type": "code",
   "execution_count": null,
   "metadata": {},
   "outputs": [],
   "source": []
  },
  {
   "cell_type": "code",
   "execution_count": null,
   "metadata": {},
   "outputs": [],
   "source": []
  },
  {
   "cell_type": "markdown",
   "metadata": {},
   "source": [
    "# 图像处理: scipy.ndimage"
   ]
  },
  {
   "cell_type": "code",
   "execution_count": null,
   "metadata": {},
   "outputs": [],
   "source": []
  },
  {
   "cell_type": "code",
   "execution_count": null,
   "metadata": {},
   "outputs": [],
   "source": []
  },
  {
   "cell_type": "code",
   "execution_count": null,
   "metadata": {},
   "outputs": [],
   "source": []
  },
  {
   "cell_type": "code",
   "execution_count": null,
   "metadata": {},
   "outputs": [],
   "source": []
  },
  {
   "cell_type": "code",
   "execution_count": null,
   "metadata": {},
   "outputs": [],
   "source": []
  },
  {
   "cell_type": "code",
   "execution_count": null,
   "metadata": {},
   "outputs": [],
   "source": []
  }
 ],
 "metadata": {
  "kernelspec": {
   "display_name": "Python 3",
   "language": "python",
   "name": "python3"
  },
  "language_info": {
   "codemirror_mode": {
    "name": "ipython",
    "version": 3
   },
   "file_extension": ".py",
   "mimetype": "text/x-python",
   "name": "python",
   "nbconvert_exporter": "python",
   "pygments_lexer": "ipython3",
   "version": "3.8.3"
  },
  "toc": {
   "base_numbering": 1,
   "nav_menu": {},
   "number_sections": true,
   "sideBar": true,
   "skip_h1_title": false,
   "title_cell": "Table of Contents",
   "title_sidebar": "Contents",
   "toc_cell": false,
   "toc_position": {
    "height": "calc(100% - 180px)",
    "left": "10px",
    "top": "150px",
    "width": "187px"
   },
   "toc_section_display": true,
   "toc_window_display": true
  }
 },
 "nbformat": 4,
 "nbformat_minor": 4
}
