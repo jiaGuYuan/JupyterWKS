{
 "cells": [
  {
   "cell_type": "code",
   "execution_count": 15,
   "metadata": {},
   "outputs": [],
   "source": [
    "import tensorflow as tf\n",
    "import numpy as np"
   ]
  },
  {
   "cell_type": "code",
   "execution_count": 5,
   "metadata": {},
   "outputs": [
    {
     "name": "stdout",
     "output_type": "stream",
     "text": [
      "0 [[-0.3414803  0.705317 ]] [0.44501108]\n",
      "20 [[0.00104168 0.26210058]] [0.30998737]\n",
      "40 [[0.07866739 0.20688486]] [0.30587548]\n",
      "60 [[0.09467154 0.19973783]] [0.3026022]\n",
      "80 [[0.09844662 0.19940221]] [0.3010571]\n",
      "100 [[0.09948865 0.19968574]] [0.30041525]\n",
      "120 [[0.09981849 0.19986498]] [0.30016083]\n",
      "140 [[0.09993294 0.1999458 ]] [0.30006188]\n",
      "160 [[0.09997473 0.19997881]] [0.30002376]\n",
      "180 [[0.09999038 0.1999918 ]] [0.3000091]\n",
      "200 [[0.09999631 0.19999684]] [0.3000035]\n"
     ]
    }
   ],
   "source": [
    "# 使用 NumPy 生成假数据(phony data), 总共 100 个点.\n",
    "x_data = np.float32(np.random.rand(2, 100)) # 随机输入\n",
    "y_data = np.dot([0.100, 0.200], x_data) + 0.300\n",
    "\n",
    "# 构造一个线性模型\n",
    "# \n",
    "b = tf.Variable(tf.zeros([1]))\n",
    "W = tf.Variable(tf.random_uniform([1, 2], -1.0, 1.0))\n",
    "y = tf.matmul(W, x_data) + b\n",
    "\n",
    "# 最小化方差\n",
    "loss = tf.reduce_mean(tf.square(y - y_data))\n",
    "optimizer = tf.train.GradientDescentOptimizer(0.5)\n",
    "train = optimizer.minimize(loss)\n",
    "\n",
    "# 初始化变量\n",
    "init = tf.initialize_all_variables()\n",
    "\n",
    "# 启动图 (graph)\n",
    "sess = tf.Session()\n",
    "sess.run(init)\n",
    "\n",
    "# 拟合平面\n",
    "for step in range(0, 201):\n",
    "    sess.run(train)\n",
    "    if step % 20 == 0:\n",
    "        print(step, sess.run(W), sess.run(b))\n",
    "\n"
   ]
  },
  {
   "cell_type": "code",
   "execution_count": 7,
   "metadata": {},
   "outputs": [
    {
     "data": {
      "text/plain": [
       "array([[0.9061463 , 0.8548926 , 0.48455322, 0.70232886, 0.12608497,\n",
       "        0.25160593, 0.14339505, 0.61591107, 0.34585014, 0.6293446 ,\n",
       "        0.44097215, 0.4946241 , 0.7750681 , 0.47507852, 0.61067253,\n",
       "        0.89067185, 0.31150195, 0.331632  , 0.64389056, 0.3698231 ,\n",
       "        0.04110667, 0.21959566, 0.8030832 , 0.74377763, 0.46421534,\n",
       "        0.58062404, 0.12594837, 0.08875003, 0.23097552, 0.6262922 ,\n",
       "        0.9436353 , 0.62816405, 0.05546476, 0.5892609 , 0.39476448,\n",
       "        0.92625785, 0.26075056, 0.14707282, 0.9995798 , 0.5491359 ,\n",
       "        0.46011883, 0.59677905, 0.7321548 , 0.33707362, 0.14831604,\n",
       "        0.95059055, 0.48215985, 0.684965  , 0.5716631 , 0.3873018 ,\n",
       "        0.8413634 , 0.00248409, 0.6225424 , 0.5649989 , 0.3069596 ,\n",
       "        0.6216753 , 0.7444715 , 0.4149161 , 0.03351914, 0.97195953,\n",
       "        0.14689524, 0.2735936 , 0.6928863 , 0.3462336 , 0.61311835,\n",
       "        0.83690345, 0.51160026, 0.5647709 , 0.51651555, 0.70452625,\n",
       "        0.7438452 , 0.53079593, 0.7964573 , 0.8568064 , 0.9226677 ,\n",
       "        0.05627891, 0.85193753, 0.06310239, 0.42006555, 0.74997294,\n",
       "        0.1081645 , 0.8222186 , 0.1523964 , 0.5991414 , 0.99797386,\n",
       "        0.6623465 , 0.35933226, 0.59554493, 0.6285767 , 0.79494745,\n",
       "        0.01122698, 0.8730973 , 0.5687548 , 0.46831468, 0.06065423,\n",
       "        0.45764342, 0.6656233 , 0.11129341, 0.54148006, 0.69961214],\n",
       "       [0.15349008, 0.60442984, 0.92704815, 0.94490165, 0.28269544,\n",
       "        0.49259633, 0.11098367, 0.3552204 , 0.41043296, 0.82393235,\n",
       "        0.45306578, 0.633004  , 0.6374473 , 0.37463558, 0.6060312 ,\n",
       "        0.2834075 , 0.6272483 , 0.1612296 , 0.94651324, 0.669246  ,\n",
       "        0.47747174, 0.8957724 , 0.82223755, 0.70696586, 0.46786922,\n",
       "        0.15174203, 0.05480821, 0.84330666, 0.6950655 , 0.10158332,\n",
       "        0.5995137 , 0.29041308, 0.7692753 , 0.92803997, 0.4998722 ,\n",
       "        0.50944996, 0.48657882, 0.11454523, 0.47085765, 0.21556164,\n",
       "        0.6120706 , 0.42527848, 0.4861911 , 0.75779593, 0.8498923 ,\n",
       "        0.2796736 , 0.33832502, 0.27039206, 0.49765733, 0.4958326 ,\n",
       "        0.39805186, 0.21153107, 0.03980887, 0.40931293, 0.61085755,\n",
       "        0.00581775, 0.3819205 , 0.5739055 , 0.19816352, 0.15587619,\n",
       "        0.26820445, 0.38320157, 0.21051568, 0.17634238, 0.2661235 ,\n",
       "        0.6077029 , 0.6241841 , 0.43223748, 0.18862051, 0.5590778 ,\n",
       "        0.42441148, 0.24110381, 0.11246156, 0.27936083, 0.9028515 ,\n",
       "        0.39558333, 0.836823  , 0.33199686, 0.05065538, 0.7877301 ,\n",
       "        0.45364588, 0.47978866, 0.83384377, 0.79782665, 0.82532126,\n",
       "        0.621548  , 0.6352092 , 0.68689936, 0.7425061 , 0.74993503,\n",
       "        0.91018987, 0.8330016 , 0.24876751, 0.3858935 , 0.56920356,\n",
       "        0.45026183, 0.42799932, 0.7091969 , 0.66571677, 0.6697685 ]],\n",
       "      dtype=float32)"
      ]
     },
     "execution_count": 7,
     "metadata": {},
     "output_type": "execute_result"
    }
   ],
   "source": [
    "x_data = np.float32(np.random.rand(2, 100)) # 随机输入\n",
    "x_data\n"
   ]
  },
  {
   "cell_type": "code",
   "execution_count": null,
   "metadata": {},
   "outputs": [],
   "source": []
  },
  {
   "cell_type": "code",
   "execution_count": null,
   "metadata": {},
   "outputs": [],
   "source": []
  },
  {
   "cell_type": "code",
   "execution_count": 1,
   "metadata": {},
   "outputs": [],
   "source": [
    "from tensorflow import keras"
   ]
  },
  {
   "cell_type": "code",
   "execution_count": 2,
   "metadata": {},
   "outputs": [],
   "source": [
    "imdb = keras.datasets.imdb"
   ]
  },
  {
   "cell_type": "code",
   "execution_count": 3,
   "metadata": {},
   "outputs": [],
   "source": [
    "imdb.load_data?"
   ]
  },
  {
   "cell_type": "code",
   "execution_count": 4,
   "metadata": {},
   "outputs": [],
   "source": [
    "(x_train_source, y_train), (x_test_source, y_test) = imdb.load_data(num_words=5000)"
   ]
  },
  {
   "cell_type": "code",
   "execution_count": 5,
   "metadata": {},
   "outputs": [
    {
     "data": {
      "text/plain": [
       "(25000,)"
      ]
     },
     "execution_count": 5,
     "metadata": {},
     "output_type": "execute_result"
    }
   ],
   "source": [
    "x_train_source.shape"
   ]
  },
  {
   "cell_type": "code",
   "execution_count": 9,
   "metadata": {},
   "outputs": [
    {
     "data": {
      "text/plain": [
       "218"
      ]
     },
     "execution_count": 9,
     "metadata": {},
     "output_type": "execute_result"
    }
   ],
   "source": [
    "len(x_train_source[0])"
   ]
  },
  {
   "cell_type": "code",
   "execution_count": 13,
   "metadata": {},
   "outputs": [
    {
     "data": {
      "text/plain": [
       "200"
      ]
     },
     "execution_count": 13,
     "metadata": {},
     "output_type": "execute_result"
    }
   ],
   "source": [
    "x_train = keras.preprocessing.sequence.pad_sequences(\n",
    "    x_train_source,\n",
    "    maxlen=200,\n",
    "    padding='post', \n",
    "    value=0)\n",
    "len(x_train[0])"
   ]
  },
  {
   "cell_type": "code",
   "execution_count": 16,
   "metadata": {},
   "outputs": [
    {
     "name": "stdout",
     "output_type": "stream",
     "text": [
      "tensorflow实现加法运算：\n",
      " Tensor(\"Add:0\", shape=(), dtype=int32)\n",
      "在sess当中的sum_t:\n",
      " 30\n"
     ]
    }
   ],
   "source": [
    "a_t = tf.constant(10)\n",
    "b_t = tf.constant(20)\n",
    "\n",
    "# 不提倡直接运用这种符号运算符进行计算\n",
    "# 更常用tensorflow提供的函数进行计算\n",
    "# c_t = a_t + b_t\n",
    "c_t = tf.add(a_t, b_t)\n",
    "print(\"tensorflow实现加法运算：\\n\", c_t)\n",
    "\n",
    "# 如何让计算结果出现？\n",
    "# 开启会话\n",
    "with tf.Session() as sess:\n",
    "    sum_t = sess.run(c_t)\n",
    "    print(\"在sess当中的sum_t:\\n\", sum_t)\n"
   ]
  },
  {
   "cell_type": "code",
   "execution_count": null,
   "metadata": {},
   "outputs": [],
   "source": []
  },
  {
   "cell_type": "code",
   "execution_count": 18,
   "metadata": {},
   "outputs": [],
   "source": [
    "d = {}\n",
    "d.update?"
   ]
  }
 ],
 "metadata": {
  "kernelspec": {
   "display_name": "Python 3",
   "language": "python",
   "name": "python3"
  },
  "language_info": {
   "codemirror_mode": {
    "name": "ipython",
    "version": 3
   },
   "file_extension": ".py",
   "mimetype": "text/x-python",
   "name": "python",
   "nbconvert_exporter": "python",
   "pygments_lexer": "ipython3",
   "version": "3.7.6"
  },
  "toc": {
   "base_numbering": 1,
   "nav_menu": {},
   "number_sections": true,
   "sideBar": true,
   "skip_h1_title": false,
   "title_cell": "Table of Contents",
   "title_sidebar": "Contents",
   "toc_cell": false,
   "toc_position": {},
   "toc_section_display": true,
   "toc_window_display": false
  }
 },
 "nbformat": 4,
 "nbformat_minor": 2
}
