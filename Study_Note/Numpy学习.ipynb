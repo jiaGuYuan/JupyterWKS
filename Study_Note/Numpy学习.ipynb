{
 "cells": [
  {
   "cell_type": "markdown",
   "metadata": {},
   "source": [
    "参考: https://www.numpy.org.cn/index.html"
   ]
  },
  {
   "cell_type": "code",
   "execution_count": 2,
   "metadata": {},
   "outputs": [],
   "source": [
    "import numpy as np "
   ]
  },
  {
   "cell_type": "code",
   "execution_count": 3,
   "metadata": {},
   "outputs": [],
   "source": [
    "%config ZMQInteractiveShell.ast_node_interactivity='all'"
   ]
  },
  {
   "cell_type": "markdown",
   "metadata": {},
   "source": [
    "# NumPy 中的数组"
   ]
  },
  {
   "cell_type": "code",
   "execution_count": null,
   "metadata": {},
   "outputs": [],
   "source": [
    "my_array = np.array([1, 2, 3, 4, 5]) \n",
    "my_array"
   ]
  },
  {
   "cell_type": "markdown",
   "metadata": {},
   "source": [
    "* afdaf\n",
    " dafda \n",
    "* afda\n",
    " afadf \n",
    "* dafd\n",
    " df"
   ]
  },
  {
   "cell_type": "code",
   "execution_count": null,
   "metadata": {},
   "outputs": [],
   "source": [
    "# 数组的形状\n",
    "my_array.shape"
   ]
  },
  {
   "cell_type": "code",
   "execution_count": null,
   "metadata": {},
   "outputs": [],
   "source": [
    "# 通过索引访问元素\n",
    "my_array[0]"
   ]
  },
  {
   "cell_type": "code",
   "execution_count": null,
   "metadata": {},
   "outputs": [],
   "source": [
    "# 通过索引修改元素\n",
    "my_array[0] = -1\n",
    "my_array"
   ]
  },
  {
   "cell_type": "code",
   "execution_count": null,
   "metadata": {},
   "outputs": [],
   "source": [
    "# np.zeros()创建一个形状为(５，)的0值数组\n",
    "my_new_array = np.zeros((5)) \n",
    "my_new_array"
   ]
  },
  {
   "cell_type": "code",
   "execution_count": null,
   "metadata": {},
   "outputs": [],
   "source": [
    "# np.zeros()创建一个形状为(５，2)的数组\n",
    "my_new_array2 = np.zeros((5,2)) \n",
    "my_new_array2"
   ]
  },
  {
   "cell_type": "code",
   "execution_count": null,
   "metadata": {},
   "outputs": [],
   "source": [
    "# np.ones()创建一个形状为(５，)的1值数组\n",
    "my_new_array1 = np.ones((5,)) \n",
    "my_new_array1"
   ]
  },
  {
   "cell_type": "code",
   "execution_count": null,
   "metadata": {},
   "outputs": [],
   "source": [
    "my_random_array = np.random.random((5,))\n",
    "my_random_array"
   ]
  },
  {
   "cell_type": "code",
   "execution_count": null,
   "metadata": {},
   "outputs": [],
   "source": [
    "# 产生一个二维数组\n",
    "my_2d_array = np.zeros((2, 3)) \n",
    "my_2d_array"
   ]
  },
  {
   "cell_type": "code",
   "execution_count": null,
   "metadata": {},
   "outputs": [],
   "source": [
    "# 产生一个２行４列的矩阵\n",
    "my_2d_array_new = np.ones((2, 4)) \n",
    "my_2d_array_new"
   ]
  },
  {
   "cell_type": "markdown",
   "metadata": {},
   "source": [
    "### np array操作"
   ]
  },
  {
   "cell_type": "code",
   "execution_count": null,
   "metadata": {},
   "outputs": [],
   "source": [
    "# 访问二维数组元素\n",
    "my_array = np.array([[1, 2, 22], [3, 4, 33], [5, 6, 55], [7, 8, 99]])\n",
    "my_array\n",
    "\n",
    "# 访问单个元素, np_array[rowindex][colindex] or np_array[rowindex, colindex]\n",
    "my_array[0][1]\n",
    "my_array[0, 1]\n",
    "\n",
    "# 访问指定行, np_array[rowindex] or np_array[rowindex, :] or np_array[[rowindex1, rowindex2, ...]] or np_array[[rowindex1, rowindex2, ...], :]\n",
    "my_array[0]\n",
    "my_array[0, :]\n",
    "my_array[[0, 2]]\n",
    "my_array[[0, 2], :]\n",
    "\n",
    "# 访问指定列, np_array[:, colindex] or np_array[:, [colindex1, colindex2]]\n",
    "my_array[:, 0]\n",
    "my_array[:, [0, 2]]\n",
    "\n",
    "# 访问行切片\n",
    "my_array[0:2, :]\n",
    "\n",
    "# 访问列切片\n",
    "my_array[:, 0:2]\n",
    "\n",
    "# 访问行列切片\n",
    "my_array[0:2, 0:2]\n",
    "\n",
    "# axis\n",
    "np.sum(my_array, axis=0) # 结果符合行shape\n",
    "my_array[0]+my_array[1]+my_array[2]\n",
    "\n",
    "np.sum(my_array, axis=1) # # 结果符合列shape\n",
    "my_array[:,0]+my_array[:,1]+my_array[:,2]"
   ]
  },
  {
   "cell_type": "code",
   "execution_count": null,
   "metadata": {},
   "outputs": [],
   "source": [
    "my_array[0][1] = 10\n",
    "my_array"
   ]
  },
  {
   "cell_type": "code",
   "execution_count": null,
   "metadata": {},
   "outputs": [],
   "source": [
    "# 取my_array的第１列的所有元素\n",
    "my_array_column_2 = my_array[:, 1] \n",
    "my_array_column_2"
   ]
  },
  {
   "cell_type": "code",
   "execution_count": null,
   "metadata": {},
   "outputs": [],
   "source": [
    "my_array = np.array([[1, 2, 3], [4, 5, 6], [7, 8, 9]])\n",
    "my_array\n",
    "\n",
    "# 取my_array的第１列的[0,2)元素; 行索引以范围的形式给出\n",
    "my_array_column1_part = my_array[0:2, 1] \n",
    "my_array_column1_part"
   ]
  },
  {
   "cell_type": "code",
   "execution_count": null,
   "metadata": {},
   "outputs": [],
   "source": [
    "my_array"
   ]
  },
  {
   "cell_type": "code",
   "execution_count": null,
   "metadata": {},
   "outputs": [],
   "source": [
    "# 取my_array的(第0行,第1列)和(第2行,第1列)的元素; 行索引以枚举的形式给出\n",
    "my_array_column1_part = my_array[[0,2], 1] \n",
    "my_array_column1_part"
   ]
  },
  {
   "cell_type": "code",
   "execution_count": null,
   "metadata": {},
   "outputs": [],
   "source": [
    "# 取my_array的(第0行,第1列)和(第2行,第0列)的元素; 行列索引均以枚举的形式给出,元素位置由行列索引交叉确定\n",
    "my_array_column_part = my_array[[0,2], [1,0]] \n",
    "my_array_column_part"
   ]
  },
  {
   "cell_type": "markdown",
   "metadata": {},
   "source": [
    "## Numpy中的数组操作"
   ]
  },
  {
   "cell_type": "code",
   "execution_count": null,
   "metadata": {},
   "outputs": [],
   "source": [
    "a = np.array([[1.0, 2.0], [3.0, 4.0]]) \n",
    "b = np.array([[5.0, 6.0], [7.0, 8.0]]) \n",
    "print('a=\\n', a, '\\n\\nb=\\n', b, '\\n\\n')\n",
    "\n",
    "# 对应元素相加\n",
    "sum = a + b \n",
    "print('a+b=\\n', sum, '\\n\\n')\n",
    "\n",
    "# 对应元素相减\n",
    "difference = a - b \n",
    "print('a-b=\\n', difference, '\\n\\n')\n",
    "\n",
    "# 对应元素相乘\n",
    "product = a * b\n",
    "print('a*b=\\n', product, '\\n\\n')\n",
    "\n",
    "# 对应元素相除\n",
    "quotient = a / b \n",
    "print('a/b=\\n', quotient, '\\n\\n')\n",
    "\n",
    "# 对应元素平方\n",
    "pow2 = a ** 2\n",
    "print('a**2=\\n', pow2, '\\n\\n')\n",
    "\n",
    "# 对应元素比较\n",
    "aLessb = a < b\n",
    "print('a<b=\\n', aLessb, '\\n\\n')"
   ]
  },
  {
   "cell_type": "code",
   "execution_count": null,
   "metadata": {},
   "outputs": [],
   "source": [
    "# 矩阵乘\n",
    "matrix_product = a.dot(b) \n",
    "print('a.dot(b)=\\n', matrix_product, '\\n\\n')"
   ]
  },
  {
   "cell_type": "markdown",
   "metadata": {},
   "source": [
    "## 创建数组"
   ]
  },
  {
   "cell_type": "code",
   "execution_count": null,
   "metadata": {},
   "outputs": [],
   "source": [
    "# 1D Array\n",
    "a = np.array([0, 1, 2, 3, 4, 5])\n",
    "b = np.array((0, 1, 2, 3, 4, 5))\n",
    "c = np.arange(5)\n",
    "d = np.linspace(0, 2*np.pi, 5) #将[0, 2*np.pi]分成５份\n",
    "\n",
    "print(a) \n",
    "print(b) \n",
    "print(c) \n",
    "print(d) \n",
    "print(a[3]) "
   ]
  },
  {
   "cell_type": "code",
   "execution_count": null,
   "metadata": {},
   "outputs": [],
   "source": [
    "# MD Array,\n",
    "a = np.array([[11, 12, 13, 14, 15],\n",
    "              [16, 17, 18, 19, 20],\n",
    "              [21, 22, 23, 24, 25],\n",
    "              [26, 27, 28 ,29, 30],\n",
    "              [31, 32, 33, 34, 35]])\n",
    "\n",
    "print(a[2,4])\n",
    "print(a[2][4])"
   ]
  },
  {
   "cell_type": "code",
   "execution_count": null,
   "metadata": {},
   "outputs": [],
   "source": [
    "a2 = np.array([[[11, 12], \n",
    "               [13, 14, 15]],\n",
    "              [[16, 17], \n",
    "               [18, 19, 20]],\n",
    "              [[21, 22], \n",
    "               [23, 24, 25]],\n",
    "              [[26, 27], \n",
    "               [28 ,29, 30]],\n",
    "              [[31, 32], \n",
    "               [33, 34, 35]]])\n",
    "print(a2.shape)\n",
    "print(a2[2, 1][2])\n",
    "print(a2[2][1][2])"
   ]
  },
  {
   "cell_type": "markdown",
   "metadata": {},
   "source": [
    "## 多维数组切片"
   ]
  },
  {
   "cell_type": "code",
   "execution_count": null,
   "metadata": {},
   "outputs": [],
   "source": [
    "#print(a)\n",
    "\n",
    "print(a[0, 1:4])  #取第０行，第[1,4)列的元素\n",
    "print(a[1:4, 0])  #取第[1,4)行,第０列的元素\n",
    "print(a[::2,::2]) #按步长2取[0, maxRows]行,步长2取[0,maxLoc]列的元素\n",
    "print(a[:, 1])    #取第1列的所有元素"
   ]
  },
  {
   "cell_type": "markdown",
   "metadata": {},
   "source": [
    "## 数组属性"
   ]
  },
  {
   "cell_type": "code",
   "execution_count": null,
   "metadata": {},
   "outputs": [],
   "source": [
    "# Array properties\n",
    "a = np.array([[11, 12, 13, 14, 15],\n",
    "              [16, 17, 18, 19, 20],\n",
    "              [21, 22, 23, 24, 25],\n",
    "              [26, 27, 28 ,29, 30],\n",
    "              [31, 32, 33, 34, 35]])\n",
    "\n",
    "print(type(a)) \n",
    "print(a.dtype) \n",
    "print(a.size)  \n",
    "print(a.shape) \n",
    "print(a.itemsize) \n",
    "print(a.ndim)     \n",
    "print(a.nbytes)   "
   ]
  },
  {
   "cell_type": "markdown",
   "metadata": {},
   "source": [
    "## 数组函数"
   ]
  },
  {
   "cell_type": "code",
   "execution_count": null,
   "metadata": {},
   "outputs": [],
   "source": [
    "a = np.arange(10)\n",
    "\n",
    "print(a)\n",
    "print(a.sum()) \n",
    "print(a.min()) \n",
    "print(a.max()) \n",
    "print(a.cumsum()) # 累加前面所有项"
   ]
  },
  {
   "cell_type": "markdown",
   "metadata": {},
   "source": [
    "## 数组索引"
   ]
  },
  {
   "cell_type": "code",
   "execution_count": null,
   "metadata": {},
   "outputs": [],
   "source": [
    "a = np.arange(0, 100, 10)\n",
    "print(a)"
   ]
  },
  {
   "cell_type": "code",
   "execution_count": null,
   "metadata": {},
   "outputs": [],
   "source": [
    "#单一索引    --访问特定元素\n",
    "print(a[0])\n",
    "print(a[-1])"
   ]
  },
  {
   "cell_type": "code",
   "execution_count": null,
   "metadata": {},
   "outputs": [],
   "source": [
    "#切片(范围索引) --访问指定范围内的元素\n",
    "print(a[0:8])\n",
    "print(a[0:8:2])\n",
    "print(a[-1:-11:-1])"
   ]
  },
  {
   "cell_type": "code",
   "execution_count": null,
   "metadata": {},
   "outputs": [],
   "source": [
    "#枚举索引， 是获取数组中我们想要的特定元素的有效方法\n",
    "indices = [1, 5, -1]\n",
    "b = a[indices] #表示要获取第索引为1,5,-1的元素\n",
    "print(b)\n",
    "print(a[[1, 5,-1]]) #相当于以枚举的方式指定要获取元素的索引"
   ]
  },
  {
   "cell_type": "code",
   "execution_count": null,
   "metadata": {},
   "outputs": [],
   "source": [
    "#布尔屏蔽(掩码)\n",
    "maskIndex = [False ,True, False, False, False, True, False, False, False, True]\n",
    "print(a[maskIndex])"
   ]
  },
  {
   "cell_type": "code",
   "execution_count": null,
   "metadata": {},
   "outputs": [],
   "source": [
    "#布尔屏蔽(掩码)\n",
    "import matplotlib.pyplot as plt\n",
    "\n",
    "x = np.linspace(0, 2*np.pi, 50) #在[0, 2π]中取50个值\n",
    "y = np.sin(x)\n",
    "plt.plot(x, y)\n",
    "\n",
    "mask = (y >= 0)\n",
    "plt.plot(x[mask], y[mask], 'bo')\n",
    "\n",
    "mask = (y >= 0) & (x <= np.pi / 2)\n",
    "plt.plot(x[mask], y[mask], 'go')\n",
    "plt.show()"
   ]
  },
  {
   "cell_type": "markdown",
   "metadata": {},
   "source": [
    "## Where 函数\n",
    "where() 函数是一个根据条件返回数组中的值的有效方法。只需要把条件传递给它，它就会返回一个使得条件为真的元素的列表"
   ]
  },
  {
   "cell_type": "code",
   "execution_count": 15,
   "metadata": {},
   "outputs": [],
   "source": [
    "np.where?"
   ]
  },
  {
   "cell_type": "code",
   "execution_count": 23,
   "metadata": {},
   "outputs": [
    {
     "data": {
      "text/plain": [
       "array([ 0, 10, 20, 30, 40, 50, 60, 70, 80, 90])"
      ]
     },
     "execution_count": 23,
     "metadata": {},
     "output_type": "execute_result"
    },
    {
     "name": "stdout",
     "output_type": "stream",
     "text": [
      "(array([0, 1, 2, 3, 4], dtype=int64),)\n"
     ]
    },
    {
     "data": {
      "text/plain": [
       "array([[ 0, 10, 20, 30, 40],\n",
       "       [50, 60, 70, 80, 90]])"
      ]
     },
     "execution_count": 23,
     "metadata": {},
     "output_type": "execute_result"
    },
    {
     "name": "stdout",
     "output_type": "stream",
     "text": [
      "(array([0, 0, 0, 0, 0], dtype=int64), array([0, 1, 2, 3, 4], dtype=int64))\n"
     ]
    }
   ],
   "source": [
    "# Where\n",
    "a = np.arange(0, 100, 10)\n",
    "a\n",
    "a1 = np.where(a < 50) # 参数为'条件'时,返回满足'条件'的元素的坐标\n",
    "print(a1)\n",
    "\n",
    "a = a.reshape((2, 5))\n",
    "a\n",
    "a1 = np.where(a < 50) # 参数为'条件'时,返回满足'条件'的元素的坐标.结果的shape与操作array的shape一致,分别对应的array的每一个dim\n",
    "print(a1)"
   ]
  },
  {
   "cell_type": "code",
   "execution_count": 11,
   "metadata": {},
   "outputs": [
    {
     "name": "stdout",
     "output_type": "stream",
     "text": [
      "[[  0   1   2]\n",
      " [  3   4 100]\n",
      " [100 100 100]]\n"
     ]
    },
    {
     "data": {
      "text/plain": [
       "array([[ 1111, 77777],\n",
       "       [ 3333,  4444]])"
      ]
     },
     "execution_count": 11,
     "metadata": {},
     "output_type": "execute_result"
    }
   ],
   "source": [
    "# np.where(cond,x,y)满足条件cond输出x，不满足输出y\n",
    "\n",
    "my_array = np.array([[0, 1, 2],\n",
    "                     [3, 4, 5],\n",
    "                     [6, 7, 8]])\n",
    "\n",
    "my_array = np.where(my_array<5, my_array, 100) #条件cond将作用于my_array的每个元素\n",
    "print(my_array)\n",
    "\n",
    "\n",
    "\n",
    "np.where([[True, False], [True, True]], #为True的元素人第二个参数中取,为False的元素从第三个参数中取，　\n",
    "         [[1111, 22222], [3333, 4444]], \n",
    "         [[6666, 77777], [8888, 9999]]) "
   ]
  },
  {
   "cell_type": "code",
   "execution_count": 14,
   "metadata": {},
   "outputs": [
    {
     "name": "stdout",
     "output_type": "stream",
     "text": [
      "(array([1, 2], dtype=int64),) \n",
      "\n",
      "\n",
      "(array([0, 0, 1, 1, 1], dtype=int64), array([1, 2, 0, 1, 2], dtype=int64)) \n",
      "\n",
      "\n"
     ]
    }
   ],
   "source": [
    "#np.where(arry)：输出arry中真值（非零值）的坐标\n",
    "where1 = np.where([0, 1, 2])\n",
    "print(where1, '\\n\\n')\n",
    "\n",
    "where2 = np.where([[0, 1, 2], [3, 4, 5]])\n",
    "print(where2, '\\n\\n')\n",
    "\n",
    "# print(where2, '\\n\\n')输出说明：\n",
    "# array([0, 0, 1, 1, 1], dtype=int64), \n",
    "# array([1, 2, 0, 1, 2], dtype=int64)\n",
    "# 两组array组成了非零值的坐标. 第一个array[ ]是横坐标，第二个array[ ]是纵坐标；"
   ]
  },
  {
   "cell_type": "code",
   "execution_count": null,
   "metadata": {},
   "outputs": [],
   "source": []
  },
  {
   "cell_type": "markdown",
   "metadata": {},
   "source": [
    "# Numpy"
   ]
  },
  {
   "cell_type": "markdown",
   "metadata": {},
   "source": [
    "## Numpy数组创建"
   ]
  },
  {
   "cell_type": "code",
   "execution_count": null,
   "metadata": {},
   "outputs": [],
   "source": [
    "import numpy as np\n",
    "\n",
    "a = np.array([1, 2, 3])   # Create a rank 1 array\n",
    "print(type(a))            # Prints \"<class 'numpy.ndarray'>\"\n",
    "print(a.shape)            # Prints \"(3,)\"\n",
    "print(a[0], a[1], a[2])   # Prints \"1 2 3\"\n",
    "a[0] = 5                  # Change an element of the array\n",
    "print(a)                  # Prints \"[5, 2, 3]\"\n",
    "\n",
    "b = np.array([[1,2,3],[4,5,6]])    # Create a rank 2 array\n",
    "print(b.shape)                     # Prints \"(2, 3)\"\n",
    "print(b[0, 0], b[0, 1], b[1, 0])   # Prints \"1 2 4\""
   ]
  },
  {
   "cell_type": "code",
   "execution_count": null,
   "metadata": {},
   "outputs": [],
   "source": [
    "import numpy as np\n",
    "\n",
    "a = np.zeros((2,2))   # Create an array of all zeros\n",
    "print(a)              # Prints \"[[ 0.  0.]\n",
    "                      #          [ 0.  0.]]\"\n",
    "\n",
    "b = np.ones((1,2))    # Create an array of all ones\n",
    "print(b)              # Prints \"[[ 1.  1.]]\"\n",
    "\n",
    "c = np.full((2,2), 7)  # Create a constant array\n",
    "print(c)               # Prints \"[[ 7.  7.]\n",
    "                       #          [ 7.  7.]]\"\n",
    "\n",
    "d = np.eye(2)         # Create a 2x2 identity matrix\n",
    "print(d)              # Prints \"[[ 1.  0.]\n",
    "                      #          [ 0.  1.]]\"\n",
    "\n",
    "e = np.random.random((2,2))  # Create an array filled with random values\n",
    "print(e)                     # Might print \"[[ 0.91940167  0.08143941]\n",
    "                             #               [ 0.68744134  0.87236687]]\""
   ]
  },
  {
   "cell_type": "markdown",
   "metadata": {},
   "source": [
    "## Numpy数组索引\n",
    "+  数组的切片是对相同数据的视图，因此修改它将修改原始数组。"
   ]
  },
  {
   "cell_type": "code",
   "execution_count": null,
   "metadata": {},
   "outputs": [],
   "source": [
    "import numpy as np\n",
    "\n",
    "# Create the following rank 2 array with shape (3, 4)\n",
    "# [[ 1  2  3  4]\n",
    "#  [ 5  6  7  8]\n",
    "#  [ 9 10 11 12]]\n",
    "a = np.array([[1,2,3,4], [5,6,7,8], [9,10,11,12]])\n",
    "\n",
    "# 取[0,2)行,[1,3)列区域中的元素:\n",
    "# [[2 3]\n",
    "#  [6 7]]\n",
    "b = a[:2, 1:3]\n",
    "\n",
    "# 数组的切片是对相同数据的视图，因此修改它将修改原始数组。\n",
    "print(a[0, 1])   # 取第0行,第1列中的元素．　Prints \"2\"\n",
    "b[0, 0] = 77     # b[0,0] 即 a[0, 1]\n",
    "print(a[0, 1])   # Prints \"77\""
   ]
  },
  {
   "cell_type": "code",
   "execution_count": null,
   "metadata": {},
   "outputs": [],
   "source": [
    "import numpy as np\n",
    "\n",
    "# Create the following rank 2 array with shape (3, 4)\n",
    "# [[ 1  2  3  4]\n",
    "#  [ 5  6  7  8]\n",
    "#  [ 9 10 11 12]]\n",
    "a = np.array([[1,2,3,4], [5,6,7,8], [9,10,11,12]])\n",
    "\n",
    "# 两种访问数组中间行数据的方法。\n",
    "# 将整数索引与切片混合会产生较低等级的数组，\n",
    "# 而仅使用切片会产生与原始数组相同等级的数组：\n",
    "row_r1 = a[1, :]    # Rank 1 第二行的视图 -- 因为行使用的是整数索引,所以得到的row_r1相对与a是低一维的\n",
    "row_r2 = a[1:2, :]  # Rank 2 第二行的视图 -- row_r2与a是相同维度的\n",
    "print(row_r1, row_r1.shape)  # Prints \"[5 6 7 8] (4,)\"\n",
    "print(row_r2, row_r2.shape)  # Prints \"[[5 6 7 8]] (1, 4)\"\n",
    "\n",
    "# 访问数组的列时，我们可以做出相同的区分： \n",
    "col_r1 = a[:, 1]\n",
    "col_r2 = a[:, 1:2]\n",
    "print(col_r1, col_r1.shape)  # Prints \"[ 2  6 10] (3,)\"\n",
    "print(col_r2, col_r2.shape)  # Prints \"[[ 2]\n",
    "                             #          [ 6]\n",
    "                             #          [10]] (3, 1)\""
   ]
  },
  {
   "cell_type": "markdown",
   "metadata": {},
   "source": [
    "### 整数数组索引\n",
    "使用切片索引到numpy数组时，生成的数组视图将始终是原始数组的子数组。 相反，整数数组索引允许你使用另一个数组中的数据构造任意数组"
   ]
  },
  {
   "cell_type": "code",
   "execution_count": null,
   "metadata": {},
   "outputs": [],
   "source": [
    "import numpy as np\n",
    "\n",
    "a = np.array([[1,2], [3, 4], [5, 6]])\n",
    "\n",
    "# 取数组a的(第0行,第0列),(第1行,第1列),(第2行,第0列)的元素; 行列索引均以枚举的形式给出,元素位置由行列索引交叉确定\n",
    "print(a[[0, 1, 2], [0, 1, 0]])  # -- \"[1 4 5]\"\n",
    "\n",
    "# 上面的整数数组索引示例等效于\n",
    "print(np.array([a[0, 0], a[1, 1], a[2, 0]]))  # Prints \"[1 4 5]\"\n",
    "\n",
    "# 使用整数数组索引时，可以重用源数组中的相同元素\n",
    "print(a[[0, 0], [1, 1]])  # Prints \"[2 2]\"\n",
    "\n",
    "# a[[0, 0], [1, 1]]等效于\n",
    "print(np.array([a[0, 1], a[0, 1]]))  # Prints \"[2 2]\""
   ]
  },
  {
   "cell_type": "code",
   "execution_count": null,
   "metadata": {},
   "outputs": [],
   "source": [
    "# 整数数组索引的一个有用技巧是从矩阵的每一行中选择或改变一个元素\n",
    "\n",
    "import numpy as np\n",
    "\n",
    "a = np.array([[1,2,3], [4,5,6], [7,8,9], [10, 11, 12]])\n",
    "\n",
    "print(a)  # prints \"array([[ 1,  2,  3],\n",
    "          #                [ 4,  5,  6],\n",
    "          #                [ 7,  8,  9],\n",
    "          #                [10, 11, 12]])\"\n",
    "\n",
    "# 创建索引数组\n",
    "b = np.array([0, 2, 0, 1])\n",
    "\n",
    "aRowNum = a.shape[0]\n",
    "\n",
    "# 使用b中的索引从a的每一行中选择一个元素\n",
    "print(a[np.arange(aRowNum), b])  # Prints \"[ 1  6  7 11]\"\n",
    "\n",
    "# 使用b中的索引来变换a的每一行中的一个元素\n",
    "a[np.arange(aRowNum), b] += 10\n",
    "\n",
    "print(a)  # prints \"array([[11,  2,  3],\n",
    "          #                [ 4,  5, 16],\n",
    "          #                [17,  8,  9],\n",
    "          #                [10, 21, 12]])"
   ]
  },
  {
   "cell_type": "code",
   "execution_count": null,
   "metadata": {},
   "outputs": [],
   "source": [
    "np.arange(4)"
   ]
  },
  {
   "cell_type": "code",
   "execution_count": null,
   "metadata": {},
   "outputs": [],
   "source": [
    "a.shape[0]"
   ]
  },
  {
   "cell_type": "markdown",
   "metadata": {},
   "source": [
    "### 布尔数组索引\n",
    "布尔数组索引允许你选择数组的任意元素。通常，这种类型的索引用于选择满足某些条件的数组元素"
   ]
  },
  {
   "cell_type": "code",
   "execution_count": null,
   "metadata": {},
   "outputs": [],
   "source": [
    "import numpy as np\n",
    "\n",
    "a = np.array([[1,2], [3, 4], [5, 6]])\n",
    "\n",
    "\n",
    "# 找到大于2的元素;\n",
    "# 这会返回一个与a形状相同的布尔阵列，其中bool_idx的每个槽都会告诉a的元素是否大于2。\n",
    "bool_idx = (a > 2)   \n",
    "\n",
    "print(bool_idx)      # Prints \"[[False False]\n",
    "                     #          [ True  True]\n",
    "                     #          [ True  True]]\"\n",
    "\n",
    "# 我们使用布尔数组索引来构造一个1维数组，该数组由对应于bool_idx的True值的元素组成\n",
    "print(a[bool_idx])  # Prints \"[3 4 5 6]\"\n",
    "\n",
    "# 我们可以在一个简洁的声明中完成上述所有操作\n",
    "print(a[a > 2])     # Prints \"[3 4 5 6]\""
   ]
  },
  {
   "cell_type": "markdown",
   "metadata": {},
   "source": [
    "## 数据类型\n",
    "+ numpy数组的所有元素都是相同类型的。Numpy提供了一组可用于构造数组的数据类型。\n",
    "+ 我们可以在创建数组时让Numpy猜测数据类型，也可以在构造数组时显式指定数据类型。"
   ]
  },
  {
   "cell_type": "code",
   "execution_count": null,
   "metadata": {},
   "outputs": [],
   "source": [
    "import numpy as np\n",
    "\n",
    "x = np.array([1, 2])   # 让Numpy猜测数据类型\n",
    "print(x.dtype)         \n",
    "\n",
    "x = np.array([1.0, 2.0])   # 让Numpy猜测数据类型\n",
    "print(x.dtype)    \n",
    "\n",
    "x = np.array([1, 2], dtype=np.int64)   # 强制使用特定的数据类型\n",
    "print(x.dtype)        "
   ]
  },
  {
   "cell_type": "markdown",
   "metadata": {},
   "source": [
    "## 数组中的数学"
   ]
  },
  {
   "cell_type": "markdown",
   "metadata": {},
   "source": [
    "基本数学函数在数组上以元素方式运行，既可以作为运算符重载，也可以作为numpy模块中的函数"
   ]
  },
  {
   "cell_type": "code",
   "execution_count": null,
   "metadata": {},
   "outputs": [],
   "source": [
    "import numpy as np\n",
    "\n",
    "x = np.array([[1,2],[3,4]], dtype=np.float64)\n",
    "y = np.array([[5,6],[7,8]], dtype=np.float64)\n",
    "\n",
    "# 元素和\n",
    "# [[ 6.0  8.0]\n",
    "#  [10.0 12.0]]\n",
    "print(x + y)\n",
    "print(np.add(x, y))\n",
    "\n",
    "# 元素差\n",
    "# [[-4.0 -4.0]\n",
    "#  [-4.0 -4.0]]\n",
    "print(x - y)\n",
    "print(np.subtract(x, y))\n",
    "\n",
    "# 元素积\n",
    "# [[ 5.0 12.0]\n",
    "#  [21.0 32.0]]\n",
    "print(x * y)\n",
    "print(np.multiply(x, y))\n",
    "\n",
    "# 元素除\n",
    "# [[ 0.2         0.33333333]\n",
    "#  [ 0.42857143  0.5       ]]\n",
    "print(x / y)\n",
    "print(np.divide(x, y))\n",
    "\n",
    "# 元素开方\n",
    "# [[ 1.          1.41421356]\n",
    "#  [ 1.73205081  2.        ]]\n",
    "print(np.sqrt(x))\n",
    "\n",
    "# 元素平方\n",
    "print(np.power(x, 2))\n",
    "print(x * x)"
   ]
  },
  {
   "cell_type": "markdown",
   "metadata": {},
   "source": [
    "Numpy中'*'是元素乘法，而不是矩阵乘法。 Numpy使用dot函数来计算向量的内积。"
   ]
  },
  {
   "cell_type": "code",
   "execution_count": null,
   "metadata": {},
   "outputs": [],
   "source": [
    "import numpy as np\n",
    "\n",
    "x = np.array([[1,2],[3,4]])\n",
    "y = np.array([[5,6],[7,8]])\n",
    "\n",
    "v = np.array([9,10])\n",
    "w = np.array([11, 12])\n",
    "\n",
    "# 向量内积\n",
    "print(v.dot(w))      #面向对象的调用方式\n",
    "print(np.dot(v, w))  #面向过程的调用方式\n",
    "\n",
    "# 矩阵与向量的积; 得到一个一维数组 -- [29 67]\n",
    "print(x.dot(v))\n",
    "print(np.dot(x, v))\n",
    "\n",
    "# 矩阵与矩阵的积; 得到一个二维数组\n",
    "# [[19 22]\n",
    "#  [43 50]]\n",
    "print(x.dot(y))\n",
    "print(np.dot(x, y))"
   ]
  },
  {
   "cell_type": "markdown",
   "metadata": {},
   "source": [
    "### Numpy为在数组上执行计算提供了许多有用的函数\n",
    "\n",
    "https://www.numpy.org.cn/reference/routines/math.html"
   ]
  },
  {
   "cell_type": "code",
   "execution_count": null,
   "metadata": {},
   "outputs": [],
   "source": [
    "import numpy as np\n",
    "\n",
    "x = np.array([[1,2],\n",
    "              [3,4]])\n",
    "\n",
    "# np.sum 给定轴上的数组元素的总和。\n",
    "print(np.sum(x)) # 对所有元素求和\n",
    "print(np.sum(x, axis=0))  # 按第1个维度求和; 相当于np.add([1, 2], [3, 4])\n",
    "print(np.sum(x, axis=1))  # 按第2个维度求和; 相当于np.add([1, 3], [2, 4])\n",
    "\n",
    "print(np.add([1,2],[3,4]))  # prints \"[4 6]\"\n",
    "print(np.add([1,3],[2,4]))  # prints \"[3 7]\""
   ]
  },
  {
   "cell_type": "code",
   "execution_count": null,
   "metadata": {},
   "outputs": [],
   "source": [
    "np.sum?"
   ]
  },
  {
   "cell_type": "markdown",
   "metadata": {},
   "source": [
    "### 操作数组的函数\n",
    "https://www.numpy.org.cn/reference/routines/array_manipulation_routines.html"
   ]
  },
  {
   "cell_type": "code",
   "execution_count": null,
   "metadata": {},
   "outputs": [],
   "source": [
    "# 转置\n",
    "import numpy as np\n",
    "\n",
    "x = np.array([[1,2], [3,4]])\n",
    "print(x)    # Prints \"[[1 2]\n",
    "            #          [3 4]]\"\n",
    "print(x.T)  # Prints \"[[1 3]\n",
    "            #          [2 4]]\"\n",
    "\n",
    "# 请注意，一维数组的转置与原数组相同\n",
    "v = np.array([1,2,3])\n",
    "print(v)    # Prints \"[1 2 3]\"\n",
    "print(v.T)  # Prints \"[1 2 3]\""
   ]
  },
  {
   "cell_type": "markdown",
   "metadata": {},
   "source": [
    "## 广播(Broadcasting)\n",
    "广播是一种强大的机制，它允许numpy在执行算术运算时使用不同形状的数组.\n",
    "\n",
    "将两个数组一起广播遵循以下规则：\n",
    "1. 如果数组不具有相同的rank，则将较低等级数组的形状添加1，直到两个形状具有相同的长度。\n",
    "2. 如果两个数组在维度上具有相同的大小，或者如果其中一个数组在该维度中的大小为1，则称这两个数组在维度上是兼容的。\n",
    "3. 如果数组在所有维度上兼容，则可以一起广播。\n",
    "4. 广播之后，每个阵列的行为就好像它的形状等于两个输入数组的形状的元素最大值。\n",
    "5. 在一个数组的大小为1且另一个数组的大小大于1的任何维度中，第一个数组的行为就像沿着该维度复制一样\n"
   ]
  },
  {
   "cell_type": "raw",
   "metadata": {},
   "source": [
    "广播规则说明:\n",
    "X = np.array([[1], [2]]) # X.shape -- (2, 1)\n",
    "v = np.array([-1, -2, -3]) # v.shape -- (3,)\n",
    "X + v #将对v进行广播,使其形状与X相同\n",
    "\n",
    "1. X的shape为(2, 1), 而v的shape为(3,), 它们的rank不同, 将低等级数组v的shape形状加1; 得到形状为(1,3)的v1.  --v1 = np.reshape(v, (1, 3)) -- [[-1, -2, -3]]\n",
    "2. 维度兼容判断: (维度上的大小相同 或其中一个在该维度上的大小为1, 则认为在该维度上兼容)\n",
    "   X的shape为(2, 1), v的shape为(1, 3),\n",
    "   v在第一个维度上大小为1 --所以它们在第一个维度上是兼容的; \n",
    "   X在第二个维度上大小为1 --所以它们在第二个维度上是兼容的.\n",
    "3. 由2可知X与v在所有维度上兼容,所以X和v可以一起广播\n",
    "4. X,v广播后的形状为X和v的形状的最大值. \n",
    "   第一个维度形状的最大值为2, 所以广播后的形状的第一个维度为2\n",
    "   第二个维度形状的最大值为3, 所以广播后的形状的第二个维度为3\n",
    "   --因此广播后的形状为(2, 3)\n",
    "5. 在一个数组的大小为1且另一个数组的大小大于1的任何维度中，第一个数组的行为就像沿着该维度复制一样.\n",
    "   因为X在第二个维度大小为1,所以其广播是沿着第二个维度复制; 广播后结果如下X_broadcast:\n",
    "   np.array([[1, 1, 1],\n",
    "             [2, 2, 2]])\n",
    "   v在第一个维度的大小为1, 所以其广播是沿着第一个维度复制;广播后结果如下v_broadcast:\n",
    "   np.array([[-1, -2, -3],\n",
    "             [-1, -2, -3]])\n",
    "   \n",
    "X + v 即 X_broadcast + v_broadcast:\n",
    "array([[ 0, -1, -2],\n",
    "       [ 1,  0, -1]])"
   ]
  },
  {
   "cell_type": "code",
   "execution_count": null,
   "metadata": {},
   "outputs": [],
   "source": []
  },
  {
   "cell_type": "code",
   "execution_count": null,
   "metadata": {},
   "outputs": [],
   "source": [
    "np.reshape(v, (1, 3))"
   ]
  },
  {
   "cell_type": "markdown",
   "metadata": {},
   "source": [
    "### 不使用广播实现向矩阵的每一行添加一个常数向量"
   ]
  },
  {
   "cell_type": "code",
   "execution_count": null,
   "metadata": {},
   "outputs": [],
   "source": [
    "np.array([1, 2, 3]) + np.array([1, 0, 1])"
   ]
  },
  {
   "cell_type": "code",
   "execution_count": null,
   "metadata": {},
   "outputs": [],
   "source": [
    "# 向矩阵的每一行添加一个常数向量\n",
    "\n",
    "import numpy as np\n",
    "\n",
    "# 我们将向量v添加到矩阵x的每一行，将结果存储在矩阵y中\n",
    "x = np.array([[1,2,3], [4,5,6], [7,8,9], [10, 11, 12]])\n",
    "v = np.array([1, 0, 1])\n",
    "y = np.empty_like(x)   # 创建一个与x形状相同的空矩阵\n",
    "\n",
    "# 使用显式循环将向量v添加到矩阵x的每一行\n",
    "for i in range(4):\n",
    "    y[i, :] = x[i, :] + v\n",
    "\n",
    "# Now y is the following\n",
    "# [[ 2  2  4]\n",
    "#  [ 5  5  7]\n",
    "#  [ 8  8 10]\n",
    "#  [11 11 13]]\n",
    "print(y)\n",
    "\n",
    "# 这种方式可以实现效果; 但是当矩阵 x 非常大时，在Python中计算显式循环可能会很慢"
   ]
  },
  {
   "cell_type": "markdown",
   "metadata": {},
   "source": [
    "注意: 向矩阵x的每一行添加向量v等同于通过垂直堆叠多个v副本来形成矩阵vv，然后对x和vv执行元素的求和。"
   ]
  },
  {
   "cell_type": "code",
   "execution_count": null,
   "metadata": {},
   "outputs": [],
   "source": []
  },
  {
   "cell_type": "code",
   "execution_count": null,
   "metadata": {},
   "outputs": [],
   "source": [
    "import numpy as np\n",
    "\n",
    "# 我们将向量v添加到矩阵x的每一行，将结果存储在矩阵y中\n",
    "x = np.array([[1,2,3], [4,5,6], [7,8,9], [10, 11, 12]])\n",
    "v = np.array([1, 0, 1])\n",
    "vv = np.tile(v, (4, 1))   # 将v复制4行1列\n",
    "print(vv)                 # Prints \"[[1 0 1]\n",
    "                          #          [1 0 1]\n",
    "                          #          [1 0 1]\n",
    "                          #          [1 0 1]]\"\n",
    "y = x + vv  # 对x和vv执行元素求和\n",
    "print(y)  # Prints \"[[ 2  2  4\n",
    "          #          [ 5  5  7]\n",
    "          #          [ 8  8 10]\n",
    "          #          [11 11 13]]\""
   ]
  },
  {
   "cell_type": "markdown",
   "metadata": {},
   "source": [
    "### 使用广播"
   ]
  },
  {
   "cell_type": "code",
   "execution_count": 27,
   "metadata": {},
   "outputs": [
    {
     "name": "stdout",
     "output_type": "stream",
     "text": [
      "[[ 2  2  4]\n",
      " [ 5  5  7]\n",
      " [ 8  8 10]\n",
      " [11 11 13]]\n"
     ]
    }
   ],
   "source": [
    "# Numpy广播允许我们在不实际创建v的多个副本的情况下执行此计算\n",
    "\n",
    "x = np.array([[1,2,3], [4,5,6], [7,8,9], [10, 11, 12]])\n",
    "v = np.array([1, 0, 1])\n",
    "y = x + v  #使用广播将v添加到x的每一行\n",
    "print(y)  "
   ]
  },
  {
   "cell_type": "code",
   "execution_count": null,
   "metadata": {},
   "outputs": [],
   "source": [
    "# 广播的一些应用：\n",
    "\n",
    "import numpy as np\n",
    "\n",
    "# 计算向量的外积\n",
    "v = np.array([1,2,3])  # v has shape (3,)\n",
    "w = np.array([4,5])    # w has shape (2,)\n",
    "# 为了计算外积，我们首先将v重塑为(3, 1)的列向量， \n",
    "# 然后我们可以对w广播它以产生形状（3,2）的输出\n",
    "# [[ 4  5]\n",
    "#  [ 8 10]\n",
    "#  [12 15]]\n",
    "print(np.reshape(v, (3, 1)) * w)\n",
    "\n",
    "# 向矩阵的每一行添加一个向量\n",
    "x = np.array([[1,2,3], [4,5,6]])\n",
    "\n",
    "# x具有形状(2,3)，v具有形状(3，)，因此将v广播到(2,3)，给出以下矩阵:\n",
    "# [[2 4 6]\n",
    "#  [5 7 9]]\n",
    "print(x + v)\n",
    "\n",
    "\n",
    "# 向矩阵的每列添加向量. x具有形状(2,3),并且w具有形状(2，)。 \n",
    "# 我们先转置x, x.T具有形状(3,2),对w广播以产生形状(3,2); \n",
    "# 最后将结果再转置回来即实现按列添加：\n",
    "# [[ 5  6  7]\n",
    "#  [ 9 10 11]]\n",
    "print((x.T + w).T)\n",
    "# 另一种解决方案是将w重塑为形状(2,1)的列向量; 然后我们可以直接对x广播它以产生相同的输出。\n",
    "print(x + np.reshape(w, (2, 1)))\n",
    "\n",
    "# 将矩阵乘以常数：x具有形状（2,3）。 Numpy将标量视为shape()数组; 这些可以一起广播成形(2,3)，产生以下数组:\n",
    "# [[ 2  4  6]\n",
    "#  [ 8 10 12]]\n",
    "print(x * 2)"
   ]
  },
  {
   "cell_type": "code",
   "execution_count": null,
   "metadata": {},
   "outputs": [],
   "source": [
    "v = np.array([1,2,3])\n",
    "v"
   ]
  },
  {
   "cell_type": "code",
   "execution_count": null,
   "metadata": {},
   "outputs": [],
   "source": [
    "np.reshape(v, (3, 1))"
   ]
  },
  {
   "cell_type": "code",
   "execution_count": null,
   "metadata": {},
   "outputs": [],
   "source": [
    "my_array10 = np.array([[1, 2], [3, 4], [5, 6]])\n",
    "my_array10"
   ]
  },
  {
   "cell_type": "code",
   "execution_count": null,
   "metadata": {},
   "outputs": [],
   "source": [
    "my_array10.shape"
   ]
  },
  {
   "cell_type": "markdown",
   "metadata": {},
   "source": [
    "## 使用np.newaxis增加维度"
   ]
  },
  {
   "cell_type": "code",
   "execution_count": null,
   "metadata": {},
   "outputs": [],
   "source": [
    "# 使用np.newaxis增加维度\n",
    "my_array11 = my_array10[np.newaxis, :, :]\n",
    "my_array11\n",
    "my_array11.shape"
   ]
  },
  {
   "cell_type": "code",
   "execution_count": null,
   "metadata": {},
   "outputs": [],
   "source": [
    "from collections import Counter\n",
    "topN = 3\n",
    "t = [1, 2, 3, 4,5, 4,5,6, 3,4,4,5,4, 3,3,2, 7, 4, 7, 8, 9, 0]\n",
    "wordCounter = Counter(t)\n",
    "topN_word = wordCounter.most_common(topN)\n",
    "print(topN_word) #[('a', 5), ('b', 2), ('f', 2)]"
   ]
  },
  {
   "cell_type": "markdown",
   "metadata": {},
   "source": [
    "## RClass对象np.r_\n",
    "+ 用于对多个np.array沿第一个轴进行快速连接,并产生一个新shape的array. (功能有点类型与pd.concat)\n",
    "    * 索引表达式有两种用法。      \n",
    "        1. 如果索引表达式为逗号分隔的数字字符串(如:'stackAxisIndex:DimNum:thirdNum')，则将其沿其第一个数字表示的轴堆叠。\n",
    "        2. 如果索引表达式为切片符号或标量，则创建一个一维数组，其范围由切片符号指示。"
   ]
  },
  {
   "cell_type": "markdown",
   "metadata": {},
   "source": [
    "### 不使用索引表达式时，在第一个维度进行拼接"
   ]
  },
  {
   "cell_type": "code",
   "execution_count": 28,
   "metadata": {},
   "outputs": [
    {
     "data": {
      "text/plain": [
       "array([[ 1,  2,  3],\n",
       "       [ 4,  5,  6],\n",
       "       [10, 20, 30],\n",
       "       [40, 50, 60]])"
      ]
     },
     "execution_count": 28,
     "metadata": {},
     "output_type": "execute_result"
    }
   ],
   "source": [
    "# 不使用索引表达式时，在第一个维度进行拼接\n",
    "# np.r_返回的array与要拼接的array维度相同\n",
    "a = np.array([[1,2,3], [4,5,6]])        # a.shape为(2, 3)\n",
    "b = np.array([[10,20,30], [40,50,60]])  # b.shape为(2, 3)\n",
    "c = np.r_[a, b]   # c.shape为(4, 3), --相当于在第一个维度进行拼接\n",
    "c\n",
    "# >> array([[ 1,  2,  3],\n",
    "#           [ 4,  5,  6],\n",
    "#\n",
    "#           [10, 20, 30],\n",
    "#           [40, 50, 60]])"
   ]
  },
  {
   "cell_type": "markdown",
   "metadata": {},
   "source": [
    "### 使用索引表达式"
   ]
  },
  {
   "cell_type": "code",
   "execution_count": 29,
   "metadata": {},
   "outputs": [
    {
     "data": {
      "text/plain": [
       "array([1, 2, 3, 0, 0, 4, 5, 6])"
      ]
     },
     "execution_count": 29,
     "metadata": {},
     "output_type": "execute_result"
    },
    {
     "data": {
      "text/plain": [
       "array([0, 2, 4, 6, 8, 0, 0, 0, 5, 6])"
      ]
     },
     "execution_count": 29,
     "metadata": {},
     "output_type": "execute_result"
    },
    {
     "data": {
      "text/plain": [
       "array([ 0., 10.,  0.,  0.,  0.,  5.,  6.])"
      ]
     },
     "execution_count": 29,
     "metadata": {},
     "output_type": "execute_result"
    }
   ],
   "source": [
    "# 如果索引表达式为切片符号或标量，则创建一个一维数组，其范围由切片符号指示。\n",
    "\n",
    "# 切片形式的索引表达式格式为'x:y:z',根据z是否为虚数, \n",
    "# 分别对应np.range(start:stop:step)--z为非虚数 或 np.linspace(start:stop:num) --z为虚数 \n",
    "np.r_[np.array([1,2,3]), 0, 0, np.array([4,5,6])] # 直接进行连接\n",
    "# >> array([1, 2, 3, 0, 0, 4, 5, 6])\n",
    "\n",
    "# 索引表达式最后一项为非虚数\n",
    "np.r_[0:10:2, [0]*3, 5, 6] # 将[0,10)按照步长2生成序列，再进行拼接\n",
    "# >> array([0, 2, 4, 6, 8, 0, 0, 0, 5, 6])\n",
    "\n",
    "# 索引表达式最后一项为虚数\n",
    "np.r_[0:10:2j, [0]*3, 5, 6] # 在[0,10]中按np.linspace取2个数据，再进行拼接\n",
    "# >> array([0, 2, 4, 6, 8, 0, 0, 0, 5, 6]"
   ]
  },
  {
   "cell_type": "markdown",
   "metadata": {},
   "source": [
    "```\n",
    "# 如果索引表达式为逗号分隔的数字字符串(如:'stackAxisIndex,DimNum,thirdNum')，则将其沿其第一个数字表示的轴堆叠 \n",
    "# 逗号分隔的数字字符串索引表达式格式为'-1'或'stackAxisIndex,DimNum,thirdNum'(第三个数可选)\n",
    "# \n",
    "# 为'-1'时：\n",
    "# 将提升生产的新array的shape的最后一维,默认值为'-1'\n",
    "\n",
    "a = np.array([[1,2,3], [4,5,6]])        # a.shape为(2, 3)\n",
    "b = np.array([[10,20,30], [40,50,60]])  # b.shape为(2, 3)\n",
    "c = np.r_['-1', a, b]  # c.shape为(2, 6), --相当于在最后一个维度进行拼接\n",
    "c\n",
    "# >> array([[ 1,  2,  3, 10, 20, 30],\n",
    "#           [ 4,  5,  6, 40, 50, 60]])\n",
    "\n",
    "# 为'stackAxisIndex,DimNum,thirdNum'时：\n",
    "# stackAxisIndex:表示np.r_操作在该轴上进行堆叠,　\n",
    "# DimNum:表示操作后生成的新array的维度数\n",
    "# thirdNum: 为0时,生成的新array的最后一个维度为1(即shape为(D1, D2, ..., 1))\n",
    "#           为1时,生成的新array的最后一个维度保持\n",
    "\n",
    "# c.shape为(2,　1, 2, 3), --指定在索引为0的轴进行拼接\n",
    "# 因为在索引表达式引指定了输出array的维度(且比a,b维度都大)，所以返回指定维度的array(4维)\n",
    "c = np.r_['0, 4', a, b] \n",
    "c\n",
    "# >>array([ [ [ [ 1,  2,  3],\n",
    "#               [ 4,  5,  6]]],\n",
    "#\n",
    "#           [ [ [10, 20, 30],\n",
    "#               [40, 50, 60]]]])\n",
    "\n",
    "\n",
    "# c.shape为(1, 2, 2, 3), --指定在索引为1的轴进行拼接\n",
    "# 因为在索引表达式引指定了输出array的维度(且比a,b维度都大)，所以返回指定维度的array(4维)\n",
    "c = np.r_['1, 4', a, b] \n",
    "c\n",
    "# >>array([ [ [ [ 1,  2,  3],\n",
    "#               [ 4,  5,  6]]],\n",
    "#\n",
    "#             [ [10, 20, 30],\n",
    "#               [40, 50, 60]]])\n",
    "\n",
    "\n",
    "c = np.r_['1, 4', a, b] \n",
    "array([[[[ 1,  2,  3],\n",
    "         [ 4,  5,  6]],\n",
    "\n",
    "        [[10, 20, 30],\n",
    "         [40, 50, 60]]]])\n",
    "相当于先将a维度扩充到4维,　再在第2个维度连接b.\n",
    "\n",
    "a: [[1,2,3], [4,5,6]]\n",
    "维度扩充到4维: [[[[1,2,3], [4,5,6]]]]\n",
    "在第2个维度连接b: [[[[1,2,3], [4,5,6]], [[10,20,30], [40,50,60]]]]\n",
    "```"
   ]
  },
  {
   "cell_type": "code",
   "execution_count": 30,
   "metadata": {},
   "outputs": [
    {
     "data": {
      "text/plain": [
       "array([[ 1,  2,  3],\n",
       "       [ 4,  5,  6],\n",
       "       [10, 20, 30],\n",
       "       [40, 50, 60]])"
      ]
     },
     "execution_count": 30,
     "metadata": {},
     "output_type": "execute_result"
    }
   ],
   "source": [
    "np.r_[a, b] "
   ]
  }
 ],
 "metadata": {
  "kernelspec": {
   "display_name": "Python 3",
   "language": "python",
   "name": "python3"
  },
  "language_info": {
   "codemirror_mode": {
    "name": "ipython",
    "version": 3
   },
   "file_extension": ".py",
   "mimetype": "text/x-python",
   "name": "python",
   "nbconvert_exporter": "python",
   "pygments_lexer": "ipython3",
   "version": "3.8.3"
  },
  "toc": {
   "base_numbering": 1,
   "nav_menu": {},
   "number_sections": true,
   "sideBar": true,
   "skip_h1_title": false,
   "title_cell": "Table of Contents",
   "title_sidebar": "Contents",
   "toc_cell": false,
   "toc_position": {
    "height": "calc(100% - 180px)",
    "left": "10px",
    "top": "150px",
    "width": "227px"
   },
   "toc_section_display": true,
   "toc_window_display": false
  }
 },
 "nbformat": 4,
 "nbformat_minor": 2
}
